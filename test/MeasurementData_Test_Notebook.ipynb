
# MeasurementData and MeasurementSettings Testing Notebook

This notebook tests the functionality of the `MeasurementData` and `MeasurementSettings` modules.

```julia
# Load required packages
using Pkg
Pkg.activate(".")
Pkg.instantiate()

# Include the MeasurementData and MeasurementSettings files
include("/mnt/data/MeasurementSettings.jl")
include("/mnt/data/MeasurementData.jl")

# Import NPZ for file operations
using NPZ

# Define test unitaries and results
N, NU, NM = 4, 3, 10

# 1. Test MeasurementSettings
# Create random unitaries
unitaries = [rand(ComplexF64, 2, 2) for _ in 1:NU, __ in 1:N]

# Save unitaries to an npy file
npzwrite("unitaries.npy", unitaries)

# Test importing unitaries
measurement_settings = import_unitaries("unitaries.npy")
println("Imported MeasurementSettings: ", measurement_settings)

# 2. Test MeasurementData
# Create random measurement results
results = rand(Bool, NU, NM, N)

# Save results to an npy file
npzwrite("results.npy", results)

# Import both results and unitaries
measurement_data = import_measurement_data("results.npy", unitaries_path="unitaries.npy")
println("MeasurementData with imported settings: ", measurement_data)

# Import results only with pre-loaded settings
measurement_data_preloaded = import_measurement_results("results.npy", measurement_settings=measurement_settings)
println("MeasurementData with preloaded settings: ", measurement_data_preloaded)

# Import results without any settings
measurement_data_no_settings = import_measurement_results("results.npy")
println("MeasurementData without settings: ", measurement_data_no_settings)
```
