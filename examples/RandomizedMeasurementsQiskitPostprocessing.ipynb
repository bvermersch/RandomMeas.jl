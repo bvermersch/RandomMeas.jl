{
 "cells": [
  {
   "cell_type": "markdown",
   "id": "c342ce2f-5235-4cfd-b50c-a5026567dcc1",
   "metadata": {},
   "source": [
    "## Postprocessing randomized measurement on IBM quantum computers (\n",
    "\n",
    "This tutorial illustrates how to acquire and save randomized measurements on a quantum computer using Qiskit (RandomizedMeasurementsQiskit.ipynb). This data can be then postprocessed using our julia library RandomMeas (RandomizedMeasurementsQiskitPostprocessing.ipynb)"
   ]
  },
  {
   "cell_type": "code",
   "execution_count": null,
   "id": "ef2cc64c-fe01-408e-9197-81c6ed41a6de",
   "metadata": {},
   "outputs": [],
   "source": [
    "using RandomMeas\n",
    "using NPZ"
   ]
  },
  {
   "cell_type": "markdown",
   "id": "c0fb49b0-e91a-44ce-9a77-439680e37df1",
   "metadata": {},
   "source": [
    "### Loading the data and retrieving the parameters of the experiment"
   ]
  },
  {
   "cell_type": "code",
   "execution_count": 25,
   "id": "735a713d",
   "metadata": {},
   "outputs": [
    {
     "name": "stdout",
     "output_type": "stream",
     "text": [
      "(NU, NM, N) = (2048, 1024, 4)\n"
     ]
    }
   ],
   "source": [
    "job_id = \"fd8feff5-c084-4087-bb38-e580aa9584b4\"\n",
    "local_unitary_ = npzread(\"data/\"*job_id*\"_u.npy\")\n",
    "data_cal_ = npzread(\"data/\"*job_id*\"_data.npy\")[1,:,:,:]; #Data obtained from the circuit qc_meas used for calibrating robust shadows\n",
    "#data_cal = 3 .*data_cal .- 1;\n",
    "data_ = npzread(\"data/\"*job_id*\"_data.npy\")[2,:,:,:]; #Data obtained from the preparation of the cluster state\n",
    "NU,NM,N = size(data_)\n",
    "@show NU,NM,N;"
   ]
  },
  {
   "cell_type": "markdown",
   "id": "1b98b9c2-9adf-4278-8781-3aeb9c3ad083",
   "metadata": {},
   "source": [
    "### Converting the data into RandMeas.jl format "
   ]
  },
  {
   "cell_type": "code",
   "execution_count": 34,
   "id": "c5b7aed9-5c73-4963-9641-0faf9c5403fe",
   "metadata": {},
   "outputs": [],
   "source": [
    "ξ = siteinds(\"Qubit\",N)\n",
    "data_cal = Vector{MeasurementData{LocalUnitaryMeasurementSetting}}(undef,NU)\n",
    "data = Vector{MeasurementData{LocalUnitaryMeasurementSetting}}(undef,NU)\n",
    "\n",
    "for r in 1:NU\n",
    "    local_unitary = Vector{ITensor}()\n",
    "    for i in 1:N\n",
    "        push!(local_unitary,ITensor(local_unitary_[r,i,:,:],ξ[i]',ξ[i]))\n",
    "    end\n",
    "    measurement_setting = LocalUnitaryMeasurementSetting(N,local_unitary,ξ)\n",
    "    data_cal[r] = MeasurementData(data_cal_[r,:,:];measurement_setting=measurement_setting)\n",
    "    data[r] = MeasurementData(data_[r,:,:];measurement_setting=measurement_setting)\n",
    "end\n",
    "group_cal = MeasurementGroup(data_cal)\n",
    "group = MeasurementGroup(data);"
   ]
  },
  {
   "cell_type": "markdown",
   "id": "665fab81-99fb-4277-bee7-7a8371af7247",
   "metadata": {},
   "source": [
    "### Extraction of the calibration parameters $G$ for building robust shadows\n",
    "\n",
    "For purely readout error models, we have $G\\approx 1-p$ where $p$ is the readout error "
   ]
  },
  {
   "cell_type": "code",
   "execution_count": 35,
   "id": "61008b93",
   "metadata": {},
   "outputs": [
    {
     "name": "stderr",
     "output_type": "stream",
     "text": [
      "\u001b[32mProgress: 100%|█████████████████████████████████████████| Time: 0:00:26\u001b[39m\n"
     ]
    },
    {
     "name": "stdout",
     "output_type": "stream",
     "text": [
      "Calibrated RM parameters: [0.9622838739492673, 0.9949359542163281, 0.9606441674183136, 0.9718002683460556]"
     ]
    }
   ],
   "source": [
    "G_e = zeros(Float64, N)\n",
    "states = [\"Dn\" for n in 1:N]\n",
    "ψ0  = MPS(ComplexF64,ξ,states);\n",
    "# ------------------------------------------------------------------------------\n",
    "# Generating Measurement Settings and Data\n",
    "\n",
    "@showprogress dt=1 for i in 1:N\n",
    "    reduced_group_cal = reduce_to_subsystem(group_cal, [i])\n",
    "    \n",
    "    for r in 1:NU\n",
    "            # Compute the measured Born probabilities for qubit i using the actual measurement data\n",
    "        data = reduced_group_cal.measurements[r]\n",
    "        P_measured = MeasurementProbability(data).measurement_probability\n",
    "            # Compute the expected Born probabilities for qubit i from the ideal (noise-free) state ψ0.\n",
    "        P_expected = MeasurementProbability(reduce_to_subsystem(ψ0,collect(i:i)), data.measurement_setting).measurement_probability\n",
    "        cross_corr = (P_measured * P_expected)[]\n",
    "        self_corr = (P_expected * P_expected)[]\n",
    "    \n",
    "        # Estimate the G value for qubit i using the formula:\n",
    "        #     G_e[i] = 3 * (mean(cross_corr_first - self_corr_first)) + 1,\n",
    "        G_e[i] += 3 * (cross_corr-self_corr)/NU + 1/NU\n",
    "    end\n",
    "    \n",
    "end\n",
    "print(\"Calibrated RM parameters: \", G_e)"
   ]
  },
  {
   "cell_type": "markdown",
   "id": "5f0d15a5-2438-474d-8eee-1127c7b5446c",
   "metadata": {},
   "source": [
    "### Extracting the purity\n",
    "\n",
    "We extract the purity of the first two qubits, and the purity of the four qubits. As expected for a cluster state, we have $p(12)\\approx 0.5$, and $p(1234)\\approx 1$.  "
   ]
  },
  {
   "cell_type": "code",
   "execution_count": 36,
   "id": "eb44e9e1-0dd5-4e66-a954-5c07cb122a04",
   "metadata": {},
   "outputs": [
    {
     "name": "stdout",
     "output_type": "stream",
     "text": [
      "SubSystem Purity (unmitigated) 0.4615334746665471 + 0.0im\n",
      "SubSystem Purity (mitigated) 0.5025476630435592 + 0.0im\n",
      "Total Purity (unmitigatd) 0.7192320271436738 + 0.0im\n",
      "Total Purity (mitigated) 1.0070165292056668 + 0.0im\n"
     ]
    }
   ],
   "source": [
    "ρ = get_dense_shadows(group,number_of_ru_batches=10)\n",
    "ρ_sub = partial_trace(ρ,collect(1:2))\n",
    "ρ_mitigated = get_dense_shadows(group,number_of_ru_batches=10;G=G_e)\n",
    "ρ_mitigated_sub = partial_trace(ρ_mitigated,collect(1:2))\n",
    "println(\"SubSystem Purity (unmitigated) \", get_trace_moment(ρ_sub,2))\n",
    "println(\"SubSystem Purity (mitigated) \", get_trace_moment(ρ_mitigated_sub,2))\n",
    "println(\"Total Purity (unmitigatd) \", get_trace_moment(ρ,2))\n",
    "println(\"Total Purity (mitigated) \", get_trace_moment(ρ_mitigated,2))"
   ]
  }
 ],
 "metadata": {
  "kernelspec": {
   "display_name": "Julia 1.11.3",
   "language": "julia",
   "name": "julia-1.11"
  },
  "language_info": {
   "file_extension": ".jl",
   "mimetype": "application/julia",
   "name": "julia",
   "version": "1.11.3"
  }
 },
 "nbformat": 4,
 "nbformat_minor": 5
}
