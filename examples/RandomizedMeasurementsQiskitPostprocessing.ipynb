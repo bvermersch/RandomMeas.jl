{
 "cells": [
  {
   "cell_type": "markdown",
   "id": "c342ce2f-5235-4cfd-b50c-a5026567dcc1",
   "metadata": {},
   "source": [
    "## Postprocessing randomized measurement on IBM quantum computers (\n",
    "\n",
    "This tutorial illustrates how to acquire and save randomized measurements on a quantum computer using Qiskit (RandomizedMeasurementsQiskit.ipynb). This data can be then postprocessed using our julia library RandomMeas (RandomizedMeasurementsQiskitPostprocessing.ipynb)"
   ]
  },
  {
   "cell_type": "code",
   "execution_count": 27,
   "id": "ef2cc64c-fe01-408e-9197-81c6ed41a6de",
   "metadata": {},
   "outputs": [],
   "source": [
    "using ITensors\n",
    "using RandomMeas\n",
    "using NPZ"
   ]
  },
  {
   "cell_type": "markdown",
   "id": "c0fb49b0-e91a-44ce-9a77-439680e37df1",
   "metadata": {},
   "source": [
    "### Loading the data and retrieving the parameters of the experiment"
   ]
  },
  {
   "cell_type": "code",
   "execution_count": 31,
   "id": "735a713d",
   "metadata": {},
   "outputs": [
    {
     "name": "stdout",
     "output_type": "stream",
     "text": [
      "(Nu, NM, N) = (512, 1024, 4)\n"
     ]
    }
   ],
   "source": [
    "job_id = \"bc323a46-8a83-47d6-af7d-51d7217dac4e\"\n",
    "u_ = npzread(\"data/\"*job_id*\"_u.npy\")\n",
    "data_cal = npzread(\"data/\"*job_id*\"_data.npy\")[1,:,:,:]; #Data obtained from the circuit qc_meas used for calibrating robust shadows\n",
    "#data_cal = 3 .*data_cal .- 1;\n",
    "data = npzread(\"data/\"*job_id*\"_data.npy\")[2,:,:,:]; #Data obtained from the preparation of the cluster state\n",
    "Nu,NM,N = size(data)\n",
    "@show Nu,NM,N;"
   ]
  },
  {
   "cell_type": "markdown",
   "id": "1b98b9c2-9adf-4278-8781-3aeb9c3ad083",
   "metadata": {},
   "source": [
    "### Converting the data into ITensor format "
   ]
  },
  {
   "cell_type": "code",
   "execution_count": 32,
   "id": "c5b7aed9-5c73-4963-9641-0faf9c5403fe",
   "metadata": {},
   "outputs": [],
   "source": [
    "ξ = siteinds(\"Qubit\",N)\n",
    "u = Vector{Vector{ITensor}}()\n",
    "for r in 1:Nu\n",
    "    ut = Vector{ITensor}()\n",
    "    for i in 1:N\n",
    "        push!(ut,ITensor(u_[r,i,:,:],ξ[i]',ξ[i]))\n",
    "    end\n",
    "    push!(u,ut)\n",
    "end"
   ]
  },
  {
   "cell_type": "markdown",
   "id": "665fab81-99fb-4277-bee7-7a8371af7247",
   "metadata": {},
   "source": [
    "### Extraction of the calibration parameters $G$ for building robust shadows\n",
    "\n",
    "For purely readout error models, we have $G\\approx 1-p$ where $p$ is the readout error "
   ]
  },
  {
   "cell_type": "code",
   "execution_count": 33,
   "id": "b002d5ff-0d32-4206-b426-e303a99e032b",
   "metadata": {},
   "outputs": [
    {
     "name": "stdout",
     "output_type": "stream",
     "text": [
      "Calibrated RM parameters: [0.9914249272526252, 0.9948550003628972, 0.9972781597785446, 0.9734066921620793]"
     ]
    }
   ],
   "source": [
    "G_e = zeros(Float64,N) #Estimations of G\n",
    "states = [\"Dn\" for n in 1:N]\n",
    "ψ0  = MPS(ComplexF64,ξ,states);\n",
    "for r in 1:Nu\n",
    "        ψu = apply(u[r],ψ0)\n",
    "        for i in 1:N\n",
    "            P = get_Born(data_cal[r,:,i:i],ξ[i:i]) #measured born probability on qubit i\n",
    "            σui,_ = reduce_dm(ψu,i,i) #expected single qubit density matrix\n",
    "            Pt = get_Born(σui) #expected born probability\n",
    "            G_e[i] += real((3*(P-Pt)*Pt)[]+1)/Nu\n",
    "        end\n",
    "end\n",
    "print(\"Calibrated RM parameters: \", G_e)"
   ]
  },
  {
   "cell_type": "markdown",
   "id": "5f0d15a5-2438-474d-8eee-1127c7b5446c",
   "metadata": {},
   "source": [
    "### Extracting the purity\n",
    "\n",
    "We extract the purity of the first two qubits, and the purity of the four qubits. As expected for a cluster state, we have $p(12)\\approx 0.5$, and $p(1234)\\approx 1$.  "
   ]
  },
  {
   "cell_type": "code",
   "execution_count": 34,
   "id": "eb44e9e1-0dd5-4e66-a954-5c07cb122a04",
   "metadata": {},
   "outputs": [
    {
     "name": "stdout",
     "output_type": "stream",
     "text": [
      "SubSystem Purity (unmitigated) 0.47079739100643725\n",
      "SubSystem Purity (mitigated) 0.4833479446519911\n",
      "Total Purity (unmitigatd) 0.8473013797069321\n",
      "Total Purity (mitigated) 0.96446404866567\n"
     ]
    }
   ],
   "source": [
    "uA = [ut[1:2] for ut in u]\n",
    "println(\"SubSystem Purity (unmitigated) \", get_purity_shadows(data[:,:,1:2],uA,ξ[1:2]))\n",
    "println(\"SubSystem Purity (mitigated) \", get_purity_shadows(data[:,:,1:2],uA,ξ[1:2];G=G_e[1:2]))\n",
    "println(\"Total Purity (unmitigatd) \", get_purity_shadows(data,u,ξ))\n",
    "println(\"Total Purity (mitigated) \", get_purity_shadows(data,u,ξ;G=G_e))"
   ]
  },
  {
   "cell_type": "code",
   "execution_count": null,
   "id": "85bf3896-c9bf-4536-b31f-6770dfb851d5",
   "metadata": {},
   "outputs": [],
   "source": []
  }
 ],
 "metadata": {
  "kernelspec": {
   "display_name": "Julia 1.10.0",
   "language": "julia",
   "name": "julia-1.10"
  },
  "language_info": {
   "file_extension": ".jl",
   "mimetype": "application/julia",
   "name": "julia",
   "version": "1.10.0"
  }
 },
 "nbformat": 4,
 "nbformat_minor": 5
}
