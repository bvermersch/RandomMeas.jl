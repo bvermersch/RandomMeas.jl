{
 "cells": [
  {
   "cell_type": "markdown",
   "id": "c342ce2f-5235-4cfd-b50c-a5026567dcc1",
   "metadata": {},
   "source": [
    "## Postprocessing randomized measurement on IBM quantum computers (\n",
    "\n",
    "This tutorial illustrates how to acquire and save randomized measurements on a quantum computer using Qiskit (RandomizedMeasurementsQiskit.ipynb). This data can be then postprocessed using our julia library RandomMeas (RandomizedMeasurementsQiskitPostprocessing.ipynb)"
   ]
  },
  {
   "cell_type": "code",
   "execution_count": null,
   "id": "ef2cc64c-fe01-408e-9197-81c6ed41a6de",
   "metadata": {},
   "outputs": [],
   "source": [
    "using ITensors\n",
    "using RandomMeas\n",
    "using NPZ"
   ]
  },
  {
   "cell_type": "markdown",
   "id": "c0fb49b0-e91a-44ce-9a77-439680e37df1",
   "metadata": {},
   "source": [
    "### Loading the data and retrieving the parameters of the experiment"
   ]
  },
  {
   "cell_type": "code",
   "execution_count": 5,
   "id": "735a713d",
   "metadata": {},
   "outputs": [
    {
     "name": "stdout",
     "output_type": "stream",
     "text": [
      "(Nu, NM, N) = (100, 1000, 2)\n"
     ]
    },
    {
     "data": {
      "text/plain": [
       "(100, 1000, 2)"
      ]
     },
     "execution_count": 5,
     "metadata": {},
     "output_type": "execute_result"
    }
   ],
   "source": [
    "S = npzread(\"testQiskit.npz\")\n",
    "u_ = S[\"u\"]\n",
    "data = S[\"data\"];\n",
    "Nu,NM,N = size(data)\n",
    "@show Nu,NM,N"
   ]
  },
  {
   "cell_type": "markdown",
   "id": "1b98b9c2-9adf-4278-8781-3aeb9c3ad083",
   "metadata": {},
   "source": [
    "### Converting the data into ITensor format "
   ]
  },
  {
   "cell_type": "code",
   "execution_count": 6,
   "id": "c5b7aed9-5c73-4963-9641-0faf9c5403fe",
   "metadata": {},
   "outputs": [],
   "source": [
    "ξ = siteinds(\"Qubit\",N)\n",
    "u = Vector{Vector{ITensor}}()\n",
    "for r in 1:Nu\n",
    "    ut = Vector{ITensor}()\n",
    "    for i in 1:N\n",
    "        push!(ut,ITensor(u_[r,i,:,:],ξ[i]',ξ[i]))\n",
    "    end\n",
    "    push!(u,ut)\n",
    "end"
   ]
  },
  {
   "cell_type": "markdown",
   "id": "5f0d15a5-2438-474d-8eee-1127c7b5446c",
   "metadata": {},
   "source": [
    "### Extracting the purity\n",
    "\n",
    "We extract the purity of the first qubit, and the purity of the two qubits. As expected for a GHZ state, we have $p(1)\\approx 0.5$, and $p(12)\\approx 1$.  "
   ]
  },
  {
   "cell_type": "code",
   "execution_count": 10,
   "id": "eb44e9e1-0dd5-4e66-a954-5c07cb122a04",
   "metadata": {},
   "outputs": [
    {
     "name": "stdout",
     "output_type": "stream",
     "text": [
      "subsystem purity 0.500843123123123\n",
      "total purity 0.9310136336336335\n"
     ]
    }
   ],
   "source": [
    "println(\"subsystem purity \",get_purity_hamming(data[:,:,1:1],ξ[1:1]))\n",
    "println(\"total purity \",get_purity_hamming(data,ξ))"
   ]
  }
 ],
 "metadata": {
  "kernelspec": {
   "display_name": "Julia 1.10.0",
   "language": "julia",
   "name": "julia-1.10"
  },
  "language_info": {
   "file_extension": ".jl",
   "mimetype": "application/julia",
   "name": "julia",
   "version": "1.10.0"
  }
 },
 "nbformat": 4,
 "nbformat_minor": 5
}
