{
 "cells": [
  {
   "cell_type": "markdown",
   "id": "ad7f590a-819f-4206-8e88-4799140dce4f",
   "metadata": {},
   "source": [
    "## Entanglement surface code\n",
    "\n",
    "In this notebook, we will reproduce the experimental results of [Satzinger et al, Science 2021](https://www.science.org/doi/10.1126/science.abi8378) showing the realization of a surface code, and the demonstration of presence of long-range entanglement via the measurement of the topological entanglement entropy"
   ]
  },
  {
   "cell_type": "code",
   "execution_count": 1,
   "id": "2a2c0683-6ec3-4b0e-ba9c-5f94cac50deb",
   "metadata": {},
   "outputs": [],
   "source": [
    "using Revise\n",
    "using ITensors,ITensorMPS\n",
    "using RandomMeas\n",
    "using ProgressMeter"
   ]
  },
  {
   "cell_type": "markdown",
   "id": "780269cf-05e5-4322-a3e3-174abd627898",
   "metadata": {},
   "source": [
    "A surface code of distance $d$ is made of $N=d^2$ qubits placed in a square lattice"
   ]
  },
  {
   "cell_type": "code",
   "execution_count": 2,
   "id": "961af975-be8e-4ed7-b4d8-34dbdd7edf69",
   "metadata": {},
   "outputs": [
    {
     "data": {
      "text/plain": [
       "g (generic function with 1 method)"
      ]
     },
     "metadata": {},
     "output_type": "display_data"
    }
   ],
   "source": [
    "d = 7#Code distance\n",
    "N  = d^2; #number of physical qubits\n",
    "\n",
    "# function to connect lattice coordinates to an index\n",
    "# such that x = (i-1)%d+1 y = (i-1)÷d+1\n",
    "g(x,y) = x+(y-1)*d "
   ]
  },
  {
   "cell_type": "markdown",
   "id": "fb30c2e0",
   "metadata": {},
   "source": [
    "The surface code is defined by a set of Plaquette $B_p=X_{i_1}X_{i_2}X_{i_3}X_{i_4}$ and $A_s=Z_{j_1}Z_{j_2}Z_{j_3}X_{j_4}$ operators (see graphics below). For the X plaquettes, we define the plaquette operators X_stab by the position of their lower left qubit, while X_stab_qubits stores all involved qubits."
   ]
  },
  {
   "cell_type": "code",
   "execution_count": 3,
   "id": "ee663b38-5049-4acb-befe-d1c0cf58d046",
   "metadata": {},
   "outputs": [],
   "source": [
    "#Positions of the X stabilizers\n",
    "X_stab = Vector{Vector{Int}}()\n",
    "X_stab_qubits = Vector{Vector{Int}}()\n",
    "for y in 0:d\n",
    "    start = (y+1)%2+1\n",
    "    for x in start:2:d-1\n",
    "        push!(X_stab,[x,y])\n",
    "        qubits = Vector{Int}()\n",
    "        for inx in 0:1\n",
    "            for iny in 0:1\n",
    "                xq = x+inx\n",
    "                yq = y+iny\n",
    "                if yq>0 && yq<d+1\n",
    "                    push!(qubits,g(xq,yq))\n",
    "                end\n",
    "            end\n",
    "        end\n",
    "        push!(X_stab_qubits,qubits)\n",
    "    end\n",
    "end"
   ]
  },
  {
   "cell_type": "markdown",
   "id": "8af04df6",
   "metadata": {},
   "source": [
    "We do the same for the $Z$ plaquettes."
   ]
  },
  {
   "cell_type": "code",
   "execution_count": 4,
   "id": "6da733e8",
   "metadata": {},
   "outputs": [],
   "source": [
    "Z_stab_qubits = Vector{Vector{Int}}()\n",
    "Z_stab = Vector{Vector{Int}}()\n",
    "for x in 0:d\n",
    "    start = (x)%2+1\n",
    "    for y in start:2:d-1\n",
    "        push!(Z_stab,[x,y])\n",
    "        qubits = Vector{Int}()\n",
    "        for inx in 0:1\n",
    "            for iny in 0:1\n",
    "                xq = x+inx\n",
    "                yq = y+iny\n",
    "                if xq>0 && xq<d+1\n",
    "                    push!(qubits,g(xq,yq))\n",
    "                end\n",
    "            end\n",
    "        end\n",
    "        push!(Z_stab_qubits,qubits)\n",
    "    end\n",
    "end"
   ]
  },
  {
   "cell_type": "markdown",
   "id": "65efe39c",
   "metadata": {},
   "source": [
    "A graphical represenation of the qubits (red dots) and plaquette operators helps"
   ]
  },
  {
   "cell_type": "code",
   "execution_count": 5,
   "id": "c06f942a",
   "metadata": {},
   "outputs": [
    {
     "data": {
      "image/png": "[encoded data removed]",
      "image/svg+xml": [
       "<?xml version=\"1.0\" encoding=\"utf-8\"?>\n",
       "<svg xmlns=\"http://www.w3.org/2000/svg\" xmlns:xlink=\"http://www.w3.org/1999/xlink\" width=\"600\" height=\"400\" viewBox=\"0 0 2400 1600\">\n",
       "<defs>\n",
       "  <clipPath id=\"clip100\">\n",
       "    <rect x=\"0\" y=\"0\" width=\"2400\" height=\"1600\"/>\n",
       "  </clipPath>\n",
       "</defs>\n",
       "<path clip-path=\"url(#clip100)\" d=\"M0 1600 L2400 1600 L2400 0 L0 0  Z\" fill=\"#ffffff\" fill-rule=\"evenodd\" fill-opacity=\"1\"/>\n",
       "<defs>\n",
       "  <clipPath id=\"clip101\">\n",
       "    <rect x=\"480\" y=\"0\" width=\"1681\" height=\"1600\"/>\n",
       "  </clipPath>\n",
       "</defs>\n",
       "<path clip-path=\"url(#clip100)\" d=\"M112.177 1486.45 L2352.76 1486.45 L2352.76 47.2441 L112.177 47.2441  Z\" fill=\"#ffffff\" fill-rule=\"evenodd\" fill-opacity=\"1\"/>\n",
       "<defs>\n",
       "  <clipPath id=\"clip102\">\n",
       "    <rect x=\"112\" y=\"47\" width=\"2242\" height=\"1440\"/>\n",
       "  </clipPath>\n",
       "</defs>\n",
       "<polyline clip-path=\"url(#clip102)\" style=\"stroke:#000000; stroke-linecap:round; stroke-linejoin:round; stroke-width:2; stroke-opacity:0.1; fill:none\" points=\"175.59,1486.45 175.59,47.2441 \"/>\n",
       "<polyline clip-path=\"url(#clip102)\" style=\"stroke:#000000; stroke-linecap:round; stroke-linejoin:round; stroke-width:2; stroke-opacity:0.1; fill:none\" points=\"704.028,1486.45 704.028,47.2441 \"/>\n",
       "<polyline clip-path=\"url(#clip102)\" style=\"stroke:#000000; stroke-linecap:round; stroke-linejoin:round; stroke-width:2; stroke-opacity:0.1; fill:none\" points=\"1232.47,1486.45 1232.47,47.2441 \"/>\n",
       "<polyline clip-path=\"url(#clip102)\" style=\"stroke:#000000; stroke-linecap:round; stroke-linejoin:round; stroke-width:2; stroke-opacity:0.1; fill:none\" points=\"1760.9,1486.45 1760.9,47.2441 \"/>\n",
       "<polyline clip-path=\"url(#clip102)\" style=\"stroke:#000000; stroke-linecap:round; stroke-linejoin:round; stroke-width:2; stroke-opacity:0.1; fill:none\" points=\"2289.34,1486.45 2289.34,47.2441 \"/>\n",
       "<polyline clip-path=\"url(#clip100)\" style=\"stroke:#000000; stroke-linecap:round; stroke-linejoin:round; stroke-width:4; stroke-opacity:1; fill:none\" points=\"112.177,1486.45 2352.76,1486.45 \"/>\n",
       "<polyline clip-path=\"url(#clip100)\" style=\"stroke:#000000; stroke-linecap:round; stroke-linejoin:round; stroke-width:4; stroke-opacity:1; fill:none\" points=\"175.59,1486.45 175.59,1467.55 \"/>\n",
       "<polyline clip-path=\"url(#clip100)\" style=\"stroke:#000000; stroke-linecap:round; stroke-linejoin:round; stroke-width:4; stroke-opacity:1; fill:none\" points=\"704.028,1486.45 704.028,1467.55 \"/>\n",
       "<polyline clip-path=\"url(#clip100)\" style=\"stroke:#000000; stroke-linecap:round; stroke-linejoin:round; stroke-width:4; stroke-opacity:1; fill:none\" points=\"1232.47,1486.45 1232.47,1467.55 \"/>\n",
       "<polyline clip-path=\"url(#clip100)\" style=\"stroke:#000000; stroke-linecap:round; stroke-linejoin:round; stroke-width:4; stroke-opacity:1; fill:none\" points=\"1760.9,1486.45 1760.9,1467.55 \"/>\n",
       "<polyline clip-path=\"url(#clip100)\" style=\"stroke:#000000; stroke-linecap:round; stroke-linejoin:round; stroke-width:4; stroke-opacity:1; fill:none\" points=\"2289.34,1486.45 2289.34,1467.55 \"/>\n",
       "<path clip-path=\"url(#clip100)\" d=\"M175.59 1517.37 Q171.979 1517.37 170.15 1520.93 Q168.344 1524.47 168.344 1531.6 Q168.344 1538.71 170.15 1542.27 Q171.979 1545.82 175.59 1545.82 Q179.224 1545.82 181.03 1542.27 Q182.858 1538.71 182.858 1531.6 Q182.858 1524.47 181.03 1520.93 Q179.224 1517.37 175.59 1517.37 M175.59 1513.66 Q181.4 1513.66 184.455 1518.27 Q187.534 1522.85 187.534 1531.6 Q187.534 1540.33 184.455 1544.94 Q181.4 1549.52 175.59 1549.52 Q169.78 1549.52 166.701 1544.94 Q163.645 1540.33 163.645 1531.6 Q163.645 1522.85 166.701 1518.27 Q169.78 1513.66 175.59 1513.66 Z\" fill=\"#000000\" fill-rule=\"nonzero\" fill-opacity=\"1\" /><path clip-path=\"url(#clip100)\" d=\"M698.681 1544.91 L715 1544.91 L715 1548.85 L693.056 1548.85 L693.056 1544.91 Q695.718 1542.16 700.301 1537.53 Q704.908 1532.88 706.088 1531.53 Q708.334 1529.01 709.213 1527.27 Q710.116 1525.51 710.116 1523.82 Q710.116 1521.07 708.172 1519.33 Q706.25 1517.6 703.149 1517.6 Q700.949 1517.6 698.496 1518.36 Q696.065 1519.13 693.287 1520.68 L693.287 1515.95 Q696.112 1514.82 698.565 1514.24 Q701.019 1513.66 703.056 1513.66 Q708.426 1513.66 711.621 1516.35 Q714.815 1519.03 714.815 1523.52 Q714.815 1525.65 714.005 1527.57 Q713.218 1529.47 711.111 1532.07 Q710.533 1532.74 707.431 1535.95 Q704.329 1539.15 698.681 1544.91 Z\" fill=\"#000000\" fill-rule=\"nonzero\" fill-opacity=\"1\" /><path clip-path=\"url(#clip100)\" d=\"M1235.48 1518.36 L1223.67 1536.81 L1235.48 1536.81 L1235.48 1518.36 M1234.25 1514.29 L1240.13 1514.29 L1240.13 1536.81 L1245.06 1536.81 L1245.06 1540.7 L1240.13 1540.7 L1240.13 1548.85 L1235.48 1548.85 L1235.48 1540.7 L1219.87 1540.7 L1219.87 1536.19 L1234.25 1514.29 Z\" fill=\"#000000\" fill-rule=\"nonzero\" fill-opacity=\"1\" /><path clip-path=\"url(#clip100)\" d=\"M1761.31 1529.7 Q1758.16 1529.7 1756.31 1531.86 Q1754.48 1534.01 1754.48 1537.76 Q1754.48 1541.49 1756.31 1543.66 Q1758.16 1545.82 1761.31 1545.82 Q1764.46 1545.82 1766.29 1543.66 Q1768.14 1541.49 1768.14 1537.76 Q1768.14 1534.01 1766.29 1531.86 Q1764.46 1529.7 1761.31 1529.7 M1770.59 1515.05 L1770.59 1519.31 Q1768.83 1518.48 1767.03 1518.04 Q1765.25 1517.6 1763.49 1517.6 Q1758.86 1517.6 1756.4 1520.72 Q1753.97 1523.85 1753.62 1530.17 Q1754.99 1528.15 1757.05 1527.09 Q1759.11 1526 1761.59 1526 Q1766.8 1526 1769.81 1529.17 Q1772.84 1532.32 1772.84 1537.76 Q1772.84 1543.08 1769.69 1546.3 Q1766.54 1549.52 1761.31 1549.52 Q1755.31 1549.52 1752.14 1544.94 Q1748.97 1540.33 1748.97 1531.6 Q1748.97 1523.41 1752.86 1518.55 Q1756.75 1513.66 1763.3 1513.66 Q1765.06 1513.66 1766.84 1514.01 Q1768.65 1514.36 1770.59 1515.05 Z\" fill=\"#000000\" fill-rule=\"nonzero\" fill-opacity=\"1\" /><path clip-path=\"url(#clip100)\" d=\"M2289.34 1532.44 Q2286.01 1532.44 2284.09 1534.22 Q2282.19 1536 2282.19 1539.13 Q2282.19 1542.25 2284.09 1544.03 Q2286.01 1545.82 2289.34 1545.82 Q2292.68 1545.82 2294.6 1544.03 Q2296.52 1542.23 2296.52 1539.13 Q2296.52 1536 2294.6 1534.22 Q2292.7 1532.44 2289.34 1532.44 M2284.67 1530.45 Q2281.66 1529.7 2279.97 1527.64 Q2278.3 1525.58 2278.3 1522.62 Q2278.3 1518.48 2281.24 1516.07 Q2284.2 1513.66 2289.34 1513.66 Q2294.51 1513.66 2297.45 1516.07 Q2300.38 1518.48 2300.38 1522.62 Q2300.38 1525.58 2298.7 1527.64 Q2297.03 1529.7 2294.04 1530.45 Q2297.42 1531.23 2299.3 1533.52 Q2301.2 1535.82 2301.2 1539.13 Q2301.2 1544.15 2298.12 1546.83 Q2295.06 1549.52 2289.34 1549.52 Q2283.63 1549.52 2280.55 1546.83 Q2277.49 1544.15 2277.49 1539.13 Q2277.49 1535.82 2279.39 1533.52 Q2281.29 1531.23 2284.67 1530.45 M2282.95 1523.06 Q2282.95 1525.75 2284.62 1527.25 Q2286.31 1528.76 2289.34 1528.76 Q2292.35 1528.76 2294.04 1527.25 Q2295.76 1525.75 2295.76 1523.06 Q2295.76 1520.38 2294.04 1518.87 Q2292.35 1517.37 2289.34 1517.37 Q2286.31 1517.37 2284.62 1518.87 Q2282.95 1520.38 2282.95 1523.06 Z\" fill=\"#000000\" fill-rule=\"nonzero\" fill-opacity=\"1\" /><polyline clip-path=\"url(#clip102)\" style=\"stroke:#000000; stroke-linecap:round; stroke-linejoin:round; stroke-width:2; stroke-opacity:0.1; fill:none\" points=\"112.177,1445.72 2352.76,1445.72 \"/>\n",
       "<polyline clip-path=\"url(#clip102)\" style=\"stroke:#000000; stroke-linecap:round; stroke-linejoin:round; stroke-width:2; stroke-opacity:0.1; fill:none\" points=\"112.177,1106.28 2352.76,1106.28 \"/>\n",
       "<polyline clip-path=\"url(#clip102)\" style=\"stroke:#000000; stroke-linecap:round; stroke-linejoin:round; stroke-width:2; stroke-opacity:0.1; fill:none\" points=\"112.177,766.846 2352.76,766.846 \"/>\n",
       "<polyline clip-path=\"url(#clip102)\" style=\"stroke:#000000; stroke-linecap:round; stroke-linejoin:round; stroke-width:2; stroke-opacity:0.1; fill:none\" points=\"112.177,427.411 2352.76,427.411 \"/>\n",
       "<polyline clip-path=\"url(#clip102)\" style=\"stroke:#000000; stroke-linecap:round; stroke-linejoin:round; stroke-width:2; stroke-opacity:0.1; fill:none\" points=\"112.177,87.9763 2352.76,87.9763 \"/>\n",
       "<polyline clip-path=\"url(#clip100)\" style=\"stroke:#000000; stroke-linecap:round; stroke-linejoin:round; stroke-width:4; stroke-opacity:1; fill:none\" points=\"112.177,1486.45 112.177,47.2441 \"/>\n",
       "<polyline clip-path=\"url(#clip100)\" style=\"stroke:#000000; stroke-linecap:round; stroke-linejoin:round; stroke-width:4; stroke-opacity:1; fill:none\" points=\"112.177,1445.72 131.075,1445.72 \"/>\n",
       "<polyline clip-path=\"url(#clip100)\" style=\"stroke:#000000; stroke-linecap:round; stroke-linejoin:round; stroke-width:4; stroke-opacity:1; fill:none\" points=\"112.177,1106.28 131.075,1106.28 \"/>\n",
       "<polyline clip-path=\"url(#clip100)\" style=\"stroke:#000000; stroke-linecap:round; stroke-linejoin:round; stroke-width:4; stroke-opacity:1; fill:none\" points=\"112.177,766.846 131.075,766.846 \"/>\n",
       "<polyline clip-path=\"url(#clip100)\" style=\"stroke:#000000; stroke-linecap:round; stroke-linejoin:round; stroke-width:4; stroke-opacity:1; fill:none\" points=\"112.177,427.411 131.075,427.411 \"/>\n",
       "<polyline clip-path=\"url(#clip100)\" style=\"stroke:#000000; stroke-linecap:round; stroke-linejoin:round; stroke-width:4; stroke-opacity:1; fill:none\" points=\"112.177,87.9763 131.075,87.9763 \"/>\n",
       "<path clip-path=\"url(#clip100)\" d=\"M64.2328 1431.51 Q60.6217 1431.51 58.793 1435.08 Q56.9875 1438.62 56.9875 1445.75 Q56.9875 1452.86 58.793 1456.42 Q60.6217 1459.96 64.2328 1459.96 Q67.867 1459.96 69.6726 1456.42 Q71.5013 1452.86 71.5013 1445.75 Q71.5013 1438.62 69.6726 1435.08 Q67.867 1431.51 64.2328 1431.51 M64.2328 1427.81 Q70.0429 1427.81 73.0985 1432.42 Q76.1772 1437 76.1772 1445.75 Q76.1772 1454.48 73.0985 1459.08 Q70.0429 1463.67 64.2328 1463.67 Q58.4226 1463.67 55.344 1459.08 Q52.2884 1454.48 52.2884 1445.75 Q52.2884 1437 55.344 1432.42 Q58.4226 1427.81 64.2328 1427.81 Z\" fill=\"#000000\" fill-rule=\"nonzero\" fill-opacity=\"1\" /><path clip-path=\"url(#clip100)\" d=\"M59.8578 1119.63 L76.1772 1119.63 L76.1772 1123.56 L54.2328 1123.56 L54.2328 1119.63 Q56.8949 1116.87 61.4782 1112.24 Q66.0846 1107.59 67.2652 1106.25 Q69.5105 1103.72 70.3902 1101.99 Q71.2929 1100.23 71.2929 1098.54 Q71.2929 1095.78 69.3485 1094.05 Q67.4272 1092.31 64.3254 1092.31 Q62.1263 1092.31 59.6726 1093.07 Q57.2421 1093.84 54.4643 1095.39 L54.4643 1090.67 Q57.2884 1089.53 59.7421 1088.95 Q62.1958 1088.38 64.2328 1088.38 Q69.6031 1088.38 72.7976 1091.06 Q75.992 1093.75 75.992 1098.24 Q75.992 1100.37 75.1818 1102.29 Q74.3948 1104.19 72.2883 1106.78 Q71.7096 1107.45 68.6078 1110.67 Q65.5059 1113.86 59.8578 1119.63 Z\" fill=\"#000000\" fill-rule=\"nonzero\" fill-opacity=\"1\" /><path clip-path=\"url(#clip100)\" d=\"M66.5939 753.64 L54.7884 772.089 L66.5939 772.089 L66.5939 753.64 M65.367 749.566 L71.2466 749.566 L71.2466 772.089 L76.1772 772.089 L76.1772 775.978 L71.2466 775.978 L71.2466 784.126 L66.5939 784.126 L66.5939 775.978 L50.9921 775.978 L50.9921 771.464 L65.367 749.566 Z\" fill=\"#000000\" fill-rule=\"nonzero\" fill-opacity=\"1\" /><path clip-path=\"url(#clip100)\" d=\"M64.6495 425.548 Q61.5013 425.548 59.6495 427.7 Q57.8208 429.853 57.8208 433.603 Q57.8208 437.33 59.6495 439.506 Q61.5013 441.659 64.6495 441.659 Q67.7976 441.659 69.6263 439.506 Q71.4781 437.33 71.4781 433.603 Q71.4781 429.853 69.6263 427.7 Q67.7976 425.548 64.6495 425.548 M73.9318 410.895 L73.9318 415.154 Q72.1726 414.321 70.367 413.881 Q68.5846 413.441 66.8254 413.441 Q62.1958 413.441 59.7421 416.566 Q57.3115 419.691 56.9643 426.011 Q58.33 423.997 60.3902 422.932 Q62.4504 421.844 64.9272 421.844 Q70.1355 421.844 73.1448 425.015 Q76.1772 428.163 76.1772 433.603 Q76.1772 438.927 73.029 442.145 Q69.8809 445.362 64.6495 445.362 Q58.6541 445.362 55.4828 440.779 Q52.3116 436.173 52.3116 427.446 Q52.3116 419.251 56.2004 414.39 Q60.0893 409.506 66.6402 409.506 Q68.3994 409.506 70.1818 409.853 Q71.9874 410.201 73.9318 410.895 Z\" fill=\"#000000\" fill-rule=\"nonzero\" fill-opacity=\"1\" /><path clip-path=\"url(#clip100)\" d=\"M64.3254 88.8443 Q60.9921 88.8443 59.0708 90.6267 Q57.1726 92.4091 57.1726 95.5341 Q57.1726 98.6591 59.0708 100.441 Q60.9921 102.224 64.3254 102.224 Q67.6587 102.224 69.58 100.441 Q71.5013 98.6359 71.5013 95.5341 Q71.5013 92.4091 69.58 90.6267 Q67.6819 88.8443 64.3254 88.8443 M59.6495 86.8536 Q56.6402 86.1129 54.9504 84.0527 Q53.2838 81.9925 53.2838 79.0296 Q53.2838 74.8861 56.2236 72.4787 Q59.1865 70.0713 64.3254 70.0713 Q69.4874 70.0713 72.4272 72.4787 Q75.367 74.8861 75.367 79.0296 Q75.367 81.9925 73.6772 84.0527 Q72.0105 86.1129 69.0244 86.8536 Q72.404 87.6406 74.279 89.9323 Q76.1772 92.2239 76.1772 95.5341 Q76.1772 100.557 73.0985 103.242 Q70.0429 105.928 64.3254 105.928 Q58.6078 105.928 55.5291 103.242 Q52.4736 100.557 52.4736 95.5341 Q52.4736 92.2239 54.3717 89.9323 Q56.2699 87.6406 59.6495 86.8536 M57.9365 79.4694 Q57.9365 82.1545 59.6032 83.6592 Q61.293 85.1638 64.3254 85.1638 Q67.3346 85.1638 69.0244 83.6592 Q70.7374 82.1545 70.7374 79.4694 Q70.7374 76.7842 69.0244 75.2796 Q67.3346 73.775 64.3254 73.775 Q61.293 73.775 59.6032 75.2796 Q57.9365 76.7842 57.9365 79.4694 Z\" fill=\"#000000\" fill-rule=\"nonzero\" fill-opacity=\"1\" /><circle clip-path=\"url(#clip102)\" cx=\"439.809\" cy=\"1276\" r=\"14.4\" fill=\"#ff0000\" fill-rule=\"evenodd\" fill-opacity=\"1\" stroke=\"#000000\" stroke-opacity=\"1\" stroke-width=\"3.2\"/>\n",
       "<circle clip-path=\"url(#clip102)\" cx=\"704.028\" cy=\"1276\" r=\"14.4\" fill=\"#ff0000\" fill-rule=\"evenodd\" fill-opacity=\"1\" stroke=\"#000000\" stroke-opacity=\"1\" stroke-width=\"3.2\"/>\n",
       "<circle clip-path=\"url(#clip102)\" cx=\"968.247\" cy=\"1276\" r=\"14.4\" fill=\"#ff0000\" fill-rule=\"evenodd\" fill-opacity=\"1\" stroke=\"#000000\" stroke-opacity=\"1\" stroke-width=\"3.2\"/>\n",
       "<circle clip-path=\"url(#clip102)\" cx=\"1232.47\" cy=\"1276\" r=\"14.4\" fill=\"#ff0000\" fill-rule=\"evenodd\" fill-opacity=\"1\" stroke=\"#000000\" stroke-opacity=\"1\" stroke-width=\"3.2\"/>\n",
       "<circle clip-path=\"url(#clip102)\" cx=\"1496.69\" cy=\"1276\" r=\"14.4\" fill=\"#ff0000\" fill-rule=\"evenodd\" fill-opacity=\"1\" stroke=\"#000000\" stroke-opacity=\"1\" stroke-width=\"3.2\"/>\n",
       "<circle clip-path=\"url(#clip102)\" cx=\"1760.9\" cy=\"1276\" r=\"14.4\" fill=\"#ff0000\" fill-rule=\"evenodd\" fill-opacity=\"1\" stroke=\"#000000\" stroke-opacity=\"1\" stroke-width=\"3.2\"/>\n",
       "<circle clip-path=\"url(#clip102)\" cx=\"2025.12\" cy=\"1276\" r=\"14.4\" fill=\"#ff0000\" fill-rule=\"evenodd\" fill-opacity=\"1\" stroke=\"#000000\" stroke-opacity=\"1\" stroke-width=\"3.2\"/>\n",
       "<circle clip-path=\"url(#clip102)\" cx=\"439.809\" cy=\"1106.28\" r=\"14.4\" fill=\"#ff0000\" fill-rule=\"evenodd\" fill-opacity=\"1\" stroke=\"#000000\" stroke-opacity=\"1\" stroke-width=\"3.2\"/>\n",
       "<circle clip-path=\"url(#clip102)\" cx=\"704.028\" cy=\"1106.28\" r=\"14.4\" fill=\"#ff0000\" fill-rule=\"evenodd\" fill-opacity=\"1\" stroke=\"#000000\" stroke-opacity=\"1\" stroke-width=\"3.2\"/>\n",
       "<circle clip-path=\"url(#clip102)\" cx=\"968.247\" cy=\"1106.28\" r=\"14.4\" fill=\"#ff0000\" fill-rule=\"evenodd\" fill-opacity=\"1\" stroke=\"#000000\" stroke-opacity=\"1\" stroke-width=\"3.2\"/>\n",
       "<circle clip-path=\"url(#clip102)\" cx=\"1232.47\" cy=\"1106.28\" r=\"14.4\" fill=\"#ff0000\" fill-rule=\"evenodd\" fill-opacity=\"1\" stroke=\"#000000\" stroke-opacity=\"1\" stroke-width=\"3.2\"/>\n",
       "<circle clip-path=\"url(#clip102)\" cx=\"1496.69\" cy=\"1106.28\" r=\"14.4\" fill=\"#ff0000\" fill-rule=\"evenodd\" fill-opacity=\"1\" stroke=\"#000000\" stroke-opacity=\"1\" stroke-width=\"3.2\"/>\n",
       "<circle clip-path=\"url(#clip102)\" cx=\"1760.9\" cy=\"1106.28\" r=\"14.4\" fill=\"#ff0000\" fill-rule=\"evenodd\" fill-opacity=\"1\" stroke=\"#000000\" stroke-opacity=\"1\" stroke-width=\"3.2\"/>\n",
       "<circle clip-path=\"url(#clip102)\" cx=\"2025.12\" cy=\"1106.28\" r=\"14.4\" fill=\"#ff0000\" fill-rule=\"evenodd\" fill-opacity=\"1\" stroke=\"#000000\" stroke-opacity=\"1\" stroke-width=\"3.2\"/>\n",
       "<circle clip-path=\"url(#clip102)\" cx=\"439.809\" cy=\"936.563\" r=\"14.4\" fill=\"#ff0000\" fill-rule=\"evenodd\" fill-opacity=\"1\" stroke=\"#000000\" stroke-opacity=\"1\" stroke-width=\"3.2\"/>\n",
       "<circle clip-path=\"url(#clip102)\" cx=\"704.028\" cy=\"936.563\" r=\"14.4\" fill=\"#ff0000\" fill-rule=\"evenodd\" fill-opacity=\"1\" stroke=\"#000000\" stroke-opacity=\"1\" stroke-width=\"3.2\"/>\n",
       "<circle clip-path=\"url(#clip102)\" cx=\"968.247\" cy=\"936.563\" r=\"14.4\" fill=\"#ff0000\" fill-rule=\"evenodd\" fill-opacity=\"1\" stroke=\"#000000\" stroke-opacity=\"1\" stroke-width=\"3.2\"/>\n",
       "<circle clip-path=\"url(#clip102)\" cx=\"1232.47\" cy=\"936.563\" r=\"14.4\" fill=\"#ff0000\" fill-rule=\"evenodd\" fill-opacity=\"1\" stroke=\"#000000\" stroke-opacity=\"1\" stroke-width=\"3.2\"/>\n",
       "<circle clip-path=\"url(#clip102)\" cx=\"1496.69\" cy=\"936.563\" r=\"14.4\" fill=\"#ff0000\" fill-rule=\"evenodd\" fill-opacity=\"1\" stroke=\"#000000\" stroke-opacity=\"1\" stroke-width=\"3.2\"/>\n",
       "<circle clip-path=\"url(#clip102)\" cx=\"1760.9\" cy=\"936.563\" r=\"14.4\" fill=\"#ff0000\" fill-rule=\"evenodd\" fill-opacity=\"1\" stroke=\"#000000\" stroke-opacity=\"1\" stroke-width=\"3.2\"/>\n",
       "<circle clip-path=\"url(#clip102)\" cx=\"2025.12\" cy=\"936.563\" r=\"14.4\" fill=\"#ff0000\" fill-rule=\"evenodd\" fill-opacity=\"1\" stroke=\"#000000\" stroke-opacity=\"1\" stroke-width=\"3.2\"/>\n",
       "<circle clip-path=\"url(#clip102)\" cx=\"439.809\" cy=\"766.846\" r=\"14.4\" fill=\"#ff0000\" fill-rule=\"evenodd\" fill-opacity=\"1\" stroke=\"#000000\" stroke-opacity=\"1\" stroke-width=\"3.2\"/>\n",
       "<circle clip-path=\"url(#clip102)\" cx=\"704.028\" cy=\"766.846\" r=\"14.4\" fill=\"#ff0000\" fill-rule=\"evenodd\" fill-opacity=\"1\" stroke=\"#000000\" stroke-opacity=\"1\" stroke-width=\"3.2\"/>\n",
       "<circle clip-path=\"url(#clip102)\" cx=\"968.247\" cy=\"766.846\" r=\"14.4\" fill=\"#ff0000\" fill-rule=\"evenodd\" fill-opacity=\"1\" stroke=\"#000000\" stroke-opacity=\"1\" stroke-width=\"3.2\"/>\n",
       "<circle clip-path=\"url(#clip102)\" cx=\"1232.47\" cy=\"766.846\" r=\"14.4\" fill=\"#ff0000\" fill-rule=\"evenodd\" fill-opacity=\"1\" stroke=\"#000000\" stroke-opacity=\"1\" stroke-width=\"3.2\"/>\n",
       "<circle clip-path=\"url(#clip102)\" cx=\"1496.69\" cy=\"766.846\" r=\"14.4\" fill=\"#ff0000\" fill-rule=\"evenodd\" fill-opacity=\"1\" stroke=\"#000000\" stroke-opacity=\"1\" stroke-width=\"3.2\"/>\n",
       "<circle clip-path=\"url(#clip102)\" cx=\"1760.9\" cy=\"766.846\" r=\"14.4\" fill=\"#ff0000\" fill-rule=\"evenodd\" fill-opacity=\"1\" stroke=\"#000000\" stroke-opacity=\"1\" stroke-width=\"3.2\"/>\n",
       "<circle clip-path=\"url(#clip102)\" cx=\"2025.12\" cy=\"766.846\" r=\"14.4\" fill=\"#ff0000\" fill-rule=\"evenodd\" fill-opacity=\"1\" stroke=\"#000000\" stroke-opacity=\"1\" stroke-width=\"3.2\"/>\n",
       "<circle clip-path=\"url(#clip102)\" cx=\"439.809\" cy=\"597.129\" r=\"14.4\" fill=\"#ff0000\" fill-rule=\"evenodd\" fill-opacity=\"1\" stroke=\"#000000\" stroke-opacity=\"1\" stroke-width=\"3.2\"/>\n",
       "<circle clip-path=\"url(#clip102)\" cx=\"704.028\" cy=\"597.129\" r=\"14.4\" fill=\"#ff0000\" fill-rule=\"evenodd\" fill-opacity=\"1\" stroke=\"#000000\" stroke-opacity=\"1\" stroke-width=\"3.2\"/>\n",
       "<circle clip-path=\"url(#clip102)\" cx=\"968.247\" cy=\"597.129\" r=\"14.4\" fill=\"#ff0000\" fill-rule=\"evenodd\" fill-opacity=\"1\" stroke=\"#000000\" stroke-opacity=\"1\" stroke-width=\"3.2\"/>\n",
       "<circle clip-path=\"url(#clip102)\" cx=\"1232.47\" cy=\"597.129\" r=\"14.4\" fill=\"#ff0000\" fill-rule=\"evenodd\" fill-opacity=\"1\" stroke=\"#000000\" stroke-opacity=\"1\" stroke-width=\"3.2\"/>\n",
       "<circle clip-path=\"url(#clip102)\" cx=\"1496.69\" cy=\"597.129\" r=\"14.4\" fill=\"#ff0000\" fill-rule=\"evenodd\" fill-opacity=\"1\" stroke=\"#000000\" stroke-opacity=\"1\" stroke-width=\"3.2\"/>\n",
       "<circle clip-path=\"url(#clip102)\" cx=\"1760.9\" cy=\"597.129\" r=\"14.4\" fill=\"#ff0000\" fill-rule=\"evenodd\" fill-opacity=\"1\" stroke=\"#000000\" stroke-opacity=\"1\" stroke-width=\"3.2\"/>\n",
       "<circle clip-path=\"url(#clip102)\" cx=\"2025.12\" cy=\"597.129\" r=\"14.4\" fill=\"#ff0000\" fill-rule=\"evenodd\" fill-opacity=\"1\" stroke=\"#000000\" stroke-opacity=\"1\" stroke-width=\"3.2\"/>\n",
       "<circle clip-path=\"url(#clip102)\" cx=\"439.809\" cy=\"427.411\" r=\"14.4\" fill=\"#ff0000\" fill-rule=\"evenodd\" fill-opacity=\"1\" stroke=\"#000000\" stroke-opacity=\"1\" stroke-width=\"3.2\"/>\n",
       "<circle clip-path=\"url(#clip102)\" cx=\"704.028\" cy=\"427.411\" r=\"14.4\" fill=\"#ff0000\" fill-rule=\"evenodd\" fill-opacity=\"1\" stroke=\"#000000\" stroke-opacity=\"1\" stroke-width=\"3.2\"/>\n",
       "<circle clip-path=\"url(#clip102)\" cx=\"968.247\" cy=\"427.411\" r=\"14.4\" fill=\"#ff0000\" fill-rule=\"evenodd\" fill-opacity=\"1\" stroke=\"#000000\" stroke-opacity=\"1\" stroke-width=\"3.2\"/>\n",
       "<circle clip-path=\"url(#clip102)\" cx=\"1232.47\" cy=\"427.411\" r=\"14.4\" fill=\"#ff0000\" fill-rule=\"evenodd\" fill-opacity=\"1\" stroke=\"#000000\" stroke-opacity=\"1\" stroke-width=\"3.2\"/>\n",
       "<circle clip-path=\"url(#clip102)\" cx=\"1496.69\" cy=\"427.411\" r=\"14.4\" fill=\"#ff0000\" fill-rule=\"evenodd\" fill-opacity=\"1\" stroke=\"#000000\" stroke-opacity=\"1\" stroke-width=\"3.2\"/>\n",
       "<circle clip-path=\"url(#clip102)\" cx=\"1760.9\" cy=\"427.411\" r=\"14.4\" fill=\"#ff0000\" fill-rule=\"evenodd\" fill-opacity=\"1\" stroke=\"#000000\" stroke-opacity=\"1\" stroke-width=\"3.2\"/>\n",
       "<circle clip-path=\"url(#clip102)\" cx=\"2025.12\" cy=\"427.411\" r=\"14.4\" fill=\"#ff0000\" fill-rule=\"evenodd\" fill-opacity=\"1\" stroke=\"#000000\" stroke-opacity=\"1\" stroke-width=\"3.2\"/>\n",
       "<circle clip-path=\"url(#clip102)\" cx=\"439.809\" cy=\"257.694\" r=\"14.4\" fill=\"#ff0000\" fill-rule=\"evenodd\" fill-opacity=\"1\" stroke=\"#000000\" stroke-opacity=\"1\" stroke-width=\"3.2\"/>\n",
       "<circle clip-path=\"url(#clip102)\" cx=\"704.028\" cy=\"257.694\" r=\"14.4\" fill=\"#ff0000\" fill-rule=\"evenodd\" fill-opacity=\"1\" stroke=\"#000000\" stroke-opacity=\"1\" stroke-width=\"3.2\"/>\n",
       "<circle clip-path=\"url(#clip102)\" cx=\"968.247\" cy=\"257.694\" r=\"14.4\" fill=\"#ff0000\" fill-rule=\"evenodd\" fill-opacity=\"1\" stroke=\"#000000\" stroke-opacity=\"1\" stroke-width=\"3.2\"/>\n",
       "<circle clip-path=\"url(#clip102)\" cx=\"1232.47\" cy=\"257.694\" r=\"14.4\" fill=\"#ff0000\" fill-rule=\"evenodd\" fill-opacity=\"1\" stroke=\"#000000\" stroke-opacity=\"1\" stroke-width=\"3.2\"/>\n",
       "<circle clip-path=\"url(#clip102)\" cx=\"1496.69\" cy=\"257.694\" r=\"14.4\" fill=\"#ff0000\" fill-rule=\"evenodd\" fill-opacity=\"1\" stroke=\"#000000\" stroke-opacity=\"1\" stroke-width=\"3.2\"/>\n",
       "<circle clip-path=\"url(#clip102)\" cx=\"1760.9\" cy=\"257.694\" r=\"14.4\" fill=\"#ff0000\" fill-rule=\"evenodd\" fill-opacity=\"1\" stroke=\"#000000\" stroke-opacity=\"1\" stroke-width=\"3.2\"/>\n",
       "<circle clip-path=\"url(#clip102)\" cx=\"2025.12\" cy=\"257.694\" r=\"14.4\" fill=\"#ff0000\" fill-rule=\"evenodd\" fill-opacity=\"1\" stroke=\"#000000\" stroke-opacity=\"1\" stroke-width=\"3.2\"/>\n",
       "<path clip-path=\"url(#clip102)\" d=\"M704.028 1445.72 L968.247 1445.72 L968.247 1276 L704.028 1276 L704.028 1445.72  Z\" fill=\"#0000ff\" fill-rule=\"evenodd\" fill-opacity=\"0.5\"/>\n",
       "<polyline clip-path=\"url(#clip102)\" style=\"stroke:#000000; stroke-linecap:round; stroke-linejoin:round; stroke-width:4; stroke-opacity:0.5; fill:none\" points=\"704.028,1445.72 968.247,1445.72 968.247,1276 704.028,1276 704.028,1445.72 \"/>\n",
       "<path clip-path=\"url(#clip102)\" d=\"M1232.47 1445.72 L1496.69 1445.72 L1496.69 1276 L1232.47 1276 L1232.47 1445.72  Z\" fill=\"#0000ff\" fill-rule=\"evenodd\" fill-opacity=\"0.5\"/>\n",
       "<polyline clip-path=\"url(#clip102)\" style=\"stroke:#000000; stroke-linecap:round; stroke-linejoin:round; stroke-width:4; stroke-opacity:0.5; fill:none\" points=\"1232.47,1445.72 1496.69,1445.72 1496.69,1276 1232.47,1276 1232.47,1445.72 \"/>\n",
       "<path clip-path=\"url(#clip102)\" d=\"M1760.9 1445.72 L2025.12 1445.72 L2025.12 1276 L1760.9 1276 L1760.9 1445.72  Z\" fill=\"#0000ff\" fill-rule=\"evenodd\" fill-opacity=\"0.5\"/>\n",
       "<polyline clip-path=\"url(#clip102)\" style=\"stroke:#000000; stroke-linecap:round; stroke-linejoin:round; stroke-width:4; stroke-opacity:0.5; fill:none\" points=\"1760.9,1445.72 2025.12,1445.72 2025.12,1276 1760.9,1276 1760.9,1445.72 \"/>\n",
       "<path clip-path=\"url(#clip102)\" d=\"M439.809 1276 L704.028 1276 L704.028 1106.28 L439.809 1106.28 L439.809 1276  Z\" fill=\"#0000ff\" fill-rule=\"evenodd\" fill-opacity=\"0.5\"/>\n",
       "<polyline clip-path=\"url(#clip102)\" style=\"stroke:#000000; stroke-linecap:round; stroke-linejoin:round; stroke-width:4; stroke-opacity:0.5; fill:none\" points=\"439.809,1276 704.028,1276 704.028,1106.28 439.809,1106.28 439.809,1276 \"/>\n",
       "<path clip-path=\"url(#clip102)\" d=\"M968.247 1276 L1232.47 1276 L1232.47 1106.28 L968.247 1106.28 L968.247 1276  Z\" fill=\"#0000ff\" fill-rule=\"evenodd\" fill-opacity=\"0.5\"/>\n",
       "<polyline clip-path=\"url(#clip102)\" style=\"stroke:#000000; stroke-linecap:round; stroke-linejoin:round; stroke-width:4; stroke-opacity:0.5; fill:none\" points=\"968.247,1276 1232.47,1276 1232.47,1106.28 968.247,1106.28 968.247,1276 \"/>\n",
       "<path clip-path=\"url(#clip102)\" d=\"M1496.69 1276 L1760.9 1276 L1760.9 1106.28 L1496.69 1106.28 L1496.69 1276  Z\" fill=\"#0000ff\" fill-rule=\"evenodd\" fill-opacity=\"0.5\"/>\n",
       "<polyline clip-path=\"url(#clip102)\" style=\"stroke:#000000; stroke-linecap:round; stroke-linejoin:round; stroke-width:4; stroke-opacity:0.5; fill:none\" points=\"1496.69,1276 1760.9,1276 1760.9,1106.28 1496.69,1106.28 1496.69,1276 \"/>\n",
       "<path clip-path=\"url(#clip102)\" d=\"M704.028 1106.28 L968.247 1106.28 L968.247 936.563 L704.028 936.563 L704.028 1106.28  Z\" fill=\"#0000ff\" fill-rule=\"evenodd\" fill-opacity=\"0.5\"/>\n",
       "<polyline clip-path=\"url(#clip102)\" style=\"stroke:#000000; stroke-linecap:round; stroke-linejoin:round; stroke-width:4; stroke-opacity:0.5; fill:none\" points=\"704.028,1106.28 968.247,1106.28 968.247,936.563 704.028,936.563 704.028,1106.28 \"/>\n",
       "<path clip-path=\"url(#clip102)\" d=\"M1232.47 1106.28 L1496.69 1106.28 L1496.69 936.563 L1232.47 936.563 L1232.47 1106.28  Z\" fill=\"#0000ff\" fill-rule=\"evenodd\" fill-opacity=\"0.5\"/>\n",
       "<polyline clip-path=\"url(#clip102)\" style=\"stroke:#000000; stroke-linecap:round; stroke-linejoin:round; stroke-width:4; stroke-opacity:0.5; fill:none\" points=\"1232.47,1106.28 1496.69,1106.28 1496.69,936.563 1232.47,936.563 1232.47,1106.28 \"/>\n",
       "<path clip-path=\"url(#clip102)\" d=\"M1760.9 1106.28 L2025.12 1106.28 L2025.12 936.563 L1760.9 936.563 L1760.9 1106.28  Z\" fill=\"#0000ff\" fill-rule=\"evenodd\" fill-opacity=\"0.5\"/>\n",
       "<polyline clip-path=\"url(#clip102)\" style=\"stroke:#000000; stroke-linecap:round; stroke-linejoin:round; stroke-width:4; stroke-opacity:0.5; fill:none\" points=\"1760.9,1106.28 2025.12,1106.28 2025.12,936.563 1760.9,936.563 1760.9,1106.28 \"/>\n",
       "<path clip-path=\"url(#clip102)\" d=\"M439.809 936.563 L704.028 936.563 L704.028 766.846 L439.809 766.846 L439.809 936.563  Z\" fill=\"#0000ff\" fill-rule=\"evenodd\" fill-opacity=\"0.5\"/>\n",
       "<polyline clip-path=\"url(#clip102)\" style=\"stroke:#000000; stroke-linecap:round; stroke-linejoin:round; stroke-width:4; stroke-opacity:0.5; fill:none\" points=\"439.809,936.563 704.028,936.563 704.028,766.846 439.809,766.846 439.809,936.563 \"/>\n",
       "<path clip-path=\"url(#clip102)\" d=\"M968.247 936.563 L1232.47 936.563 L1232.47 766.846 L968.247 766.846 L968.247 936.563  Z\" fill=\"#0000ff\" fill-rule=\"evenodd\" fill-opacity=\"0.5\"/>\n",
       "<polyline clip-path=\"url(#clip102)\" style=\"stroke:#000000; stroke-linecap:round; stroke-linejoin:round; stroke-width:4; stroke-opacity:0.5; fill:none\" points=\"968.247,936.563 1232.47,936.563 1232.47,766.846 968.247,766.846 968.247,936.563 \"/>\n",
       "<path clip-path=\"url(#clip102)\" d=\"M1496.69 936.563 L1760.9 936.563 L1760.9 766.846 L1496.69 766.846 L1496.69 936.563  Z\" fill=\"#0000ff\" fill-rule=\"evenodd\" fill-opacity=\"0.5\"/>\n",
       "<polyline clip-path=\"url(#clip102)\" style=\"stroke:#000000; stroke-linecap:round; stroke-linejoin:round; stroke-width:4; stroke-opacity:0.5; fill:none\" points=\"1496.69,936.563 1760.9,936.563 1760.9,766.846 1496.69,766.846 1496.69,936.563 \"/>\n",
       "<path clip-path=\"url(#clip102)\" d=\"M704.028 766.846 L968.247 766.846 L968.247 597.129 L704.028 597.129 L704.028 766.846  Z\" fill=\"#0000ff\" fill-rule=\"evenodd\" fill-opacity=\"0.5\"/>\n",
       "<polyline clip-path=\"url(#clip102)\" style=\"stroke:#000000; stroke-linecap:round; stroke-linejoin:round; stroke-width:4; stroke-opacity:0.5; fill:none\" points=\"704.028,766.846 968.247,766.846 968.247,597.129 704.028,597.129 704.028,766.846 \"/>\n",
       "<path clip-path=\"url(#clip102)\" d=\"M1232.47 766.846 L1496.69 766.846 L1496.69 597.129 L1232.47 597.129 L1232.47 766.846  Z\" fill=\"#0000ff\" fill-rule=\"evenodd\" fill-opacity=\"0.5\"/>\n",
       "<polyline clip-path=\"url(#clip102)\" style=\"stroke:#000000; stroke-linecap:round; stroke-linejoin:round; stroke-width:4; stroke-opacity:0.5; fill:none\" points=\"1232.47,766.846 1496.69,766.846 1496.69,597.129 1232.47,597.129 1232.47,766.846 \"/>\n",
       "<path clip-path=\"url(#clip102)\" d=\"M1760.9 766.846 L2025.12 766.846 L2025.12 597.129 L1760.9 597.129 L1760.9 766.846  Z\" fill=\"#0000ff\" fill-rule=\"evenodd\" fill-opacity=\"0.5\"/>\n",
       "<polyline clip-path=\"url(#clip102)\" style=\"stroke:#000000; stroke-linecap:round; stroke-linejoin:round; stroke-width:4; stroke-opacity:0.5; fill:none\" points=\"1760.9,766.846 2025.12,766.846 2025.12,597.129 1760.9,597.129 1760.9,766.846 \"/>\n",
       "<path clip-path=\"url(#clip102)\" d=\"M439.809 597.129 L704.028 597.129 L704.028 427.411 L439.809 427.411 L439.809 597.129  Z\" fill=\"#0000ff\" fill-rule=\"evenodd\" fill-opacity=\"0.5\"/>\n",
       "<polyline clip-path=\"url(#clip102)\" style=\"stroke:#000000; stroke-linecap:round; stroke-linejoin:round; stroke-width:4; stroke-opacity:0.5; fill:none\" points=\"439.809,597.129 704.028,597.129 704.028,427.411 439.809,427.411 439.809,597.129 \"/>\n",
       "<path clip-path=\"url(#clip102)\" d=\"M968.247 597.129 L1232.47 597.129 L1232.47 427.411 L968.247 427.411 L968.247 597.129  Z\" fill=\"#0000ff\" fill-rule=\"evenodd\" fill-opacity=\"0.5\"/>\n",
       "<polyline clip-path=\"url(#clip102)\" style=\"stroke:#000000; stroke-linecap:round; stroke-linejoin:round; stroke-width:4; stroke-opacity:0.5; fill:none\" points=\"968.247,597.129 1232.47,597.129 1232.47,427.411 968.247,427.411 968.247,597.129 \"/>\n",
       "<path clip-path=\"url(#clip102)\" d=\"M1496.69 597.129 L1760.9 597.129 L1760.9 427.411 L1496.69 427.411 L1496.69 597.129  Z\" fill=\"#0000ff\" fill-rule=\"evenodd\" fill-opacity=\"0.5\"/>\n",
       "<polyline clip-path=\"url(#clip102)\" style=\"stroke:#000000; stroke-linecap:round; stroke-linejoin:round; stroke-width:4; stroke-opacity:0.5; fill:none\" points=\"1496.69,597.129 1760.9,597.129 1760.9,427.411 1496.69,427.411 1496.69,597.129 \"/>\n",
       "<path clip-path=\"url(#clip102)\" d=\"M704.028 427.411 L968.247 427.411 L968.247 257.694 L704.028 257.694 L704.028 427.411  Z\" fill=\"#0000ff\" fill-rule=\"evenodd\" fill-opacity=\"0.5\"/>\n",
       "<polyline clip-path=\"url(#clip102)\" style=\"stroke:#000000; stroke-linecap:round; stroke-linejoin:round; stroke-width:4; stroke-opacity:0.5; fill:none\" points=\"704.028,427.411 968.247,427.411 968.247,257.694 704.028,257.694 704.028,427.411 \"/>\n",
       "<path clip-path=\"url(#clip102)\" d=\"M1232.47 427.411 L1496.69 427.411 L1496.69 257.694 L1232.47 257.694 L1232.47 427.411  Z\" fill=\"#0000ff\" fill-rule=\"evenodd\" fill-opacity=\"0.5\"/>\n",
       "<polyline clip-path=\"url(#clip102)\" style=\"stroke:#000000; stroke-linecap:round; stroke-linejoin:round; stroke-width:4; stroke-opacity:0.5; fill:none\" points=\"1232.47,427.411 1496.69,427.411 1496.69,257.694 1232.47,257.694 1232.47,427.411 \"/>\n",
       "<path clip-path=\"url(#clip102)\" d=\"M1760.9 427.411 L2025.12 427.411 L2025.12 257.694 L1760.9 257.694 L1760.9 427.411  Z\" fill=\"#0000ff\" fill-rule=\"evenodd\" fill-opacity=\"0.5\"/>\n",
       "<polyline clip-path=\"url(#clip102)\" style=\"stroke:#000000; stroke-linecap:round; stroke-linejoin:round; stroke-width:4; stroke-opacity:0.5; fill:none\" points=\"1760.9,427.411 2025.12,427.411 2025.12,257.694 1760.9,257.694 1760.9,427.411 \"/>\n",
       "<path clip-path=\"url(#clip102)\" d=\"M439.809 257.694 L704.028 257.694 L704.028 87.9763 L439.809 87.9763 L439.809 257.694  Z\" fill=\"#0000ff\" fill-rule=\"evenodd\" fill-opacity=\"0.5\"/>\n",
       "<polyline clip-path=\"url(#clip102)\" style=\"stroke:#000000; stroke-linecap:round; stroke-linejoin:round; stroke-width:4; stroke-opacity:0.5; fill:none\" points=\"439.809,257.694 704.028,257.694 704.028,87.9763 439.809,87.9763 439.809,257.694 \"/>\n",
       "<path clip-path=\"url(#clip102)\" d=\"M968.247 257.694 L1232.47 257.694 L1232.47 87.9763 L968.247 87.9763 L968.247 257.694  Z\" fill=\"#0000ff\" fill-rule=\"evenodd\" fill-opacity=\"0.5\"/>\n",
       "<polyline clip-path=\"url(#clip102)\" style=\"stroke:#000000; stroke-linecap:round; stroke-linejoin:round; stroke-width:4; stroke-opacity:0.5; fill:none\" points=\"968.247,257.694 1232.47,257.694 1232.47,87.9763 968.247,87.9763 968.247,257.694 \"/>\n",
       "<path clip-path=\"url(#clip102)\" d=\"M1496.69 257.694 L1760.9 257.694 L1760.9 87.9763 L1496.69 87.9763 L1496.69 257.694  Z\" fill=\"#0000ff\" fill-rule=\"evenodd\" fill-opacity=\"0.5\"/>\n",
       "<polyline clip-path=\"url(#clip102)\" style=\"stroke:#000000; stroke-linecap:round; stroke-linejoin:round; stroke-width:4; stroke-opacity:0.5; fill:none\" points=\"1496.69,257.694 1760.9,257.694 1760.9,87.9763 1496.69,87.9763 1496.69,257.694 \"/>\n",
       "<path clip-path=\"url(#clip102)\" d=\"M175.59 1276 L439.809 1276 L439.809 1106.28 L175.59 1106.28 L175.59 1276  Z\" fill=\"#008000\" fill-rule=\"evenodd\" fill-opacity=\"0.5\"/>\n",
       "<polyline clip-path=\"url(#clip102)\" style=\"stroke:#000000; stroke-linecap:round; stroke-linejoin:round; stroke-width:4; stroke-opacity:0.5; fill:none\" points=\"175.59,1276 439.809,1276 439.809,1106.28 175.59,1106.28 175.59,1276 \"/>\n",
       "<path clip-path=\"url(#clip102)\" d=\"M175.59 936.563 L439.809 936.563 L439.809 766.846 L175.59 766.846 L175.59 936.563  Z\" fill=\"#008000\" fill-rule=\"evenodd\" fill-opacity=\"0.5\"/>\n",
       "<polyline clip-path=\"url(#clip102)\" style=\"stroke:#000000; stroke-linecap:round; stroke-linejoin:round; stroke-width:4; stroke-opacity:0.5; fill:none\" points=\"175.59,936.563 439.809,936.563 439.809,766.846 175.59,766.846 175.59,936.563 \"/>\n",
       "<path clip-path=\"url(#clip102)\" d=\"M175.59 597.129 L439.809 597.129 L439.809 427.411 L175.59 427.411 L175.59 597.129  Z\" fill=\"#008000\" fill-rule=\"evenodd\" fill-opacity=\"0.5\"/>\n",
       "<polyline clip-path=\"url(#clip102)\" style=\"stroke:#000000; stroke-linecap:round; stroke-linejoin:round; stroke-width:4; stroke-opacity:0.5; fill:none\" points=\"175.59,597.129 439.809,597.129 439.809,427.411 175.59,427.411 175.59,597.129 \"/>\n",
       "<path clip-path=\"url(#clip102)\" d=\"M439.809 1106.28 L704.028 1106.28 L704.028 936.563 L439.809 936.563 L439.809 1106.28  Z\" fill=\"#008000\" fill-rule=\"evenodd\" fill-opacity=\"0.5\"/>\n",
       "<polyline clip-path=\"url(#clip102)\" style=\"stroke:#000000; stroke-linecap:round; stroke-linejoin:round; stroke-width:4; stroke-opacity:0.5; fill:none\" points=\"439.809,1106.28 704.028,1106.28 704.028,936.563 439.809,936.563 439.809,1106.28 \"/>\n",
       "<path clip-path=\"url(#clip102)\" d=\"M439.809 766.846 L704.028 766.846 L704.028 597.129 L439.809 597.129 L439.809 766.846  Z\" fill=\"#008000\" fill-rule=\"evenodd\" fill-opacity=\"0.5\"/>\n",
       "<polyline clip-path=\"url(#clip102)\" style=\"stroke:#000000; stroke-linecap:round; stroke-linejoin:round; stroke-width:4; stroke-opacity:0.5; fill:none\" points=\"439.809,766.846 704.028,766.846 704.028,597.129 439.809,597.129 439.809,766.846 \"/>\n",
       "<path clip-path=\"url(#clip102)\" d=\"M439.809 427.411 L704.028 427.411 L704.028 257.694 L439.809 257.694 L439.809 427.411  Z\" fill=\"#008000\" fill-rule=\"evenodd\" fill-opacity=\"0.5\"/>\n",
       "<polyline clip-path=\"url(#clip102)\" style=\"stroke:#000000; stroke-linecap:round; stroke-linejoin:round; stroke-width:4; stroke-opacity:0.5; fill:none\" points=\"439.809,427.411 704.028,427.411 704.028,257.694 439.809,257.694 439.809,427.411 \"/>\n",
       "<path clip-path=\"url(#clip102)\" d=\"M704.028 1276 L968.247 1276 L968.247 1106.28 L704.028 1106.28 L704.028 1276  Z\" fill=\"#008000\" fill-rule=\"evenodd\" fill-opacity=\"0.5\"/>\n",
       "<polyline clip-path=\"url(#clip102)\" style=\"stroke:#000000; stroke-linecap:round; stroke-linejoin:round; stroke-width:4; stroke-opacity:0.5; fill:none\" points=\"704.028,1276 968.247,1276 968.247,1106.28 704.028,1106.28 704.028,1276 \"/>\n",
       "<path clip-path=\"url(#clip102)\" d=\"M704.028 936.563 L968.247 936.563 L968.247 766.846 L704.028 766.846 L704.028 936.563  Z\" fill=\"#008000\" fill-rule=\"evenodd\" fill-opacity=\"0.5\"/>\n",
       "<polyline clip-path=\"url(#clip102)\" style=\"stroke:#000000; stroke-linecap:round; stroke-linejoin:round; stroke-width:4; stroke-opacity:0.5; fill:none\" points=\"704.028,936.563 968.247,936.563 968.247,766.846 704.028,766.846 704.028,936.563 \"/>\n",
       "<path clip-path=\"url(#clip102)\" d=\"M704.028 597.129 L968.247 597.129 L968.247 427.411 L704.028 427.411 L704.028 597.129  Z\" fill=\"#008000\" fill-rule=\"evenodd\" fill-opacity=\"0.5\"/>\n",
       "<polyline clip-path=\"url(#clip102)\" style=\"stroke:#000000; stroke-linecap:round; stroke-linejoin:round; stroke-width:4; stroke-opacity:0.5; fill:none\" points=\"704.028,597.129 968.247,597.129 968.247,427.411 704.028,427.411 704.028,597.129 \"/>\n",
       "<path clip-path=\"url(#clip102)\" d=\"M968.247 1106.28 L1232.47 1106.28 L1232.47 936.563 L968.247 936.563 L968.247 1106.28  Z\" fill=\"#008000\" fill-rule=\"evenodd\" fill-opacity=\"0.5\"/>\n",
       "<polyline clip-path=\"url(#clip102)\" style=\"stroke:#000000; stroke-linecap:round; stroke-linejoin:round; stroke-width:4; stroke-opacity:0.5; fill:none\" points=\"968.247,1106.28 1232.47,1106.28 1232.47,936.563 968.247,936.563 968.247,1106.28 \"/>\n",
       "<path clip-path=\"url(#clip102)\" d=\"M968.247 766.846 L1232.47 766.846 L1232.47 597.129 L968.247 597.129 L968.247 766.846  Z\" fill=\"#008000\" fill-rule=\"evenodd\" fill-opacity=\"0.5\"/>\n",
       "<polyline clip-path=\"url(#clip102)\" style=\"stroke:#000000; stroke-linecap:round; stroke-linejoin:round; stroke-width:4; stroke-opacity:0.5; fill:none\" points=\"968.247,766.846 1232.47,766.846 1232.47,597.129 968.247,597.129 968.247,766.846 \"/>\n",
       "<path clip-path=\"url(#clip102)\" d=\"M968.247 427.411 L1232.47 427.411 L1232.47 257.694 L968.247 257.694 L968.247 427.411  Z\" fill=\"#008000\" fill-rule=\"evenodd\" fill-opacity=\"0.5\"/>\n",
       "<polyline clip-path=\"url(#clip102)\" style=\"stroke:#000000; stroke-linecap:round; stroke-linejoin:round; stroke-width:4; stroke-opacity:0.5; fill:none\" points=\"968.247,427.411 1232.47,427.411 1232.47,257.694 968.247,257.694 968.247,427.411 \"/>\n",
       "<path clip-path=\"url(#clip102)\" d=\"M1232.47 1276 L1496.69 1276 L1496.69 1106.28 L1232.47 1106.28 L1232.47 1276  Z\" fill=\"#008000\" fill-rule=\"evenodd\" fill-opacity=\"0.5\"/>\n",
       "<polyline clip-path=\"url(#clip102)\" style=\"stroke:#000000; stroke-linecap:round; stroke-linejoin:round; stroke-width:4; stroke-opacity:0.5; fill:none\" points=\"1232.47,1276 1496.69,1276 1496.69,1106.28 1232.47,1106.28 1232.47,1276 \"/>\n",
       "<path clip-path=\"url(#clip102)\" d=\"M1232.47 936.563 L1496.69 936.563 L1496.69 766.846 L1232.47 766.846 L1232.47 936.563  Z\" fill=\"#008000\" fill-rule=\"evenodd\" fill-opacity=\"0.5\"/>\n",
       "<polyline clip-path=\"url(#clip102)\" style=\"stroke:#000000; stroke-linecap:round; stroke-linejoin:round; stroke-width:4; stroke-opacity:0.5; fill:none\" points=\"1232.47,936.563 1496.69,936.563 1496.69,766.846 1232.47,766.846 1232.47,936.563 \"/>\n",
       "<path clip-path=\"url(#clip102)\" d=\"M1232.47 597.129 L1496.69 597.129 L1496.69 427.411 L1232.47 427.411 L1232.47 597.129  Z\" fill=\"#008000\" fill-rule=\"evenodd\" fill-opacity=\"0.5\"/>\n",
       "<polyline clip-path=\"url(#clip102)\" style=\"stroke:#000000; stroke-linecap:round; stroke-linejoin:round; stroke-width:4; stroke-opacity:0.5; fill:none\" points=\"1232.47,597.129 1496.69,597.129 1496.69,427.411 1232.47,427.411 1232.47,597.129 \"/>\n",
       "<path clip-path=\"url(#clip102)\" d=\"M1496.69 1106.28 L1760.9 1106.28 L1760.9 936.563 L1496.69 936.563 L1496.69 1106.28  Z\" fill=\"#008000\" fill-rule=\"evenodd\" fill-opacity=\"0.5\"/>\n",
       "<polyline clip-path=\"url(#clip102)\" style=\"stroke:#000000; stroke-linecap:round; stroke-linejoin:round; stroke-width:4; stroke-opacity:0.5; fill:none\" points=\"1496.69,1106.28 1760.9,1106.28 1760.9,936.563 1496.69,936.563 1496.69,1106.28 \"/>\n",
       "<path clip-path=\"url(#clip102)\" d=\"M1496.69 766.846 L1760.9 766.846 L1760.9 597.129 L1496.69 597.129 L1496.69 766.846  Z\" fill=\"#008000\" fill-rule=\"evenodd\" fill-opacity=\"0.5\"/>\n",
       "<polyline clip-path=\"url(#clip102)\" style=\"stroke:#000000; stroke-linecap:round; stroke-linejoin:round; stroke-width:4; stroke-opacity:0.5; fill:none\" points=\"1496.69,766.846 1760.9,766.846 1760.9,597.129 1496.69,597.129 1496.69,766.846 \"/>\n",
       "<path clip-path=\"url(#clip102)\" d=\"M1496.69 427.411 L1760.9 427.411 L1760.9 257.694 L1496.69 257.694 L1496.69 427.411  Z\" fill=\"#008000\" fill-rule=\"evenodd\" fill-opacity=\"0.5\"/>\n",
       "<polyline clip-path=\"url(#clip102)\" style=\"stroke:#000000; stroke-linecap:round; stroke-linejoin:round; stroke-width:4; stroke-opacity:0.5; fill:none\" points=\"1496.69,427.411 1760.9,427.411 1760.9,257.694 1496.69,257.694 1496.69,427.411 \"/>\n",
       "<path clip-path=\"url(#clip102)\" d=\"M1760.9 1276 L2025.12 1276 L2025.12 1106.28 L1760.9 1106.28 L1760.9 1276  Z\" fill=\"#008000\" fill-rule=\"evenodd\" fill-opacity=\"0.5\"/>\n",
       "<polyline clip-path=\"url(#clip102)\" style=\"stroke:#000000; stroke-linecap:round; stroke-linejoin:round; stroke-width:4; stroke-opacity:0.5; fill:none\" points=\"1760.9,1276 2025.12,1276 2025.12,1106.28 1760.9,1106.28 1760.9,1276 \"/>\n",
       "<path clip-path=\"url(#clip102)\" d=\"M1760.9 936.563 L2025.12 936.563 L2025.12 766.846 L1760.9 766.846 L1760.9 936.563  Z\" fill=\"#008000\" fill-rule=\"evenodd\" fill-opacity=\"0.5\"/>\n",
       "<polyline clip-path=\"url(#clip102)\" style=\"stroke:#000000; stroke-linecap:round; stroke-linejoin:round; stroke-width:4; stroke-opacity:0.5; fill:none\" points=\"1760.9,936.563 2025.12,936.563 2025.12,766.846 1760.9,766.846 1760.9,936.563 \"/>\n",
       "<path clip-path=\"url(#clip102)\" d=\"M1760.9 597.129 L2025.12 597.129 L2025.12 427.411 L1760.9 427.411 L1760.9 597.129  Z\" fill=\"#008000\" fill-rule=\"evenodd\" fill-opacity=\"0.5\"/>\n",
       "<polyline clip-path=\"url(#clip102)\" style=\"stroke:#000000; stroke-linecap:round; stroke-linejoin:round; stroke-width:4; stroke-opacity:0.5; fill:none\" points=\"1760.9,597.129 2025.12,597.129 2025.12,427.411 1760.9,427.411 1760.9,597.129 \"/>\n",
       "<path clip-path=\"url(#clip102)\" d=\"M2025.12 1106.28 L2289.34 1106.28 L2289.34 936.563 L2025.12 936.563 L2025.12 1106.28  Z\" fill=\"#008000\" fill-rule=\"evenodd\" fill-opacity=\"0.5\"/>\n",
       "<polyline clip-path=\"url(#clip102)\" style=\"stroke:#000000; stroke-linecap:round; stroke-linejoin:round; stroke-width:4; stroke-opacity:0.5; fill:none\" points=\"2025.12,1106.28 2289.34,1106.28 2289.34,936.563 2025.12,936.563 2025.12,1106.28 \"/>\n",
       "<path clip-path=\"url(#clip102)\" d=\"M2025.12 766.846 L2289.34 766.846 L2289.34 597.129 L2025.12 597.129 L2025.12 766.846  Z\" fill=\"#008000\" fill-rule=\"evenodd\" fill-opacity=\"0.5\"/>\n",
       "<polyline clip-path=\"url(#clip102)\" style=\"stroke:#000000; stroke-linecap:round; stroke-linejoin:round; stroke-width:4; stroke-opacity:0.5; fill:none\" points=\"2025.12,766.846 2289.34,766.846 2289.34,597.129 2025.12,597.129 2025.12,766.846 \"/>\n",
       "<path clip-path=\"url(#clip102)\" d=\"M2025.12 427.411 L2289.34 427.411 L2289.34 257.694 L2025.12 257.694 L2025.12 427.411  Z\" fill=\"#008000\" fill-rule=\"evenodd\" fill-opacity=\"0.5\"/>\n",
       "<polyline clip-path=\"url(#clip102)\" style=\"stroke:#000000; stroke-linecap:round; stroke-linejoin:round; stroke-width:4; stroke-opacity:0.5; fill:none\" points=\"2025.12,427.411 2289.34,427.411 2289.34,257.694 2025.12,257.694 2025.12,427.411 \"/>\n",
       "</svg>\n"
      ],
      "text/html": [
       "<?xml version=\"1.0\" encoding=\"utf-8\"?>\n",
       "<svg xmlns=\"http://www.w3.org/2000/svg\" xmlns:xlink=\"http://www.w3.org/1999/xlink\" width=\"600\" height=\"400\" viewBox=\"0 0 2400 1600\">\n",
       "<defs>\n",
       "  <clipPath id=\"clip150\">\n",
       "    <rect x=\"0\" y=\"0\" width=\"2400\" height=\"1600\"/>\n",
       "  </clipPath>\n",
       "</defs>\n",
       "<path clip-path=\"url(#clip150)\" d=\"M0 1600 L2400 1600 L2400 0 L0 0  Z\" fill=\"#ffffff\" fill-rule=\"evenodd\" fill-opacity=\"1\"/>\n",
       "<defs>\n",
       "  <clipPath id=\"clip151\">\n",
       "    <rect x=\"480\" y=\"0\" width=\"1681\" height=\"1600\"/>\n",
       "  </clipPath>\n",
       "</defs>\n",
       "<path clip-path=\"url(#clip150)\" d=\"M112.177 1486.45 L2352.76 1486.45 L2352.76 47.2441 L112.177 47.2441  Z\" fill=\"#ffffff\" fill-rule=\"evenodd\" fill-opacity=\"1\"/>\n",
       "<defs>\n",
       "  <clipPath id=\"clip152\">\n",
       "    <rect x=\"112\" y=\"47\" width=\"2242\" height=\"1440\"/>\n",
       "  </clipPath>\n",
       "</defs>\n",
       "<polyline clip-path=\"url(#clip152)\" style=\"stroke:#000000; stroke-linecap:round; stroke-linejoin:round; stroke-width:2; stroke-opacity:0.1; fill:none\" points=\"175.59,1486.45 175.59,47.2441 \"/>\n",
       "<polyline clip-path=\"url(#clip152)\" style=\"stroke:#000000; stroke-linecap:round; stroke-linejoin:round; stroke-width:2; stroke-opacity:0.1; fill:none\" points=\"704.028,1486.45 704.028,47.2441 \"/>\n",
       "<polyline clip-path=\"url(#clip152)\" style=\"stroke:#000000; stroke-linecap:round; stroke-linejoin:round; stroke-width:2; stroke-opacity:0.1; fill:none\" points=\"1232.47,1486.45 1232.47,47.2441 \"/>\n",
       "<polyline clip-path=\"url(#clip152)\" style=\"stroke:#000000; stroke-linecap:round; stroke-linejoin:round; stroke-width:2; stroke-opacity:0.1; fill:none\" points=\"1760.9,1486.45 1760.9,47.2441 \"/>\n",
       "<polyline clip-path=\"url(#clip152)\" style=\"stroke:#000000; stroke-linecap:round; stroke-linejoin:round; stroke-width:2; stroke-opacity:0.1; fill:none\" points=\"2289.34,1486.45 2289.34,47.2441 \"/>\n",
       "<polyline clip-path=\"url(#clip150)\" style=\"stroke:#000000; stroke-linecap:round; stroke-linejoin:round; stroke-width:4; stroke-opacity:1; fill:none\" points=\"112.177,1486.45 2352.76,1486.45 \"/>\n",
       "<polyline clip-path=\"url(#clip150)\" style=\"stroke:#000000; stroke-linecap:round; stroke-linejoin:round; stroke-width:4; stroke-opacity:1; fill:none\" points=\"175.59,1486.45 175.59,1467.55 \"/>\n",
       "<polyline clip-path=\"url(#clip150)\" style=\"stroke:#000000; stroke-linecap:round; stroke-linejoin:round; stroke-width:4; stroke-opacity:1; fill:none\" points=\"704.028,1486.45 704.028,1467.55 \"/>\n",
       "<polyline clip-path=\"url(#clip150)\" style=\"stroke:#000000; stroke-linecap:round; stroke-linejoin:round; stroke-width:4; stroke-opacity:1; fill:none\" points=\"1232.47,1486.45 1232.47,1467.55 \"/>\n",
       "<polyline clip-path=\"url(#clip150)\" style=\"stroke:#000000; stroke-linecap:round; stroke-linejoin:round; stroke-width:4; stroke-opacity:1; fill:none\" points=\"1760.9,1486.45 1760.9,1467.55 \"/>\n",
       "<polyline clip-path=\"url(#clip150)\" style=\"stroke:#000000; stroke-linecap:round; stroke-linejoin:round; stroke-width:4; stroke-opacity:1; fill:none\" points=\"2289.34,1486.45 2289.34,1467.55 \"/>\n",
       "<path clip-path=\"url(#clip150)\" d=\"M175.59 1517.37 Q171.979 1517.37 170.15 1520.93 Q168.344 1524.47 168.344 1531.6 Q168.344 1538.71 170.15 1542.27 Q171.979 1545.82 175.59 1545.82 Q179.224 1545.82 181.03 1542.27 Q182.858 1538.71 182.858 1531.6 Q182.858 1524.47 181.03 1520.93 Q179.224 1517.37 175.59 1517.37 M175.59 1513.66 Q181.4 1513.66 184.455 1518.27 Q187.534 1522.85 187.534 1531.6 Q187.534 1540.33 184.455 1544.94 Q181.4 1549.52 175.59 1549.52 Q169.78 1549.52 166.701 1544.94 Q163.645 1540.33 163.645 1531.6 Q163.645 1522.85 166.701 1518.27 Q169.78 1513.66 175.59 1513.66 Z\" fill=\"#000000\" fill-rule=\"nonzero\" fill-opacity=\"1\" /><path clip-path=\"url(#clip150)\" d=\"M698.681 1544.91 L715 1544.91 L715 1548.85 L693.056 1548.85 L693.056 1544.91 Q695.718 1542.16 700.301 1537.53 Q704.908 1532.88 706.088 1531.53 Q708.334 1529.01 709.213 1527.27 Q710.116 1525.51 710.116 1523.82 Q710.116 1521.07 708.172 1519.33 Q706.25 1517.6 703.149 1517.6 Q700.949 1517.6 698.496 1518.36 Q696.065 1519.13 693.287 1520.68 L693.287 1515.95 Q696.112 1514.82 698.565 1514.24 Q701.019 1513.66 703.056 1513.66 Q708.426 1513.66 711.621 1516.35 Q714.815 1519.03 714.815 1523.52 Q714.815 1525.65 714.005 1527.57 Q713.218 1529.47 711.111 1532.07 Q710.533 1532.74 707.431 1535.95 Q704.329 1539.15 698.681 1544.91 Z\" fill=\"#000000\" fill-rule=\"nonzero\" fill-opacity=\"1\" /><path clip-path=\"url(#clip150)\" d=\"M1235.48 1518.36 L1223.67 1536.81 L1235.48 1536.81 L1235.48 1518.36 M1234.25 1514.29 L1240.13 1514.29 L1240.13 1536.81 L1245.06 1536.81 L1245.06 1540.7 L1240.13 1540.7 L1240.13 1548.85 L1235.48 1548.85 L1235.48 1540.7 L1219.87 1540.7 L1219.87 1536.19 L1234.25 1514.29 Z\" fill=\"#000000\" fill-rule=\"nonzero\" fill-opacity=\"1\" /><path clip-path=\"url(#clip150)\" d=\"M1761.31 1529.7 Q1758.16 1529.7 1756.31 1531.86 Q1754.48 1534.01 1754.48 1537.76 Q1754.48 1541.49 1756.31 1543.66 Q1758.16 1545.82 1761.31 1545.82 Q1764.46 1545.82 1766.29 1543.66 Q1768.14 1541.49 1768.14 1537.76 Q1768.14 1534.01 1766.29 1531.86 Q1764.46 1529.7 1761.31 1529.7 M1770.59 1515.05 L1770.59 1519.31 Q1768.83 1518.48 1767.03 1518.04 Q1765.25 1517.6 1763.49 1517.6 Q1758.86 1517.6 1756.4 1520.72 Q1753.97 1523.85 1753.62 1530.17 Q1754.99 1528.15 1757.05 1527.09 Q1759.11 1526 1761.59 1526 Q1766.8 1526 1769.81 1529.17 Q1772.84 1532.32 1772.84 1537.76 Q1772.84 1543.08 1769.69 1546.3 Q1766.54 1549.52 1761.31 1549.52 Q1755.31 1549.52 1752.14 1544.94 Q1748.97 1540.33 1748.97 1531.6 Q1748.97 1523.41 1752.86 1518.55 Q1756.75 1513.66 1763.3 1513.66 Q1765.06 1513.66 1766.84 1514.01 Q1768.65 1514.36 1770.59 1515.05 Z\" fill=\"#000000\" fill-rule=\"nonzero\" fill-opacity=\"1\" /><path clip-path=\"url(#clip150)\" d=\"M2289.34 1532.44 Q2286.01 1532.44 2284.09 1534.22 Q2282.19 1536 2282.19 1539.13 Q2282.19 1542.25 2284.09 1544.03 Q2286.01 1545.82 2289.34 1545.82 Q2292.68 1545.82 2294.6 1544.03 Q2296.52 1542.23 2296.52 1539.13 Q2296.52 1536 2294.6 1534.22 Q2292.7 1532.44 2289.34 1532.44 M2284.67 1530.45 Q2281.66 1529.7 2279.97 1527.64 Q2278.3 1525.58 2278.3 1522.62 Q2278.3 1518.48 2281.24 1516.07 Q2284.2 1513.66 2289.34 1513.66 Q2294.51 1513.66 2297.45 1516.07 Q2300.38 1518.48 2300.38 1522.62 Q2300.38 1525.58 2298.7 1527.64 Q2297.03 1529.7 2294.04 1530.45 Q2297.42 1531.23 2299.3 1533.52 Q2301.2 1535.82 2301.2 1539.13 Q2301.2 1544.15 2298.12 1546.83 Q2295.06 1549.52 2289.34 1549.52 Q2283.63 1549.52 2280.55 1546.83 Q2277.49 1544.15 2277.49 1539.13 Q2277.49 1535.82 2279.39 1533.52 Q2281.29 1531.23 2284.67 1530.45 M2282.95 1523.06 Q2282.95 1525.75 2284.62 1527.25 Q2286.31 1528.76 2289.34 1528.76 Q2292.35 1528.76 2294.04 1527.25 Q2295.76 1525.75 2295.76 1523.06 Q2295.76 1520.38 2294.04 1518.87 Q2292.35 1517.37 2289.34 1517.37 Q2286.31 1517.37 2284.62 1518.87 Q2282.95 1520.38 2282.95 1523.06 Z\" fill=\"#000000\" fill-rule=\"nonzero\" fill-opacity=\"1\" /><polyline clip-path=\"url(#clip152)\" style=\"stroke:#000000; stroke-linecap:round; stroke-linejoin:round; stroke-width:2; stroke-opacity:0.1; fill:none\" points=\"112.177,1445.72 2352.76,1445.72 \"/>\n",
       "<polyline clip-path=\"url(#clip152)\" style=\"stroke:#000000; stroke-linecap:round; stroke-linejoin:round; stroke-width:2; stroke-opacity:0.1; fill:none\" points=\"112.177,1106.28 2352.76,1106.28 \"/>\n",
       "<polyline clip-path=\"url(#clip152)\" style=\"stroke:#000000; stroke-linecap:round; stroke-linejoin:round; stroke-width:2; stroke-opacity:0.1; fill:none\" points=\"112.177,766.846 2352.76,766.846 \"/>\n",
       "<polyline clip-path=\"url(#clip152)\" style=\"stroke:#000000; stroke-linecap:round; stroke-linejoin:round; stroke-width:2; stroke-opacity:0.1; fill:none\" points=\"112.177,427.411 2352.76,427.411 \"/>\n",
       "<polyline clip-path=\"url(#clip152)\" style=\"stroke:#000000; stroke-linecap:round; stroke-linejoin:round; stroke-width:2; stroke-opacity:0.1; fill:none\" points=\"112.177,87.9763 2352.76,87.9763 \"/>\n",
       "<polyline clip-path=\"url(#clip150)\" style=\"stroke:#000000; stroke-linecap:round; stroke-linejoin:round; stroke-width:4; stroke-opacity:1; fill:none\" points=\"112.177,1486.45 112.177,47.2441 \"/>\n",
       "<polyline clip-path=\"url(#clip150)\" style=\"stroke:#000000; stroke-linecap:round; stroke-linejoin:round; stroke-width:4; stroke-opacity:1; fill:none\" points=\"112.177,1445.72 131.075,1445.72 \"/>\n",
       "<polyline clip-path=\"url(#clip150)\" style=\"stroke:#000000; stroke-linecap:round; stroke-linejoin:round; stroke-width:4; stroke-opacity:1; fill:none\" points=\"112.177,1106.28 131.075,1106.28 \"/>\n",
       "<polyline clip-path=\"url(#clip150)\" style=\"stroke:#000000; stroke-linecap:round; stroke-linejoin:round; stroke-width:4; stroke-opacity:1; fill:none\" points=\"112.177,766.846 131.075,766.846 \"/>\n",
       "<polyline clip-path=\"url(#clip150)\" style=\"stroke:#000000; stroke-linecap:round; stroke-linejoin:round; stroke-width:4; stroke-opacity:1; fill:none\" points=\"112.177,427.411 131.075,427.411 \"/>\n",
       "<polyline clip-path=\"url(#clip150)\" style=\"stroke:#000000; stroke-linecap:round; stroke-linejoin:round; stroke-width:4; stroke-opacity:1; fill:none\" points=\"112.177,87.9763 131.075,87.9763 \"/>\n",
       "<path clip-path=\"url(#clip150)\" d=\"M64.2328 1431.51 Q60.6217 1431.51 58.793 1435.08 Q56.9875 1438.62 56.9875 1445.75 Q56.9875 1452.86 58.793 1456.42 Q60.6217 1459.96 64.2328 1459.96 Q67.867 1459.96 69.6726 1456.42 Q71.5013 1452.86 71.5013 1445.75 Q71.5013 1438.62 69.6726 1435.08 Q67.867 1431.51 64.2328 1431.51 M64.2328 1427.81 Q70.0429 1427.81 73.0985 1432.42 Q76.1772 1437 76.1772 1445.75 Q76.1772 1454.48 73.0985 1459.08 Q70.0429 1463.67 64.2328 1463.67 Q58.4226 1463.67 55.344 1459.08 Q52.2884 1454.48 52.2884 1445.75 Q52.2884 1437 55.344 1432.42 Q58.4226 1427.81 64.2328 1427.81 Z\" fill=\"#000000\" fill-rule=\"nonzero\" fill-opacity=\"1\" /><path clip-path=\"url(#clip150)\" d=\"M59.8578 1119.63 L76.1772 1119.63 L76.1772 1123.56 L54.2328 1123.56 L54.2328 1119.63 Q56.8949 1116.87 61.4782 1112.24 Q66.0846 1107.59 67.2652 1106.25 Q69.5105 1103.72 70.3902 1101.99 Q71.2929 1100.23 71.2929 1098.54 Q71.2929 1095.78 69.3485 1094.05 Q67.4272 1092.31 64.3254 1092.31 Q62.1263 1092.31 59.6726 1093.07 Q57.2421 1093.84 54.4643 1095.39 L54.4643 1090.67 Q57.2884 1089.53 59.7421 1088.95 Q62.1958 1088.38 64.2328 1088.38 Q69.6031 1088.38 72.7976 1091.06 Q75.992 1093.75 75.992 1098.24 Q75.992 1100.37 75.1818 1102.29 Q74.3948 1104.19 72.2883 1106.78 Q71.7096 1107.45 68.6078 1110.67 Q65.5059 1113.86 59.8578 1119.63 Z\" fill=\"#000000\" fill-rule=\"nonzero\" fill-opacity=\"1\" /><path clip-path=\"url(#clip150)\" d=\"M66.5939 753.64 L54.7884 772.089 L66.5939 772.089 L66.5939 753.64 M65.367 749.566 L71.2466 749.566 L71.2466 772.089 L76.1772 772.089 L76.1772 775.978 L71.2466 775.978 L71.2466 784.126 L66.5939 784.126 L66.5939 775.978 L50.9921 775.978 L50.9921 771.464 L65.367 749.566 Z\" fill=\"#000000\" fill-rule=\"nonzero\" fill-opacity=\"1\" /><path clip-path=\"url(#clip150)\" d=\"M64.6495 425.548 Q61.5013 425.548 59.6495 427.7 Q57.8208 429.853 57.8208 433.603 Q57.8208 437.33 59.6495 439.506 Q61.5013 441.659 64.6495 441.659 Q67.7976 441.659 69.6263 439.506 Q71.4781 437.33 71.4781 433.603 Q71.4781 429.853 69.6263 427.7 Q67.7976 425.548 64.6495 425.548 M73.9318 410.895 L73.9318 415.154 Q72.1726 414.321 70.367 413.881 Q68.5846 413.441 66.8254 413.441 Q62.1958 413.441 59.7421 416.566 Q57.3115 419.691 56.9643 426.011 Q58.33 423.997 60.3902 422.932 Q62.4504 421.844 64.9272 421.844 Q70.1355 421.844 73.1448 425.015 Q76.1772 428.163 76.1772 433.603 Q76.1772 438.927 73.029 442.145 Q69.8809 445.362 64.6495 445.362 Q58.6541 445.362 55.4828 440.779 Q52.3116 436.173 52.3116 427.446 Q52.3116 419.251 56.2004 414.39 Q60.0893 409.506 66.6402 409.506 Q68.3994 409.506 70.1818 409.853 Q71.9874 410.201 73.9318 410.895 Z\" fill=\"#000000\" fill-rule=\"nonzero\" fill-opacity=\"1\" /><path clip-path=\"url(#clip150)\" d=\"M64.3254 88.8443 Q60.9921 88.8443 59.0708 90.6267 Q57.1726 92.4091 57.1726 95.5341 Q57.1726 98.6591 59.0708 100.441 Q60.9921 102.224 64.3254 102.224 Q67.6587 102.224 69.58 100.441 Q71.5013 98.6359 71.5013 95.5341 Q71.5013 92.4091 69.58 90.6267 Q67.6819 88.8443 64.3254 88.8443 M59.6495 86.8536 Q56.6402 86.1129 54.9504 84.0527 Q53.2838 81.9925 53.2838 79.0296 Q53.2838 74.8861 56.2236 72.4787 Q59.1865 70.0713 64.3254 70.0713 Q69.4874 70.0713 72.4272 72.4787 Q75.367 74.8861 75.367 79.0296 Q75.367 81.9925 73.6772 84.0527 Q72.0105 86.1129 69.0244 86.8536 Q72.404 87.6406 74.279 89.9323 Q76.1772 92.2239 76.1772 95.5341 Q76.1772 100.557 73.0985 103.242 Q70.0429 105.928 64.3254 105.928 Q58.6078 105.928 55.5291 103.242 Q52.4736 100.557 52.4736 95.5341 Q52.4736 92.2239 54.3717 89.9323 Q56.2699 87.6406 59.6495 86.8536 M57.9365 79.4694 Q57.9365 82.1545 59.6032 83.6592 Q61.293 85.1638 64.3254 85.1638 Q67.3346 85.1638 69.0244 83.6592 Q70.7374 82.1545 70.7374 79.4694 Q70.7374 76.7842 69.0244 75.2796 Q67.3346 73.775 64.3254 73.775 Q61.293 73.775 59.6032 75.2796 Q57.9365 76.7842 57.9365 79.4694 Z\" fill=\"#000000\" fill-rule=\"nonzero\" fill-opacity=\"1\" /><circle clip-path=\"url(#clip152)\" cx=\"439.809\" cy=\"1276\" r=\"14.4\" fill=\"#ff0000\" fill-rule=\"evenodd\" fill-opacity=\"1\" stroke=\"#000000\" stroke-opacity=\"1\" stroke-width=\"3.2\"/>\n",
       "<circle clip-path=\"url(#clip152)\" cx=\"704.028\" cy=\"1276\" r=\"14.4\" fill=\"#ff0000\" fill-rule=\"evenodd\" fill-opacity=\"1\" stroke=\"#000000\" stroke-opacity=\"1\" stroke-width=\"3.2\"/>\n",
       "<circle clip-path=\"url(#clip152)\" cx=\"968.247\" cy=\"1276\" r=\"14.4\" fill=\"#ff0000\" fill-rule=\"evenodd\" fill-opacity=\"1\" stroke=\"#000000\" stroke-opacity=\"1\" stroke-width=\"3.2\"/>\n",
       "<circle clip-path=\"url(#clip152)\" cx=\"1232.47\" cy=\"1276\" r=\"14.4\" fill=\"#ff0000\" fill-rule=\"evenodd\" fill-opacity=\"1\" stroke=\"#000000\" stroke-opacity=\"1\" stroke-width=\"3.2\"/>\n",
       "<circle clip-path=\"url(#clip152)\" cx=\"1496.69\" cy=\"1276\" r=\"14.4\" fill=\"#ff0000\" fill-rule=\"evenodd\" fill-opacity=\"1\" stroke=\"#000000\" stroke-opacity=\"1\" stroke-width=\"3.2\"/>\n",
       "<circle clip-path=\"url(#clip152)\" cx=\"1760.9\" cy=\"1276\" r=\"14.4\" fill=\"#ff0000\" fill-rule=\"evenodd\" fill-opacity=\"1\" stroke=\"#000000\" stroke-opacity=\"1\" stroke-width=\"3.2\"/>\n",
       "<circle clip-path=\"url(#clip152)\" cx=\"2025.12\" cy=\"1276\" r=\"14.4\" fill=\"#ff0000\" fill-rule=\"evenodd\" fill-opacity=\"1\" stroke=\"#000000\" stroke-opacity=\"1\" stroke-width=\"3.2\"/>\n",
       "<circle clip-path=\"url(#clip152)\" cx=\"439.809\" cy=\"1106.28\" r=\"14.4\" fill=\"#ff0000\" fill-rule=\"evenodd\" fill-opacity=\"1\" stroke=\"#000000\" stroke-opacity=\"1\" stroke-width=\"3.2\"/>\n",
       "<circle clip-path=\"url(#clip152)\" cx=\"704.028\" cy=\"1106.28\" r=\"14.4\" fill=\"#ff0000\" fill-rule=\"evenodd\" fill-opacity=\"1\" stroke=\"#000000\" stroke-opacity=\"1\" stroke-width=\"3.2\"/>\n",
       "<circle clip-path=\"url(#clip152)\" cx=\"968.247\" cy=\"1106.28\" r=\"14.4\" fill=\"#ff0000\" fill-rule=\"evenodd\" fill-opacity=\"1\" stroke=\"#000000\" stroke-opacity=\"1\" stroke-width=\"3.2\"/>\n",
       "<circle clip-path=\"url(#clip152)\" cx=\"1232.47\" cy=\"1106.28\" r=\"14.4\" fill=\"#ff0000\" fill-rule=\"evenodd\" fill-opacity=\"1\" stroke=\"#000000\" stroke-opacity=\"1\" stroke-width=\"3.2\"/>\n",
       "<circle clip-path=\"url(#clip152)\" cx=\"1496.69\" cy=\"1106.28\" r=\"14.4\" fill=\"#ff0000\" fill-rule=\"evenodd\" fill-opacity=\"1\" stroke=\"#000000\" stroke-opacity=\"1\" stroke-width=\"3.2\"/>\n",
       "<circle clip-path=\"url(#clip152)\" cx=\"1760.9\" cy=\"1106.28\" r=\"14.4\" fill=\"#ff0000\" fill-rule=\"evenodd\" fill-opacity=\"1\" stroke=\"#000000\" stroke-opacity=\"1\" stroke-width=\"3.2\"/>\n",
       "<circle clip-path=\"url(#clip152)\" cx=\"2025.12\" cy=\"1106.28\" r=\"14.4\" fill=\"#ff0000\" fill-rule=\"evenodd\" fill-opacity=\"1\" stroke=\"#000000\" stroke-opacity=\"1\" stroke-width=\"3.2\"/>\n",
       "<circle clip-path=\"url(#clip152)\" cx=\"439.809\" cy=\"936.563\" r=\"14.4\" fill=\"#ff0000\" fill-rule=\"evenodd\" fill-opacity=\"1\" stroke=\"#000000\" stroke-opacity=\"1\" stroke-width=\"3.2\"/>\n",
       "<circle clip-path=\"url(#clip152)\" cx=\"704.028\" cy=\"936.563\" r=\"14.4\" fill=\"#ff0000\" fill-rule=\"evenodd\" fill-opacity=\"1\" stroke=\"#000000\" stroke-opacity=\"1\" stroke-width=\"3.2\"/>\n",
       "<circle clip-path=\"url(#clip152)\" cx=\"968.247\" cy=\"936.563\" r=\"14.4\" fill=\"#ff0000\" fill-rule=\"evenodd\" fill-opacity=\"1\" stroke=\"#000000\" stroke-opacity=\"1\" stroke-width=\"3.2\"/>\n",
       "<circle clip-path=\"url(#clip152)\" cx=\"1232.47\" cy=\"936.563\" r=\"14.4\" fill=\"#ff0000\" fill-rule=\"evenodd\" fill-opacity=\"1\" stroke=\"#000000\" stroke-opacity=\"1\" stroke-width=\"3.2\"/>\n",
       "<circle clip-path=\"url(#clip152)\" cx=\"1496.69\" cy=\"936.563\" r=\"14.4\" fill=\"#ff0000\" fill-rule=\"evenodd\" fill-opacity=\"1\" stroke=\"#000000\" stroke-opacity=\"1\" stroke-width=\"3.2\"/>\n",
       "<circle clip-path=\"url(#clip152)\" cx=\"1760.9\" cy=\"936.563\" r=\"14.4\" fill=\"#ff0000\" fill-rule=\"evenodd\" fill-opacity=\"1\" stroke=\"#000000\" stroke-opacity=\"1\" stroke-width=\"3.2\"/>\n",
       "<circle clip-path=\"url(#clip152)\" cx=\"2025.12\" cy=\"936.563\" r=\"14.4\" fill=\"#ff0000\" fill-rule=\"evenodd\" fill-opacity=\"1\" stroke=\"#000000\" stroke-opacity=\"1\" stroke-width=\"3.2\"/>\n",
       "<circle clip-path=\"url(#clip152)\" cx=\"439.809\" cy=\"766.846\" r=\"14.4\" fill=\"#ff0000\" fill-rule=\"evenodd\" fill-opacity=\"1\" stroke=\"#000000\" stroke-opacity=\"1\" stroke-width=\"3.2\"/>\n",
       "<circle clip-path=\"url(#clip152)\" cx=\"704.028\" cy=\"766.846\" r=\"14.4\" fill=\"#ff0000\" fill-rule=\"evenodd\" fill-opacity=\"1\" stroke=\"#000000\" stroke-opacity=\"1\" stroke-width=\"3.2\"/>\n",
       "<circle clip-path=\"url(#clip152)\" cx=\"968.247\" cy=\"766.846\" r=\"14.4\" fill=\"#ff0000\" fill-rule=\"evenodd\" fill-opacity=\"1\" stroke=\"#000000\" stroke-opacity=\"1\" stroke-width=\"3.2\"/>\n",
       "<circle clip-path=\"url(#clip152)\" cx=\"1232.47\" cy=\"766.846\" r=\"14.4\" fill=\"#ff0000\" fill-rule=\"evenodd\" fill-opacity=\"1\" stroke=\"#000000\" stroke-opacity=\"1\" stroke-width=\"3.2\"/>\n",
       "<circle clip-path=\"url(#clip152)\" cx=\"1496.69\" cy=\"766.846\" r=\"14.4\" fill=\"#ff0000\" fill-rule=\"evenodd\" fill-opacity=\"1\" stroke=\"#000000\" stroke-opacity=\"1\" stroke-width=\"3.2\"/>\n",
       "<circle clip-path=\"url(#clip152)\" cx=\"1760.9\" cy=\"766.846\" r=\"14.4\" fill=\"#ff0000\" fill-rule=\"evenodd\" fill-opacity=\"1\" stroke=\"#000000\" stroke-opacity=\"1\" stroke-width=\"3.2\"/>\n",
       "<circle clip-path=\"url(#clip152)\" cx=\"2025.12\" cy=\"766.846\" r=\"14.4\" fill=\"#ff0000\" fill-rule=\"evenodd\" fill-opacity=\"1\" stroke=\"#000000\" stroke-opacity=\"1\" stroke-width=\"3.2\"/>\n",
       "<circle clip-path=\"url(#clip152)\" cx=\"439.809\" cy=\"597.129\" r=\"14.4\" fill=\"#ff0000\" fill-rule=\"evenodd\" fill-opacity=\"1\" stroke=\"#000000\" stroke-opacity=\"1\" stroke-width=\"3.2\"/>\n",
       "<circle clip-path=\"url(#clip152)\" cx=\"704.028\" cy=\"597.129\" r=\"14.4\" fill=\"#ff0000\" fill-rule=\"evenodd\" fill-opacity=\"1\" stroke=\"#000000\" stroke-opacity=\"1\" stroke-width=\"3.2\"/>\n",
       "<circle clip-path=\"url(#clip152)\" cx=\"968.247\" cy=\"597.129\" r=\"14.4\" fill=\"#ff0000\" fill-rule=\"evenodd\" fill-opacity=\"1\" stroke=\"#000000\" stroke-opacity=\"1\" stroke-width=\"3.2\"/>\n",
       "<circle clip-path=\"url(#clip152)\" cx=\"1232.47\" cy=\"597.129\" r=\"14.4\" fill=\"#ff0000\" fill-rule=\"evenodd\" fill-opacity=\"1\" stroke=\"#000000\" stroke-opacity=\"1\" stroke-width=\"3.2\"/>\n",
       "<circle clip-path=\"url(#clip152)\" cx=\"1496.69\" cy=\"597.129\" r=\"14.4\" fill=\"#ff0000\" fill-rule=\"evenodd\" fill-opacity=\"1\" stroke=\"#000000\" stroke-opacity=\"1\" stroke-width=\"3.2\"/>\n",
       "<circle clip-path=\"url(#clip152)\" cx=\"1760.9\" cy=\"597.129\" r=\"14.4\" fill=\"#ff0000\" fill-rule=\"evenodd\" fill-opacity=\"1\" stroke=\"#000000\" stroke-opacity=\"1\" stroke-width=\"3.2\"/>\n",
       "<circle clip-path=\"url(#clip152)\" cx=\"2025.12\" cy=\"597.129\" r=\"14.4\" fill=\"#ff0000\" fill-rule=\"evenodd\" fill-opacity=\"1\" stroke=\"#000000\" stroke-opacity=\"1\" stroke-width=\"3.2\"/>\n",
       "<circle clip-path=\"url(#clip152)\" cx=\"439.809\" cy=\"427.411\" r=\"14.4\" fill=\"#ff0000\" fill-rule=\"evenodd\" fill-opacity=\"1\" stroke=\"#000000\" stroke-opacity=\"1\" stroke-width=\"3.2\"/>\n",
       "<circle clip-path=\"url(#clip152)\" cx=\"704.028\" cy=\"427.411\" r=\"14.4\" fill=\"#ff0000\" fill-rule=\"evenodd\" fill-opacity=\"1\" stroke=\"#000000\" stroke-opacity=\"1\" stroke-width=\"3.2\"/>\n",
       "<circle clip-path=\"url(#clip152)\" cx=\"968.247\" cy=\"427.411\" r=\"14.4\" fill=\"#ff0000\" fill-rule=\"evenodd\" fill-opacity=\"1\" stroke=\"#000000\" stroke-opacity=\"1\" stroke-width=\"3.2\"/>\n",
       "<circle clip-path=\"url(#clip152)\" cx=\"1232.47\" cy=\"427.411\" r=\"14.4\" fill=\"#ff0000\" fill-rule=\"evenodd\" fill-opacity=\"1\" stroke=\"#000000\" stroke-opacity=\"1\" stroke-width=\"3.2\"/>\n",
       "<circle clip-path=\"url(#clip152)\" cx=\"1496.69\" cy=\"427.411\" r=\"14.4\" fill=\"#ff0000\" fill-rule=\"evenodd\" fill-opacity=\"1\" stroke=\"#000000\" stroke-opacity=\"1\" stroke-width=\"3.2\"/>\n",
       "<circle clip-path=\"url(#clip152)\" cx=\"1760.9\" cy=\"427.411\" r=\"14.4\" fill=\"#ff0000\" fill-rule=\"evenodd\" fill-opacity=\"1\" stroke=\"#000000\" stroke-opacity=\"1\" stroke-width=\"3.2\"/>\n",
       "<circle clip-path=\"url(#clip152)\" cx=\"2025.12\" cy=\"427.411\" r=\"14.4\" fill=\"#ff0000\" fill-rule=\"evenodd\" fill-opacity=\"1\" stroke=\"#000000\" stroke-opacity=\"1\" stroke-width=\"3.2\"/>\n",
       "<circle clip-path=\"url(#clip152)\" cx=\"439.809\" cy=\"257.694\" r=\"14.4\" fill=\"#ff0000\" fill-rule=\"evenodd\" fill-opacity=\"1\" stroke=\"#000000\" stroke-opacity=\"1\" stroke-width=\"3.2\"/>\n",
       "<circle clip-path=\"url(#clip152)\" cx=\"704.028\" cy=\"257.694\" r=\"14.4\" fill=\"#ff0000\" fill-rule=\"evenodd\" fill-opacity=\"1\" stroke=\"#000000\" stroke-opacity=\"1\" stroke-width=\"3.2\"/>\n",
       "<circle clip-path=\"url(#clip152)\" cx=\"968.247\" cy=\"257.694\" r=\"14.4\" fill=\"#ff0000\" fill-rule=\"evenodd\" fill-opacity=\"1\" stroke=\"#000000\" stroke-opacity=\"1\" stroke-width=\"3.2\"/>\n",
       "<circle clip-path=\"url(#clip152)\" cx=\"1232.47\" cy=\"257.694\" r=\"14.4\" fill=\"#ff0000\" fill-rule=\"evenodd\" fill-opacity=\"1\" stroke=\"#000000\" stroke-opacity=\"1\" stroke-width=\"3.2\"/>\n",
       "<circle clip-path=\"url(#clip152)\" cx=\"1496.69\" cy=\"257.694\" r=\"14.4\" fill=\"#ff0000\" fill-rule=\"evenodd\" fill-opacity=\"1\" stroke=\"#000000\" stroke-opacity=\"1\" stroke-width=\"3.2\"/>\n",
       "<circle clip-path=\"url(#clip152)\" cx=\"1760.9\" cy=\"257.694\" r=\"14.4\" fill=\"#ff0000\" fill-rule=\"evenodd\" fill-opacity=\"1\" stroke=\"#000000\" stroke-opacity=\"1\" stroke-width=\"3.2\"/>\n",
       "<circle clip-path=\"url(#clip152)\" cx=\"2025.12\" cy=\"257.694\" r=\"14.4\" fill=\"#ff0000\" fill-rule=\"evenodd\" fill-opacity=\"1\" stroke=\"#000000\" stroke-opacity=\"1\" stroke-width=\"3.2\"/>\n",
       "<path clip-path=\"url(#clip152)\" d=\"M704.028 1445.72 L968.247 1445.72 L968.247 1276 L704.028 1276 L704.028 1445.72  Z\" fill=\"#0000ff\" fill-rule=\"evenodd\" fill-opacity=\"0.5\"/>\n",
       "<polyline clip-path=\"url(#clip152)\" style=\"stroke:#000000; stroke-linecap:round; stroke-linejoin:round; stroke-width:4; stroke-opacity:0.5; fill:none\" points=\"704.028,1445.72 968.247,1445.72 968.247,1276 704.028,1276 704.028,1445.72 \"/>\n",
       "<path clip-path=\"url(#clip152)\" d=\"M1232.47 1445.72 L1496.69 1445.72 L1496.69 1276 L1232.47 1276 L1232.47 1445.72  Z\" fill=\"#0000ff\" fill-rule=\"evenodd\" fill-opacity=\"0.5\"/>\n",
       "<polyline clip-path=\"url(#clip152)\" style=\"stroke:#000000; stroke-linecap:round; stroke-linejoin:round; stroke-width:4; stroke-opacity:0.5; fill:none\" points=\"1232.47,1445.72 1496.69,1445.72 1496.69,1276 1232.47,1276 1232.47,1445.72 \"/>\n",
       "<path clip-path=\"url(#clip152)\" d=\"M1760.9 1445.72 L2025.12 1445.72 L2025.12 1276 L1760.9 1276 L1760.9 1445.72  Z\" fill=\"#0000ff\" fill-rule=\"evenodd\" fill-opacity=\"0.5\"/>\n",
       "<polyline clip-path=\"url(#clip152)\" style=\"stroke:#000000; stroke-linecap:round; stroke-linejoin:round; stroke-width:4; stroke-opacity:0.5; fill:none\" points=\"1760.9,1445.72 2025.12,1445.72 2025.12,1276 1760.9,1276 1760.9,1445.72 \"/>\n",
       "<path clip-path=\"url(#clip152)\" d=\"M439.809 1276 L704.028 1276 L704.028 1106.28 L439.809 1106.28 L439.809 1276  Z\" fill=\"#0000ff\" fill-rule=\"evenodd\" fill-opacity=\"0.5\"/>\n",
       "<polyline clip-path=\"url(#clip152)\" style=\"stroke:#000000; stroke-linecap:round; stroke-linejoin:round; stroke-width:4; stroke-opacity:0.5; fill:none\" points=\"439.809,1276 704.028,1276 704.028,1106.28 439.809,1106.28 439.809,1276 \"/>\n",
       "<path clip-path=\"url(#clip152)\" d=\"M968.247 1276 L1232.47 1276 L1232.47 1106.28 L968.247 1106.28 L968.247 1276  Z\" fill=\"#0000ff\" fill-rule=\"evenodd\" fill-opacity=\"0.5\"/>\n",
       "<polyline clip-path=\"url(#clip152)\" style=\"stroke:#000000; stroke-linecap:round; stroke-linejoin:round; stroke-width:4; stroke-opacity:0.5; fill:none\" points=\"968.247,1276 1232.47,1276 1232.47,1106.28 968.247,1106.28 968.247,1276 \"/>\n",
       "<path clip-path=\"url(#clip152)\" d=\"M1496.69 1276 L1760.9 1276 L1760.9 1106.28 L1496.69 1106.28 L1496.69 1276  Z\" fill=\"#0000ff\" fill-rule=\"evenodd\" fill-opacity=\"0.5\"/>\n",
       "<polyline clip-path=\"url(#clip152)\" style=\"stroke:#000000; stroke-linecap:round; stroke-linejoin:round; stroke-width:4; stroke-opacity:0.5; fill:none\" points=\"1496.69,1276 1760.9,1276 1760.9,1106.28 1496.69,1106.28 1496.69,1276 \"/>\n",
       "<path clip-path=\"url(#clip152)\" d=\"M704.028 1106.28 L968.247 1106.28 L968.247 936.563 L704.028 936.563 L704.028 1106.28  Z\" fill=\"#0000ff\" fill-rule=\"evenodd\" fill-opacity=\"0.5\"/>\n",
       "<polyline clip-path=\"url(#clip152)\" style=\"stroke:#000000; stroke-linecap:round; stroke-linejoin:round; stroke-width:4; stroke-opacity:0.5; fill:none\" points=\"704.028,1106.28 968.247,1106.28 968.247,936.563 704.028,936.563 704.028,1106.28 \"/>\n",
       "<path clip-path=\"url(#clip152)\" d=\"M1232.47 1106.28 L1496.69 1106.28 L1496.69 936.563 L1232.47 936.563 L1232.47 1106.28  Z\" fill=\"#0000ff\" fill-rule=\"evenodd\" fill-opacity=\"0.5\"/>\n",
       "<polyline clip-path=\"url(#clip152)\" style=\"stroke:#000000; stroke-linecap:round; stroke-linejoin:round; stroke-width:4; stroke-opacity:0.5; fill:none\" points=\"1232.47,1106.28 1496.69,1106.28 1496.69,936.563 1232.47,936.563 1232.47,1106.28 \"/>\n",
       "<path clip-path=\"url(#clip152)\" d=\"M1760.9 1106.28 L2025.12 1106.28 L2025.12 936.563 L1760.9 936.563 L1760.9 1106.28  Z\" fill=\"#0000ff\" fill-rule=\"evenodd\" fill-opacity=\"0.5\"/>\n",
       "<polyline clip-path=\"url(#clip152)\" style=\"stroke:#000000; stroke-linecap:round; stroke-linejoin:round; stroke-width:4; stroke-opacity:0.5; fill:none\" points=\"1760.9,1106.28 2025.12,1106.28 2025.12,936.563 1760.9,936.563 1760.9,1106.28 \"/>\n",
       "<path clip-path=\"url(#clip152)\" d=\"M439.809 936.563 L704.028 936.563 L704.028 766.846 L439.809 766.846 L439.809 936.563  Z\" fill=\"#0000ff\" fill-rule=\"evenodd\" fill-opacity=\"0.5\"/>\n",
       "<polyline clip-path=\"url(#clip152)\" style=\"stroke:#000000; stroke-linecap:round; stroke-linejoin:round; stroke-width:4; stroke-opacity:0.5; fill:none\" points=\"439.809,936.563 704.028,936.563 704.028,766.846 439.809,766.846 439.809,936.563 \"/>\n",
       "<path clip-path=\"url(#clip152)\" d=\"M968.247 936.563 L1232.47 936.563 L1232.47 766.846 L968.247 766.846 L968.247 936.563  Z\" fill=\"#0000ff\" fill-rule=\"evenodd\" fill-opacity=\"0.5\"/>\n",
       "<polyline clip-path=\"url(#clip152)\" style=\"stroke:#000000; stroke-linecap:round; stroke-linejoin:round; stroke-width:4; stroke-opacity:0.5; fill:none\" points=\"968.247,936.563 1232.47,936.563 1232.47,766.846 968.247,766.846 968.247,936.563 \"/>\n",
       "<path clip-path=\"url(#clip152)\" d=\"M1496.69 936.563 L1760.9 936.563 L1760.9 766.846 L1496.69 766.846 L1496.69 936.563  Z\" fill=\"#0000ff\" fill-rule=\"evenodd\" fill-opacity=\"0.5\"/>\n",
       "<polyline clip-path=\"url(#clip152)\" style=\"stroke:#000000; stroke-linecap:round; stroke-linejoin:round; stroke-width:4; stroke-opacity:0.5; fill:none\" points=\"1496.69,936.563 1760.9,936.563 1760.9,766.846 1496.69,766.846 1496.69,936.563 \"/>\n",
       "<path clip-path=\"url(#clip152)\" d=\"M704.028 766.846 L968.247 766.846 L968.247 597.129 L704.028 597.129 L704.028 766.846  Z\" fill=\"#0000ff\" fill-rule=\"evenodd\" fill-opacity=\"0.5\"/>\n",
       "<polyline clip-path=\"url(#clip152)\" style=\"stroke:#000000; stroke-linecap:round; stroke-linejoin:round; stroke-width:4; stroke-opacity:0.5; fill:none\" points=\"704.028,766.846 968.247,766.846 968.247,597.129 704.028,597.129 704.028,766.846 \"/>\n",
       "<path clip-path=\"url(#clip152)\" d=\"M1232.47 766.846 L1496.69 766.846 L1496.69 597.129 L1232.47 597.129 L1232.47 766.846  Z\" fill=\"#0000ff\" fill-rule=\"evenodd\" fill-opacity=\"0.5\"/>\n",
       "<polyline clip-path=\"url(#clip152)\" style=\"stroke:#000000; stroke-linecap:round; stroke-linejoin:round; stroke-width:4; stroke-opacity:0.5; fill:none\" points=\"1232.47,766.846 1496.69,766.846 1496.69,597.129 1232.47,597.129 1232.47,766.846 \"/>\n",
       "<path clip-path=\"url(#clip152)\" d=\"M1760.9 766.846 L2025.12 766.846 L2025.12 597.129 L1760.9 597.129 L1760.9 766.846  Z\" fill=\"#0000ff\" fill-rule=\"evenodd\" fill-opacity=\"0.5\"/>\n",
       "<polyline clip-path=\"url(#clip152)\" style=\"stroke:#000000; stroke-linecap:round; stroke-linejoin:round; stroke-width:4; stroke-opacity:0.5; fill:none\" points=\"1760.9,766.846 2025.12,766.846 2025.12,597.129 1760.9,597.129 1760.9,766.846 \"/>\n",
       "<path clip-path=\"url(#clip152)\" d=\"M439.809 597.129 L704.028 597.129 L704.028 427.411 L439.809 427.411 L439.809 597.129  Z\" fill=\"#0000ff\" fill-rule=\"evenodd\" fill-opacity=\"0.5\"/>\n",
       "<polyline clip-path=\"url(#clip152)\" style=\"stroke:#000000; stroke-linecap:round; stroke-linejoin:round; stroke-width:4; stroke-opacity:0.5; fill:none\" points=\"439.809,597.129 704.028,597.129 704.028,427.411 439.809,427.411 439.809,597.129 \"/>\n",
       "<path clip-path=\"url(#clip152)\" d=\"M968.247 597.129 L1232.47 597.129 L1232.47 427.411 L968.247 427.411 L968.247 597.129  Z\" fill=\"#0000ff\" fill-rule=\"evenodd\" fill-opacity=\"0.5\"/>\n",
       "<polyline clip-path=\"url(#clip152)\" style=\"stroke:#000000; stroke-linecap:round; stroke-linejoin:round; stroke-width:4; stroke-opacity:0.5; fill:none\" points=\"968.247,597.129 1232.47,597.129 1232.47,427.411 968.247,427.411 968.247,597.129 \"/>\n",
       "<path clip-path=\"url(#clip152)\" d=\"M1496.69 597.129 L1760.9 597.129 L1760.9 427.411 L1496.69 427.411 L1496.69 597.129  Z\" fill=\"#0000ff\" fill-rule=\"evenodd\" fill-opacity=\"0.5\"/>\n",
       "<polyline clip-path=\"url(#clip152)\" style=\"stroke:#000000; stroke-linecap:round; stroke-linejoin:round; stroke-width:4; stroke-opacity:0.5; fill:none\" points=\"1496.69,597.129 1760.9,597.129 1760.9,427.411 1496.69,427.411 1496.69,597.129 \"/>\n",
       "<path clip-path=\"url(#clip152)\" d=\"M704.028 427.411 L968.247 427.411 L968.247 257.694 L704.028 257.694 L704.028 427.411  Z\" fill=\"#0000ff\" fill-rule=\"evenodd\" fill-opacity=\"0.5\"/>\n",
       "<polyline clip-path=\"url(#clip152)\" style=\"stroke:#000000; stroke-linecap:round; stroke-linejoin:round; stroke-width:4; stroke-opacity:0.5; fill:none\" points=\"704.028,427.411 968.247,427.411 968.247,257.694 704.028,257.694 704.028,427.411 \"/>\n",
       "<path clip-path=\"url(#clip152)\" d=\"M1232.47 427.411 L1496.69 427.411 L1496.69 257.694 L1232.47 257.694 L1232.47 427.411  Z\" fill=\"#0000ff\" fill-rule=\"evenodd\" fill-opacity=\"0.5\"/>\n",
       "<polyline clip-path=\"url(#clip152)\" style=\"stroke:#000000; stroke-linecap:round; stroke-linejoin:round; stroke-width:4; stroke-opacity:0.5; fill:none\" points=\"1232.47,427.411 1496.69,427.411 1496.69,257.694 1232.47,257.694 1232.47,427.411 \"/>\n",
       "<path clip-path=\"url(#clip152)\" d=\"M1760.9 427.411 L2025.12 427.411 L2025.12 257.694 L1760.9 257.694 L1760.9 427.411  Z\" fill=\"#0000ff\" fill-rule=\"evenodd\" fill-opacity=\"0.5\"/>\n",
       "<polyline clip-path=\"url(#clip152)\" style=\"stroke:#000000; stroke-linecap:round; stroke-linejoin:round; stroke-width:4; stroke-opacity:0.5; fill:none\" points=\"1760.9,427.411 2025.12,427.411 2025.12,257.694 1760.9,257.694 1760.9,427.411 \"/>\n",
       "<path clip-path=\"url(#clip152)\" d=\"M439.809 257.694 L704.028 257.694 L704.028 87.9763 L439.809 87.9763 L439.809 257.694  Z\" fill=\"#0000ff\" fill-rule=\"evenodd\" fill-opacity=\"0.5\"/>\n",
       "<polyline clip-path=\"url(#clip152)\" style=\"stroke:#000000; stroke-linecap:round; stroke-linejoin:round; stroke-width:4; stroke-opacity:0.5; fill:none\" points=\"439.809,257.694 704.028,257.694 704.028,87.9763 439.809,87.9763 439.809,257.694 \"/>\n",
       "<path clip-path=\"url(#clip152)\" d=\"M968.247 257.694 L1232.47 257.694 L1232.47 87.9763 L968.247 87.9763 L968.247 257.694  Z\" fill=\"#0000ff\" fill-rule=\"evenodd\" fill-opacity=\"0.5\"/>\n",
       "<polyline clip-path=\"url(#clip152)\" style=\"stroke:#000000; stroke-linecap:round; stroke-linejoin:round; stroke-width:4; stroke-opacity:0.5; fill:none\" points=\"968.247,257.694 1232.47,257.694 1232.47,87.9763 968.247,87.9763 968.247,257.694 \"/>\n",
       "<path clip-path=\"url(#clip152)\" d=\"M1496.69 257.694 L1760.9 257.694 L1760.9 87.9763 L1496.69 87.9763 L1496.69 257.694  Z\" fill=\"#0000ff\" fill-rule=\"evenodd\" fill-opacity=\"0.5\"/>\n",
       "<polyline clip-path=\"url(#clip152)\" style=\"stroke:#000000; stroke-linecap:round; stroke-linejoin:round; stroke-width:4; stroke-opacity:0.5; fill:none\" points=\"1496.69,257.694 1760.9,257.694 1760.9,87.9763 1496.69,87.9763 1496.69,257.694 \"/>\n",
       "<path clip-path=\"url(#clip152)\" d=\"M175.59 1276 L439.809 1276 L439.809 1106.28 L175.59 1106.28 L175.59 1276  Z\" fill=\"#008000\" fill-rule=\"evenodd\" fill-opacity=\"0.5\"/>\n",
       "<polyline clip-path=\"url(#clip152)\" style=\"stroke:#000000; stroke-linecap:round; stroke-linejoin:round; stroke-width:4; stroke-opacity:0.5; fill:none\" points=\"175.59,1276 439.809,1276 439.809,1106.28 175.59,1106.28 175.59,1276 \"/>\n",
       "<path clip-path=\"url(#clip152)\" d=\"M175.59 936.563 L439.809 936.563 L439.809 766.846 L175.59 766.846 L175.59 936.563  Z\" fill=\"#008000\" fill-rule=\"evenodd\" fill-opacity=\"0.5\"/>\n",
       "<polyline clip-path=\"url(#clip152)\" style=\"stroke:#000000; stroke-linecap:round; stroke-linejoin:round; stroke-width:4; stroke-opacity:0.5; fill:none\" points=\"175.59,936.563 439.809,936.563 439.809,766.846 175.59,766.846 175.59,936.563 \"/>\n",
       "<path clip-path=\"url(#clip152)\" d=\"M175.59 597.129 L439.809 597.129 L439.809 427.411 L175.59 427.411 L175.59 597.129  Z\" fill=\"#008000\" fill-rule=\"evenodd\" fill-opacity=\"0.5\"/>\n",
       "<polyline clip-path=\"url(#clip152)\" style=\"stroke:#000000; stroke-linecap:round; stroke-linejoin:round; stroke-width:4; stroke-opacity:0.5; fill:none\" points=\"175.59,597.129 439.809,597.129 439.809,427.411 175.59,427.411 175.59,597.129 \"/>\n",
       "<path clip-path=\"url(#clip152)\" d=\"M439.809 1106.28 L704.028 1106.28 L704.028 936.563 L439.809 936.563 L439.809 1106.28  Z\" fill=\"#008000\" fill-rule=\"evenodd\" fill-opacity=\"0.5\"/>\n",
       "<polyline clip-path=\"url(#clip152)\" style=\"stroke:#000000; stroke-linecap:round; stroke-linejoin:round; stroke-width:4; stroke-opacity:0.5; fill:none\" points=\"439.809,1106.28 704.028,1106.28 704.028,936.563 439.809,936.563 439.809,1106.28 \"/>\n",
       "<path clip-path=\"url(#clip152)\" d=\"M439.809 766.846 L704.028 766.846 L704.028 597.129 L439.809 597.129 L439.809 766.846  Z\" fill=\"#008000\" fill-rule=\"evenodd\" fill-opacity=\"0.5\"/>\n",
       "<polyline clip-path=\"url(#clip152)\" style=\"stroke:#000000; stroke-linecap:round; stroke-linejoin:round; stroke-width:4; stroke-opacity:0.5; fill:none\" points=\"439.809,766.846 704.028,766.846 704.028,597.129 439.809,597.129 439.809,766.846 \"/>\n",
       "<path clip-path=\"url(#clip152)\" d=\"M439.809 427.411 L704.028 427.411 L704.028 257.694 L439.809 257.694 L439.809 427.411  Z\" fill=\"#008000\" fill-rule=\"evenodd\" fill-opacity=\"0.5\"/>\n",
       "<polyline clip-path=\"url(#clip152)\" style=\"stroke:#000000; stroke-linecap:round; stroke-linejoin:round; stroke-width:4; stroke-opacity:0.5; fill:none\" points=\"439.809,427.411 704.028,427.411 704.028,257.694 439.809,257.694 439.809,427.411 \"/>\n",
       "<path clip-path=\"url(#clip152)\" d=\"M704.028 1276 L968.247 1276 L968.247 1106.28 L704.028 1106.28 L704.028 1276  Z\" fill=\"#008000\" fill-rule=\"evenodd\" fill-opacity=\"0.5\"/>\n",
       "<polyline clip-path=\"url(#clip152)\" style=\"stroke:#000000; stroke-linecap:round; stroke-linejoin:round; stroke-width:4; stroke-opacity:0.5; fill:none\" points=\"704.028,1276 968.247,1276 968.247,1106.28 704.028,1106.28 704.028,1276 \"/>\n",
       "<path clip-path=\"url(#clip152)\" d=\"M704.028 936.563 L968.247 936.563 L968.247 766.846 L704.028 766.846 L704.028 936.563  Z\" fill=\"#008000\" fill-rule=\"evenodd\" fill-opacity=\"0.5\"/>\n",
       "<polyline clip-path=\"url(#clip152)\" style=\"stroke:#000000; stroke-linecap:round; stroke-linejoin:round; stroke-width:4; stroke-opacity:0.5; fill:none\" points=\"704.028,936.563 968.247,936.563 968.247,766.846 704.028,766.846 704.028,936.563 \"/>\n",
       "<path clip-path=\"url(#clip152)\" d=\"M704.028 597.129 L968.247 597.129 L968.247 427.411 L704.028 427.411 L704.028 597.129  Z\" fill=\"#008000\" fill-rule=\"evenodd\" fill-opacity=\"0.5\"/>\n",
       "<polyline clip-path=\"url(#clip152)\" style=\"stroke:#000000; stroke-linecap:round; stroke-linejoin:round; stroke-width:4; stroke-opacity:0.5; fill:none\" points=\"704.028,597.129 968.247,597.129 968.247,427.411 704.028,427.411 704.028,597.129 \"/>\n",
       "<path clip-path=\"url(#clip152)\" d=\"M968.247 1106.28 L1232.47 1106.28 L1232.47 936.563 L968.247 936.563 L968.247 1106.28  Z\" fill=\"#008000\" fill-rule=\"evenodd\" fill-opacity=\"0.5\"/>\n",
       "<polyline clip-path=\"url(#clip152)\" style=\"stroke:#000000; stroke-linecap:round; stroke-linejoin:round; stroke-width:4; stroke-opacity:0.5; fill:none\" points=\"968.247,1106.28 1232.47,1106.28 1232.47,936.563 968.247,936.563 968.247,1106.28 \"/>\n",
       "<path clip-path=\"url(#clip152)\" d=\"M968.247 766.846 L1232.47 766.846 L1232.47 597.129 L968.247 597.129 L968.247 766.846  Z\" fill=\"#008000\" fill-rule=\"evenodd\" fill-opacity=\"0.5\"/>\n",
       "<polyline clip-path=\"url(#clip152)\" style=\"stroke:#000000; stroke-linecap:round; stroke-linejoin:round; stroke-width:4; stroke-opacity:0.5; fill:none\" points=\"968.247,766.846 1232.47,766.846 1232.47,597.129 968.247,597.129 968.247,766.846 \"/>\n",
       "<path clip-path=\"url(#clip152)\" d=\"M968.247 427.411 L1232.47 427.411 L1232.47 257.694 L968.247 257.694 L968.247 427.411  Z\" fill=\"#008000\" fill-rule=\"evenodd\" fill-opacity=\"0.5\"/>\n",
       "<polyline clip-path=\"url(#clip152)\" style=\"stroke:#000000; stroke-linecap:round; stroke-linejoin:round; stroke-width:4; stroke-opacity:0.5; fill:none\" points=\"968.247,427.411 1232.47,427.411 1232.47,257.694 968.247,257.694 968.247,427.411 \"/>\n",
       "<path clip-path=\"url(#clip152)\" d=\"M1232.47 1276 L1496.69 1276 L1496.69 1106.28 L1232.47 1106.28 L1232.47 1276  Z\" fill=\"#008000\" fill-rule=\"evenodd\" fill-opacity=\"0.5\"/>\n",
       "<polyline clip-path=\"url(#clip152)\" style=\"stroke:#000000; stroke-linecap:round; stroke-linejoin:round; stroke-width:4; stroke-opacity:0.5; fill:none\" points=\"1232.47,1276 1496.69,1276 1496.69,1106.28 1232.47,1106.28 1232.47,1276 \"/>\n",
       "<path clip-path=\"url(#clip152)\" d=\"M1232.47 936.563 L1496.69 936.563 L1496.69 766.846 L1232.47 766.846 L1232.47 936.563  Z\" fill=\"#008000\" fill-rule=\"evenodd\" fill-opacity=\"0.5\"/>\n",
       "<polyline clip-path=\"url(#clip152)\" style=\"stroke:#000000; stroke-linecap:round; stroke-linejoin:round; stroke-width:4; stroke-opacity:0.5; fill:none\" points=\"1232.47,936.563 1496.69,936.563 1496.69,766.846 1232.47,766.846 1232.47,936.563 \"/>\n",
       "<path clip-path=\"url(#clip152)\" d=\"M1232.47 597.129 L1496.69 597.129 L1496.69 427.411 L1232.47 427.411 L1232.47 597.129  Z\" fill=\"#008000\" fill-rule=\"evenodd\" fill-opacity=\"0.5\"/>\n",
       "<polyline clip-path=\"url(#clip152)\" style=\"stroke:#000000; stroke-linecap:round; stroke-linejoin:round; stroke-width:4; stroke-opacity:0.5; fill:none\" points=\"1232.47,597.129 1496.69,597.129 1496.69,427.411 1232.47,427.411 1232.47,597.129 \"/>\n",
       "<path clip-path=\"url(#clip152)\" d=\"M1496.69 1106.28 L1760.9 1106.28 L1760.9 936.563 L1496.69 936.563 L1496.69 1106.28  Z\" fill=\"#008000\" fill-rule=\"evenodd\" fill-opacity=\"0.5\"/>\n",
       "<polyline clip-path=\"url(#clip152)\" style=\"stroke:#000000; stroke-linecap:round; stroke-linejoin:round; stroke-width:4; stroke-opacity:0.5; fill:none\" points=\"1496.69,1106.28 1760.9,1106.28 1760.9,936.563 1496.69,936.563 1496.69,1106.28 \"/>\n",
       "<path clip-path=\"url(#clip152)\" d=\"M1496.69 766.846 L1760.9 766.846 L1760.9 597.129 L1496.69 597.129 L1496.69 766.846  Z\" fill=\"#008000\" fill-rule=\"evenodd\" fill-opacity=\"0.5\"/>\n",
       "<polyline clip-path=\"url(#clip152)\" style=\"stroke:#000000; stroke-linecap:round; stroke-linejoin:round; stroke-width:4; stroke-opacity:0.5; fill:none\" points=\"1496.69,766.846 1760.9,766.846 1760.9,597.129 1496.69,597.129 1496.69,766.846 \"/>\n",
       "<path clip-path=\"url(#clip152)\" d=\"M1496.69 427.411 L1760.9 427.411 L1760.9 257.694 L1496.69 257.694 L1496.69 427.411  Z\" fill=\"#008000\" fill-rule=\"evenodd\" fill-opacity=\"0.5\"/>\n",
       "<polyline clip-path=\"url(#clip152)\" style=\"stroke:#000000; stroke-linecap:round; stroke-linejoin:round; stroke-width:4; stroke-opacity:0.5; fill:none\" points=\"1496.69,427.411 1760.9,427.411 1760.9,257.694 1496.69,257.694 1496.69,427.411 \"/>\n",
       "<path clip-path=\"url(#clip152)\" d=\"M1760.9 1276 L2025.12 1276 L2025.12 1106.28 L1760.9 1106.28 L1760.9 1276  Z\" fill=\"#008000\" fill-rule=\"evenodd\" fill-opacity=\"0.5\"/>\n",
       "<polyline clip-path=\"url(#clip152)\" style=\"stroke:#000000; stroke-linecap:round; stroke-linejoin:round; stroke-width:4; stroke-opacity:0.5; fill:none\" points=\"1760.9,1276 2025.12,1276 2025.12,1106.28 1760.9,1106.28 1760.9,1276 \"/>\n",
       "<path clip-path=\"url(#clip152)\" d=\"M1760.9 936.563 L2025.12 936.563 L2025.12 766.846 L1760.9 766.846 L1760.9 936.563  Z\" fill=\"#008000\" fill-rule=\"evenodd\" fill-opacity=\"0.5\"/>\n",
       "<polyline clip-path=\"url(#clip152)\" style=\"stroke:#000000; stroke-linecap:round; stroke-linejoin:round; stroke-width:4; stroke-opacity:0.5; fill:none\" points=\"1760.9,936.563 2025.12,936.563 2025.12,766.846 1760.9,766.846 1760.9,936.563 \"/>\n",
       "<path clip-path=\"url(#clip152)\" d=\"M1760.9 597.129 L2025.12 597.129 L2025.12 427.411 L1760.9 427.411 L1760.9 597.129  Z\" fill=\"#008000\" fill-rule=\"evenodd\" fill-opacity=\"0.5\"/>\n",
       "<polyline clip-path=\"url(#clip152)\" style=\"stroke:#000000; stroke-linecap:round; stroke-linejoin:round; stroke-width:4; stroke-opacity:0.5; fill:none\" points=\"1760.9,597.129 2025.12,597.129 2025.12,427.411 1760.9,427.411 1760.9,597.129 \"/>\n",
       "<path clip-path=\"url(#clip152)\" d=\"M2025.12 1106.28 L2289.34 1106.28 L2289.34 936.563 L2025.12 936.563 L2025.12 1106.28  Z\" fill=\"#008000\" fill-rule=\"evenodd\" fill-opacity=\"0.5\"/>\n",
       "<polyline clip-path=\"url(#clip152)\" style=\"stroke:#000000; stroke-linecap:round; stroke-linejoin:round; stroke-width:4; stroke-opacity:0.5; fill:none\" points=\"2025.12,1106.28 2289.34,1106.28 2289.34,936.563 2025.12,936.563 2025.12,1106.28 \"/>\n",
       "<path clip-path=\"url(#clip152)\" d=\"M2025.12 766.846 L2289.34 766.846 L2289.34 597.129 L2025.12 597.129 L2025.12 766.846  Z\" fill=\"#008000\" fill-rule=\"evenodd\" fill-opacity=\"0.5\"/>\n",
       "<polyline clip-path=\"url(#clip152)\" style=\"stroke:#000000; stroke-linecap:round; stroke-linejoin:round; stroke-width:4; stroke-opacity:0.5; fill:none\" points=\"2025.12,766.846 2289.34,766.846 2289.34,597.129 2025.12,597.129 2025.12,766.846 \"/>\n",
       "<path clip-path=\"url(#clip152)\" d=\"M2025.12 427.411 L2289.34 427.411 L2289.34 257.694 L2025.12 257.694 L2025.12 427.411  Z\" fill=\"#008000\" fill-rule=\"evenodd\" fill-opacity=\"0.5\"/>\n",
       "<polyline clip-path=\"url(#clip152)\" style=\"stroke:#000000; stroke-linecap:round; stroke-linejoin:round; stroke-width:4; stroke-opacity:0.5; fill:none\" points=\"2025.12,427.411 2289.34,427.411 2289.34,257.694 2025.12,257.694 2025.12,427.411 \"/>\n",
       "</svg>\n"
      ]
     },
     "metadata": {},
     "output_type": "display_data"
    }
   ],
   "source": [
    "using Plots\n",
    "plt = plot(leg=false)\n",
    "scatter([X_stab[1][1]],[X_stab[1][2]])\n",
    "for i in 1:N\n",
    "    scatter!(plt,[(i-1)%d+1],[(i-1)÷d+1],mc=:red)\n",
    "end\n",
    "for X in X_stab\n",
    "    plot!(plt,Shape(X[1] .+ [0,1,1,0], X[2] .+ [0,0,1,1]), fc=:blue, opacity=.5)\n",
    "end\n",
    "for Z in Z_stab\n",
    "    plot!(plt,Shape(Z[1] .+ [0,1,1,0], Z[2] .+ [0,0,1,1]), fc=:green, opacity=.5)\n",
    "end\n",
    "display(plt)"
   ]
  },
  {
   "cell_type": "markdown",
   "id": "df944212",
   "metadata": {},
   "source": [
    "To build the surface code numerically with ITensor, we initialize the state in the Z basis, and apply the projectors $1+B_p$ sequentially (in the Google experiment, one had to realize effectively this projection by a carefully designed gate sequence)\n",
    "\n",
    "We obtain a surface with a bond dimension which scales as $2^d$ (The MPS representation provides an efficient compression along one spatial dimension)"
   ]
  },
  {
   "cell_type": "code",
   "execution_count": 6,
   "id": "abe0f2b1",
   "metadata": {},
   "outputs": [
    {
     "name": "stderr",
     "output_type": "stream",
     "text": [
      "\u001b[32mProgress: 100%|█████████████████████████████████████████| Time: 0:00:34\u001b[39m\u001b[K\n"
     ]
    },
    {
     "name": "stdout",
     "output_type": "stream",
     "text": [
      "Surface code built with distance 7 and bond dimension 16\n"
     ]
    }
   ],
   "source": [
    "ξ = siteinds(\"Qubit\", N)\n",
    "states = [\"Up\" for n in 1:N]\n",
    "ψ = MPS(ξ,states);\n",
    "@showprogress dt=1 for qubits in X_stab_qubits\n",
    "    ampo = AutoMPO()\n",
    "    ampo .+= \"Id\", qubits[1]\n",
    "    if length(qubits)==2\n",
    "        ampo .+= \"X\", qubits[1],\"X\",qubits[2]\n",
    "    else\n",
    "        ampo .+= \"X\", qubits[1],\"X\",qubits[2],\"X\",qubits[3],\"X\",qubits[4]\n",
    "    end\n",
    "    Proj = MPO(ampo,ξ)\n",
    "    ψ = apply(Proj,ψ) # Application of the projector and normalization\n",
    "    normalize!(ψ)\n",
    "end\n",
    "println(\"Surface code built with distance \", d,\" and bond dimension \",maxlinkdim(ψ))"
   ]
  },
  {
   "cell_type": "markdown",
   "id": "6eecca02",
   "metadata": {},
   "source": [
    "If our logical state is successfully created, all plaquette operators should have expectation value $+1$. This can be checked by sampling two bitstrings, one in the $Z$ basis, one in the $X$ basis. Note: Here we are simply interested in checking that we successfully created the state. For doing quantum error correction, one would use ancilla qubits to perform these measurements. "
   ]
  },
  {
   "cell_type": "code",
   "execution_count": 7,
   "id": "e989e53a",
   "metadata": {},
   "outputs": [
    {
     "name": "stdout",
     "output_type": "stream",
     "text": [
      "number of Z errors 0.0\n"
     ]
    }
   ],
   "source": [
    "orthogonalize!(ψ,1)\n",
    "normalize!(ψ)\n",
    "data_Z = sample(ψ)\n",
    "expect_Z = Int[]\n",
    "for qubits in Z_stab_qubits\n",
    "    push!(expect_Z,(-1)^sum(data_Z[qubits] .-1))\n",
    "end\n",
    "println(\"number of Z errors \",sum(1. .-expect_Z)/2)"
   ]
  },
  {
   "cell_type": "code",
   "execution_count": 8,
   "id": "a5fa02db",
   "metadata": {},
   "outputs": [
    {
     "name": "stdout",
     "output_type": "stream",
     "text": [
      "number of X errors 0.0\n"
     ]
    }
   ],
   "source": [
    "gates = [op(\"H\",ξt) for ξt in ξ]\n",
    "ψx = apply(gates,ψ)\n",
    "orthogonalize!(ψx,1)\n",
    "normalize!(ψx)\n",
    "data_X = sample(ψx)\n",
    "expect_X = Int[]\n",
    "for qubits in X_stab_qubits\n",
    "    push!(expect_X,(-1)^sum(data_X[qubits] .-1))\n",
    "end\n",
    "println(\"number of X errors \",sum(1. .-expect_Z)/2)"
   ]
  },
  {
   "cell_type": "markdown",
   "id": "2c9d43c0",
   "metadata": {},
   "source": [
    "The topological entanglement entropy can be defined by considering three neighboring partitions $A|B|C$\n",
    "$S_{top}=S_A+S_B+S_C=S_{AB}-S_{BC}-S_{AC}+S_{ABC}$\n",
    "where each entropy can be extracted from randomized measurements."
   ]
  },
  {
   "cell_type": "code",
   "execution_count": 9,
   "id": "17aeb0de",
   "metadata": {},
   "outputs": [],
   "source": [
    "\n",
    "A = sort([g(3,3),g(3,4),g(3,5)])\n",
    "B = sort([g(4,3),g(5,3),g(5,4)])\n",
    "C = sort([g(4,4),g(4,5),g(5,5)])\n",
    "AB  = sort([A;B])\n",
    "BC  = sort([B;C])\n",
    "AC  = sort([A;C])\n",
    "ABC  = sort([A;B;C])\n",
    "Part = [A,B,C,AB,AC,BC,ABC]\n",
    "\n",
    "ρ = outer(ψ',ψ);"
   ]
  },
  {
   "cell_type": "markdown",
   "id": "d8f5de52",
   "metadata": {},
   "source": [
    "And then simulate the measurements. Notice that all entropies are integer because we are dealing with a Clifford state with flat entanglement spectrum."
   ]
  },
  {
   "cell_type": "code",
   "execution_count": 10,
   "id": "2278f399-832e-4bbb-a8c8-e8a094473a0d",
   "metadata": {},
   "outputs": [
    {
     "name": "stdout",
     "output_type": "stream",
     "text": [
      "Partition: [17, 24, 31]| Entropy = 2.9990017405345175\n"
     ]
    },
    {
     "name": "stderr",
     "output_type": "stream",
     "text": [
      "\u001b[32mProgress:  29%|███████████▊                             |  ETA: 0:01:16\u001b[39m\u001b[K"
     ]
    },
    {
     "name": "stdout",
     "output_type": "stream",
     "text": [
      "Partition: [18, 19, 26]| Entropy = 2.999468666189997\n"
     ]
    },
    {
     "name": "stderr",
     "output_type": "stream",
     "text": [
      "\u001b[32mProgress:  43%|█████████████████▋                       |  ETA: 0:00:53\u001b[39m\u001b[K"
     ]
    },
    {
     "name": "stdout",
     "output_type": "stream",
     "text": [
      "Partition: [25, 32, 33]| Entropy = 2.998968317793085\n"
     ]
    },
    {
     "name": "stderr",
     "output_type": "stream",
     "text": [
      "\u001b[32mProgress:  57%|███████████████████████▍                 |  ETA: 0:01:32\u001b[39m\u001b[K"
     ]
    },
    {
     "name": "stdout",
     "output_type": "stream",
     "text": [
      "Partition: [17, 18, 19, 24, 26, 31]| Entropy = 6.010210364415663\n"
     ]
    },
    {
     "name": "stderr",
     "output_type": "stream",
     "text": [
      "\u001b[32mProgress:  71%|█████████████████████████████▎           |  ETA: 0:00:57\u001b[39m\u001b[K"
     ]
    },
    {
     "name": "stdout",
     "output_type": "stream",
     "text": [
      "Partition: [17, 24, 25, 31, 32, 33]| Entropy = 4.976372071667561\n"
     ]
    },
    {
     "name": "stderr",
     "output_type": "stream",
     "text": [
      "\u001b[32mProgress:  86%|███████████████████████████████████▏     |  ETA: 0:00:29\u001b[39m\u001b[K"
     ]
    },
    {
     "name": "stdout",
     "output_type": "stream",
     "text": [
      "Partition: [18, 19, 25, 26, 32, 33]| Entropy = 4.09963527307895\n"
     ]
    },
    {
     "name": "stderr",
     "output_type": "stream",
     "text": [
      "\u001b[32mProgress: 100%|█████████████████████████████████████████| Time: 0:04:34\u001b[39m\u001b[K\n"
     ]
    },
    {
     "name": "stdout",
     "output_type": "stream",
     "text": [
      "Partition: [17, 18, 19, 24, 25, 26, 31, 32, 33]| Entropy = 5.188883920826664\n"
     ]
    }
   ],
   "source": [
    "ITensors.disable_warn_order()\n",
    "nu = 2000\n",
    "NM = 1000\n",
    "\n",
    "nb = length(Part)\n",
    "S = zeros(nb)\n",
    "S_e = zeros(nb)\n",
    "@showprogress dt=1 for ib in 1:nb\n",
    "    P = Part[ib]\n",
    "    NP = length(P)\n",
    "    data = zeros(Int8,(nu,NM,NP))\n",
    "    ρP,ξP = reduce_dm(ρ,P);\n",
    "    for r in 1:nu\n",
    "        u = get_rotations(ξP,1) #Haar rotations in A\n",
    "        data[r,:,:] = get_RandomMeas(ρP,u,NM);\n",
    "    end\n",
    "    S_e[ib] = -log2(get_purity(ρP))\n",
    "    S[ib] = -log2(get_purity_hamming(data,ξP))\n",
    "    println(\"Partition: \", P, \"| Entropy = \" , S[ib])\n",
    "end"
   ]
  },
  {
   "cell_type": "code",
   "execution_count": 11,
   "id": "4206b075-4ec3-4a01-be9e-433c937bffec",
   "metadata": {},
   "outputs": [
    {
     "name": "stdout",
     "output_type": "stream",
     "text": [
      "Expected topological entanglement entropy -1.0000000000000409\n",
      "Measured topological entanglement entropy -0.8998950638179091\n"
     ]
    }
   ],
   "source": [
    "println(\"Expected topological entanglement entropy \", S_e[1]+S_e[2]+S_e[3]-S_e[4]-S_e[5]-S_e[6]+S_e[7])\n",
    "println(\"Measured topological entanglement entropy \", S[1]+S[2]+S[3]-S[4]-S[5]-S[6]+S[7])"
   ]
  }
 ],
 "metadata": {
  "kernelspec": {
   "display_name": "Julia 1.10.0",
   "language": "julia",
   "name": "julia-1.10"
  },
  "language_info": {
   "file_extension": ".jl",
   "mimetype": "application/julia",
   "name": "julia",
   "version": "1.10.0"
  }
 },
 "nbformat": 4,
 "nbformat_minor": 5
}
