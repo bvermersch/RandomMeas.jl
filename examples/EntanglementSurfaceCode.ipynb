{
 "cells": [
  {
   "cell_type": "markdown",
   "id": "ad7f590a-819f-4206-8e88-4799140dce4f",
   "metadata": {},
   "source": [
    "## Entanglement surface code\n",
    "\n",
    "In this notebook, we will reproduce the experimental results of [Satzinger et al, Science 2021](https://www.science.org/doi/10.1126/science.abi8378) showing the realization of a surface code, and the demonstration of presence of long-range entanglement via the measurement of the topological entanglement entropy"
   ]
  },
  {
   "cell_type": "code",
   "execution_count": 22,
   "id": "2a2c0683-6ec3-4b0e-ba9c-5f94cac50deb",
   "metadata": {},
   "outputs": [],
   "source": [
    "using Revise\n",
    "using RandomMeas\n",
    "using ProgressMeter"
   ]
  },
  {
   "cell_type": "markdown",
   "id": "780269cf-05e5-4322-a3e3-174abd627898",
   "metadata": {},
   "source": [
    "A surface code of distance $d$ is made of $N=d^2$ qubits placed in a square lattice"
   ]
  },
  {
   "cell_type": "code",
   "execution_count": 23,
   "id": "961af975-be8e-4ed7-b4d8-34dbdd7edf69",
   "metadata": {},
   "outputs": [
    {
     "data": {
      "text/plain": [
       "g (generic function with 1 method)"
      ]
     },
     "execution_count": 23,
     "metadata": {},
     "output_type": "execute_result"
    }
   ],
   "source": [
    "d = 5#Code distance\n",
    "N  = d^2; #number of physical qubits\n",
    "\n",
    "# function to connect lattice coordinates to an index\n",
    "# such that x = (i-1)%d+1 y = (i-1)÷d+1\n",
    "g(x,y) = x+(y-1)*d "
   ]
  },
  {
   "cell_type": "markdown",
   "id": "fb30c2e0",
   "metadata": {},
   "source": [
    "The surface code is defined by a set of Plaquette $B_p=X_{i_1}X_{i_2}X_{i_3}X_{i_4}$ and $A_s=Z_{j_1}Z_{j_2}Z_{j_3}X_{j_4}$ operators (see graphics below). For the X plaquettes, we define the plaquette operators X_stab by the position of their lower left qubit, while X_stab_qubits stores all involved qubits."
   ]
  },
  {
   "cell_type": "code",
   "execution_count": 24,
   "id": "ee663b38-5049-4acb-befe-d1c0cf58d046",
   "metadata": {},
   "outputs": [],
   "source": [
    "#Positions of the X stabilizers\n",
    "X_stab = Vector{Vector{Int}}()\n",
    "X_stab_qubits = Vector{Vector{Int}}()\n",
    "for y in 0:d\n",
    "    start = (y+1)%2+1\n",
    "    for x in start:2:d-1\n",
    "        push!(X_stab,[x,y])\n",
    "        qubits = Vector{Int}()\n",
    "        for inx in 0:1\n",
    "            for iny in 0:1\n",
    "                xq = x+inx\n",
    "                yq = y+iny\n",
    "                if yq>0 && yq<d+1\n",
    "                    push!(qubits,g(xq,yq))\n",
    "                end\n",
    "            end\n",
    "        end\n",
    "        push!(X_stab_qubits,qubits)\n",
    "    end\n",
    "end"
   ]
  },
  {
   "cell_type": "markdown",
   "id": "8af04df6",
   "metadata": {},
   "source": [
    "We do the same for the $Z$ plaquettes."
   ]
  },
  {
   "cell_type": "code",
   "execution_count": 25,
   "id": "6da733e8",
   "metadata": {},
   "outputs": [],
   "source": [
    "Z_stab_qubits = Vector{Vector{Int}}()\n",
    "Z_stab = Vector{Vector{Int}}()\n",
    "for x in 0:d\n",
    "    start = (x)%2+1\n",
    "    for y in start:2:d-1\n",
    "        push!(Z_stab,[x,y])\n",
    "        qubits = Vector{Int}()\n",
    "        for inx in 0:1\n",
    "            for iny in 0:1\n",
    "                xq = x+inx\n",
    "                yq = y+iny\n",
    "                if xq>0 && xq<d+1\n",
    "                    push!(qubits,g(xq,yq))\n",
    "                end\n",
    "            end\n",
    "        end\n",
    "        push!(Z_stab_qubits,qubits)\n",
    "    end\n",
    "end"
   ]
  },
  {
   "cell_type": "markdown",
   "id": "65efe39c",
   "metadata": {},
   "source": [
    "A graphical represenation of the qubits (red dots) and plaquette operators helps"
   ]
  },
  {
   "cell_type": "code",
   "execution_count": 26,
   "id": "c06f942a",
   "metadata": {},
   "outputs": [
    {
     "data": {
      "image/png": "[encoded data removed]",
      "image/svg+xml": [
       "<?xml version=\"1.0\" encoding=\"utf-8\"?>\n",
       "<svg xmlns=\"http://www.w3.org/2000/svg\" xmlns:xlink=\"http://www.w3.org/1999/xlink\" width=\"600\" height=\"400\" viewBox=\"0 0 2400 1600\">\n",
       "<defs>\n",
       "  <clipPath id=\"clip530\">\n",
       "    <rect x=\"0\" y=\"0\" width=\"2400\" height=\"1600\"/>\n",
       "  </clipPath>\n",
       "</defs>\n",
       "<path clip-path=\"url(#clip530)\" d=\"M0 1600 L2400 1600 L2400 0 L0 0  Z\" fill=\"#ffffff\" fill-rule=\"evenodd\" fill-opacity=\"1\"/>\n",
       "<defs>\n",
       "  <clipPath id=\"clip531\">\n",
       "    <rect x=\"480\" y=\"0\" width=\"1681\" height=\"1600\"/>\n",
       "  </clipPath>\n",
       "</defs>\n",
       "<path clip-path=\"url(#clip530)\" d=\"M112.177 1486.45 L2352.76 1486.45 L2352.76 47.2441 L112.177 47.2441  Z\" fill=\"#ffffff\" fill-rule=\"evenodd\" fill-opacity=\"1\"/>\n",
       "<defs>\n",
       "  <clipPath id=\"clip532\">\n",
       "    <rect x=\"112\" y=\"47\" width=\"2242\" height=\"1440\"/>\n",
       "  </clipPath>\n",
       "</defs>\n",
       "<polyline clip-path=\"url(#clip532)\" style=\"stroke:#000000; stroke-linecap:round; stroke-linejoin:round; stroke-width:2; stroke-opacity:0.1; fill:none\" points=\"175.59,1486.45 175.59,47.2441 \"/>\n",
       "<polyline clip-path=\"url(#clip532)\" style=\"stroke:#000000; stroke-linecap:round; stroke-linejoin:round; stroke-width:2; stroke-opacity:0.1; fill:none\" points=\"527.882,1486.45 527.882,47.2441 \"/>\n",
       "<polyline clip-path=\"url(#clip532)\" style=\"stroke:#000000; stroke-linecap:round; stroke-linejoin:round; stroke-width:2; stroke-opacity:0.1; fill:none\" points=\"880.174,1486.45 880.174,47.2441 \"/>\n",
       "<polyline clip-path=\"url(#clip532)\" style=\"stroke:#000000; stroke-linecap:round; stroke-linejoin:round; stroke-width:2; stroke-opacity:0.1; fill:none\" points=\"1232.47,1486.45 1232.47,47.2441 \"/>\n",
       "<polyline clip-path=\"url(#clip532)\" style=\"stroke:#000000; stroke-linecap:round; stroke-linejoin:round; stroke-width:2; stroke-opacity:0.1; fill:none\" points=\"1584.76,1486.45 1584.76,47.2441 \"/>\n",
       "<polyline clip-path=\"url(#clip532)\" style=\"stroke:#000000; stroke-linecap:round; stroke-linejoin:round; stroke-width:2; stroke-opacity:0.1; fill:none\" points=\"1937.05,1486.45 1937.05,47.2441 \"/>\n",
       "<polyline clip-path=\"url(#clip532)\" style=\"stroke:#000000; stroke-linecap:round; stroke-linejoin:round; stroke-width:2; stroke-opacity:0.1; fill:none\" points=\"2289.34,1486.45 2289.34,47.2441 \"/>\n",
       "<polyline clip-path=\"url(#clip532)\" style=\"stroke:#000000; stroke-linecap:round; stroke-linejoin:round; stroke-width:2; stroke-opacity:0.1; fill:none\" points=\"112.177,1445.72 2352.76,1445.72 \"/>\n",
       "<polyline clip-path=\"url(#clip532)\" style=\"stroke:#000000; stroke-linecap:round; stroke-linejoin:round; stroke-width:2; stroke-opacity:0.1; fill:none\" points=\"112.177,1219.43 2352.76,1219.43 \"/>\n",
       "<polyline clip-path=\"url(#clip532)\" style=\"stroke:#000000; stroke-linecap:round; stroke-linejoin:round; stroke-width:2; stroke-opacity:0.1; fill:none\" points=\"112.177,993.136 2352.76,993.136 \"/>\n",
       "<polyline clip-path=\"url(#clip532)\" style=\"stroke:#000000; stroke-linecap:round; stroke-linejoin:round; stroke-width:2; stroke-opacity:0.1; fill:none\" points=\"112.177,766.846 2352.76,766.846 \"/>\n",
       "<polyline clip-path=\"url(#clip532)\" style=\"stroke:#000000; stroke-linecap:round; stroke-linejoin:round; stroke-width:2; stroke-opacity:0.1; fill:none\" points=\"112.177,540.556 2352.76,540.556 \"/>\n",
       "<polyline clip-path=\"url(#clip532)\" style=\"stroke:#000000; stroke-linecap:round; stroke-linejoin:round; stroke-width:2; stroke-opacity:0.1; fill:none\" points=\"112.177,314.266 2352.76,314.266 \"/>\n",
       "<polyline clip-path=\"url(#clip532)\" style=\"stroke:#000000; stroke-linecap:round; stroke-linejoin:round; stroke-width:2; stroke-opacity:0.1; fill:none\" points=\"112.177,87.9763 2352.76,87.9763 \"/>\n",
       "<polyline clip-path=\"url(#clip530)\" style=\"stroke:#000000; stroke-linecap:round; stroke-linejoin:round; stroke-width:4; stroke-opacity:1; fill:none\" points=\"112.177,1486.45 2352.76,1486.45 \"/>\n",
       "<polyline clip-path=\"url(#clip530)\" style=\"stroke:#000000; stroke-linecap:round; stroke-linejoin:round; stroke-width:4; stroke-opacity:1; fill:none\" points=\"175.59,1486.45 175.59,1467.55 \"/>\n",
       "<polyline clip-path=\"url(#clip530)\" style=\"stroke:#000000; stroke-linecap:round; stroke-linejoin:round; stroke-width:4; stroke-opacity:1; fill:none\" points=\"527.882,1486.45 527.882,1467.55 \"/>\n",
       "<polyline clip-path=\"url(#clip530)\" style=\"stroke:#000000; stroke-linecap:round; stroke-linejoin:round; stroke-width:4; stroke-opacity:1; fill:none\" points=\"880.174,1486.45 880.174,1467.55 \"/>\n",
       "<polyline clip-path=\"url(#clip530)\" style=\"stroke:#000000; stroke-linecap:round; stroke-linejoin:round; stroke-width:4; stroke-opacity:1; fill:none\" points=\"1232.47,1486.45 1232.47,1467.55 \"/>\n",
       "<polyline clip-path=\"url(#clip530)\" style=\"stroke:#000000; stroke-linecap:round; stroke-linejoin:round; stroke-width:4; stroke-opacity:1; fill:none\" points=\"1584.76,1486.45 1584.76,1467.55 \"/>\n",
       "<polyline clip-path=\"url(#clip530)\" style=\"stroke:#000000; stroke-linecap:round; stroke-linejoin:round; stroke-width:4; stroke-opacity:1; fill:none\" points=\"1937.05,1486.45 1937.05,1467.55 \"/>\n",
       "<polyline clip-path=\"url(#clip530)\" style=\"stroke:#000000; stroke-linecap:round; stroke-linejoin:round; stroke-width:4; stroke-opacity:1; fill:none\" points=\"2289.34,1486.45 2289.34,1467.55 \"/>\n",
       "<path clip-path=\"url(#clip530)\" d=\"M175.59 1517.37 Q171.979 1517.37 170.15 1520.93 Q168.344 1524.47 168.344 1531.6 Q168.344 1538.71 170.15 1542.27 Q171.979 1545.82 175.59 1545.82 Q179.224 1545.82 181.03 1542.27 Q182.858 1538.71 182.858 1531.6 Q182.858 1524.47 181.03 1520.93 Q179.224 1517.37 175.59 1517.37 M175.59 1513.66 Q181.4 1513.66 184.455 1518.27 Q187.534 1522.85 187.534 1531.6 Q187.534 1540.33 184.455 1544.94 Q181.4 1549.52 175.59 1549.52 Q169.78 1549.52 166.701 1544.94 Q163.645 1540.33 163.645 1531.6 Q163.645 1522.85 166.701 1518.27 Q169.78 1513.66 175.59 1513.66 Z\" fill=\"#000000\" fill-rule=\"nonzero\" fill-opacity=\"1\" /><path clip-path=\"url(#clip530)\" d=\"M518.264 1544.91 L525.903 1544.91 L525.903 1518.55 L517.593 1520.21 L517.593 1515.95 L525.857 1514.29 L530.532 1514.29 L530.532 1544.91 L538.171 1544.91 L538.171 1548.85 L518.264 1548.85 L518.264 1544.91 Z\" fill=\"#000000\" fill-rule=\"nonzero\" fill-opacity=\"1\" /><path clip-path=\"url(#clip530)\" d=\"M874.827 1544.91 L891.146 1544.91 L891.146 1548.85 L869.202 1548.85 L869.202 1544.91 Q871.864 1542.16 876.447 1537.53 Q881.054 1532.88 882.234 1531.53 Q884.48 1529.01 885.359 1527.27 Q886.262 1525.51 886.262 1523.82 Q886.262 1521.07 884.318 1519.33 Q882.396 1517.6 879.295 1517.6 Q877.096 1517.6 874.642 1518.36 Q872.211 1519.13 869.434 1520.68 L869.434 1515.95 Q872.258 1514.82 874.711 1514.24 Q877.165 1513.66 879.202 1513.66 Q884.572 1513.66 887.767 1516.35 Q890.961 1519.03 890.961 1523.52 Q890.961 1525.65 890.151 1527.57 Q889.364 1529.47 887.258 1532.07 Q886.679 1532.74 883.577 1535.95 Q880.475 1539.15 874.827 1544.91 Z\" fill=\"#000000\" fill-rule=\"nonzero\" fill-opacity=\"1\" /><path clip-path=\"url(#clip530)\" d=\"M1236.71 1530.21 Q1240.07 1530.93 1241.95 1533.2 Q1243.84 1535.47 1243.84 1538.8 Q1243.84 1543.92 1240.33 1546.72 Q1236.81 1549.52 1230.33 1549.52 Q1228.15 1549.52 1225.83 1549.08 Q1223.54 1548.66 1221.09 1547.81 L1221.09 1543.29 Q1223.03 1544.43 1225.35 1545.01 Q1227.66 1545.58 1230.19 1545.58 Q1234.58 1545.58 1236.88 1543.85 Q1239.19 1542.11 1239.19 1538.8 Q1239.19 1535.75 1237.04 1534.03 Q1234.91 1532.3 1231.09 1532.3 L1227.06 1532.3 L1227.06 1528.45 L1231.27 1528.45 Q1234.72 1528.45 1236.55 1527.09 Q1238.38 1525.7 1238.38 1523.11 Q1238.38 1520.45 1236.48 1519.03 Q1234.61 1517.6 1231.09 1517.6 Q1229.17 1517.6 1226.97 1518.01 Q1224.77 1518.43 1222.13 1519.31 L1222.13 1515.14 Q1224.79 1514.4 1227.11 1514.03 Q1229.45 1513.66 1231.51 1513.66 Q1236.83 1513.66 1239.93 1516.09 Q1243.03 1518.5 1243.03 1522.62 Q1243.03 1525.49 1241.39 1527.48 Q1239.75 1529.45 1236.71 1530.21 Z\" fill=\"#000000\" fill-rule=\"nonzero\" fill-opacity=\"1\" /><path clip-path=\"url(#clip530)\" d=\"M1587.77 1518.36 L1575.96 1536.81 L1587.77 1536.81 L1587.77 1518.36 M1586.54 1514.29 L1592.42 1514.29 L1592.42 1536.81 L1597.35 1536.81 L1597.35 1540.7 L1592.42 1540.7 L1592.42 1548.85 L1587.77 1548.85 L1587.77 1540.7 L1572.17 1540.7 L1572.17 1536.19 L1586.54 1514.29 Z\" fill=\"#000000\" fill-rule=\"nonzero\" fill-opacity=\"1\" /><path clip-path=\"url(#clip530)\" d=\"M1927.33 1514.29 L1945.69 1514.29 L1945.69 1518.22 L1931.61 1518.22 L1931.61 1526.7 Q1932.63 1526.35 1933.65 1526.19 Q1934.67 1526 1935.69 1526 Q1941.47 1526 1944.85 1529.17 Q1948.23 1532.34 1948.23 1537.76 Q1948.23 1543.34 1944.76 1546.44 Q1941.29 1549.52 1934.97 1549.52 Q1932.79 1549.52 1930.52 1549.15 Q1928.28 1548.78 1925.87 1548.04 L1925.87 1543.34 Q1927.95 1544.47 1930.18 1545.03 Q1932.4 1545.58 1934.88 1545.58 Q1938.88 1545.58 1941.22 1543.48 Q1943.56 1541.37 1943.56 1537.76 Q1943.56 1534.15 1941.22 1532.04 Q1938.88 1529.94 1934.88 1529.94 Q1933 1529.94 1931.13 1530.35 Q1929.27 1530.77 1927.33 1531.65 L1927.33 1514.29 Z\" fill=\"#000000\" fill-rule=\"nonzero\" fill-opacity=\"1\" /><path clip-path=\"url(#clip530)\" d=\"M2289.75 1529.7 Q2286.6 1529.7 2284.75 1531.86 Q2282.92 1534.01 2282.92 1537.76 Q2282.92 1541.49 2284.75 1543.66 Q2286.6 1545.82 2289.75 1545.82 Q2292.9 1545.82 2294.73 1543.66 Q2296.58 1541.49 2296.58 1537.76 Q2296.58 1534.01 2294.73 1531.86 Q2292.9 1529.7 2289.75 1529.7 M2299.03 1515.05 L2299.03 1519.31 Q2297.27 1518.48 2295.47 1518.04 Q2293.68 1517.6 2291.92 1517.6 Q2287.29 1517.6 2284.84 1520.72 Q2282.41 1523.85 2282.06 1530.17 Q2283.43 1528.15 2285.49 1527.09 Q2287.55 1526 2290.03 1526 Q2295.23 1526 2298.24 1529.17 Q2301.28 1532.32 2301.28 1537.76 Q2301.28 1543.08 2298.13 1546.3 Q2294.98 1549.52 2289.75 1549.52 Q2283.75 1549.52 2280.58 1544.94 Q2277.41 1540.33 2277.41 1531.6 Q2277.41 1523.41 2281.3 1518.55 Q2285.19 1513.66 2291.74 1513.66 Q2293.5 1513.66 2295.28 1514.01 Q2297.09 1514.36 2299.03 1515.05 Z\" fill=\"#000000\" fill-rule=\"nonzero\" fill-opacity=\"1\" /><polyline clip-path=\"url(#clip530)\" style=\"stroke:#000000; stroke-linecap:round; stroke-linejoin:round; stroke-width:4; stroke-opacity:1; fill:none\" points=\"112.177,1486.45 112.177,47.2441 \"/>\n",
       "<polyline clip-path=\"url(#clip530)\" style=\"stroke:#000000; stroke-linecap:round; stroke-linejoin:round; stroke-width:4; stroke-opacity:1; fill:none\" points=\"112.177,1445.72 131.075,1445.72 \"/>\n",
       "<polyline clip-path=\"url(#clip530)\" style=\"stroke:#000000; stroke-linecap:round; stroke-linejoin:round; stroke-width:4; stroke-opacity:1; fill:none\" points=\"112.177,1219.43 131.075,1219.43 \"/>\n",
       "<polyline clip-path=\"url(#clip530)\" style=\"stroke:#000000; stroke-linecap:round; stroke-linejoin:round; stroke-width:4; stroke-opacity:1; fill:none\" points=\"112.177,993.136 131.075,993.136 \"/>\n",
       "<polyline clip-path=\"url(#clip530)\" style=\"stroke:#000000; stroke-linecap:round; stroke-linejoin:round; stroke-width:4; stroke-opacity:1; fill:none\" points=\"112.177,766.846 131.075,766.846 \"/>\n",
       "<polyline clip-path=\"url(#clip530)\" style=\"stroke:#000000; stroke-linecap:round; stroke-linejoin:round; stroke-width:4; stroke-opacity:1; fill:none\" points=\"112.177,540.556 131.075,540.556 \"/>\n",
       "<polyline clip-path=\"url(#clip530)\" style=\"stroke:#000000; stroke-linecap:round; stroke-linejoin:round; stroke-width:4; stroke-opacity:1; fill:none\" points=\"112.177,314.266 131.075,314.266 \"/>\n",
       "<polyline clip-path=\"url(#clip530)\" style=\"stroke:#000000; stroke-linecap:round; stroke-linejoin:round; stroke-width:4; stroke-opacity:1; fill:none\" points=\"112.177,87.9763 131.075,87.9763 \"/>\n",
       "<path clip-path=\"url(#clip530)\" d=\"M64.2328 1431.51 Q60.6217 1431.51 58.793 1435.08 Q56.9875 1438.62 56.9875 1445.75 Q56.9875 1452.86 58.793 1456.42 Q60.6217 1459.96 64.2328 1459.96 Q67.867 1459.96 69.6726 1456.42 Q71.5013 1452.86 71.5013 1445.75 Q71.5013 1438.62 69.6726 1435.08 Q67.867 1431.51 64.2328 1431.51 M64.2328 1427.81 Q70.0429 1427.81 73.0985 1432.42 Q76.1772 1437 76.1772 1445.75 Q76.1772 1454.48 73.0985 1459.08 Q70.0429 1463.67 64.2328 1463.67 Q58.4226 1463.67 55.344 1459.08 Q52.2884 1454.48 52.2884 1445.75 Q52.2884 1437 55.344 1432.42 Q58.4226 1427.81 64.2328 1427.81 Z\" fill=\"#000000\" fill-rule=\"nonzero\" fill-opacity=\"1\" /><path clip-path=\"url(#clip530)\" d=\"M56.2699 1232.77 L63.9087 1232.77 L63.9087 1206.41 L55.5986 1208.07 L55.5986 1203.81 L63.8624 1202.15 L68.5383 1202.15 L68.5383 1232.77 L76.1772 1232.77 L76.1772 1236.71 L56.2699 1236.71 L56.2699 1232.77 Z\" fill=\"#000000\" fill-rule=\"nonzero\" fill-opacity=\"1\" /><path clip-path=\"url(#clip530)\" d=\"M59.8578 1006.48 L76.1772 1006.48 L76.1772 1010.42 L54.2328 1010.42 L54.2328 1006.48 Q56.8949 1003.73 61.4782 999.097 Q66.0846 994.444 67.2652 993.101 Q69.5105 990.578 70.3902 988.842 Q71.2929 987.083 71.2929 985.393 Q71.2929 982.638 69.3485 980.902 Q67.4272 979.166 64.3254 979.166 Q62.1263 979.166 59.6726 979.93 Q57.2421 980.694 54.4643 982.245 L54.4643 977.523 Q57.2884 976.388 59.7421 975.81 Q62.1958 975.231 64.2328 975.231 Q69.6031 975.231 72.7976 977.916 Q75.992 980.601 75.992 985.092 Q75.992 987.222 75.1818 989.143 Q74.3948 991.041 72.2883 993.634 Q71.7096 994.305 68.6078 997.522 Q65.5059 1000.72 59.8578 1006.48 Z\" fill=\"#000000\" fill-rule=\"nonzero\" fill-opacity=\"1\" /><path clip-path=\"url(#clip530)\" d=\"M69.0476 765.492 Q72.404 766.209 74.279 768.478 Q76.1772 770.746 76.1772 774.08 Q76.1772 779.195 72.6587 781.996 Q69.1402 784.797 62.6587 784.797 Q60.4828 784.797 58.168 784.357 Q55.8764 783.941 53.4227 783.084 L53.4227 778.57 Q55.3671 779.705 57.6819 780.283 Q59.9967 780.862 62.5198 780.862 Q66.918 780.862 69.2096 779.126 Q71.5244 777.39 71.5244 774.08 Q71.5244 771.024 69.3717 769.311 Q67.242 767.575 63.4226 767.575 L59.3949 767.575 L59.3949 763.733 L63.6078 763.733 Q67.0569 763.733 68.8855 762.367 Q70.7142 760.978 70.7142 758.385 Q70.7142 755.723 68.8161 754.311 Q66.9411 752.876 63.4226 752.876 Q61.5013 752.876 59.3023 753.293 Q57.1032 753.709 54.4643 754.589 L54.4643 750.422 Q57.1264 749.682 59.4412 749.311 Q61.7791 748.941 63.8393 748.941 Q69.1633 748.941 72.2652 751.372 Q75.367 753.779 75.367 757.899 Q75.367 760.77 73.7235 762.76 Q72.08 764.728 69.0476 765.492 Z\" fill=\"#000000\" fill-rule=\"nonzero\" fill-opacity=\"1\" /><path clip-path=\"url(#clip530)\" d=\"M66.5939 527.35 L54.7884 545.799 L66.5939 545.799 L66.5939 527.35 M65.367 523.276 L71.2466 523.276 L71.2466 545.799 L76.1772 545.799 L76.1772 549.688 L71.2466 549.688 L71.2466 557.836 L66.5939 557.836 L66.5939 549.688 L50.9921 549.688 L50.9921 545.174 L65.367 523.276 Z\" fill=\"#000000\" fill-rule=\"nonzero\" fill-opacity=\"1\" /><path clip-path=\"url(#clip530)\" d=\"M55.2745 296.986 L73.6309 296.986 L73.6309 300.921 L59.5569 300.921 L59.5569 309.394 Q60.5754 309.046 61.5939 308.884 Q62.6124 308.699 63.6309 308.699 Q69.418 308.699 72.7976 311.87 Q76.1772 315.042 76.1772 320.458 Q76.1772 326.037 72.705 329.139 Q69.2328 332.217 62.9134 332.217 Q60.7374 332.217 58.4689 331.847 Q56.2236 331.477 53.8162 330.736 L53.8162 326.037 Q55.8995 327.171 58.1217 327.727 Q60.3439 328.282 62.8208 328.282 Q66.8254 328.282 69.1633 326.176 Q71.5013 324.069 71.5013 320.458 Q71.5013 316.847 69.1633 314.741 Q66.8254 312.634 62.8208 312.634 Q60.9458 312.634 59.0708 313.051 Q57.2189 313.468 55.2745 314.347 L55.2745 296.986 Z\" fill=\"#000000\" fill-rule=\"nonzero\" fill-opacity=\"1\" /><path clip-path=\"url(#clip530)\" d=\"M64.6495 86.1129 Q61.5013 86.1129 59.6495 88.2656 Q57.8208 90.4184 57.8208 94.1684 Q57.8208 97.8952 59.6495 100.071 Q61.5013 102.224 64.6495 102.224 Q67.7976 102.224 69.6263 100.071 Q71.4781 97.8952 71.4781 94.1684 Q71.4781 90.4184 69.6263 88.2656 Q67.7976 86.1129 64.6495 86.1129 M73.9318 71.4602 L73.9318 75.7194 Q72.1726 74.8861 70.367 74.4463 Q68.5846 74.0064 66.8254 74.0064 Q62.1958 74.0064 59.7421 77.1314 Q57.3115 80.2564 56.9643 86.5758 Q58.33 84.5619 60.3902 83.4971 Q62.4504 82.4092 64.9272 82.4092 Q70.1355 82.4092 73.1448 85.5805 Q76.1772 88.7286 76.1772 94.1684 Q76.1772 99.4924 73.029 102.71 Q69.8809 105.928 64.6495 105.928 Q58.6541 105.928 55.4828 101.344 Q52.3116 96.7378 52.3116 88.011 Q52.3116 79.8166 56.2004 74.9555 Q60.0893 70.0713 66.6402 70.0713 Q68.3994 70.0713 70.1818 70.4185 Q71.9874 70.7657 73.9318 71.4602 Z\" fill=\"#000000\" fill-rule=\"nonzero\" fill-opacity=\"1\" /><circle clip-path=\"url(#clip532)\" cx=\"527.882\" cy=\"1219.43\" r=\"14.4\" fill=\"#ff0000\" fill-rule=\"evenodd\" fill-opacity=\"1\" stroke=\"#000000\" stroke-opacity=\"1\" stroke-width=\"3.2\"/>\n",
       "<circle clip-path=\"url(#clip532)\" cx=\"880.174\" cy=\"1219.43\" r=\"14.4\" fill=\"#ff0000\" fill-rule=\"evenodd\" fill-opacity=\"1\" stroke=\"#000000\" stroke-opacity=\"1\" stroke-width=\"3.2\"/>\n",
       "<circle clip-path=\"url(#clip532)\" cx=\"1232.47\" cy=\"1219.43\" r=\"14.4\" fill=\"#ff0000\" fill-rule=\"evenodd\" fill-opacity=\"1\" stroke=\"#000000\" stroke-opacity=\"1\" stroke-width=\"3.2\"/>\n",
       "<circle clip-path=\"url(#clip532)\" cx=\"1584.76\" cy=\"1219.43\" r=\"14.4\" fill=\"#ff0000\" fill-rule=\"evenodd\" fill-opacity=\"1\" stroke=\"#000000\" stroke-opacity=\"1\" stroke-width=\"3.2\"/>\n",
       "<circle clip-path=\"url(#clip532)\" cx=\"1937.05\" cy=\"1219.43\" r=\"14.4\" fill=\"#ff0000\" fill-rule=\"evenodd\" fill-opacity=\"1\" stroke=\"#000000\" stroke-opacity=\"1\" stroke-width=\"3.2\"/>\n",
       "<circle clip-path=\"url(#clip532)\" cx=\"527.882\" cy=\"993.136\" r=\"14.4\" fill=\"#ff0000\" fill-rule=\"evenodd\" fill-opacity=\"1\" stroke=\"#000000\" stroke-opacity=\"1\" stroke-width=\"3.2\"/>\n",
       "<circle clip-path=\"url(#clip532)\" cx=\"880.174\" cy=\"993.136\" r=\"14.4\" fill=\"#ff0000\" fill-rule=\"evenodd\" fill-opacity=\"1\" stroke=\"#000000\" stroke-opacity=\"1\" stroke-width=\"3.2\"/>\n",
       "<circle clip-path=\"url(#clip532)\" cx=\"1232.47\" cy=\"993.136\" r=\"14.4\" fill=\"#ff0000\" fill-rule=\"evenodd\" fill-opacity=\"1\" stroke=\"#000000\" stroke-opacity=\"1\" stroke-width=\"3.2\"/>\n",
       "<circle clip-path=\"url(#clip532)\" cx=\"1584.76\" cy=\"993.136\" r=\"14.4\" fill=\"#ff0000\" fill-rule=\"evenodd\" fill-opacity=\"1\" stroke=\"#000000\" stroke-opacity=\"1\" stroke-width=\"3.2\"/>\n",
       "<circle clip-path=\"url(#clip532)\" cx=\"1937.05\" cy=\"993.136\" r=\"14.4\" fill=\"#ff0000\" fill-rule=\"evenodd\" fill-opacity=\"1\" stroke=\"#000000\" stroke-opacity=\"1\" stroke-width=\"3.2\"/>\n",
       "<circle clip-path=\"url(#clip532)\" cx=\"527.882\" cy=\"766.846\" r=\"14.4\" fill=\"#ff0000\" fill-rule=\"evenodd\" fill-opacity=\"1\" stroke=\"#000000\" stroke-opacity=\"1\" stroke-width=\"3.2\"/>\n",
       "<circle clip-path=\"url(#clip532)\" cx=\"880.174\" cy=\"766.846\" r=\"14.4\" fill=\"#ff0000\" fill-rule=\"evenodd\" fill-opacity=\"1\" stroke=\"#000000\" stroke-opacity=\"1\" stroke-width=\"3.2\"/>\n",
       "<circle clip-path=\"url(#clip532)\" cx=\"1232.47\" cy=\"766.846\" r=\"14.4\" fill=\"#ff0000\" fill-rule=\"evenodd\" fill-opacity=\"1\" stroke=\"#000000\" stroke-opacity=\"1\" stroke-width=\"3.2\"/>\n",
       "<circle clip-path=\"url(#clip532)\" cx=\"1584.76\" cy=\"766.846\" r=\"14.4\" fill=\"#ff0000\" fill-rule=\"evenodd\" fill-opacity=\"1\" stroke=\"#000000\" stroke-opacity=\"1\" stroke-width=\"3.2\"/>\n",
       "<circle clip-path=\"url(#clip532)\" cx=\"1937.05\" cy=\"766.846\" r=\"14.4\" fill=\"#ff0000\" fill-rule=\"evenodd\" fill-opacity=\"1\" stroke=\"#000000\" stroke-opacity=\"1\" stroke-width=\"3.2\"/>\n",
       "<circle clip-path=\"url(#clip532)\" cx=\"527.882\" cy=\"540.556\" r=\"14.4\" fill=\"#ff0000\" fill-rule=\"evenodd\" fill-opacity=\"1\" stroke=\"#000000\" stroke-opacity=\"1\" stroke-width=\"3.2\"/>\n",
       "<circle clip-path=\"url(#clip532)\" cx=\"880.174\" cy=\"540.556\" r=\"14.4\" fill=\"#ff0000\" fill-rule=\"evenodd\" fill-opacity=\"1\" stroke=\"#000000\" stroke-opacity=\"1\" stroke-width=\"3.2\"/>\n",
       "<circle clip-path=\"url(#clip532)\" cx=\"1232.47\" cy=\"540.556\" r=\"14.4\" fill=\"#ff0000\" fill-rule=\"evenodd\" fill-opacity=\"1\" stroke=\"#000000\" stroke-opacity=\"1\" stroke-width=\"3.2\"/>\n",
       "<circle clip-path=\"url(#clip532)\" cx=\"1584.76\" cy=\"540.556\" r=\"14.4\" fill=\"#ff0000\" fill-rule=\"evenodd\" fill-opacity=\"1\" stroke=\"#000000\" stroke-opacity=\"1\" stroke-width=\"3.2\"/>\n",
       "<circle clip-path=\"url(#clip532)\" cx=\"1937.05\" cy=\"540.556\" r=\"14.4\" fill=\"#ff0000\" fill-rule=\"evenodd\" fill-opacity=\"1\" stroke=\"#000000\" stroke-opacity=\"1\" stroke-width=\"3.2\"/>\n",
       "<circle clip-path=\"url(#clip532)\" cx=\"527.882\" cy=\"314.266\" r=\"14.4\" fill=\"#ff0000\" fill-rule=\"evenodd\" fill-opacity=\"1\" stroke=\"#000000\" stroke-opacity=\"1\" stroke-width=\"3.2\"/>\n",
       "<circle clip-path=\"url(#clip532)\" cx=\"880.174\" cy=\"314.266\" r=\"14.4\" fill=\"#ff0000\" fill-rule=\"evenodd\" fill-opacity=\"1\" stroke=\"#000000\" stroke-opacity=\"1\" stroke-width=\"3.2\"/>\n",
       "<circle clip-path=\"url(#clip532)\" cx=\"1232.47\" cy=\"314.266\" r=\"14.4\" fill=\"#ff0000\" fill-rule=\"evenodd\" fill-opacity=\"1\" stroke=\"#000000\" stroke-opacity=\"1\" stroke-width=\"3.2\"/>\n",
       "<circle clip-path=\"url(#clip532)\" cx=\"1584.76\" cy=\"314.266\" r=\"14.4\" fill=\"#ff0000\" fill-rule=\"evenodd\" fill-opacity=\"1\" stroke=\"#000000\" stroke-opacity=\"1\" stroke-width=\"3.2\"/>\n",
       "<circle clip-path=\"url(#clip532)\" cx=\"1937.05\" cy=\"314.266\" r=\"14.4\" fill=\"#ff0000\" fill-rule=\"evenodd\" fill-opacity=\"1\" stroke=\"#000000\" stroke-opacity=\"1\" stroke-width=\"3.2\"/>\n",
       "<path clip-path=\"url(#clip532)\" d=\"M880.174 1445.72 L1232.47 1445.72 L1232.47 1219.43 L880.174 1219.43 L880.174 1445.72  Z\" fill=\"#0000ff\" fill-rule=\"evenodd\" fill-opacity=\"0.5\"/>\n",
       "<polyline clip-path=\"url(#clip532)\" style=\"stroke:#000000; stroke-linecap:round; stroke-linejoin:round; stroke-width:4; stroke-opacity:0.5; fill:none\" points=\"880.174,1445.72 1232.47,1445.72 1232.47,1219.43 880.174,1219.43 880.174,1445.72 \"/>\n",
       "<path clip-path=\"url(#clip532)\" d=\"M1584.76 1445.72 L1937.05 1445.72 L1937.05 1219.43 L1584.76 1219.43 L1584.76 1445.72  Z\" fill=\"#0000ff\" fill-rule=\"evenodd\" fill-opacity=\"0.5\"/>\n",
       "<polyline clip-path=\"url(#clip532)\" style=\"stroke:#000000; stroke-linecap:round; stroke-linejoin:round; stroke-width:4; stroke-opacity:0.5; fill:none\" points=\"1584.76,1445.72 1937.05,1445.72 1937.05,1219.43 1584.76,1219.43 1584.76,1445.72 \"/>\n",
       "<path clip-path=\"url(#clip532)\" d=\"M527.882 1219.43 L880.174 1219.43 L880.174 993.136 L527.882 993.136 L527.882 1219.43  Z\" fill=\"#0000ff\" fill-rule=\"evenodd\" fill-opacity=\"0.5\"/>\n",
       "<polyline clip-path=\"url(#clip532)\" style=\"stroke:#000000; stroke-linecap:round; stroke-linejoin:round; stroke-width:4; stroke-opacity:0.5; fill:none\" points=\"527.882,1219.43 880.174,1219.43 880.174,993.136 527.882,993.136 527.882,1219.43 \"/>\n",
       "<path clip-path=\"url(#clip532)\" d=\"M1232.47 1219.43 L1584.76 1219.43 L1584.76 993.136 L1232.47 993.136 L1232.47 1219.43  Z\" fill=\"#0000ff\" fill-rule=\"evenodd\" fill-opacity=\"0.5\"/>\n",
       "<polyline clip-path=\"url(#clip532)\" style=\"stroke:#000000; stroke-linecap:round; stroke-linejoin:round; stroke-width:4; stroke-opacity:0.5; fill:none\" points=\"1232.47,1219.43 1584.76,1219.43 1584.76,993.136 1232.47,993.136 1232.47,1219.43 \"/>\n",
       "<path clip-path=\"url(#clip532)\" d=\"M880.174 993.136 L1232.47 993.136 L1232.47 766.846 L880.174 766.846 L880.174 993.136  Z\" fill=\"#0000ff\" fill-rule=\"evenodd\" fill-opacity=\"0.5\"/>\n",
       "<polyline clip-path=\"url(#clip532)\" style=\"stroke:#000000; stroke-linecap:round; stroke-linejoin:round; stroke-width:4; stroke-opacity:0.5; fill:none\" points=\"880.174,993.136 1232.47,993.136 1232.47,766.846 880.174,766.846 880.174,993.136 \"/>\n",
       "<path clip-path=\"url(#clip532)\" d=\"M1584.76 993.136 L1937.05 993.136 L1937.05 766.846 L1584.76 766.846 L1584.76 993.136  Z\" fill=\"#0000ff\" fill-rule=\"evenodd\" fill-opacity=\"0.5\"/>\n",
       "<polyline clip-path=\"url(#clip532)\" style=\"stroke:#000000; stroke-linecap:round; stroke-linejoin:round; stroke-width:4; stroke-opacity:0.5; fill:none\" points=\"1584.76,993.136 1937.05,993.136 1937.05,766.846 1584.76,766.846 1584.76,993.136 \"/>\n",
       "<path clip-path=\"url(#clip532)\" d=\"M527.882 766.846 L880.174 766.846 L880.174 540.556 L527.882 540.556 L527.882 766.846  Z\" fill=\"#0000ff\" fill-rule=\"evenodd\" fill-opacity=\"0.5\"/>\n",
       "<polyline clip-path=\"url(#clip532)\" style=\"stroke:#000000; stroke-linecap:round; stroke-linejoin:round; stroke-width:4; stroke-opacity:0.5; fill:none\" points=\"527.882,766.846 880.174,766.846 880.174,540.556 527.882,540.556 527.882,766.846 \"/>\n",
       "<path clip-path=\"url(#clip532)\" d=\"M1232.47 766.846 L1584.76 766.846 L1584.76 540.556 L1232.47 540.556 L1232.47 766.846  Z\" fill=\"#0000ff\" fill-rule=\"evenodd\" fill-opacity=\"0.5\"/>\n",
       "<polyline clip-path=\"url(#clip532)\" style=\"stroke:#000000; stroke-linecap:round; stroke-linejoin:round; stroke-width:4; stroke-opacity:0.5; fill:none\" points=\"1232.47,766.846 1584.76,766.846 1584.76,540.556 1232.47,540.556 1232.47,766.846 \"/>\n",
       "<path clip-path=\"url(#clip532)\" d=\"M880.174 540.556 L1232.47 540.556 L1232.47 314.266 L880.174 314.266 L880.174 540.556  Z\" fill=\"#0000ff\" fill-rule=\"evenodd\" fill-opacity=\"0.5\"/>\n",
       "<polyline clip-path=\"url(#clip532)\" style=\"stroke:#000000; stroke-linecap:round; stroke-linejoin:round; stroke-width:4; stroke-opacity:0.5; fill:none\" points=\"880.174,540.556 1232.47,540.556 1232.47,314.266 880.174,314.266 880.174,540.556 \"/>\n",
       "<path clip-path=\"url(#clip532)\" d=\"M1584.76 540.556 L1937.05 540.556 L1937.05 314.266 L1584.76 314.266 L1584.76 540.556  Z\" fill=\"#0000ff\" fill-rule=\"evenodd\" fill-opacity=\"0.5\"/>\n",
       "<polyline clip-path=\"url(#clip532)\" style=\"stroke:#000000; stroke-linecap:round; stroke-linejoin:round; stroke-width:4; stroke-opacity:0.5; fill:none\" points=\"1584.76,540.556 1937.05,540.556 1937.05,314.266 1584.76,314.266 1584.76,540.556 \"/>\n",
       "<path clip-path=\"url(#clip532)\" d=\"M527.882 314.266 L880.174 314.266 L880.174 87.9763 L527.882 87.9763 L527.882 314.266  Z\" fill=\"#0000ff\" fill-rule=\"evenodd\" fill-opacity=\"0.5\"/>\n",
       "<polyline clip-path=\"url(#clip532)\" style=\"stroke:#000000; stroke-linecap:round; stroke-linejoin:round; stroke-width:4; stroke-opacity:0.5; fill:none\" points=\"527.882,314.266 880.174,314.266 880.174,87.9763 527.882,87.9763 527.882,314.266 \"/>\n",
       "<path clip-path=\"url(#clip532)\" d=\"M1232.47 314.266 L1584.76 314.266 L1584.76 87.9763 L1232.47 87.9763 L1232.47 314.266  Z\" fill=\"#0000ff\" fill-rule=\"evenodd\" fill-opacity=\"0.5\"/>\n",
       "<polyline clip-path=\"url(#clip532)\" style=\"stroke:#000000; stroke-linecap:round; stroke-linejoin:round; stroke-width:4; stroke-opacity:0.5; fill:none\" points=\"1232.47,314.266 1584.76,314.266 1584.76,87.9763 1232.47,87.9763 1232.47,314.266 \"/>\n",
       "<path clip-path=\"url(#clip532)\" d=\"M175.59 1219.43 L527.882 1219.43 L527.882 993.136 L175.59 993.136 L175.59 1219.43  Z\" fill=\"#008000\" fill-rule=\"evenodd\" fill-opacity=\"0.5\"/>\n",
       "<polyline clip-path=\"url(#clip532)\" style=\"stroke:#000000; stroke-linecap:round; stroke-linejoin:round; stroke-width:4; stroke-opacity:0.5; fill:none\" points=\"175.59,1219.43 527.882,1219.43 527.882,993.136 175.59,993.136 175.59,1219.43 \"/>\n",
       "<path clip-path=\"url(#clip532)\" d=\"M175.59 766.846 L527.882 766.846 L527.882 540.556 L175.59 540.556 L175.59 766.846  Z\" fill=\"#008000\" fill-rule=\"evenodd\" fill-opacity=\"0.5\"/>\n",
       "<polyline clip-path=\"url(#clip532)\" style=\"stroke:#000000; stroke-linecap:round; stroke-linejoin:round; stroke-width:4; stroke-opacity:0.5; fill:none\" points=\"175.59,766.846 527.882,766.846 527.882,540.556 175.59,540.556 175.59,766.846 \"/>\n",
       "<path clip-path=\"url(#clip532)\" d=\"M527.882 993.136 L880.174 993.136 L880.174 766.846 L527.882 766.846 L527.882 993.136  Z\" fill=\"#008000\" fill-rule=\"evenodd\" fill-opacity=\"0.5\"/>\n",
       "<polyline clip-path=\"url(#clip532)\" style=\"stroke:#000000; stroke-linecap:round; stroke-linejoin:round; stroke-width:4; stroke-opacity:0.5; fill:none\" points=\"527.882,993.136 880.174,993.136 880.174,766.846 527.882,766.846 527.882,993.136 \"/>\n",
       "<path clip-path=\"url(#clip532)\" d=\"M527.882 540.556 L880.174 540.556 L880.174 314.266 L527.882 314.266 L527.882 540.556  Z\" fill=\"#008000\" fill-rule=\"evenodd\" fill-opacity=\"0.5\"/>\n",
       "<polyline clip-path=\"url(#clip532)\" style=\"stroke:#000000; stroke-linecap:round; stroke-linejoin:round; stroke-width:4; stroke-opacity:0.5; fill:none\" points=\"527.882,540.556 880.174,540.556 880.174,314.266 527.882,314.266 527.882,540.556 \"/>\n",
       "<path clip-path=\"url(#clip532)\" d=\"M880.174 1219.43 L1232.47 1219.43 L1232.47 993.136 L880.174 993.136 L880.174 1219.43  Z\" fill=\"#008000\" fill-rule=\"evenodd\" fill-opacity=\"0.5\"/>\n",
       "<polyline clip-path=\"url(#clip532)\" style=\"stroke:#000000; stroke-linecap:round; stroke-linejoin:round; stroke-width:4; stroke-opacity:0.5; fill:none\" points=\"880.174,1219.43 1232.47,1219.43 1232.47,993.136 880.174,993.136 880.174,1219.43 \"/>\n",
       "<path clip-path=\"url(#clip532)\" d=\"M880.174 766.846 L1232.47 766.846 L1232.47 540.556 L880.174 540.556 L880.174 766.846  Z\" fill=\"#008000\" fill-rule=\"evenodd\" fill-opacity=\"0.5\"/>\n",
       "<polyline clip-path=\"url(#clip532)\" style=\"stroke:#000000; stroke-linecap:round; stroke-linejoin:round; stroke-width:4; stroke-opacity:0.5; fill:none\" points=\"880.174,766.846 1232.47,766.846 1232.47,540.556 880.174,540.556 880.174,766.846 \"/>\n",
       "<path clip-path=\"url(#clip532)\" d=\"M1232.47 993.136 L1584.76 993.136 L1584.76 766.846 L1232.47 766.846 L1232.47 993.136  Z\" fill=\"#008000\" fill-rule=\"evenodd\" fill-opacity=\"0.5\"/>\n",
       "<polyline clip-path=\"url(#clip532)\" style=\"stroke:#000000; stroke-linecap:round; stroke-linejoin:round; stroke-width:4; stroke-opacity:0.5; fill:none\" points=\"1232.47,993.136 1584.76,993.136 1584.76,766.846 1232.47,766.846 1232.47,993.136 \"/>\n",
       "<path clip-path=\"url(#clip532)\" d=\"M1232.47 540.556 L1584.76 540.556 L1584.76 314.266 L1232.47 314.266 L1232.47 540.556  Z\" fill=\"#008000\" fill-rule=\"evenodd\" fill-opacity=\"0.5\"/>\n",
       "<polyline clip-path=\"url(#clip532)\" style=\"stroke:#000000; stroke-linecap:round; stroke-linejoin:round; stroke-width:4; stroke-opacity:0.5; fill:none\" points=\"1232.47,540.556 1584.76,540.556 1584.76,314.266 1232.47,314.266 1232.47,540.556 \"/>\n",
       "<path clip-path=\"url(#clip532)\" d=\"M1584.76 1219.43 L1937.05 1219.43 L1937.05 993.136 L1584.76 993.136 L1584.76 1219.43  Z\" fill=\"#008000\" fill-rule=\"evenodd\" fill-opacity=\"0.5\"/>\n",
       "<polyline clip-path=\"url(#clip532)\" style=\"stroke:#000000; stroke-linecap:round; stroke-linejoin:round; stroke-width:4; stroke-opacity:0.5; fill:none\" points=\"1584.76,1219.43 1937.05,1219.43 1937.05,993.136 1584.76,993.136 1584.76,1219.43 \"/>\n",
       "<path clip-path=\"url(#clip532)\" d=\"M1584.76 766.846 L1937.05 766.846 L1937.05 540.556 L1584.76 540.556 L1584.76 766.846  Z\" fill=\"#008000\" fill-rule=\"evenodd\" fill-opacity=\"0.5\"/>\n",
       "<polyline clip-path=\"url(#clip532)\" style=\"stroke:#000000; stroke-linecap:round; stroke-linejoin:round; stroke-width:4; stroke-opacity:0.5; fill:none\" points=\"1584.76,766.846 1937.05,766.846 1937.05,540.556 1584.76,540.556 1584.76,766.846 \"/>\n",
       "<path clip-path=\"url(#clip532)\" d=\"M1937.05 993.136 L2289.34 993.136 L2289.34 766.846 L1937.05 766.846 L1937.05 993.136  Z\" fill=\"#008000\" fill-rule=\"evenodd\" fill-opacity=\"0.5\"/>\n",
       "<polyline clip-path=\"url(#clip532)\" style=\"stroke:#000000; stroke-linecap:round; stroke-linejoin:round; stroke-width:4; stroke-opacity:0.5; fill:none\" points=\"1937.05,993.136 2289.34,993.136 2289.34,766.846 1937.05,766.846 1937.05,993.136 \"/>\n",
       "<path clip-path=\"url(#clip532)\" d=\"M1937.05 540.556 L2289.34 540.556 L2289.34 314.266 L1937.05 314.266 L1937.05 540.556  Z\" fill=\"#008000\" fill-rule=\"evenodd\" fill-opacity=\"0.5\"/>\n",
       "<polyline clip-path=\"url(#clip532)\" style=\"stroke:#000000; stroke-linecap:round; stroke-linejoin:round; stroke-width:4; stroke-opacity:0.5; fill:none\" points=\"1937.05,540.556 2289.34,540.556 2289.34,314.266 1937.05,314.266 1937.05,540.556 \"/>\n",
       "</svg>\n"
      ],
      "text/html": [
       "<?xml version=\"1.0\" encoding=\"utf-8\"?>\n",
       "<svg xmlns=\"http://www.w3.org/2000/svg\" xmlns:xlink=\"http://www.w3.org/1999/xlink\" width=\"600\" height=\"400\" viewBox=\"0 0 2400 1600\">\n",
       "<defs>\n",
       "  <clipPath id=\"clip580\">\n",
       "    <rect x=\"0\" y=\"0\" width=\"2400\" height=\"1600\"/>\n",
       "  </clipPath>\n",
       "</defs>\n",
       "<path clip-path=\"url(#clip580)\" d=\"M0 1600 L2400 1600 L2400 0 L0 0  Z\" fill=\"#ffffff\" fill-rule=\"evenodd\" fill-opacity=\"1\"/>\n",
       "<defs>\n",
       "  <clipPath id=\"clip581\">\n",
       "    <rect x=\"480\" y=\"0\" width=\"1681\" height=\"1600\"/>\n",
       "  </clipPath>\n",
       "</defs>\n",
       "<path clip-path=\"url(#clip580)\" d=\"M112.177 1486.45 L2352.76 1486.45 L2352.76 47.2441 L112.177 47.2441  Z\" fill=\"#ffffff\" fill-rule=\"evenodd\" fill-opacity=\"1\"/>\n",
       "<defs>\n",
       "  <clipPath id=\"clip582\">\n",
       "    <rect x=\"112\" y=\"47\" width=\"2242\" height=\"1440\"/>\n",
       "  </clipPath>\n",
       "</defs>\n",
       "<polyline clip-path=\"url(#clip582)\" style=\"stroke:#000000; stroke-linecap:round; stroke-linejoin:round; stroke-width:2; stroke-opacity:0.1; fill:none\" points=\"175.59,1486.45 175.59,47.2441 \"/>\n",
       "<polyline clip-path=\"url(#clip582)\" style=\"stroke:#000000; stroke-linecap:round; stroke-linejoin:round; stroke-width:2; stroke-opacity:0.1; fill:none\" points=\"527.882,1486.45 527.882,47.2441 \"/>\n",
       "<polyline clip-path=\"url(#clip582)\" style=\"stroke:#000000; stroke-linecap:round; stroke-linejoin:round; stroke-width:2; stroke-opacity:0.1; fill:none\" points=\"880.174,1486.45 880.174,47.2441 \"/>\n",
       "<polyline clip-path=\"url(#clip582)\" style=\"stroke:#000000; stroke-linecap:round; stroke-linejoin:round; stroke-width:2; stroke-opacity:0.1; fill:none\" points=\"1232.47,1486.45 1232.47,47.2441 \"/>\n",
       "<polyline clip-path=\"url(#clip582)\" style=\"stroke:#000000; stroke-linecap:round; stroke-linejoin:round; stroke-width:2; stroke-opacity:0.1; fill:none\" points=\"1584.76,1486.45 1584.76,47.2441 \"/>\n",
       "<polyline clip-path=\"url(#clip582)\" style=\"stroke:#000000; stroke-linecap:round; stroke-linejoin:round; stroke-width:2; stroke-opacity:0.1; fill:none\" points=\"1937.05,1486.45 1937.05,47.2441 \"/>\n",
       "<polyline clip-path=\"url(#clip582)\" style=\"stroke:#000000; stroke-linecap:round; stroke-linejoin:round; stroke-width:2; stroke-opacity:0.1; fill:none\" points=\"2289.34,1486.45 2289.34,47.2441 \"/>\n",
       "<polyline clip-path=\"url(#clip582)\" style=\"stroke:#000000; stroke-linecap:round; stroke-linejoin:round; stroke-width:2; stroke-opacity:0.1; fill:none\" points=\"112.177,1445.72 2352.76,1445.72 \"/>\n",
       "<polyline clip-path=\"url(#clip582)\" style=\"stroke:#000000; stroke-linecap:round; stroke-linejoin:round; stroke-width:2; stroke-opacity:0.1; fill:none\" points=\"112.177,1219.43 2352.76,1219.43 \"/>\n",
       "<polyline clip-path=\"url(#clip582)\" style=\"stroke:#000000; stroke-linecap:round; stroke-linejoin:round; stroke-width:2; stroke-opacity:0.1; fill:none\" points=\"112.177,993.136 2352.76,993.136 \"/>\n",
       "<polyline clip-path=\"url(#clip582)\" style=\"stroke:#000000; stroke-linecap:round; stroke-linejoin:round; stroke-width:2; stroke-opacity:0.1; fill:none\" points=\"112.177,766.846 2352.76,766.846 \"/>\n",
       "<polyline clip-path=\"url(#clip582)\" style=\"stroke:#000000; stroke-linecap:round; stroke-linejoin:round; stroke-width:2; stroke-opacity:0.1; fill:none\" points=\"112.177,540.556 2352.76,540.556 \"/>\n",
       "<polyline clip-path=\"url(#clip582)\" style=\"stroke:#000000; stroke-linecap:round; stroke-linejoin:round; stroke-width:2; stroke-opacity:0.1; fill:none\" points=\"112.177,314.266 2352.76,314.266 \"/>\n",
       "<polyline clip-path=\"url(#clip582)\" style=\"stroke:#000000; stroke-linecap:round; stroke-linejoin:round; stroke-width:2; stroke-opacity:0.1; fill:none\" points=\"112.177,87.9763 2352.76,87.9763 \"/>\n",
       "<polyline clip-path=\"url(#clip580)\" style=\"stroke:#000000; stroke-linecap:round; stroke-linejoin:round; stroke-width:4; stroke-opacity:1; fill:none\" points=\"112.177,1486.45 2352.76,1486.45 \"/>\n",
       "<polyline clip-path=\"url(#clip580)\" style=\"stroke:#000000; stroke-linecap:round; stroke-linejoin:round; stroke-width:4; stroke-opacity:1; fill:none\" points=\"175.59,1486.45 175.59,1467.55 \"/>\n",
       "<polyline clip-path=\"url(#clip580)\" style=\"stroke:#000000; stroke-linecap:round; stroke-linejoin:round; stroke-width:4; stroke-opacity:1; fill:none\" points=\"527.882,1486.45 527.882,1467.55 \"/>\n",
       "<polyline clip-path=\"url(#clip580)\" style=\"stroke:#000000; stroke-linecap:round; stroke-linejoin:round; stroke-width:4; stroke-opacity:1; fill:none\" points=\"880.174,1486.45 880.174,1467.55 \"/>\n",
       "<polyline clip-path=\"url(#clip580)\" style=\"stroke:#000000; stroke-linecap:round; stroke-linejoin:round; stroke-width:4; stroke-opacity:1; fill:none\" points=\"1232.47,1486.45 1232.47,1467.55 \"/>\n",
       "<polyline clip-path=\"url(#clip580)\" style=\"stroke:#000000; stroke-linecap:round; stroke-linejoin:round; stroke-width:4; stroke-opacity:1; fill:none\" points=\"1584.76,1486.45 1584.76,1467.55 \"/>\n",
       "<polyline clip-path=\"url(#clip580)\" style=\"stroke:#000000; stroke-linecap:round; stroke-linejoin:round; stroke-width:4; stroke-opacity:1; fill:none\" points=\"1937.05,1486.45 1937.05,1467.55 \"/>\n",
       "<polyline clip-path=\"url(#clip580)\" style=\"stroke:#000000; stroke-linecap:round; stroke-linejoin:round; stroke-width:4; stroke-opacity:1; fill:none\" points=\"2289.34,1486.45 2289.34,1467.55 \"/>\n",
       "<path clip-path=\"url(#clip580)\" d=\"M175.59 1517.37 Q171.979 1517.37 170.15 1520.93 Q168.344 1524.47 168.344 1531.6 Q168.344 1538.71 170.15 1542.27 Q171.979 1545.82 175.59 1545.82 Q179.224 1545.82 181.03 1542.27 Q182.858 1538.71 182.858 1531.6 Q182.858 1524.47 181.03 1520.93 Q179.224 1517.37 175.59 1517.37 M175.59 1513.66 Q181.4 1513.66 184.455 1518.27 Q187.534 1522.85 187.534 1531.6 Q187.534 1540.33 184.455 1544.94 Q181.4 1549.52 175.59 1549.52 Q169.78 1549.52 166.701 1544.94 Q163.645 1540.33 163.645 1531.6 Q163.645 1522.85 166.701 1518.27 Q169.78 1513.66 175.59 1513.66 Z\" fill=\"#000000\" fill-rule=\"nonzero\" fill-opacity=\"1\" /><path clip-path=\"url(#clip580)\" d=\"M518.264 1544.91 L525.903 1544.91 L525.903 1518.55 L517.593 1520.21 L517.593 1515.95 L525.857 1514.29 L530.532 1514.29 L530.532 1544.91 L538.171 1544.91 L538.171 1548.85 L518.264 1548.85 L518.264 1544.91 Z\" fill=\"#000000\" fill-rule=\"nonzero\" fill-opacity=\"1\" /><path clip-path=\"url(#clip580)\" d=\"M874.827 1544.91 L891.146 1544.91 L891.146 1548.85 L869.202 1548.85 L869.202 1544.91 Q871.864 1542.16 876.447 1537.53 Q881.054 1532.88 882.234 1531.53 Q884.48 1529.01 885.359 1527.27 Q886.262 1525.51 886.262 1523.82 Q886.262 1521.07 884.318 1519.33 Q882.396 1517.6 879.295 1517.6 Q877.096 1517.6 874.642 1518.36 Q872.211 1519.13 869.434 1520.68 L869.434 1515.95 Q872.258 1514.82 874.711 1514.24 Q877.165 1513.66 879.202 1513.66 Q884.572 1513.66 887.767 1516.35 Q890.961 1519.03 890.961 1523.52 Q890.961 1525.65 890.151 1527.57 Q889.364 1529.47 887.258 1532.07 Q886.679 1532.74 883.577 1535.95 Q880.475 1539.15 874.827 1544.91 Z\" fill=\"#000000\" fill-rule=\"nonzero\" fill-opacity=\"1\" /><path clip-path=\"url(#clip580)\" d=\"M1236.71 1530.21 Q1240.07 1530.93 1241.95 1533.2 Q1243.84 1535.47 1243.84 1538.8 Q1243.84 1543.92 1240.33 1546.72 Q1236.81 1549.52 1230.33 1549.52 Q1228.15 1549.52 1225.83 1549.08 Q1223.54 1548.66 1221.09 1547.81 L1221.09 1543.29 Q1223.03 1544.43 1225.35 1545.01 Q1227.66 1545.58 1230.19 1545.58 Q1234.58 1545.58 1236.88 1543.85 Q1239.19 1542.11 1239.19 1538.8 Q1239.19 1535.75 1237.04 1534.03 Q1234.91 1532.3 1231.09 1532.3 L1227.06 1532.3 L1227.06 1528.45 L1231.27 1528.45 Q1234.72 1528.45 1236.55 1527.09 Q1238.38 1525.7 1238.38 1523.11 Q1238.38 1520.45 1236.48 1519.03 Q1234.61 1517.6 1231.09 1517.6 Q1229.17 1517.6 1226.97 1518.01 Q1224.77 1518.43 1222.13 1519.31 L1222.13 1515.14 Q1224.79 1514.4 1227.11 1514.03 Q1229.45 1513.66 1231.51 1513.66 Q1236.83 1513.66 1239.93 1516.09 Q1243.03 1518.5 1243.03 1522.62 Q1243.03 1525.49 1241.39 1527.48 Q1239.75 1529.45 1236.71 1530.21 Z\" fill=\"#000000\" fill-rule=\"nonzero\" fill-opacity=\"1\" /><path clip-path=\"url(#clip580)\" d=\"M1587.77 1518.36 L1575.96 1536.81 L1587.77 1536.81 L1587.77 1518.36 M1586.54 1514.29 L1592.42 1514.29 L1592.42 1536.81 L1597.35 1536.81 L1597.35 1540.7 L1592.42 1540.7 L1592.42 1548.85 L1587.77 1548.85 L1587.77 1540.7 L1572.17 1540.7 L1572.17 1536.19 L1586.54 1514.29 Z\" fill=\"#000000\" fill-rule=\"nonzero\" fill-opacity=\"1\" /><path clip-path=\"url(#clip580)\" d=\"M1927.33 1514.29 L1945.69 1514.29 L1945.69 1518.22 L1931.61 1518.22 L1931.61 1526.7 Q1932.63 1526.35 1933.65 1526.19 Q1934.67 1526 1935.69 1526 Q1941.47 1526 1944.85 1529.17 Q1948.23 1532.34 1948.23 1537.76 Q1948.23 1543.34 1944.76 1546.44 Q1941.29 1549.52 1934.97 1549.52 Q1932.79 1549.52 1930.52 1549.15 Q1928.28 1548.78 1925.87 1548.04 L1925.87 1543.34 Q1927.95 1544.47 1930.18 1545.03 Q1932.4 1545.58 1934.88 1545.58 Q1938.88 1545.58 1941.22 1543.48 Q1943.56 1541.37 1943.56 1537.76 Q1943.56 1534.15 1941.22 1532.04 Q1938.88 1529.94 1934.88 1529.94 Q1933 1529.94 1931.13 1530.35 Q1929.27 1530.77 1927.33 1531.65 L1927.33 1514.29 Z\" fill=\"#000000\" fill-rule=\"nonzero\" fill-opacity=\"1\" /><path clip-path=\"url(#clip580)\" d=\"M2289.75 1529.7 Q2286.6 1529.7 2284.75 1531.86 Q2282.92 1534.01 2282.92 1537.76 Q2282.92 1541.49 2284.75 1543.66 Q2286.6 1545.82 2289.75 1545.82 Q2292.9 1545.82 2294.73 1543.66 Q2296.58 1541.49 2296.58 1537.76 Q2296.58 1534.01 2294.73 1531.86 Q2292.9 1529.7 2289.75 1529.7 M2299.03 1515.05 L2299.03 1519.31 Q2297.27 1518.48 2295.47 1518.04 Q2293.68 1517.6 2291.92 1517.6 Q2287.29 1517.6 2284.84 1520.72 Q2282.41 1523.85 2282.06 1530.17 Q2283.43 1528.15 2285.49 1527.09 Q2287.55 1526 2290.03 1526 Q2295.23 1526 2298.24 1529.17 Q2301.28 1532.32 2301.28 1537.76 Q2301.28 1543.08 2298.13 1546.3 Q2294.98 1549.52 2289.75 1549.52 Q2283.75 1549.52 2280.58 1544.94 Q2277.41 1540.33 2277.41 1531.6 Q2277.41 1523.41 2281.3 1518.55 Q2285.19 1513.66 2291.74 1513.66 Q2293.5 1513.66 2295.28 1514.01 Q2297.09 1514.36 2299.03 1515.05 Z\" fill=\"#000000\" fill-rule=\"nonzero\" fill-opacity=\"1\" /><polyline clip-path=\"url(#clip580)\" style=\"stroke:#000000; stroke-linecap:round; stroke-linejoin:round; stroke-width:4; stroke-opacity:1; fill:none\" points=\"112.177,1486.45 112.177,47.2441 \"/>\n",
       "<polyline clip-path=\"url(#clip580)\" style=\"stroke:#000000; stroke-linecap:round; stroke-linejoin:round; stroke-width:4; stroke-opacity:1; fill:none\" points=\"112.177,1445.72 131.075,1445.72 \"/>\n",
       "<polyline clip-path=\"url(#clip580)\" style=\"stroke:#000000; stroke-linecap:round; stroke-linejoin:round; stroke-width:4; stroke-opacity:1; fill:none\" points=\"112.177,1219.43 131.075,1219.43 \"/>\n",
       "<polyline clip-path=\"url(#clip580)\" style=\"stroke:#000000; stroke-linecap:round; stroke-linejoin:round; stroke-width:4; stroke-opacity:1; fill:none\" points=\"112.177,993.136 131.075,993.136 \"/>\n",
       "<polyline clip-path=\"url(#clip580)\" style=\"stroke:#000000; stroke-linecap:round; stroke-linejoin:round; stroke-width:4; stroke-opacity:1; fill:none\" points=\"112.177,766.846 131.075,766.846 \"/>\n",
       "<polyline clip-path=\"url(#clip580)\" style=\"stroke:#000000; stroke-linecap:round; stroke-linejoin:round; stroke-width:4; stroke-opacity:1; fill:none\" points=\"112.177,540.556 131.075,540.556 \"/>\n",
       "<polyline clip-path=\"url(#clip580)\" style=\"stroke:#000000; stroke-linecap:round; stroke-linejoin:round; stroke-width:4; stroke-opacity:1; fill:none\" points=\"112.177,314.266 131.075,314.266 \"/>\n",
       "<polyline clip-path=\"url(#clip580)\" style=\"stroke:#000000; stroke-linecap:round; stroke-linejoin:round; stroke-width:4; stroke-opacity:1; fill:none\" points=\"112.177,87.9763 131.075,87.9763 \"/>\n",
       "<path clip-path=\"url(#clip580)\" d=\"M64.2328 1431.51 Q60.6217 1431.51 58.793 1435.08 Q56.9875 1438.62 56.9875 1445.75 Q56.9875 1452.86 58.793 1456.42 Q60.6217 1459.96 64.2328 1459.96 Q67.867 1459.96 69.6726 1456.42 Q71.5013 1452.86 71.5013 1445.75 Q71.5013 1438.62 69.6726 1435.08 Q67.867 1431.51 64.2328 1431.51 M64.2328 1427.81 Q70.0429 1427.81 73.0985 1432.42 Q76.1772 1437 76.1772 1445.75 Q76.1772 1454.48 73.0985 1459.08 Q70.0429 1463.67 64.2328 1463.67 Q58.4226 1463.67 55.344 1459.08 Q52.2884 1454.48 52.2884 1445.75 Q52.2884 1437 55.344 1432.42 Q58.4226 1427.81 64.2328 1427.81 Z\" fill=\"#000000\" fill-rule=\"nonzero\" fill-opacity=\"1\" /><path clip-path=\"url(#clip580)\" d=\"M56.2699 1232.77 L63.9087 1232.77 L63.9087 1206.41 L55.5986 1208.07 L55.5986 1203.81 L63.8624 1202.15 L68.5383 1202.15 L68.5383 1232.77 L76.1772 1232.77 L76.1772 1236.71 L56.2699 1236.71 L56.2699 1232.77 Z\" fill=\"#000000\" fill-rule=\"nonzero\" fill-opacity=\"1\" /><path clip-path=\"url(#clip580)\" d=\"M59.8578 1006.48 L76.1772 1006.48 L76.1772 1010.42 L54.2328 1010.42 L54.2328 1006.48 Q56.8949 1003.73 61.4782 999.097 Q66.0846 994.444 67.2652 993.101 Q69.5105 990.578 70.3902 988.842 Q71.2929 987.083 71.2929 985.393 Q71.2929 982.638 69.3485 980.902 Q67.4272 979.166 64.3254 979.166 Q62.1263 979.166 59.6726 979.93 Q57.2421 980.694 54.4643 982.245 L54.4643 977.523 Q57.2884 976.388 59.7421 975.81 Q62.1958 975.231 64.2328 975.231 Q69.6031 975.231 72.7976 977.916 Q75.992 980.601 75.992 985.092 Q75.992 987.222 75.1818 989.143 Q74.3948 991.041 72.2883 993.634 Q71.7096 994.305 68.6078 997.522 Q65.5059 1000.72 59.8578 1006.48 Z\" fill=\"#000000\" fill-rule=\"nonzero\" fill-opacity=\"1\" /><path clip-path=\"url(#clip580)\" d=\"M69.0476 765.492 Q72.404 766.209 74.279 768.478 Q76.1772 770.746 76.1772 774.08 Q76.1772 779.195 72.6587 781.996 Q69.1402 784.797 62.6587 784.797 Q60.4828 784.797 58.168 784.357 Q55.8764 783.941 53.4227 783.084 L53.4227 778.57 Q55.3671 779.705 57.6819 780.283 Q59.9967 780.862 62.5198 780.862 Q66.918 780.862 69.2096 779.126 Q71.5244 777.39 71.5244 774.08 Q71.5244 771.024 69.3717 769.311 Q67.242 767.575 63.4226 767.575 L59.3949 767.575 L59.3949 763.733 L63.6078 763.733 Q67.0569 763.733 68.8855 762.367 Q70.7142 760.978 70.7142 758.385 Q70.7142 755.723 68.8161 754.311 Q66.9411 752.876 63.4226 752.876 Q61.5013 752.876 59.3023 753.293 Q57.1032 753.709 54.4643 754.589 L54.4643 750.422 Q57.1264 749.682 59.4412 749.311 Q61.7791 748.941 63.8393 748.941 Q69.1633 748.941 72.2652 751.372 Q75.367 753.779 75.367 757.899 Q75.367 760.77 73.7235 762.76 Q72.08 764.728 69.0476 765.492 Z\" fill=\"#000000\" fill-rule=\"nonzero\" fill-opacity=\"1\" /><path clip-path=\"url(#clip580)\" d=\"M66.5939 527.35 L54.7884 545.799 L66.5939 545.799 L66.5939 527.35 M65.367 523.276 L71.2466 523.276 L71.2466 545.799 L76.1772 545.799 L76.1772 549.688 L71.2466 549.688 L71.2466 557.836 L66.5939 557.836 L66.5939 549.688 L50.9921 549.688 L50.9921 545.174 L65.367 523.276 Z\" fill=\"#000000\" fill-rule=\"nonzero\" fill-opacity=\"1\" /><path clip-path=\"url(#clip580)\" d=\"M55.2745 296.986 L73.6309 296.986 L73.6309 300.921 L59.5569 300.921 L59.5569 309.394 Q60.5754 309.046 61.5939 308.884 Q62.6124 308.699 63.6309 308.699 Q69.418 308.699 72.7976 311.87 Q76.1772 315.042 76.1772 320.458 Q76.1772 326.037 72.705 329.139 Q69.2328 332.217 62.9134 332.217 Q60.7374 332.217 58.4689 331.847 Q56.2236 331.477 53.8162 330.736 L53.8162 326.037 Q55.8995 327.171 58.1217 327.727 Q60.3439 328.282 62.8208 328.282 Q66.8254 328.282 69.1633 326.176 Q71.5013 324.069 71.5013 320.458 Q71.5013 316.847 69.1633 314.741 Q66.8254 312.634 62.8208 312.634 Q60.9458 312.634 59.0708 313.051 Q57.2189 313.468 55.2745 314.347 L55.2745 296.986 Z\" fill=\"#000000\" fill-rule=\"nonzero\" fill-opacity=\"1\" /><path clip-path=\"url(#clip580)\" d=\"M64.6495 86.1129 Q61.5013 86.1129 59.6495 88.2656 Q57.8208 90.4184 57.8208 94.1684 Q57.8208 97.8952 59.6495 100.071 Q61.5013 102.224 64.6495 102.224 Q67.7976 102.224 69.6263 100.071 Q71.4781 97.8952 71.4781 94.1684 Q71.4781 90.4184 69.6263 88.2656 Q67.7976 86.1129 64.6495 86.1129 M73.9318 71.4602 L73.9318 75.7194 Q72.1726 74.8861 70.367 74.4463 Q68.5846 74.0064 66.8254 74.0064 Q62.1958 74.0064 59.7421 77.1314 Q57.3115 80.2564 56.9643 86.5758 Q58.33 84.5619 60.3902 83.4971 Q62.4504 82.4092 64.9272 82.4092 Q70.1355 82.4092 73.1448 85.5805 Q76.1772 88.7286 76.1772 94.1684 Q76.1772 99.4924 73.029 102.71 Q69.8809 105.928 64.6495 105.928 Q58.6541 105.928 55.4828 101.344 Q52.3116 96.7378 52.3116 88.011 Q52.3116 79.8166 56.2004 74.9555 Q60.0893 70.0713 66.6402 70.0713 Q68.3994 70.0713 70.1818 70.4185 Q71.9874 70.7657 73.9318 71.4602 Z\" fill=\"#000000\" fill-rule=\"nonzero\" fill-opacity=\"1\" /><circle clip-path=\"url(#clip582)\" cx=\"527.882\" cy=\"1219.43\" r=\"14.4\" fill=\"#ff0000\" fill-rule=\"evenodd\" fill-opacity=\"1\" stroke=\"#000000\" stroke-opacity=\"1\" stroke-width=\"3.2\"/>\n",
       "<circle clip-path=\"url(#clip582)\" cx=\"880.174\" cy=\"1219.43\" r=\"14.4\" fill=\"#ff0000\" fill-rule=\"evenodd\" fill-opacity=\"1\" stroke=\"#000000\" stroke-opacity=\"1\" stroke-width=\"3.2\"/>\n",
       "<circle clip-path=\"url(#clip582)\" cx=\"1232.47\" cy=\"1219.43\" r=\"14.4\" fill=\"#ff0000\" fill-rule=\"evenodd\" fill-opacity=\"1\" stroke=\"#000000\" stroke-opacity=\"1\" stroke-width=\"3.2\"/>\n",
       "<circle clip-path=\"url(#clip582)\" cx=\"1584.76\" cy=\"1219.43\" r=\"14.4\" fill=\"#ff0000\" fill-rule=\"evenodd\" fill-opacity=\"1\" stroke=\"#000000\" stroke-opacity=\"1\" stroke-width=\"3.2\"/>\n",
       "<circle clip-path=\"url(#clip582)\" cx=\"1937.05\" cy=\"1219.43\" r=\"14.4\" fill=\"#ff0000\" fill-rule=\"evenodd\" fill-opacity=\"1\" stroke=\"#000000\" stroke-opacity=\"1\" stroke-width=\"3.2\"/>\n",
       "<circle clip-path=\"url(#clip582)\" cx=\"527.882\" cy=\"993.136\" r=\"14.4\" fill=\"#ff0000\" fill-rule=\"evenodd\" fill-opacity=\"1\" stroke=\"#000000\" stroke-opacity=\"1\" stroke-width=\"3.2\"/>\n",
       "<circle clip-path=\"url(#clip582)\" cx=\"880.174\" cy=\"993.136\" r=\"14.4\" fill=\"#ff0000\" fill-rule=\"evenodd\" fill-opacity=\"1\" stroke=\"#000000\" stroke-opacity=\"1\" stroke-width=\"3.2\"/>\n",
       "<circle clip-path=\"url(#clip582)\" cx=\"1232.47\" cy=\"993.136\" r=\"14.4\" fill=\"#ff0000\" fill-rule=\"evenodd\" fill-opacity=\"1\" stroke=\"#000000\" stroke-opacity=\"1\" stroke-width=\"3.2\"/>\n",
       "<circle clip-path=\"url(#clip582)\" cx=\"1584.76\" cy=\"993.136\" r=\"14.4\" fill=\"#ff0000\" fill-rule=\"evenodd\" fill-opacity=\"1\" stroke=\"#000000\" stroke-opacity=\"1\" stroke-width=\"3.2\"/>\n",
       "<circle clip-path=\"url(#clip582)\" cx=\"1937.05\" cy=\"993.136\" r=\"14.4\" fill=\"#ff0000\" fill-rule=\"evenodd\" fill-opacity=\"1\" stroke=\"#000000\" stroke-opacity=\"1\" stroke-width=\"3.2\"/>\n",
       "<circle clip-path=\"url(#clip582)\" cx=\"527.882\" cy=\"766.846\" r=\"14.4\" fill=\"#ff0000\" fill-rule=\"evenodd\" fill-opacity=\"1\" stroke=\"#000000\" stroke-opacity=\"1\" stroke-width=\"3.2\"/>\n",
       "<circle clip-path=\"url(#clip582)\" cx=\"880.174\" cy=\"766.846\" r=\"14.4\" fill=\"#ff0000\" fill-rule=\"evenodd\" fill-opacity=\"1\" stroke=\"#000000\" stroke-opacity=\"1\" stroke-width=\"3.2\"/>\n",
       "<circle clip-path=\"url(#clip582)\" cx=\"1232.47\" cy=\"766.846\" r=\"14.4\" fill=\"#ff0000\" fill-rule=\"evenodd\" fill-opacity=\"1\" stroke=\"#000000\" stroke-opacity=\"1\" stroke-width=\"3.2\"/>\n",
       "<circle clip-path=\"url(#clip582)\" cx=\"1584.76\" cy=\"766.846\" r=\"14.4\" fill=\"#ff0000\" fill-rule=\"evenodd\" fill-opacity=\"1\" stroke=\"#000000\" stroke-opacity=\"1\" stroke-width=\"3.2\"/>\n",
       "<circle clip-path=\"url(#clip582)\" cx=\"1937.05\" cy=\"766.846\" r=\"14.4\" fill=\"#ff0000\" fill-rule=\"evenodd\" fill-opacity=\"1\" stroke=\"#000000\" stroke-opacity=\"1\" stroke-width=\"3.2\"/>\n",
       "<circle clip-path=\"url(#clip582)\" cx=\"527.882\" cy=\"540.556\" r=\"14.4\" fill=\"#ff0000\" fill-rule=\"evenodd\" fill-opacity=\"1\" stroke=\"#000000\" stroke-opacity=\"1\" stroke-width=\"3.2\"/>\n",
       "<circle clip-path=\"url(#clip582)\" cx=\"880.174\" cy=\"540.556\" r=\"14.4\" fill=\"#ff0000\" fill-rule=\"evenodd\" fill-opacity=\"1\" stroke=\"#000000\" stroke-opacity=\"1\" stroke-width=\"3.2\"/>\n",
       "<circle clip-path=\"url(#clip582)\" cx=\"1232.47\" cy=\"540.556\" r=\"14.4\" fill=\"#ff0000\" fill-rule=\"evenodd\" fill-opacity=\"1\" stroke=\"#000000\" stroke-opacity=\"1\" stroke-width=\"3.2\"/>\n",
       "<circle clip-path=\"url(#clip582)\" cx=\"1584.76\" cy=\"540.556\" r=\"14.4\" fill=\"#ff0000\" fill-rule=\"evenodd\" fill-opacity=\"1\" stroke=\"#000000\" stroke-opacity=\"1\" stroke-width=\"3.2\"/>\n",
       "<circle clip-path=\"url(#clip582)\" cx=\"1937.05\" cy=\"540.556\" r=\"14.4\" fill=\"#ff0000\" fill-rule=\"evenodd\" fill-opacity=\"1\" stroke=\"#000000\" stroke-opacity=\"1\" stroke-width=\"3.2\"/>\n",
       "<circle clip-path=\"url(#clip582)\" cx=\"527.882\" cy=\"314.266\" r=\"14.4\" fill=\"#ff0000\" fill-rule=\"evenodd\" fill-opacity=\"1\" stroke=\"#000000\" stroke-opacity=\"1\" stroke-width=\"3.2\"/>\n",
       "<circle clip-path=\"url(#clip582)\" cx=\"880.174\" cy=\"314.266\" r=\"14.4\" fill=\"#ff0000\" fill-rule=\"evenodd\" fill-opacity=\"1\" stroke=\"#000000\" stroke-opacity=\"1\" stroke-width=\"3.2\"/>\n",
       "<circle clip-path=\"url(#clip582)\" cx=\"1232.47\" cy=\"314.266\" r=\"14.4\" fill=\"#ff0000\" fill-rule=\"evenodd\" fill-opacity=\"1\" stroke=\"#000000\" stroke-opacity=\"1\" stroke-width=\"3.2\"/>\n",
       "<circle clip-path=\"url(#clip582)\" cx=\"1584.76\" cy=\"314.266\" r=\"14.4\" fill=\"#ff0000\" fill-rule=\"evenodd\" fill-opacity=\"1\" stroke=\"#000000\" stroke-opacity=\"1\" stroke-width=\"3.2\"/>\n",
       "<circle clip-path=\"url(#clip582)\" cx=\"1937.05\" cy=\"314.266\" r=\"14.4\" fill=\"#ff0000\" fill-rule=\"evenodd\" fill-opacity=\"1\" stroke=\"#000000\" stroke-opacity=\"1\" stroke-width=\"3.2\"/>\n",
       "<path clip-path=\"url(#clip582)\" d=\"M880.174 1445.72 L1232.47 1445.72 L1232.47 1219.43 L880.174 1219.43 L880.174 1445.72  Z\" fill=\"#0000ff\" fill-rule=\"evenodd\" fill-opacity=\"0.5\"/>\n",
       "<polyline clip-path=\"url(#clip582)\" style=\"stroke:#000000; stroke-linecap:round; stroke-linejoin:round; stroke-width:4; stroke-opacity:0.5; fill:none\" points=\"880.174,1445.72 1232.47,1445.72 1232.47,1219.43 880.174,1219.43 880.174,1445.72 \"/>\n",
       "<path clip-path=\"url(#clip582)\" d=\"M1584.76 1445.72 L1937.05 1445.72 L1937.05 1219.43 L1584.76 1219.43 L1584.76 1445.72  Z\" fill=\"#0000ff\" fill-rule=\"evenodd\" fill-opacity=\"0.5\"/>\n",
       "<polyline clip-path=\"url(#clip582)\" style=\"stroke:#000000; stroke-linecap:round; stroke-linejoin:round; stroke-width:4; stroke-opacity:0.5; fill:none\" points=\"1584.76,1445.72 1937.05,1445.72 1937.05,1219.43 1584.76,1219.43 1584.76,1445.72 \"/>\n",
       "<path clip-path=\"url(#clip582)\" d=\"M527.882 1219.43 L880.174 1219.43 L880.174 993.136 L527.882 993.136 L527.882 1219.43  Z\" fill=\"#0000ff\" fill-rule=\"evenodd\" fill-opacity=\"0.5\"/>\n",
       "<polyline clip-path=\"url(#clip582)\" style=\"stroke:#000000; stroke-linecap:round; stroke-linejoin:round; stroke-width:4; stroke-opacity:0.5; fill:none\" points=\"527.882,1219.43 880.174,1219.43 880.174,993.136 527.882,993.136 527.882,1219.43 \"/>\n",
       "<path clip-path=\"url(#clip582)\" d=\"M1232.47 1219.43 L1584.76 1219.43 L1584.76 993.136 L1232.47 993.136 L1232.47 1219.43  Z\" fill=\"#0000ff\" fill-rule=\"evenodd\" fill-opacity=\"0.5\"/>\n",
       "<polyline clip-path=\"url(#clip582)\" style=\"stroke:#000000; stroke-linecap:round; stroke-linejoin:round; stroke-width:4; stroke-opacity:0.5; fill:none\" points=\"1232.47,1219.43 1584.76,1219.43 1584.76,993.136 1232.47,993.136 1232.47,1219.43 \"/>\n",
       "<path clip-path=\"url(#clip582)\" d=\"M880.174 993.136 L1232.47 993.136 L1232.47 766.846 L880.174 766.846 L880.174 993.136  Z\" fill=\"#0000ff\" fill-rule=\"evenodd\" fill-opacity=\"0.5\"/>\n",
       "<polyline clip-path=\"url(#clip582)\" style=\"stroke:#000000; stroke-linecap:round; stroke-linejoin:round; stroke-width:4; stroke-opacity:0.5; fill:none\" points=\"880.174,993.136 1232.47,993.136 1232.47,766.846 880.174,766.846 880.174,993.136 \"/>\n",
       "<path clip-path=\"url(#clip582)\" d=\"M1584.76 993.136 L1937.05 993.136 L1937.05 766.846 L1584.76 766.846 L1584.76 993.136  Z\" fill=\"#0000ff\" fill-rule=\"evenodd\" fill-opacity=\"0.5\"/>\n",
       "<polyline clip-path=\"url(#clip582)\" style=\"stroke:#000000; stroke-linecap:round; stroke-linejoin:round; stroke-width:4; stroke-opacity:0.5; fill:none\" points=\"1584.76,993.136 1937.05,993.136 1937.05,766.846 1584.76,766.846 1584.76,993.136 \"/>\n",
       "<path clip-path=\"url(#clip582)\" d=\"M527.882 766.846 L880.174 766.846 L880.174 540.556 L527.882 540.556 L527.882 766.846  Z\" fill=\"#0000ff\" fill-rule=\"evenodd\" fill-opacity=\"0.5\"/>\n",
       "<polyline clip-path=\"url(#clip582)\" style=\"stroke:#000000; stroke-linecap:round; stroke-linejoin:round; stroke-width:4; stroke-opacity:0.5; fill:none\" points=\"527.882,766.846 880.174,766.846 880.174,540.556 527.882,540.556 527.882,766.846 \"/>\n",
       "<path clip-path=\"url(#clip582)\" d=\"M1232.47 766.846 L1584.76 766.846 L1584.76 540.556 L1232.47 540.556 L1232.47 766.846  Z\" fill=\"#0000ff\" fill-rule=\"evenodd\" fill-opacity=\"0.5\"/>\n",
       "<polyline clip-path=\"url(#clip582)\" style=\"stroke:#000000; stroke-linecap:round; stroke-linejoin:round; stroke-width:4; stroke-opacity:0.5; fill:none\" points=\"1232.47,766.846 1584.76,766.846 1584.76,540.556 1232.47,540.556 1232.47,766.846 \"/>\n",
       "<path clip-path=\"url(#clip582)\" d=\"M880.174 540.556 L1232.47 540.556 L1232.47 314.266 L880.174 314.266 L880.174 540.556  Z\" fill=\"#0000ff\" fill-rule=\"evenodd\" fill-opacity=\"0.5\"/>\n",
       "<polyline clip-path=\"url(#clip582)\" style=\"stroke:#000000; stroke-linecap:round; stroke-linejoin:round; stroke-width:4; stroke-opacity:0.5; fill:none\" points=\"880.174,540.556 1232.47,540.556 1232.47,314.266 880.174,314.266 880.174,540.556 \"/>\n",
       "<path clip-path=\"url(#clip582)\" d=\"M1584.76 540.556 L1937.05 540.556 L1937.05 314.266 L1584.76 314.266 L1584.76 540.556  Z\" fill=\"#0000ff\" fill-rule=\"evenodd\" fill-opacity=\"0.5\"/>\n",
       "<polyline clip-path=\"url(#clip582)\" style=\"stroke:#000000; stroke-linecap:round; stroke-linejoin:round; stroke-width:4; stroke-opacity:0.5; fill:none\" points=\"1584.76,540.556 1937.05,540.556 1937.05,314.266 1584.76,314.266 1584.76,540.556 \"/>\n",
       "<path clip-path=\"url(#clip582)\" d=\"M527.882 314.266 L880.174 314.266 L880.174 87.9763 L527.882 87.9763 L527.882 314.266  Z\" fill=\"#0000ff\" fill-rule=\"evenodd\" fill-opacity=\"0.5\"/>\n",
       "<polyline clip-path=\"url(#clip582)\" style=\"stroke:#000000; stroke-linecap:round; stroke-linejoin:round; stroke-width:4; stroke-opacity:0.5; fill:none\" points=\"527.882,314.266 880.174,314.266 880.174,87.9763 527.882,87.9763 527.882,314.266 \"/>\n",
       "<path clip-path=\"url(#clip582)\" d=\"M1232.47 314.266 L1584.76 314.266 L1584.76 87.9763 L1232.47 87.9763 L1232.47 314.266  Z\" fill=\"#0000ff\" fill-rule=\"evenodd\" fill-opacity=\"0.5\"/>\n",
       "<polyline clip-path=\"url(#clip582)\" style=\"stroke:#000000; stroke-linecap:round; stroke-linejoin:round; stroke-width:4; stroke-opacity:0.5; fill:none\" points=\"1232.47,314.266 1584.76,314.266 1584.76,87.9763 1232.47,87.9763 1232.47,314.266 \"/>\n",
       "<path clip-path=\"url(#clip582)\" d=\"M175.59 1219.43 L527.882 1219.43 L527.882 993.136 L175.59 993.136 L175.59 1219.43  Z\" fill=\"#008000\" fill-rule=\"evenodd\" fill-opacity=\"0.5\"/>\n",
       "<polyline clip-path=\"url(#clip582)\" style=\"stroke:#000000; stroke-linecap:round; stroke-linejoin:round; stroke-width:4; stroke-opacity:0.5; fill:none\" points=\"175.59,1219.43 527.882,1219.43 527.882,993.136 175.59,993.136 175.59,1219.43 \"/>\n",
       "<path clip-path=\"url(#clip582)\" d=\"M175.59 766.846 L527.882 766.846 L527.882 540.556 L175.59 540.556 L175.59 766.846  Z\" fill=\"#008000\" fill-rule=\"evenodd\" fill-opacity=\"0.5\"/>\n",
       "<polyline clip-path=\"url(#clip582)\" style=\"stroke:#000000; stroke-linecap:round; stroke-linejoin:round; stroke-width:4; stroke-opacity:0.5; fill:none\" points=\"175.59,766.846 527.882,766.846 527.882,540.556 175.59,540.556 175.59,766.846 \"/>\n",
       "<path clip-path=\"url(#clip582)\" d=\"M527.882 993.136 L880.174 993.136 L880.174 766.846 L527.882 766.846 L527.882 993.136  Z\" fill=\"#008000\" fill-rule=\"evenodd\" fill-opacity=\"0.5\"/>\n",
       "<polyline clip-path=\"url(#clip582)\" style=\"stroke:#000000; stroke-linecap:round; stroke-linejoin:round; stroke-width:4; stroke-opacity:0.5; fill:none\" points=\"527.882,993.136 880.174,993.136 880.174,766.846 527.882,766.846 527.882,993.136 \"/>\n",
       "<path clip-path=\"url(#clip582)\" d=\"M527.882 540.556 L880.174 540.556 L880.174 314.266 L527.882 314.266 L527.882 540.556  Z\" fill=\"#008000\" fill-rule=\"evenodd\" fill-opacity=\"0.5\"/>\n",
       "<polyline clip-path=\"url(#clip582)\" style=\"stroke:#000000; stroke-linecap:round; stroke-linejoin:round; stroke-width:4; stroke-opacity:0.5; fill:none\" points=\"527.882,540.556 880.174,540.556 880.174,314.266 527.882,314.266 527.882,540.556 \"/>\n",
       "<path clip-path=\"url(#clip582)\" d=\"M880.174 1219.43 L1232.47 1219.43 L1232.47 993.136 L880.174 993.136 L880.174 1219.43  Z\" fill=\"#008000\" fill-rule=\"evenodd\" fill-opacity=\"0.5\"/>\n",
       "<polyline clip-path=\"url(#clip582)\" style=\"stroke:#000000; stroke-linecap:round; stroke-linejoin:round; stroke-width:4; stroke-opacity:0.5; fill:none\" points=\"880.174,1219.43 1232.47,1219.43 1232.47,993.136 880.174,993.136 880.174,1219.43 \"/>\n",
       "<path clip-path=\"url(#clip582)\" d=\"M880.174 766.846 L1232.47 766.846 L1232.47 540.556 L880.174 540.556 L880.174 766.846  Z\" fill=\"#008000\" fill-rule=\"evenodd\" fill-opacity=\"0.5\"/>\n",
       "<polyline clip-path=\"url(#clip582)\" style=\"stroke:#000000; stroke-linecap:round; stroke-linejoin:round; stroke-width:4; stroke-opacity:0.5; fill:none\" points=\"880.174,766.846 1232.47,766.846 1232.47,540.556 880.174,540.556 880.174,766.846 \"/>\n",
       "<path clip-path=\"url(#clip582)\" d=\"M1232.47 993.136 L1584.76 993.136 L1584.76 766.846 L1232.47 766.846 L1232.47 993.136  Z\" fill=\"#008000\" fill-rule=\"evenodd\" fill-opacity=\"0.5\"/>\n",
       "<polyline clip-path=\"url(#clip582)\" style=\"stroke:#000000; stroke-linecap:round; stroke-linejoin:round; stroke-width:4; stroke-opacity:0.5; fill:none\" points=\"1232.47,993.136 1584.76,993.136 1584.76,766.846 1232.47,766.846 1232.47,993.136 \"/>\n",
       "<path clip-path=\"url(#clip582)\" d=\"M1232.47 540.556 L1584.76 540.556 L1584.76 314.266 L1232.47 314.266 L1232.47 540.556  Z\" fill=\"#008000\" fill-rule=\"evenodd\" fill-opacity=\"0.5\"/>\n",
       "<polyline clip-path=\"url(#clip582)\" style=\"stroke:#000000; stroke-linecap:round; stroke-linejoin:round; stroke-width:4; stroke-opacity:0.5; fill:none\" points=\"1232.47,540.556 1584.76,540.556 1584.76,314.266 1232.47,314.266 1232.47,540.556 \"/>\n",
       "<path clip-path=\"url(#clip582)\" d=\"M1584.76 1219.43 L1937.05 1219.43 L1937.05 993.136 L1584.76 993.136 L1584.76 1219.43  Z\" fill=\"#008000\" fill-rule=\"evenodd\" fill-opacity=\"0.5\"/>\n",
       "<polyline clip-path=\"url(#clip582)\" style=\"stroke:#000000; stroke-linecap:round; stroke-linejoin:round; stroke-width:4; stroke-opacity:0.5; fill:none\" points=\"1584.76,1219.43 1937.05,1219.43 1937.05,993.136 1584.76,993.136 1584.76,1219.43 \"/>\n",
       "<path clip-path=\"url(#clip582)\" d=\"M1584.76 766.846 L1937.05 766.846 L1937.05 540.556 L1584.76 540.556 L1584.76 766.846  Z\" fill=\"#008000\" fill-rule=\"evenodd\" fill-opacity=\"0.5\"/>\n",
       "<polyline clip-path=\"url(#clip582)\" style=\"stroke:#000000; stroke-linecap:round; stroke-linejoin:round; stroke-width:4; stroke-opacity:0.5; fill:none\" points=\"1584.76,766.846 1937.05,766.846 1937.05,540.556 1584.76,540.556 1584.76,766.846 \"/>\n",
       "<path clip-path=\"url(#clip582)\" d=\"M1937.05 993.136 L2289.34 993.136 L2289.34 766.846 L1937.05 766.846 L1937.05 993.136  Z\" fill=\"#008000\" fill-rule=\"evenodd\" fill-opacity=\"0.5\"/>\n",
       "<polyline clip-path=\"url(#clip582)\" style=\"stroke:#000000; stroke-linecap:round; stroke-linejoin:round; stroke-width:4; stroke-opacity:0.5; fill:none\" points=\"1937.05,993.136 2289.34,993.136 2289.34,766.846 1937.05,766.846 1937.05,993.136 \"/>\n",
       "<path clip-path=\"url(#clip582)\" d=\"M1937.05 540.556 L2289.34 540.556 L2289.34 314.266 L1937.05 314.266 L1937.05 540.556  Z\" fill=\"#008000\" fill-rule=\"evenodd\" fill-opacity=\"0.5\"/>\n",
       "<polyline clip-path=\"url(#clip582)\" style=\"stroke:#000000; stroke-linecap:round; stroke-linejoin:round; stroke-width:4; stroke-opacity:0.5; fill:none\" points=\"1937.05,540.556 2289.34,540.556 2289.34,314.266 1937.05,314.266 1937.05,540.556 \"/>\n",
       "</svg>\n"
      ]
     },
     "metadata": {},
     "output_type": "display_data"
    }
   ],
   "source": [
    "using Plots\n",
    "plt = plot(leg=false)\n",
    "scatter([X_stab[1][1]],[X_stab[1][2]])\n",
    "for i in 1:N\n",
    "    scatter!(plt,[(i-1)%d+1],[(i-1)÷d+1],mc=:red)\n",
    "end\n",
    "for X in X_stab\n",
    "    plot!(plt,Shape(X[1] .+ [0,1,1,0], X[2] .+ [0,0,1,1]), fc=:blue, opacity=.5)\n",
    "end\n",
    "for Z in Z_stab\n",
    "    plot!(plt,Shape(Z[1] .+ [0,1,1,0], Z[2] .+ [0,0,1,1]), fc=:green, opacity=.5)\n",
    "end\n",
    "display(plt)"
   ]
  },
  {
   "cell_type": "markdown",
   "id": "df944212",
   "metadata": {},
   "source": [
    "To build the surface code numerically with ITensor, we initialize the state in the Z basis, and apply the projectors $1+B_p$ sequentially (in the Google experiment, one had to realize effectively this projection by a carefully designed gate sequence)\n",
    "\n",
    "We obtain a surface with a bond dimension which scales as $2^d$ (The MPS representation provides an efficient compression along one spatial dimension)"
   ]
  },
  {
   "cell_type": "code",
   "execution_count": 27,
   "id": "abe0f2b1",
   "metadata": {},
   "outputs": [
    {
     "name": "stdout",
     "output_type": "stream",
     "text": [
      "Surface code built with distance 5 and bond dimension 8\n"
     ]
    }
   ],
   "source": [
    "ξ = siteinds(\"Qubit\", N)\n",
    "states = [\"Up\" for n in 1:N]\n",
    "ψ = MPS(ξ,states);\n",
    "@showprogress dt=1 for qubits in X_stab_qubits\n",
    "    ampo = AutoMPO()\n",
    "    ampo .+= \"Id\", qubits[1]\n",
    "    if length(qubits)==2\n",
    "        ampo .+= \"X\", qubits[1],\"X\",qubits[2]\n",
    "    else\n",
    "        ampo .+= \"X\", qubits[1],\"X\",qubits[2],\"X\",qubits[3],\"X\",qubits[4]\n",
    "    end\n",
    "    Proj = MPO(ampo,ξ)\n",
    "    ψ = apply(Proj,ψ) # Application of the projector and normalization\n",
    "    normalize!(ψ)\n",
    "end\n",
    "println(\"Surface code built with distance \", d,\" and bond dimension \",maxlinkdim(ψ))"
   ]
  },
  {
   "cell_type": "markdown",
   "id": "6eecca02",
   "metadata": {},
   "source": [
    "If our logical state is successfully created, all plaquette operators should have expectation value $+1$. This can be checked by sampling two bitstrings, one in the $Z$ basis, one in the $X$ basis. Note: Here we are simply interested in checking that we successfully created the state. For doing quantum error correction, one would use ancilla qubits to perform these measurements. "
   ]
  },
  {
   "cell_type": "code",
   "execution_count": 28,
   "id": "e989e53a",
   "metadata": {},
   "outputs": [
    {
     "name": "stdout",
     "output_type": "stream",
     "text": [
      "number of Z errors 0.0\n"
     ]
    }
   ],
   "source": [
    "orthogonalize!(ψ,1)\n",
    "normalize!(ψ)\n",
    "data_Z = ITensorMPS.sample(ψ)\n",
    "expect_Z = Int[]\n",
    "for qubits in Z_stab_qubits\n",
    "    push!(expect_Z,(-1)^sum(data_Z[qubits] .-1))\n",
    "end\n",
    "println(\"number of Z errors \",sum(1. .-expect_Z)/2)"
   ]
  },
  {
   "cell_type": "code",
   "execution_count": 29,
   "id": "a5fa02db",
   "metadata": {},
   "outputs": [
    {
     "name": "stdout",
     "output_type": "stream",
     "text": [
      "number of X errors 0.0\n"
     ]
    }
   ],
   "source": [
    "gates = [op(\"H\",ξt) for ξt in ξ]\n",
    "ψx = apply(gates,ψ)\n",
    "orthogonalize!(ψx,1)\n",
    "normalize!(ψx)\n",
    "data_X = ITensorMPS.sample(ψx)\n",
    "expect_X = Int[]\n",
    "for qubits in X_stab_qubits\n",
    "    push!(expect_X,(-1)^sum(data_X[qubits] .-1))\n",
    "end\n",
    "println(\"number of X errors \",sum(1. .-expect_Z)/2)"
   ]
  },
  {
   "cell_type": "markdown",
   "id": "2c9d43c0",
   "metadata": {},
   "source": [
    "The topological entanglement entropy can be defined by considering three neighboring partitions $A|B|C$\n",
    "$S_{top}=S_A+S_B+S_C=S_{AB}-S_{BC}-S_{AC}+S_{ABC}$\n",
    "where each entropy can be extracted from randomized measurements."
   ]
  },
  {
   "cell_type": "code",
   "execution_count": 30,
   "id": "17aeb0de",
   "metadata": {},
   "outputs": [],
   "source": [
    "\n",
    "A = sort([g(3,3),g(3,4),g(3,5)])\n",
    "B = sort([g(4,3),g(5,3),g(5,4)])\n",
    "C = sort([g(4,4),g(4,5),g(5,5)])\n",
    "AB  = sort([A;B])\n",
    "BC  = sort([B;C])\n",
    "AC  = sort([A;C])\n",
    "ABC  = sort([A;B;C])\n",
    "subsystems = [A,B,C,AB,AC,BC,ABC]\n",
    "nb_subsystems = length(subsystems);\n"
   ]
  },
  {
   "cell_type": "markdown",
   "id": "ea702681",
   "metadata": {},
   "source": [
    "We compute the exact values of the entropy of the subsystem.  Notice that all entropies are integer because we are dealing with a Clifford state with flat entanglement spectrum."
   ]
  },
  {
   "cell_type": "code",
   "execution_count": 47,
   "id": "dfd9d370",
   "metadata": {},
   "outputs": [
    {
     "name": "stdout",
     "output_type": "stream",
     "text": [
      "round.(S_e, digits = 2) = [3.0, 3.0, 3.0, 6.0, 4.0, 3.0, 3.0]\n"
     ]
    },
    {
     "data": {
      "text/plain": [
       "7-element Vector{Float64}:\n",
       " 3.0\n",
       " 3.0\n",
       " 3.0\n",
       " 6.0\n",
       " 4.0\n",
       " 3.0\n",
       " 3.0"
      ]
     },
     "execution_count": 47,
     "metadata": {},
     "output_type": "execute_result"
    }
   ],
   "source": [
    "S_e = zeros(nb_subsystems)\n",
    "\n",
    "ρ = outer(ψ',ψ)\n",
    "for ib in 1:nb_subsystems\n",
    "    ρP = reduce_to_subsystem(ρ, subsystems[ib])\n",
    "    S_e[ib] = -log2(get_trace_moment(ρP,2))\n",
    "end\n",
    "\n",
    "@show round.(S_e, digits=2)"
   ]
  },
  {
   "cell_type": "markdown",
   "id": "02759a46",
   "metadata": {},
   "source": [
    "We can now simulate the local measurements. We can do this on the entire system and the select the subsystem of interest in the post-processing. This follows the \"measure first, ask questions later.\" paradigm. Due to the large system size, it can however take a long time to classical simulate the measurements. We provide a faster method, based on selecting the subystem of interest first, below."
   ]
  },
  {
   "cell_type": "code",
   "execution_count": 70,
   "id": "f889bf3c",
   "metadata": {},
   "outputs": [
    {
     "name": "stderr",
     "output_type": "stream",
     "text": [
      "\u001b[32mProgress: 100%|█████████████████████████████████████████| Time: 0:01:44\u001b[39m\n"
     ]
    }
   ],
   "source": [
    "NU = 200\n",
    "NM = 1000\n",
    "\n",
    "measurement_group = MeasurementGroup(ψ,NU,NM;mode=\"MPS/MPO\",progress_bar=true);"
   ]
  },
  {
   "cell_type": "code",
   "execution_count": 71,
   "id": "56025115",
   "metadata": {},
   "outputs": [
    {
     "name": "stdout",
     "output_type": "stream",
     "text": [
      "Subsystem: [13, 18, 23]| Entropy estimated = 3.006| Entropy exact = 3.0\n",
      "Subsystem: [14, 15, 20]| Entropy estimated = 2.997| Entropy exact = 3.0\n",
      "Subsystem: [19, 24, 25]| Entropy estimated = 2.992| Entropy exact = 3.0\n",
      "Subsystem: [13, 14, 15, 18, 20, 23]| Entropy estimated = 6.167| Entropy exact = 6.0\n",
      "Subsystem: [13, 18, 19, 23, 24, 25]| Entropy estimated = 4.11| Entropy exact = 4.0\n",
      "Subsystem: [14, 15, 19, 20, 24, 25]| Entropy estimated = 2.882| Entropy exact = 3.0\n",
      "Subsystem: [13, 14, 15, 18, 19, 20, 23, 24, 25]| Entropy estimated = 3.056| Entropy exact = 3.0\n"
     ]
    }
   ],
   "source": [
    "S = zeros(nb_subsystems)\n",
    "for ib in 1:nb_subsystems\n",
    "\n",
    "    measurement_group_subsystem = reduce_to_subsystem(measurement_group, subsystems[ib])\n",
    "    S[ib] = -log2(get_purity(measurement_group_subsystem))\n",
    "\n",
    "    println(\"Subsystem: \", subsystems[ib], \"| Entropy estimated = \" , round.(S[ib],digits=3) , \"| Entropy exact = \" , round.(S_e[ib],digits=3))\n",
    "\n",
    "end"
   ]
  },
  {
   "cell_type": "code",
   "execution_count": 72,
   "id": "39cef038",
   "metadata": {},
   "outputs": [
    {
     "name": "stdout",
     "output_type": "stream",
     "text": [
      "Expected topological entanglement entropy -1.000000000000011\n",
      "Measured topological entanglement entropy -1.108388929608525\n"
     ]
    }
   ],
   "source": [
    "println(\"Expected topological entanglement entropy \", S_e[1]+S_e[2]+S_e[3]-S_e[4]-S_e[5]-S_e[6]+S_e[7])\n",
    "println(\"Measured topological entanglement entropy \", S[1]+S[2]+S[3]-S[4]-S[5]-S[6]+S[7])"
   ]
  },
  {
   "cell_type": "markdown",
   "id": "7a0099b5",
   "metadata": {},
   "source": [
    "Here, we first select the subystem of interest, i.e. the subsystem which contains all the qubits which are in one of the partitions. Then, we only simulate randomized measuerments on this subsystem containing 9 qubits. Now, we can employ the \"dense\" mode which is much faster. Compared to NU=200 above, we now can do NU=2000 in approximately the same computational time."
   ]
  },
  {
   "cell_type": "code",
   "execution_count": 73,
   "id": "0a92ed39",
   "metadata": {},
   "outputs": [
    {
     "name": "stderr",
     "output_type": "stream",
     "text": [
      "\u001b[32mProgress: 100%|█████████████████████████████████████████| Time: 0:00:28\u001b[39m\n"
     ]
    }
   ],
   "source": [
    "ITensors.disable_warn_order()\n",
    "NU = 2000\n",
    "\n",
    "measurement_subsystem = sort(unique(vcat(subsystems...))) # This contains exactly those qubits which are\n",
    "ρ_subsystem = reduce_to_subsystem(ρ,measurement_subsystem)\n",
    "measurement_group_subsystem = MeasurementGroup(ρ_subsystem,NU,NM;mode=\"dense\",progress_bar=true);"
   ]
  },
  {
   "cell_type": "code",
   "execution_count": 74,
   "id": "dddfe9d0",
   "metadata": {},
   "outputs": [
    {
     "name": "stdout",
     "output_type": "stream",
     "text": [
      "Partition: [13, 18, 23]| Entropy estimated = 3.001| Entropy exact = 3.0\n",
      "Partition: [14, 15, 20]| Entropy estimated = 3.001| Entropy exact = 3.0\n",
      "Partition: [19, 24, 25]| Entropy estimated = 2.999| Entropy exact = 3.0\n",
      "Partition: [13, 14, 15, 18, 20, 23]| Entropy estimated = 6.07| Entropy exact = 6.0\n",
      "Partition: [13, 18, 19, 23, 24, 25]| Entropy estimated = 4.033| Entropy exact = 4.0\n",
      "Partition: [14, 15, 19, 20, 24, 25]| Entropy estimated = 2.898| Entropy exact = 3.0\n",
      "Partition: [13, 14, 15, 18, 19, 20, 23, 24, 25]| Entropy estimated = 2.932| Entropy exact = 3.0\n"
     ]
    }
   ],
   "source": [
    "S_subsystem = zeros(nb_subsystems)\n",
    "for ib in 1:nb_subsystems\n",
    "    index_subsystem = findall(x -> x in subsystems[ib], measurement_subsystem)\n",
    "    S_subsystem[ib] = -log2(get_purity(measurement_group_subsystem,index_subsystem))\n",
    "    println(\"Partition: \", subsystems[ib], \"| Entropy estimated = \" , round.(S_subsystem[ib],digits=3) , \"| Entropy exact = \" , round.(S_e[ib],digits=3))\n",
    "end"
   ]
  },
  {
   "cell_type": "code",
   "execution_count": 75,
   "id": "4206b075-4ec3-4a01-be9e-433c937bffec",
   "metadata": {},
   "outputs": [
    {
     "name": "stdout",
     "output_type": "stream",
     "text": [
      "Expected topological entanglement entropy -1.000000000000011\n",
      "Measured topological entanglement entropy -1.0685317633716256\n"
     ]
    }
   ],
   "source": [
    "println(\"Expected topological entanglement entropy \", S_e[1]+S_e[2]+S_e[3]-S_e[4]-S_e[5]-S_e[6]+S_e[7])\n",
    "println(\"Measured topological entanglement entropy \", S_subsystem[1]+S_subsystem[2]+S_subsystem[3]-S_subsystem[4]-S_subsystem[5]-S_subsystem[6]+S_subsystem[7])"
   ]
  },
  {
   "cell_type": "code",
   "execution_count": null,
   "id": "0cb5fa95",
   "metadata": {},
   "outputs": [],
   "source": []
  }
 ],
 "metadata": {
  "kernelspec": {
   "display_name": "Julia 1.11.2",
   "language": "julia",
   "name": "julia-1.11"
  },
  "language_info": {
   "file_extension": ".jl",
   "mimetype": "application/julia",
   "name": "julia",
   "version": "1.11.2"
  }
 },
 "nbformat": 4,
 "nbformat_minor": 5
}
