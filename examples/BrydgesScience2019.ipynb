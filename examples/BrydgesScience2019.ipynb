{
 "cells": [
  {
   "cell_type": "code",
   "execution_count": 18,
   "id": "2a2c0683-6ec3-4b0e-ba9c-5f94cac50deb",
   "metadata": {},
   "outputs": [],
   "source": [
    "using Revise\n",
    "using ITensors\n",
    "using PastaQ\n",
    "push!(LOAD_PATH,\"../src/\")\n",
    "using RandomMeas\n",
    "using ProgressBars\n",
    "using MAT"
   ]
  },
  {
   "cell_type": "code",
   "execution_count": 19,
   "id": "4fcfc571-3cd1-4e1d-8ae5-39cfedd8a94b",
   "metadata": {},
   "outputs": [],
   "source": [
    "## parameters \n",
    "N = 10\n",
    "times = [0,1,2,3,4,5] ## quench time between 0 to 5 ms\n",
    "ntimes = length(times)\n",
    "ξ = siteinds(\"Qubit\", N);\n",
    "nu, NM = 500,150\n",
    "data = zeros(Int8,ntimes,nu,NM,N);\n",
    "n = 6\n",
    "NAmax = 8;"
   ]
  },
  {
   "cell_type": "code",
   "execution_count": 20,
   "id": "be33fbde-b611-48d1-9920-f3230a0c792a",
   "metadata": {},
   "outputs": [],
   "source": [
    "#Load theory state\n",
    "ρ = Vector{ITensor}()\n",
    "p = zeros(Float64,ntimes,NAmax,n-1)\n",
    "S = zeros(Float64,ntimes,NAmax,n-1)\n",
    "SvN = zeros(Float64,ntimes,NAmax)\n",
    "ITensors.disable_warn_order()\n",
    "\n",
    "for s in 1:ntimes\n",
    "    qstate = matread(\"BrydgesScience2019data/rho_10_XY_10_-1.00_0.00\"*string(times[s])*\"_1_1_1_flr_1.mat\")[\"rho\"]\n",
    "    qstate = reshape(qstate,tuple((2*ones(Int,2*N))...))\n",
    "    push!(ρ,ITensor(qstate,vcat(ξ',ξ)))\n",
    "    for NA in 1:NAmax\n",
    "        A = collect(1:NA)\n",
    "        ρA = copy(ρ[s])\n",
    "        for i in 1:N\n",
    "            if !(i in A)\n",
    "                ρA *= δ(ξ[i],ξ[i]')\n",
    "            end\n",
    "        end\n",
    "        for nt in 2:n\n",
    "            p[s,NA,nt-1] = real(trace(power(ρA,nt),ξ[1:NA]))\n",
    "            S[s,NA,nt-1]= log2(p[s,NA,nt-1])/(1-nt)\n",
    "        end\n",
    "        D, = eigen(ρA,ξ[1:NA]',ξ[1:NA];ishermitian=true)\n",
    "        for k in 1:2^NA\n",
    "            if D[k,k]>1e-12\n",
    "                SvN[s,NA] -= D[k,k]*log2(D[k,k])\n",
    "            end\n",
    "        end\n",
    "    end\n",
    "end"
   ]
  },
  {
   "cell_type": "code",
   "execution_count": 21,
   "id": "9016a737-7d68-44c3-bc6d-398c98833f57",
   "metadata": {},
   "outputs": [],
   "source": [
    "u = Vector{Vector{Vector{ITensor}}}()\n",
    "for s in 1:ntimes\n",
    "    vars = matread(\"BrydgesScience2019data/unitaries_10_T_\" * string(times[s]) * \"_flr_1.mat\")\n",
    "    raw_measurements = vars[\"qstates\" * string(times[s])]\n",
    "\n",
    "    for r in 1:nu\n",
    "        for m in 1:NM\n",
    "            data[s,r,m,:] = reverse(digits(floor(Int,raw_measurements[r,m]), base=2, pad=N) .+ 1)\n",
    "        end\n",
    "    end    \n",
    "    \n",
    "    ut = Vector{Vector{ITensor}}()\n",
    "    for r in 1:nu\n",
    "        push!(ut,[ITensor(vars[\"unitaries\"][r,i],ξ[i]',ξ[i]) for i in 1:N])\n",
    "    end\n",
    "    push!(u,ut)\n",
    "end"
   ]
  },
  {
   "cell_type": "code",
   "execution_count": 22,
   "id": "453b9102-167a-4928-9c5d-e8a00b990d21",
   "metadata": {},
   "outputs": [
    {
     "name": "stderr",
     "output_type": "stream",
     "text": [
      "0.0%┣                                                ┫ 0/6 [00:00<00:00, -0s/it]\n",
      "16.7%┣███████▏                                   ┫ 1/6 [01:56<Inf:Inf, InfGs/it]\n",
      "33.3%┣███████████████▍                              ┫ 2/6 [02:06<08:22, 126s/it]\n",
      "50.0%┣███████████████████████▌                       ┫ 3/6 [02:16<03:24, 68s/it]\n",
      "66.7%┣███████████████████████████████▍               ┫ 4/6 [02:26<01:37, 49s/it]\n",
      "83.3%┣███████████████████████████████████████▏       ┫ 5/6 [02:37<00:39, 39s/it]\n",
      "100.0%┣██████████████████████████████████████████████┫ 6/6 [02:47<00:00, 33s/it]\n",
      "100.0%┣██████████████████████████████████████████████┫ 6/6 [02:47<00:00, 33s/it]\n"
     ]
    }
   ],
   "source": [
    "#Purity from Hamming and shadow formulas\n",
    "p_hamming = zeros(Float64,ntimes,NAmax)\n",
    "p_shadow = zeros(Float64,ntimes,NAmax)\n",
    "for s in ProgressBar(1:ntimes, printing_delay=2)\n",
    "    for NA in 1:NAmax\n",
    "        uA = [ut[1:NA] for ut in u[s]]\n",
    "        p_hamming[s,NA] = get_purity_hamming(data[s,:,:,1:NA],ξ[1:NA])\n",
    "        p_shadow[s,NA] = get_purity_shadows(data[s,:,:,1:NA],uA,ξ[1:NA])\n",
    "    end\n",
    "end"
   ]
  },
  {
   "cell_type": "code",
   "execution_count": null,
   "id": "a373baf1-e803-4b17-9e93-25cd6b4dfa0a",
   "metadata": {},
   "outputs": [],
   "source": [
    "#Tr(rho^n) and Renyis from batch shadows\n",
    "p_bshadow = zeros(Float64,ntimes,NAmax,n-1)\n",
    "S_bshadow = zeros(Float64,ntimes,NAmax,n-1)\n",
    "for s in ProgressBar(1:ntimes, printing_delay=2)\n",
    "    for NA in 1:NAmax\n",
    "        uA = [ut[1:NA] for ut in u[s]]\n",
    "        ξA = ξ[1:NA]\n",
    "        ρs = acquire_shadows_batch_fromdata(data[s,:,:,1:NA],ξA,uA,n)\n",
    "        p_bshadow[s,NA,:] = get_moments_shadows_batch(ρs, ξA, n, nu)\n",
    "        for nt in 2:n\n",
    "            S_bshadow[s,NA,nt-1]= log2(p_bshadow[s,NA,nt-1])/(1-nt)\n",
    "        end\n",
    "    end\n",
    "end"
   ]
  },
  {
   "cell_type": "code",
   "execution_count": null,
   "id": "0f8fbfd6-c658-40d9-a5fb-a3deb5525ac0",
   "metadata": {},
   "outputs": [],
   "source": [
    "using PyPlot\n",
    "cm = get_cmap(:viridis)\n",
    "for s in 1:ntimes\n",
    "    plot(1:NAmax,p[s,:,1],\"--\",color=cm(s/ntimes))\n",
    "    plot(1:NAmax,p_hamming[s,:],\"o\",color=cm(s/ntimes))\n",
    "    plot(1:NAmax,p_shadow[s,:],\"x\",color=cm(s/ntimes))\n",
    "    plot(1:NAmax,p_bshadow[s,:,1],\"*\",color=cm(s/ntimes))\n",
    "end\n",
    "yscale(\"log\")\n",
    "xlabel(\"Partition\")\n",
    "ylabel(\"Purity\")\n",
    "legend([\"theory\",\"hamming\",\"shadow\",\"batch_shadow\"])\n",
    "title(\"Purity for different times\")"
   ]
  },
  {
   "cell_type": "code",
   "execution_count": null,
   "id": "fb89290c-c02a-42fc-b12f-26cfb528c30a",
   "metadata": {},
   "outputs": [],
   "source": [
    "using PyPlot\n",
    "co = [\"blue\",\"red\",\"green\",\"magenta\",\"orange\",\"black\"]\n",
    "NA = 5\n",
    "for s in 1:ntimes\n",
    "    plot(2:n,S[s,NA,:],\"--\",color=cm(s/ntimes))\n",
    "    plot([1],[SvN[s,NA]],\"o\",color=cm(s/ntimes))\n",
    "    plot(2:n,S_bshadow[s,NA,:],\"*\",color=cm(s/ntimes))\n",
    "end\n",
    "#yscale(\"log\")\n",
    "xlabel(\"n\")\n",
    "ylabel(\"Renyi n\")\n",
    "legend([\"theory\",\"theory (vN)\",\"batch_shadow\"])"
   ]
  },
  {
   "cell_type": "code",
   "execution_count": null,
   "id": "c721bb9a-1d8d-4d3c-8d7a-c6606d618b3a",
   "metadata": {},
   "outputs": [],
   "source": []
  },
  {
   "cell_type": "code",
   "execution_count": null,
   "id": "43dac88b-faa3-44ee-8b68-5f574e6dac29",
   "metadata": {},
   "outputs": [],
   "source": []
  }
 ],
 "metadata": {
  "kernelspec": {
   "display_name": "Julia 1.10.0",
   "language": "julia",
   "name": "julia-1.10"
  },
  "language_info": {
   "file_extension": ".jl",
   "mimetype": "application/julia",
   "name": "julia",
   "version": "1.10.0"
  }
 },
 "nbformat": 4,
 "nbformat_minor": 5
}
