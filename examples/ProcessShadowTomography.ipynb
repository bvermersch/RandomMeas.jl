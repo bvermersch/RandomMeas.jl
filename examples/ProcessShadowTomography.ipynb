{
 "cells": [
  {
   "cell_type": "code",
   "execution_count": 1,
   "id": "4f0311a9-bfed-432e-8f6f-f5ce7f434df0",
   "metadata": {},
   "outputs": [
    {
     "name": "stderr",
     "output_type": "stream",
     "text": [
      "\u001b[36m\u001b[1m[ \u001b[22m\u001b[39m\u001b[36m\u001b[1mInfo: \u001b[22m\u001b[39mPrecompiling PastaQ [30b07047-aa8b-4c78-a4e8-24d720215c19]\n"
     ]
    }
   ],
   "source": [
    "using ProgressBars\n",
    "using ITensors\n",
    "using PastaQ\n",
    "using RandomMeas"
   ]
  },
  {
   "cell_type": "code",
   "execution_count": 2,
   "id": "a12cdfb5-7b52-49a3-953e-9789c1566d8d",
   "metadata": {},
   "outputs": [
    {
     "name": "stdout",
     "output_type": "stream",
     "text": [
      " -- Process Fidelity 0.9604266666666721\n"
     ]
    }
   ],
   "source": [
    "N = 2\n",
    "depth = 2\n",
    "circuit    = randomcircuit(N, depth=depth)\n",
    "noisemodel = (1 => (\"depolarizing\", (p = 0.02,)),2 => (\"depolarizing\", (p = 0.02,)))\n",
    "noisemodel0 = (1 => (\"depolarizing\", (p = 0.0,)),2 => (\"depolarizing\", (p = 0.0,)))\n",
    "Λ0 = runcircuit(circuit; process = true, noise = noisemodel0)\n",
    "ξ0 = [firstind(Λ0[i],tags=\"Input\",plev=0) for i in 1:N]\n",
    "ξ20 = [firstind(Λ0[i],tags=\"Output\",plev=0) for i in 1:N]\n",
    "Λ = runcircuit(circuit; process = true, noise = noisemodel)\n",
    "ξ = [firstind(Λ[i],tags=\"Input\",plev=0) for i in 1:N]\n",
    "ξ2 = [firstind(Λ[i],tags=\"Output\",plev=0) for i in 1:N]\n",
    "for i in 1:N\n",
    "    Λ0[i] = replaceind(Λ0[i],ξ0[i],ξ[i])\n",
    "    Λ0[i] = replaceind(Λ0[i],ξ0'[i],ξ'[i])\n",
    "    Λ0[i] = replaceind(Λ0[i],ξ20[i],ξ2[i])\n",
    "    Λ0[i] = replaceind(Λ0[i],ξ20'[i],ξ2'[i])\n",
    "end\n",
    "F = fidelity(Λ,Λ0)\n",
    "println(\" -- Process Fidelity \", F)"
   ]
  },
  {
   "cell_type": "code",
   "execution_count": 3,
   "id": "22a4553d-1a3c-4514-a1f1-993254eb6a69",
   "metadata": {},
   "outputs": [
    {
     "name": "stderr",
     "output_type": "stream",
     "text": [
      "0.0%┣                                         ┫ 0/4.0k [00:03<-3:-4:-56, -3s/it]\n",
      "0.0%┣                                         ┫ 1/4.0k [00:23<Inf:Inf, InfGs/it]\n",
      "3.6%┣█▋                                          ┫ 144/4.0k [00:25<11:13, 6it/s]\n",
      "7.3%┣███▏                                       ┫ 293/4.0k [00:27<05:42, 11it/s]\n",
      "10.9%┣████▋                                     ┫ 436/4.0k [00:29<03:57, 15it/s]\n",
      "14.2%┣██████                                    ┫ 568/4.0k [00:31<03:07, 18it/s]\n",
      "17.6%┣███████▍                                  ┫ 706/4.0k [00:33<02:34, 21it/s]\n",
      "21.3%┣█████████                                 ┫ 852/4.0k [00:35<02:09, 24it/s]\n",
      "25.1%┣██████████▎                              ┫ 1.0k/4.0k [00:37<01:51, 27it/s]\n",
      "28.9%┣███████████▉                             ┫ 1.2k/4.0k [00:39<01:36, 30it/s]\n",
      "32.6%┣█████████████▍                           ┫ 1.3k/4.0k [00:41<01:25, 32it/s]\n",
      "36.3%┣██████████████▉                          ┫ 1.5k/4.0k [00:43<01:16, 34it/s]\n",
      "40.1%┣████████████████▍                        ┫ 1.6k/4.0k [00:45<01:07, 36it/s]\n",
      "43.3%┣█████████████████▊                       ┫ 1.7k/4.0k [00:47<01:02, 37it/s]\n",
      "46.7%┣███████████████████▏                     ┫ 1.9k/4.0k [00:49<00:56, 38it/s]\n",
      "50.3%┣████████████████████▋                    ┫ 2.0k/4.0k [00:51<00:51, 39it/s]\n",
      "53.8%┣██████████████████████                   ┫ 2.2k/4.0k [00:53<00:46, 41it/s]\n",
      "56.9%┣███████████████████████▎                 ┫ 2.3k/4.0k [00:55<00:42, 41it/s]\n",
      "59.5%┣████████████████████████▍                ┫ 2.4k/4.0k [00:57<00:39, 42it/s]\n",
      "62.5%┣█████████████████████████▋               ┫ 2.5k/4.0k [00:59<00:35, 42it/s]\n",
      "65.5%┣██████████████████████████▉              ┫ 2.6k/4.0k [01:01<00:32, 43it/s]\n",
      "68.5%┣████████████████████████████             ┫ 2.7k/4.0k [01:03<00:29, 43it/s]\n",
      "71.7%┣█████████████████████████████▍           ┫ 2.9k/4.0k [01:05<00:26, 44it/s]\n",
      "75.0%┣██████████████████████████████▊          ┫ 3.0k/4.0k [01:07<00:22, 45it/s]\n",
      "78.3%┣████████████████████████████████▏        ┫ 3.1k/4.0k [01:09<00:19, 45it/s]\n",
      "81.3%┣█████████████████████████████████▎       ┫ 3.3k/4.0k [01:11<00:16, 46it/s]\n",
      "84.6%┣██████████████████████████████████▊      ┫ 3.4k/4.0k [01:13<00:13, 46it/s]\n",
      "87.9%┣████████████████████████████████████     ┫ 3.5k/4.0k [01:15<00:10, 47it/s]\n",
      "91.2%┣█████████████████████████████████████▍   ┫ 3.6k/4.0k [01:17<00:07, 47it/s]\n",
      "94.5%┣██████████████████████████████████████▊  ┫ 3.8k/4.0k [01:19<00:05, 48it/s]\n",
      "97.9%┣████████████████████████████████████████▏┫ 3.9k/4.0k [01:21<00:02, 48it/s]\n",
      "100.0%┣████████████████████████████████████████┫ 4.0k/4.0k [01:22<00:00, 49it/s]\n",
      "100.0%┣████████████████████████████████████████┫ 4.0k/4.0k [01:22<00:00, 49it/s]\n"
     ]
    }
   ],
   "source": [
    "nu = 4000\n",
    "NM = 10000\n",
    "states = [\"Dn\" for n in 1:N]\n",
    "ψ  = MPS(ComplexF64,ξ,states)\n",
    "ρ = outer(ψ',ψ)\n",
    "data = zeros(Int8,(NM,N))\n",
    "shadow = ITensor(vcat(ξ,ξ'))\n",
    "Λs = ITensor(vcat(ξ,ξ',ξ2,ξ2'))\n",
    "Λs_CRM = ITensor(vcat(ξ,ξ',ξ2,ξ2'))\n",
    "\n",
    "P0 = state(ξ[1],\"Dn\")\n",
    "for i in 2:N\n",
    "    P0 *= state(ξ[i],\"Dn\")\n",
    "end\n",
    "\n",
    "Fs = zeros(Float64,nu)\n",
    "Fs_CRM = zeros(Float64,nu)\n",
    "\n",
    "for r in ProgressBar(1:nu, printing_delay=2)   \n",
    "        ui = get_rotations(ξ,1) #Haar rotations in A\n",
    "        uf = get_rotations(ξ,1) #Haar rotations in A\n",
    "        ### Quantum Measurements\n",
    "        ρu = apply(ui,ρ,apply_dag=true)\n",
    "        ρe = runcircuit(ρu,circuit,noise=noisemodel)\n",
    "        #Build shadow for the initial state\n",
    "        uid = [dag(swapinds(ui[i],ξ[i],ξ[i]')) for i in 1:N]\n",
    "        ρi = get_shadow(P0,ξ,uid)\n",
    "        ρi = swapinds(ρi,ξ,ξ')\n",
    "\n",
    "        #Build shadow for the final state\n",
    "        data = get_RandomMeas(ρe,uf,NM)\n",
    "        P = get_Born(data,ξ)\n",
    "        ρf = get_shadow(P,ξ,uf)\n",
    "        replaceinds!(ρf,ξ,ξ2)\n",
    "        replaceinds!(ρf,ξ',ξ2')\n",
    "\n",
    "        #Form process shadow\n",
    "        Λt = 2^N*ρi*ρf\n",
    "        Λs += Λt\n",
    "        Fs[r] = real(inner(Λs,flatten(Λ0))/2^(2*N))/r\n",
    "    \n",
    "        #Repeat the same thing for simulated measurements\n",
    "        σe = runcircuit(ρu,circuit,noise=noisemodel0)\n",
    "        Pσ = get_Born(apply(uf,σe,apply_dag=true))\n",
    "        σf = get_shadow(Pσ,ξ,uf)\n",
    "        replaceinds!(σf,ξ,ξ2)\n",
    "        replaceinds!(σf,ξ',ξ2')\n",
    "        Λt_CRM = Λt-2^N*ρi*σf+flatten(Λ0)\n",
    "        Λs_CRM += Λt_CRM\n",
    "        Fs_CRM[r] = real(inner(Λs_CRM,flatten(Λ0))/2^(2*N))/r\n",
    "end"
   ]
  },
  {
   "cell_type": "code",
   "execution_count": 4,
   "id": "50d3d44d-38d9-43fd-9f57-a6a91c4436ff",
   "metadata": {},
   "outputs": [
    {
     "ename": "LoadError",
     "evalue": "Cannot convert String to series data for plotting",
     "output_type": "error",
     "traceback": [
      "Cannot convert String to series data for plotting",
      "",
      "Stacktrace:",
      "  [1] error(s::String)",
      "    @ Base ./error.jl:35",
      "  [2] _prepare_series_data(x::String)",
      "    @ RecipesPipeline ~/.julia/packages/RecipesPipeline/BGM3l/src/series.jl:8",
      "  [3] _series_data_vector(x::String, plotattributes::Dict{Symbol, Any})",
      "    @ RecipesPipeline ~/.julia/packages/RecipesPipeline/BGM3l/src/series.jl:36",
      "  [4] macro expansion",
      "    @ RecipesPipeline ~/.julia/packages/RecipesPipeline/BGM3l/src/series.jl:130 [inlined]",
      "  [5] apply_recipe(plotattributes::AbstractDict{Symbol, Any}, ::Type{RecipesPipeline.SliceIt}, x::Any, y::Any, z::Any)",
      "    @ RecipesPipeline ~/.julia/packages/RecipesBase/BRe07/src/RecipesBase.jl:300",
      "  [6] _process_userrecipes!(plt::Any, plotattributes::Any, args::Any)",
      "    @ RecipesPipeline ~/.julia/packages/RecipesPipeline/BGM3l/src/user_recipe.jl:38",
      "  [7] recipe_pipeline!(plt::Any, plotattributes::Any, args::Any)",
      "    @ RecipesPipeline ~/.julia/packages/RecipesPipeline/BGM3l/src/RecipesPipeline.jl:72",
      "  [8] _plot!(plt::Plots.Plot, plotattributes::Any, args::Any)",
      "    @ Plots ~/.julia/packages/Plots/ju9dp/src/plot.jl:223",
      "  [9] plot!(::Plots.Plot, ::Any, ::Vararg{Any}; kw...)",
      "    @ Plots ~/.julia/packages/Plots/ju9dp/src/plot.jl:213",
      " [10] plot!(::Any, ::Vararg{Any}; kw...)",
      "    @ Plots ~/.julia/packages/Plots/ju9dp/src/plot.jl:202",
      " [11] top-level scope",
      "    @ In[4]:4"
     ]
    }
   ],
   "source": [
    "using Plots\n",
    "plot(1:nu,Fs,label=\"estimated\")\n",
    "plot!(1:nu,Fs_CRM,label=\"CRM estimated\")\n",
    "plot!(1:nu,F*ones(nu),\"--k\",label=\"exact\")\n",
    "xscale!(\"log\")\n",
    "yscale!(\"log\")\n",
    "ylim(ymax=1)\n",
    "ylabel!(\"Fidelity\")\n",
    "xlabel!(\"unitaries\")"
   ]
  },
  {
   "cell_type": "code",
   "execution_count": null,
   "id": "3df0f50d-5d26-4142-a5df-f790cccec1a1",
   "metadata": {},
   "outputs": [],
   "source": []
  },
  {
   "cell_type": "code",
   "execution_count": null,
   "id": "a7bff767-3561-4e68-8024-5039036c5232",
   "metadata": {},
   "outputs": [],
   "source": []
  }
 ],
 "metadata": {
  "kernelspec": {
   "display_name": "Julia 1.10.0",
   "language": "julia",
   "name": "julia-1.10"
  },
  "language_info": {
   "file_extension": ".jl",
   "mimetype": "application/julia",
   "name": "julia",
   "version": "1.10.0"
  }
 },
 "nbformat": 4,
 "nbformat_minor": 5
}
