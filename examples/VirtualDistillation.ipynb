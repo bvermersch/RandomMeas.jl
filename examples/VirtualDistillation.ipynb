{
 "cells": [
  {
   "cell_type": "markdown",
   "id": "b29e8af8",
   "metadata": {},
   "source": [
    "## Virtual distillation with classical shadows \n",
    "\n",
    "Related paper [Seif et al, PRX Quantum 4, 010303 2023](https://journals.aps.org/prxquantum/abstract/10.1103/PRXQuantum.4.010303)\n",
    "\n",
    "Let a density matrix $\\rho=(1-\\epsilon)\\ket{\\psi}\\bra{\\psi}+\\sum_\\nu \\epsilon_{\\nu} \\ket{\\psi_{\\nu}}\\bra{\\psi_{\\nu}}$ represent an experimental state subject to noise, where $\\ket{\\psi}$ is the targeted pure state.\n",
    "\n",
    "The idea of virtual distillation is that the rescaled state $\\rho^n/\\mathrm{tr}(\\rho^n)$ converges to $\\psi$ as $n$ increases. \n",
    "\n",
    "This means that the extraction of an observable $O$ is better done by evaluating $\\mathrm{tr}(O\\rho^n)/\\mathrm{tr}(\\rho^n)$ rather than using the standard estimator $\\mathrm{tr}(O\\rho)$. Such multi-copy observables can be estimated easily in the classical shadow framework."
   ]
  },
  {
   "cell_type": "code",
   "execution_count": 2,
   "id": "5b9637c3-6286-4f60-9525-ebc182a1e56b",
   "metadata": {},
   "outputs": [],
   "source": [
    "using ITensors,ITensorMPS\n",
    "using RandomMeas\n",
    "using ProgressMeter"
   ]
  },
  {
   "cell_type": "markdown",
   "id": "14efcdca",
   "metadata": {},
   "source": [
    "For this tutorial, we first load via DMRG the ground state of the transverse Ising model. "
   ]
  },
  {
   "cell_type": "code",
   "execution_count": 3,
   "id": "f8ea8288-4cfc-4ca9-8d4f-a0bf68dd5331",
   "metadata": {},
   "outputs": [
    {
     "name": "stdout",
     "output_type": "stream",
     "text": [
      "Running DMRG to get ground state of transverse field Ising model:\n",
      "After sweep 1 energy=-4.745313419333967  maxlinkdim=4 maxerr=4.87E-18 time=24.225\n",
      "After sweep 2 energy=-4.758759954696696  maxlinkdim=4 maxerr=0.00E+00 time=0.003\n",
      "After sweep 3 energy=-4.758770472473042  maxlinkdim=4 maxerr=2.11E-16 time=0.005\n",
      "After sweep 4 energy=-4.75877048313254  maxlinkdim=4 maxerr=1.12E-16 time=0.004\n",
      "After sweep 5 energy=-4.758770483143621  maxlinkdim=4 maxerr=0.00E+00 time=0.003\n",
      "\n",
      "Ground state energy:  -4.758770483143621\n",
      "\n",
      "---------------------------------------\n",
      "\n"
     ]
    }
   ],
   "source": [
    "N = 4\n",
    "ξ = siteinds(\"Qubit\", N)\n",
    "B = 1.\n",
    "ampo = AutoMPO()\n",
    "for j in 1:(N - 1)\n",
    "  # Ising ZZ interactions\n",
    "  ampo .+= -1, \"X\", j, \"X\", j + 1\n",
    "end\n",
    "for j in 1:N\n",
    "  # Transverse field X\n",
    "  ampo .+= -B, \"Z\", j\n",
    "end\n",
    "H = MPO(ampo,ξ)\n",
    "# Density-matrix renormalization group\n",
    "dmrg_iter = 5      # DMRG steps\n",
    "dmrg_cutoff = 1E-10   # Cutoff\n",
    "ψ0 = random_mps(ξ) # Initial state\n",
    "sweeps = Sweeps(dmrg_iter)\n",
    "maxdim!(sweeps, 10, 20, 30, 40, 50, 100)\n",
    "cutoff!(sweeps, dmrg_cutoff)\n",
    "# Run \n",
    "println(\"Running DMRG to get ground state of transverse field Ising model:\")\n",
    "E, ψ = dmrg(H, ψ0, sweeps)\n",
    "println(\"\\nGround state energy:  \", E)\n",
    "println(\"\\n---------------------------------------\\n\")"
   ]
  },
  {
   "cell_type": "markdown",
   "id": "48990c90",
   "metadata": {},
   "source": [
    "Then we model the experimetal quantum state with global depolarization"
   ]
  },
  {
   "cell_type": "code",
   "execution_count": 5,
   "id": "bdea0129-3c6c-459b-9010-da97492a84d6",
   "metadata": {},
   "outputs": [],
   "source": [
    "#Consider experimental state admixed with white noise\n",
    "p = 0.05\n",
    "Ide = MPO(ξ)\n",
    "for i in 1:N\n",
    "    Ide[i] = δ(ξ[i]',ξ[i])\n",
    "end\n",
    "ρ = (1-p)*outer(ψ',ψ)+p*Ide/2^N;"
   ]
  },
  {
   "cell_type": "markdown",
   "id": "32710916",
   "metadata": {},
   "source": [
    "And perform randomized measurements"
   ]
  },
  {
   "cell_type": "code",
   "execution_count": 6,
   "id": "bcf617ab-f277-443e-9094-944a3d72ae4d",
   "metadata": {},
   "outputs": [
    {
     "name": "stderr",
     "output_type": "stream",
     "text": [
      "\u001b[32mProgress: 100%|█████████████████████████████████████████| Time: 0:00:30\u001b[39m\u001b[K\n"
     ]
    }
   ],
   "source": [
    "nu = 500\n",
    "NM = 100\n",
    "data = zeros(Int8,(nu,NM,N));\n",
    "u = Vector{Vector{ITensor}}()\n",
    "ITensors.disable_warn_order()\n",
    "@showprogress dt=1 for r in 1:nu\n",
    "        push!(u,get_rotations(ξ,1))\n",
    "        data[r,:,:] =  get_RandomMeas(ρ,u[r],NM)\n",
    "end"
   ]
  },
  {
   "cell_type": "markdown",
   "id": "f39690e9",
   "metadata": {},
   "source": [
    "We then used three batch classical shadows [Rath et al, PRX quantum 2023](https://doi.org/10.1103/PRXQuantum.4.010318) for postprocessing the data."
   ]
  },
  {
   "cell_type": "code",
   "execution_count": 9,
   "id": "df3fdfaf-f438-4343-a35c-928e0927d632",
   "metadata": {},
   "outputs": [],
   "source": [
    "n = 3 #number of batch shadows\n",
    "ρb = get_batch_shadows(data,ξ,u,n);"
   ]
  },
  {
   "cell_type": "markdown",
   "id": "f645aa1e",
   "metadata": {},
   "source": [
    "The three batch shadows can be used to form unbiased estimates of $\\rho,\\rho^2,\\rho^3$ respectively, using U-statistics [Huang et al, Nat Phys 2020](https://doi.org/10.1038/s41567-020-0932-7)"
   ]
  },
  {
   "cell_type": "code",
   "execution_count": 10,
   "id": "63cd047a",
   "metadata": {},
   "outputs": [],
   "source": [
    "ρm = Vector{ITensor}(undef,n)\n",
    "ρm[1] = (ρb[1]+ρb[2]+ρb[3])/3/nu\n",
    "ρm[2] = (multiply(ρb[1],ρb[2])+multiply(ρb[1],ρb[3])+multiply(ρb[2],ρb[3]))/3/nu\n",
    "ρm[3] = multiply(multiply(ρb[1],ρb[2]),ρb[3])/nu;"
   ]
  },
  {
   "cell_type": "markdown",
   "id": "8025fe22",
   "metadata": {},
   "source": [
    "We can then evaluate $\\mathrm{tr}(O\\rho^n)/\\mathrm{tr}(\\rho^n)$ for $n=1,2,3$."
   ]
  },
  {
   "cell_type": "code",
   "execution_count": 11,
   "id": "55cb3687-1ffe-4cc5-9a23-ce4e74c15800",
   "metadata": {},
   "outputs": [
    {
     "name": "stdout",
     "output_type": "stream",
     "text": [
      "Estimations for different purification order n [-4.482176775009767, -4.784397490676381, -4.7554420427271396]\n",
      "Real values -4.758770483143621\n"
     ]
    }
   ],
   "source": [
    "Es = zeros(n)\n",
    "for nt in 1:n\n",
    "    Es[nt] = real(trace(multiply(ρm[nt],flatten(H)),ξ)/trace(ρm[nt],ξ))\n",
    "end\n",
    "println(\"Estimations for different purification order n \" , Es)\n",
    "println(\"Real values \",E)"
   ]
  }
 ],
 "metadata": {
  "kernelspec": {
   "display_name": "Julia 1.10.0",
   "language": "julia",
   "name": "julia-1.10"
  },
  "language_info": {
   "file_extension": ".jl",
   "mimetype": "application/julia",
   "name": "julia",
   "version": "1.10.0"
  }
 },
 "nbformat": 4,
 "nbformat_minor": 5
}
