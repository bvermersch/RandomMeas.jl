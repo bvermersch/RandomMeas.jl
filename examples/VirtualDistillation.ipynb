{
 "cells": [
  {
   "cell_type": "markdown",
   "id": "b29e8af8",
   "metadata": {},
   "source": [
    "## Virtual distillation with classical shadows \n",
    "\n",
    "Related paper [Seif et al, PRX Quantum 4, 010303 2023](https://journals.aps.org/prxquantum/abstract/10.1103/PRXQuantum.4.010303)"
   ]
  },
  {
   "cell_type": "code",
   "execution_count": 1,
   "id": "5b9637c3-6286-4f60-9525-ebc182a1e56b",
   "metadata": {},
   "outputs": [],
   "source": [
    "using ITensors,ITensorMPS\n",
    "using RandomMeas\n",
    "using ProgressMeter"
   ]
  },
  {
   "cell_type": "code",
   "execution_count": 2,
   "id": "f8ea8288-4cfc-4ca9-8d4f-a0bf68dd5331",
   "metadata": {},
   "outputs": [
    {
     "name": "stdout",
     "output_type": "stream",
     "text": [
      "Running DMRG to get ground state of transverse field Ising model:\n",
      "After sweep 1 energy=-4.7405782692369645  maxlinkdim=4 maxerr=7.72E-17 time=15.027\n",
      "After sweep 2 energy=-4.758755919336972  maxlinkdim=4 maxerr=1.55E-17 time=0.005\n",
      "After sweep 3 energy=-4.758770467729373  maxlinkdim=4 maxerr=3.60E-18 time=0.004\n",
      "After sweep 4 energy=-4.758770483126646  maxlinkdim=4 maxerr=6.25E-18 time=0.004\n",
      "After sweep 5 energy=-4.7587704831436115  maxlinkdim=4 maxerr=2.22E-16 time=0.017\n",
      "\n",
      "Ground state energy:  -4.7587704831436115\n",
      "\n",
      "---------------------------------------\n",
      "\n"
     ]
    }
   ],
   "source": [
    "N = 4\n",
    "ξ = siteinds(\"Qubit\", N)\n",
    "B = 1.\n",
    "ampo = AutoMPO()\n",
    "for j in 1:(N - 1)\n",
    "  # Ising ZZ interactions\n",
    "  ampo .+= -1, \"X\", j, \"X\", j + 1\n",
    "end\n",
    "for j in 1:N\n",
    "  # Transverse field X\n",
    "  ampo .+= -B, \"Z\", j\n",
    "end\n",
    "H = MPO(ampo,ξ)\n",
    "H2 = apply(H,H)\n",
    "# Density-matrix renormalization group\n",
    "dmrg_iter = 5      # DMRG steps\n",
    "dmrg_cutoff = 1E-10   # Cutoff\n",
    "ψ0 = random_mps(ξ) # Initial state\n",
    "sweeps = Sweeps(dmrg_iter)\n",
    "maxdim!(sweeps, 10, 20, 30, 40, 50, 100)\n",
    "cutoff!(sweeps, dmrg_cutoff)\n",
    "# Run \n",
    "println(\"Running DMRG to get ground state of transverse field Ising model:\")\n",
    "E, ψ = dmrg(H, ψ0, sweeps)\n",
    "println(\"\\nGround state energy:  \", E)\n",
    "println(\"\\n---------------------------------------\\n\")"
   ]
  },
  {
   "cell_type": "code",
   "execution_count": 3,
   "id": "bdea0129-3c6c-459b-9010-da97492a84d6",
   "metadata": {},
   "outputs": [],
   "source": [
    "#Consider experimental state admixed with white noise\n",
    "p = 0.05\n",
    "Ide = MPO(ξ)\n",
    "for i in 1:N\n",
    "    Ide[i] = δ(ξ[i]',ξ[i])\n",
    "end\n",
    "ρ = (1-p)*outer(ψ',ψ)+p*Ide/2^N;"
   ]
  },
  {
   "cell_type": "code",
   "execution_count": 4,
   "id": "1124f2d8-313c-4a05-8715-30c172740932",
   "metadata": {},
   "outputs": [],
   "source": [
    "nu = 500\n",
    "NM = 100\n",
    "data = zeros(Int8,(nu,NM,N));"
   ]
  },
  {
   "cell_type": "code",
   "execution_count": 5,
   "id": "bcf617ab-f277-443e-9094-944a3d72ae4d",
   "metadata": {},
   "outputs": [
    {
     "name": "stderr",
     "output_type": "stream",
     "text": [
      "\u001b[32mProgress: 100%|█████████████████████████████████████████| Time: 0:00:28\u001b[39m\n"
     ]
    }
   ],
   "source": [
    "Es = 0.\n",
    "E2s = 0.\n",
    "n = 3 #We will create three batch shadows\n",
    "u = Vector{Vector{ITensor}}()\n",
    "ITensors.disable_warn_order()\n",
    "@showprogress dt=1 for r in 1:nu\n",
    "        push!(u,get_rotations(ξ,1))\n",
    "        data[r,:,:] =  get_RandomMeas(ρ,u[r],NM)\n",
    "end"
   ]
  },
  {
   "cell_type": "code",
   "execution_count": 6,
   "id": "df3fdfaf-f438-4343-a35c-928e0927d632",
   "metadata": {},
   "outputs": [],
   "source": [
    "ρb = get_batch_shadows(data,ξ,u,n)\n",
    "ρm = Vector{ITensor}(undef,n)\n",
    "ρm[1] = (ρb[1]+ρb[2]+ρb[3])/3/nu\n",
    "ρm[2] = (multiply(ρb[1],ρb[2])+multiply(ρb[1],ρb[3])+multiply(ρb[2],ρb[3]))/3/nu\n",
    "ρm[3] = multiply(multiply(ρb[1],ρb[2]),ρb[3])/nu;"
   ]
  },
  {
   "cell_type": "code",
   "execution_count": 7,
   "id": "55cb3687-1ffe-4cc5-9a23-ce4e74c15800",
   "metadata": {},
   "outputs": [],
   "source": [
    "Es = zeros(n)\n",
    "for nt in 1:n\n",
    "    Es[nt] = real(trace(multiply(ρm[nt],flatten(H)),ξ)/trace(ρm[nt],ξ))\n",
    "end"
   ]
  },
  {
   "cell_type": "code",
   "execution_count": 8,
   "id": "bb4be2af-fe2e-45a7-8daa-b47c2695d676",
   "metadata": {},
   "outputs": [
    {
     "name": "stdout",
     "output_type": "stream",
     "text": [
      "Estimations for different purification order n [-4.601577317902415, -4.775973385643779, -4.74488219001357]\n",
      "Real values -4.7587704831436115\n"
     ]
    }
   ],
   "source": [
    "println(\"Estimations for different purification order n \" , Es)\n",
    "println(\"Real values \",E)"
   ]
  },
  {
   "cell_type": "code",
   "execution_count": null,
   "id": "ab623593-1517-482c-8761-9733b7479216",
   "metadata": {},
   "outputs": [],
   "source": []
  }
 ],
 "metadata": {
  "kernelspec": {
   "display_name": "Julia 1.10.0",
   "language": "julia",
   "name": "julia-1.10"
  },
  "language_info": {
   "file_extension": ".jl",
   "mimetype": "application/julia",
   "name": "julia",
   "version": "1.10.0"
  }
 },
 "nbformat": 4,
 "nbformat_minor": 5
}
