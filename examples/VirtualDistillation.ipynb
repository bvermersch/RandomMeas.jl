{
 "cells": [
  {
   "cell_type": "code",
   "execution_count": 121,
   "id": "5b9637c3-6286-4f60-9525-ebc182a1e56b",
   "metadata": {},
   "outputs": [],
   "source": [
    "using Revise\n",
    "using ITensors\n",
    "using PastaQ\n",
    "push!(LOAD_PATH,\"/scratch/Codes/RandomMeas_dev.jl/src/\")\n",
    "using RandomMeas\n",
    "using ProgressBars"
   ]
  },
  {
   "cell_type": "code",
   "execution_count": 122,
   "id": "f8ea8288-4cfc-4ca9-8d4f-a0bf68dd5331",
   "metadata": {},
   "outputs": [
    {
     "name": "stdout",
     "output_type": "stream",
     "text": [
      "Running DMRG to get ground state of transverse field Ising model:\n",
      "After sweep 1 energy=-9.775405053120096  maxlinkdim=4 maxerr=1.22E-15 time=0.008\n",
      "After sweep 2 energy=-9.837803612541238  maxlinkdim=11 maxerr=5.85E-11 time=0.014\n",
      "After sweep 3 energy=-9.837951442505089  maxlinkdim=7 maxerr=6.19E-11 time=0.008\n",
      "After sweep 4 energy=-9.837951446197911  maxlinkdim=6 maxerr=8.84E-11 time=0.008\n",
      "After sweep 5 energy=-9.837951446199058  maxlinkdim=6 maxerr=6.91E-11 time=0.008\n",
      "\n",
      "Ground state energy:  -9.837951446199058\n",
      "\n",
      "---------------------------------------\n",
      "\n"
     ]
    }
   ],
   "source": [
    "N = 8\n",
    "ξ = siteinds(\"Qubit\", N)\n",
    "B = 1.\n",
    "ampo = AutoMPO()\n",
    "for j in 1:(N - 1)\n",
    "  # Ising ZZ interactions\n",
    "  ampo .+= -1, \"X\", j, \"X\", j + 1\n",
    "end\n",
    "for j in 1:N\n",
    "  # Transverse field X\n",
    "  ampo .+= -B, \"Z\", j\n",
    "end\n",
    "H = MPO(ampo,ξ)\n",
    "H2 = multiply(H,H)\n",
    "# Density-matrix renormalization group\n",
    "dmrg_iter = 5      # DMRG steps\n",
    "dmrg_cutoff = 1E-10   # Cutoff\n",
    "ψ0 = randomMPS(ξ) # Initial state\n",
    "sweeps = Sweeps(dmrg_iter)\n",
    "maxdim!(sweeps, 10, 20, 30, 40, 50, 100)\n",
    "cutoff!(sweeps, dmrg_cutoff)\n",
    "# Run \n",
    "println(\"Running DMRG to get ground state of transverse field Ising model:\")\n",
    "E, ψ = dmrg(H, ψ0, sweeps)\n",
    "println(\"\\nGround state energy:  \", E)\n",
    "println(\"\\n---------------------------------------\\n\")"
   ]
  },
  {
   "cell_type": "code",
   "execution_count": 123,
   "id": "bdea0129-3c6c-459b-9010-da97492a84d6",
   "metadata": {},
   "outputs": [],
   "source": [
    "#Consider experimental state admixed with white noise\n",
    "p = 0.05\n",
    "Ide = MPO(ξ)\n",
    "for i in 1:N\n",
    "    Ide[i] = δ(ξ[i]',ξ[i])\n",
    "end\n",
    "ρ = (1-p)*outer(ψ',ψ)+p*Ide/2^N;"
   ]
  },
  {
   "cell_type": "code",
   "execution_count": 124,
   "id": "1124f2d8-313c-4a05-8715-30c172740932",
   "metadata": {},
   "outputs": [],
   "source": [
    "nu = 5000\n",
    "NM = 1000\n",
    "datat = zeros(Int8,(NM,N));\n",
    "data = zeros(Int8,(nu,NM,N));"
   ]
  },
  {
   "cell_type": "code",
   "execution_count": 125,
   "id": "bcf617ab-f277-443e-9094-944a3d72ae4d",
   "metadata": {},
   "outputs": [
    {
     "name": "stderr",
     "output_type": "stream",
     "text": [
      "0.0%┣                                             ┫ 0/5.0k [00:00<00:00, -0s/it]\n",
      "98.1%┣███████████████████████████████████████▎┫ 4.9k/5.0k [00:20<00:00, 245it/s]\n",
      "100.0%┣███████████████████████████████████████┫ 5.0k/5.0k [00:20<00:00, 246it/s]\n",
      "100.0%┣███████████████████████████████████████┫ 5.0k/5.0k [00:20<00:00, 246it/s]\n"
     ]
    }
   ],
   "source": [
    "Es = 0.\n",
    "E2s = 0.\n",
    "n = 3 #We will create three batch shadows\n",
    "u = Vector{Vector{ITensor}}()\n",
    "ITensors.disable_warn_order()\n",
    "for r in ProgressBar(1:nu, printing_delay=20)\n",
    "        push!(u,get_rotations(ξ,1))\n",
    "        get_RandomMeas!(datat,ρ,u[r],NM)\n",
    "        data[r,:,:] = datat\n",
    "end"
   ]
  },
  {
   "cell_type": "code",
   "execution_count": 126,
   "id": "df3fdfaf-f438-4343-a35c-928e0927d632",
   "metadata": {},
   "outputs": [],
   "source": [
    "ρb = acquire_shadows_batch_fromdata(data,ξ,u,n)\n",
    "ρm = Vector{ITensor}(undef,n)\n",
    "ρm[1] = (ρb[1]+ρb[2]+ρb[3])/3/nu\n",
    "ρm[2] = (multiply(ρb[1],ρb[2])+multiply(ρb[1],ρb[3])+multiply(ρb[2],ρb[3]))/3/nu\n",
    "ρm[3] = multiply(multiply(ρb[1],ρb[2]),ρb[3])/nu;"
   ]
  },
  {
   "cell_type": "code",
   "execution_count": 127,
   "id": "55cb3687-1ffe-4cc5-9a23-ce4e74c15800",
   "metadata": {},
   "outputs": [],
   "source": [
    "Es = zeros(n)\n",
    "for nt in 1:n\n",
    "    Es[nt] = real(trace(multiply(ρm[nt],flatten(H)),ξ)/trace(ρm[nt],ξ))\n",
    "end"
   ]
  },
  {
   "cell_type": "code",
   "execution_count": 128,
   "id": "670e36c8-402d-4280-bd0d-1f9cb7eb575c",
   "metadata": {},
   "outputs": [
    {
     "name": "stdout",
     "output_type": "stream",
     "text": [
      "[-9.365810060674601, -9.80757453288621, -9.837793486361702]\n"
     ]
    },
    {
     "data": {
      "image/png": "[encoded data removed]",
      "text/plain": [
       "Figure(PyObject <Figure size 640x480 with 1 Axes>)"
      ]
     },
     "metadata": {},
     "output_type": "display_data"
    },
    {
     "data": {
      "text/plain": [
       "PyObject Text(24.000000000000007, 0.5, 'energy estimation')"
      ]
     },
     "execution_count": 128,
     "metadata": {},
     "output_type": "execute_result"
    }
   ],
   "source": [
    "println(Es)\n",
    "using PyPlot\n",
    "plot(1:n,Es,\"*\",ms=10)\n",
    "plot(1:n,ones(n)*E,\"--k\")\n",
    "xlabel(\"copies\")\n",
    "ylabel(\"energy estimation\")"
   ]
  }
 ],
 "metadata": {
  "kernelspec": {
   "display_name": "Julia 1.10.0",
   "language": "julia",
   "name": "julia-1.10"
  },
  "language_info": {
   "file_extension": ".jl",
   "mimetype": "application/julia",
   "name": "julia",
   "version": "1.10.0"
  }
 },
 "nbformat": 4,
 "nbformat_minor": 5
}
