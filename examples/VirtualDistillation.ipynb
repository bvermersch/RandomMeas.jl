{
 "cells": [
  {
   "cell_type": "code",
   "execution_count": 1,
   "id": "5b9637c3-6286-4f60-9525-ebc182a1e56b",
   "metadata": {},
   "outputs": [],
   "source": [
    "using Revise\n",
    "using ITensors,ITensorMPS\n",
    "using PastaQ\n",
    "using RandomMeas\n",
    "using ProgressBars"
   ]
  },
  {
   "cell_type": "code",
   "execution_count": 2,
   "id": "f8ea8288-4cfc-4ca9-8d4f-a0bf68dd5331",
   "metadata": {},
   "outputs": [
    {
     "name": "stdout",
     "output_type": "stream",
     "text": [
      "Running DMRG to get ground state of transverse field Ising model:\n",
      "After sweep 1 energy=-9.712542551969243  maxlinkdim=4 maxerr=1.50E-16 time=15.011\n",
      "After sweep 2 energy=-9.835955252705208  maxlinkdim=13 maxerr=2.93E-11 time=0.009\n",
      "After sweep 3 energy=-9.83795105128921  maxlinkdim=9 maxerr=6.24E-11 time=0.008\n",
      "After sweep 4 energy=-9.837951446183983  maxlinkdim=6 maxerr=9.29E-11 time=0.008\n",
      "After sweep 5 energy=-9.837951446199053  maxlinkdim=6 maxerr=6.91E-11 time=0.008\n",
      "\n",
      "Ground state energy:  -9.837951446199053\n",
      "\n",
      "---------------------------------------\n",
      "\n"
     ]
    }
   ],
   "source": [
    "N = 8\n",
    "ξ = siteinds(\"Qubit\", N)\n",
    "B = 1.\n",
    "ampo = AutoMPO()\n",
    "for j in 1:(N - 1)\n",
    "  # Ising ZZ interactions\n",
    "  ampo .+= -1, \"X\", j, \"X\", j + 1\n",
    "end\n",
    "for j in 1:N\n",
    "  # Transverse field X\n",
    "  ampo .+= -B, \"Z\", j\n",
    "end\n",
    "H = MPO(ampo,ξ)\n",
    "H2 = apply(H,H)\n",
    "# Density-matrix renormalization group\n",
    "dmrg_iter = 5      # DMRG steps\n",
    "dmrg_cutoff = 1E-10   # Cutoff\n",
    "ψ0 = randomMPS(ξ) # Initial state\n",
    "sweeps = Sweeps(dmrg_iter)\n",
    "maxdim!(sweeps, 10, 20, 30, 40, 50, 100)\n",
    "cutoff!(sweeps, dmrg_cutoff)\n",
    "# Run \n",
    "println(\"Running DMRG to get ground state of transverse field Ising model:\")\n",
    "E, ψ = dmrg(H, ψ0, sweeps)\n",
    "println(\"\\nGround state energy:  \", E)\n",
    "println(\"\\n---------------------------------------\\n\")"
   ]
  },
  {
   "cell_type": "code",
   "execution_count": 3,
   "id": "bdea0129-3c6c-459b-9010-da97492a84d6",
   "metadata": {},
   "outputs": [],
   "source": [
    "#Consider experimental state admixed with white noise\n",
    "p = 0.05\n",
    "Ide = MPO(ξ)\n",
    "for i in 1:N\n",
    "    Ide[i] = δ(ξ[i]',ξ[i])\n",
    "end\n",
    "ρ = (1-p)*outer(ψ',ψ)+p*Ide/2^N;"
   ]
  },
  {
   "cell_type": "code",
   "execution_count": 4,
   "id": "1124f2d8-313c-4a05-8715-30c172740932",
   "metadata": {},
   "outputs": [],
   "source": [
    "nu = 5000\n",
    "NM = 1000\n",
    "data = zeros(Int8,(nu,NM,N));"
   ]
  },
  {
   "cell_type": "code",
   "execution_count": 8,
   "id": "bcf617ab-f277-443e-9094-944a3d72ae4d",
   "metadata": {},
   "outputs": [
    {
     "name": "stderr",
     "output_type": "stream",
     "text": [
      "0.0%┣                                        ┫ 0/5.0k [00:03<-3:-29:-42, -3s/it]\n",
      "0.0%┣                                         ┫ 1/5.0k [00:29<Inf:Inf, InfGs/it]\n",
      "87.7%┣████████████████████████████████████     ┫ 4.4k/5.0k [00:49<00:07, 89it/s]\n",
      "100.0%┣████████████████████████████████████████┫ 5.0k/5.0k [00:52<00:00, 96it/s]\n",
      "100.0%┣████████████████████████████████████████┫ 5.0k/5.0k [00:52<00:00, 96it/s]\n"
     ]
    }
   ],
   "source": [
    "Es = 0.\n",
    "E2s = 0.\n",
    "n = 3 #We will create three batch shadows\n",
    "u = Vector{Vector{ITensor}}()\n",
    "ITensors.disable_warn_order()\n",
    "for r in ProgressBar(1:nu, printing_delay=20)\n",
    "        push!(u,get_rotations(ξ,1))\n",
    "        data[r,:,:] =  get_RandomMeas(ρ,u[r],NM)\n",
    "end"
   ]
  },
  {
   "cell_type": "code",
   "execution_count": 9,
   "id": "df3fdfaf-f438-4343-a35c-928e0927d632",
   "metadata": {},
   "outputs": [],
   "source": [
    "ρb = get_batch_shadows(data,ξ,u,n)\n",
    "ρm = Vector{ITensor}(undef,n)\n",
    "ρm[1] = (ρb[1]+ρb[2]+ρb[3])/3/nu\n",
    "ρm[2] = (multiply(ρb[1],ρb[2])+multiply(ρb[1],ρb[3])+multiply(ρb[2],ρb[3]))/3/nu\n",
    "ρm[3] = multiply(multiply(ρb[1],ρb[2]),ρb[3])/nu;"
   ]
  },
  {
   "cell_type": "code",
   "execution_count": 10,
   "id": "55cb3687-1ffe-4cc5-9a23-ce4e74c15800",
   "metadata": {},
   "outputs": [],
   "source": [
    "Es = zeros(n)\n",
    "for nt in 1:n\n",
    "    Es[nt] = real(trace(multiply(ρm[nt],flatten(H)),ξ)/trace(ρm[nt],ξ))\n",
    "end"
   ]
  },
  {
   "cell_type": "code",
   "execution_count": null,
   "id": "670e36c8-402d-4280-bd0d-1f9cb7eb575c",
   "metadata": {},
   "outputs": [
    {
     "name": "stderr",
     "output_type": "stream",
     "text": [
      "\u001b[33m\u001b[1m┌ \u001b[22m\u001b[39m\u001b[33m\u001b[1mWarning: \u001b[22m\u001b[39m/home/benoit/.julia/packages/Observers/1ausc/src/dataframe/deprecated.jl no longer exists, deleted all methods\n",
      "\u001b[33m\u001b[1m└ \u001b[22m\u001b[39m\u001b[90m@ Revise ~/.julia/packages/Revise/FaTes/src/packagedef.jl:666\u001b[39m\n",
      "\u001b[33m\u001b[1m┌ \u001b[22m\u001b[39m\u001b[33m\u001b[1mWarning: \u001b[22m\u001b[39m/home/benoit/.julia/packages/Observers/1ausc/src/abstractdataframe/column_functions.jl no longer exists, deleted all methods\n",
      "\u001b[33m\u001b[1m└ \u001b[22m\u001b[39m\u001b[90m@ Revise ~/.julia/packages/Revise/FaTes/src/packagedef.jl:666\u001b[39m\n",
      "\u001b[33m\u001b[1m┌ \u001b[22m\u001b[39m\u001b[33m\u001b[1mWarning: \u001b[22m\u001b[39m/home/benoit/.julia/packages/Observers/1ausc/src/dataframe/observer.jl no longer exists, deleted all methods\n",
      "\u001b[33m\u001b[1m└ \u001b[22m\u001b[39m\u001b[90m@ Revise ~/.julia/packages/Revise/FaTes/src/packagedef.jl:666\u001b[39m\n",
      "\u001b[33m\u001b[1m┌ \u001b[22m\u001b[39m\u001b[33m\u001b[1mWarning: \u001b[22m\u001b[39m/home/benoit/.julia/packages/ITensors/4M2ep/src/lib/ContractionSequenceOptimization/src/ContractionSequenceOptimization.jl no longer exists, deleted all methods\n",
      "\u001b[33m\u001b[1m└ \u001b[22m\u001b[39m\u001b[90m@ Revise ~/.julia/packages/Revise/FaTes/src/packagedef.jl:666\u001b[39m\n",
      "\u001b[33m\u001b[1m┌ \u001b[22m\u001b[39m\u001b[33m\u001b[1mWarning: \u001b[22m\u001b[39m/home/benoit/.julia/packages/ITensors/4M2ep/src/lib/ContractionSequenceOptimization/src/utils.jl no longer exists, deleted all methods\n",
      "\u001b[33m\u001b[1m└ \u001b[22m\u001b[39m\u001b[90m@ Revise ~/.julia/packages/Revise/FaTes/src/packagedef.jl:666\u001b[39m\n",
      "\u001b[33m\u001b[1m┌ \u001b[22m\u001b[39m\u001b[33m\u001b[1mWarning: \u001b[22m\u001b[39m/home/benoit/.julia/packages/ITensors/4M2ep/src/lib/ContractionSequenceOptimization/src/three_tensors.jl no longer exists, deleted all methods\n",
      "\u001b[33m\u001b[1m└ \u001b[22m\u001b[39m\u001b[90m@ Revise ~/.julia/packages/Revise/FaTes/src/packagedef.jl:666\u001b[39m\n",
      "\u001b[33m\u001b[1m┌ \u001b[22m\u001b[39m\u001b[33m\u001b[1mWarning: \u001b[22m\u001b[39m/home/benoit/.julia/packages/ITensors/4M2ep/src/lib/ContractionSequenceOptimization/src/breadth_first_constructive.jl no longer exists, deleted all methods\n",
      "\u001b[33m\u001b[1m└ \u001b[22m\u001b[39m\u001b[90m@ Revise ~/.julia/packages/Revise/FaTes/src/packagedef.jl:666\u001b[39m\n",
      "\u001b[33m\u001b[1m┌ \u001b[22m\u001b[39m\u001b[33m\u001b[1mWarning: \u001b[22m\u001b[39m/home/benoit/.julia/packages/ITensors/4M2ep/src/lib/ContractionSequenceOptimization/src/contraction_cost.jl no longer exists, deleted all methods\n",
      "\u001b[33m\u001b[1m└ \u001b[22m\u001b[39m\u001b[90m@ Revise ~/.julia/packages/Revise/FaTes/src/packagedef.jl:666\u001b[39m\n",
      "\u001b[33m\u001b[1m┌ \u001b[22m\u001b[39m\u001b[33m\u001b[1mWarning: \u001b[22m\u001b[39m/home/benoit/.julia/packages/ITensors/4M2ep/src/lib/LazyApply/src/LazyApply.jl no longer exists, deleted all methods\n",
      "\u001b[33m\u001b[1m└ \u001b[22m\u001b[39m\u001b[90m@ Revise ~/.julia/packages/Revise/FaTes/src/packagedef.jl:666\u001b[39m\n",
      "\u001b[33m\u001b[1m┌ \u001b[22m\u001b[39m\u001b[33m\u001b[1mWarning: \u001b[22m\u001b[39m/home/benoit/.julia/packages/ITensors/4M2ep/src/lib/Ops/src/op.jl no longer exists, deleted all methods\n",
      "\u001b[33m\u001b[1m└ \u001b[22m\u001b[39m\u001b[90m@ Revise ~/.julia/packages/Revise/FaTes/src/packagedef.jl:666\u001b[39m\n",
      "\u001b[33m\u001b[1m┌ \u001b[22m\u001b[39m\u001b[33m\u001b[1mWarning: \u001b[22m\u001b[39m/home/benoit/.julia/packages/ITensors/4M2ep/src/lib/Ops/src/trotter.jl no longer exists, deleted all methods\n",
      "\u001b[33m\u001b[1m└ \u001b[22m\u001b[39m\u001b[90m@ Revise ~/.julia/packages/Revise/FaTes/src/packagedef.jl:666\u001b[39m\n",
      "\u001b[33m\u001b[1m┌ \u001b[22m\u001b[39m\u001b[33m\u001b[1mWarning: \u001b[22m\u001b[39m/home/benoit/.julia/packages/ITensors/4M2ep/src/lib/SmallStrings/src/SmallStrings.jl no longer exists, deleted all methods\n",
      "\u001b[33m\u001b[1m└ \u001b[22m\u001b[39m\u001b[90m@ Revise ~/.julia/packages/Revise/FaTes/src/packagedef.jl:666\u001b[39m\n",
      "\u001b[33m\u001b[1m┌ \u001b[22m\u001b[39m\u001b[33m\u001b[1mWarning: \u001b[22m\u001b[39m/home/benoit/.julia/packages/ITensors/4M2ep/src/lib/SmallStrings/src/smallstring.jl no longer exists, deleted all methods\n",
      "\u001b[33m\u001b[1m└ \u001b[22m\u001b[39m\u001b[90m@ Revise ~/.julia/packages/Revise/FaTes/src/packagedef.jl:666\u001b[39m\n",
      "\u001b[33m\u001b[1m┌ \u001b[22m\u001b[39m\u001b[33m\u001b[1mWarning: \u001b[22m\u001b[39m/home/benoit/.julia/packages/ITensors/4M2ep/src/lib/TagSets/src/TagSets.jl no longer exists, deleted all methods\n",
      "\u001b[33m\u001b[1m└ \u001b[22m\u001b[39m\u001b[90m@ Revise ~/.julia/packages/Revise/FaTes/src/packagedef.jl:666\u001b[39m\n",
      "\u001b[33m\u001b[1m┌ \u001b[22m\u001b[39m\u001b[33m\u001b[1mWarning: \u001b[22m\u001b[39m/home/benoit/.julia/packages/ITensors/4M2ep/src/name.jl no longer exists, deleted all methods\n",
      "\u001b[33m\u001b[1m└ \u001b[22m\u001b[39m\u001b[90m@ Revise ~/.julia/packages/Revise/FaTes/src/packagedef.jl:666\u001b[39m\n",
      "\u001b[33m\u001b[1m┌ \u001b[22m\u001b[39m\u001b[33m\u001b[1mWarning: \u001b[22m\u001b[39m/home/benoit/.julia/packages/ITensors/4M2ep/src/val.jl no longer exists, deleted all methods\n",
      "\u001b[33m\u001b[1m└ \u001b[22m\u001b[39m\u001b[90m@ Revise ~/.julia/packages/Revise/FaTes/src/packagedef.jl:666\u001b[39m\n",
      "\u001b[33m\u001b[1m┌ \u001b[22m\u001b[39m\u001b[33m\u001b[1mWarning: \u001b[22m\u001b[39m/home/benoit/.julia/packages/ITensors/4M2ep/src/lib/QuantumNumbers/src/QuantumNumbers.jl no longer exists, deleted all methods\n",
      "\u001b[33m\u001b[1m└ \u001b[22m\u001b[39m\u001b[90m@ Revise ~/.julia/packages/Revise/FaTes/src/packagedef.jl:666\u001b[39m\n",
      "\u001b[33m\u001b[1m┌ \u001b[22m\u001b[39m\u001b[33m\u001b[1mWarning: \u001b[22m\u001b[39m/home/benoit/.julia/packages/ITensors/4M2ep/src/lib/QuantumNumbers/src/arrow.jl no longer exists, deleted all methods\n",
      "\u001b[33m\u001b[1m└ \u001b[22m\u001b[39m\u001b[90m@ Revise ~/.julia/packages/Revise/FaTes/src/packagedef.jl:666\u001b[39m\n",
      "\u001b[33m\u001b[1m┌ \u001b[22m\u001b[39m\u001b[33m\u001b[1mWarning: \u001b[22m\u001b[39m/home/benoit/.julia/packages/ITensors/4M2ep/src/lib/QuantumNumbers/src/qn.jl no longer exists, deleted all methods\n",
      "\u001b[33m\u001b[1m└ \u001b[22m\u001b[39m\u001b[90m@ Revise ~/.julia/packages/Revise/FaTes/src/packagedef.jl:666\u001b[39m\n",
      "\u001b[33m\u001b[1m┌ \u001b[22m\u001b[39m\u001b[33m\u001b[1mWarning: \u001b[22m\u001b[39m/home/benoit/.julia/packages/ITensors/4M2ep/src/lib/Ops/src/Ops.jl no longer exists, deleted all methods\n",
      "\u001b[33m\u001b[1m└ \u001b[22m\u001b[39m\u001b[90m@ Revise ~/.julia/packages/Revise/FaTes/src/packagedef.jl:666\u001b[39m\n",
      "\u001b[33m\u001b[1m┌ \u001b[22m\u001b[39m\u001b[33m\u001b[1mWarning: \u001b[22m\u001b[39m/home/benoit/.julia/packages/Observers/1ausc/src/base/method_utils.jl no longer exists, deleted all methods\n",
      "\u001b[33m\u001b[1m└ \u001b[22m\u001b[39m\u001b[90m@ Revise ~/.julia/packages/Revise/FaTes/src/packagedef.jl:666\u001b[39m\n",
      "\u001b[33m\u001b[1m┌ \u001b[22m\u001b[39m\u001b[33m\u001b[1mWarning: \u001b[22m\u001b[39m/home/benoit/.julia/packages/ITensors/4M2ep/src/lib/QuantumNumbers/src/qnval.jl no longer exists, deleted all methods\n",
      "\u001b[33m\u001b[1m└ \u001b[22m\u001b[39m\u001b[90m@ Revise ~/.julia/packages/Revise/FaTes/src/packagedef.jl:666\u001b[39m\n",
      "\u001b[33m\u001b[1m┌ \u001b[22m\u001b[39m\u001b[33m\u001b[1mWarning: \u001b[22m\u001b[39m/home/benoit/.julia/packages/ITensors/4M2ep/src/lib/SiteTypes/src/SiteTypes.jl no longer exists, deleted all methods\n",
      "\u001b[33m\u001b[1m└ \u001b[22m\u001b[39m\u001b[90m@ Revise ~/.julia/packages/Revise/FaTes/src/packagedef.jl:666\u001b[39m\n",
      "\u001b[33m\u001b[1m┌ \u001b[22m\u001b[39m\u001b[33m\u001b[1mWarning: \u001b[22m\u001b[39m/home/benoit/.julia/packages/ITensors/4M2ep/src/lib/SiteTypes/src/sitetype.jl no longer exists, deleted all methods\n",
      "\u001b[33m\u001b[1m└ \u001b[22m\u001b[39m\u001b[90m@ Revise ~/.julia/packages/Revise/FaTes/src/packagedef.jl:666\u001b[39m\n",
      "\u001b[33m\u001b[1m┌ \u001b[22m\u001b[39m\u001b[33m\u001b[1mWarning: \u001b[22m\u001b[39m/home/benoit/.julia/packages/ITensors/4M2ep/src/lib/SiteTypes/src/SiteTypesChainRulesCoreExt.jl no longer exists, deleted all methods\n",
      "\u001b[33m\u001b[1m└ \u001b[22m\u001b[39m\u001b[90m@ Revise ~/.julia/packages/Revise/FaTes/src/packagedef.jl:666\u001b[39m\n",
      "\u001b[33m\u001b[1m┌ \u001b[22m\u001b[39m\u001b[33m\u001b[1mWarning: \u001b[22m\u001b[39m/home/benoit/.julia/packages/ITensors/4M2ep/src/lib/SiteTypes/src/sitetypes/aliases.jl no longer exists, deleted all methods\n",
      "\u001b[33m\u001b[1m└ \u001b[22m\u001b[39m\u001b[90m@ Revise ~/.julia/packages/Revise/FaTes/src/packagedef.jl:666\u001b[39m\n",
      "\u001b[33m\u001b[1m┌ \u001b[22m\u001b[39m\u001b[33m\u001b[1mWarning: \u001b[22m\u001b[39m/home/benoit/.julia/packages/ITensors/4M2ep/src/lib/SiteTypes/src/sitetypes/generic_sites.jl no longer exists, deleted all methods\n",
      "\u001b[33m\u001b[1m└ \u001b[22m\u001b[39m\u001b[90m@ Revise ~/.julia/packages/Revise/FaTes/src/packagedef.jl:666\u001b[39m\n",
      "\u001b[33m\u001b[1m┌ \u001b[22m\u001b[39m\u001b[33m\u001b[1mWarning: \u001b[22m\u001b[39m/home/benoit/.julia/packages/ITensors/4M2ep/src/lib/SiteTypes/src/sitetypes/qubit.jl no longer exists, deleted all methods\n",
      "\u001b[33m\u001b[1m└ \u001b[22m\u001b[39m\u001b[90m@ Revise ~/.julia/packages/Revise/FaTes/src/packagedef.jl:666\u001b[39m\n",
      "\u001b[33m\u001b[1m┌ \u001b[22m\u001b[39m\u001b[33m\u001b[1mWarning: \u001b[22m\u001b[39m/home/benoit/.julia/packages/ITensors/4M2ep/src/lib/SiteTypes/src/sitetypes/spinhalf.jl no longer exists, deleted all methods\n",
      "\u001b[33m\u001b[1m└ \u001b[22m\u001b[39m\u001b[90m@ Revise ~/.julia/packages/Revise/FaTes/src/packagedef.jl:666\u001b[39m\n",
      "\u001b[33m\u001b[1m┌ \u001b[22m\u001b[39m\u001b[33m\u001b[1mWarning: \u001b[22m\u001b[39m/home/benoit/.julia/packages/ITensors/4M2ep/src/lib/SiteTypes/src/sitetypes/spinone.jl no longer exists, deleted all methods\n",
      "\u001b[33m\u001b[1m└ \u001b[22m\u001b[39m\u001b[90m@ Revise ~/.julia/packages/Revise/FaTes/src/packagedef.jl:666\u001b[39m\n",
      "\u001b[33m\u001b[1m┌ \u001b[22m\u001b[39m\u001b[33m\u001b[1mWarning: \u001b[22m\u001b[39m/home/benoit/.julia/packages/ITensors/4M2ep/src/lib/SiteTypes/src/sitetypes/fermion.jl no longer exists, deleted all methods\n",
      "\u001b[33m\u001b[1m└ \u001b[22m\u001b[39m\u001b[90m@ Revise ~/.julia/packages/Revise/FaTes/src/packagedef.jl:666\u001b[39m\n",
      "\u001b[33m\u001b[1m┌ \u001b[22m\u001b[39m\u001b[33m\u001b[1mWarning: \u001b[22m\u001b[39m/home/benoit/.julia/packages/ITensors/4M2ep/src/lib/SiteTypes/src/sitetypes/electron.jl no longer exists, deleted all methods\n",
      "\u001b[33m\u001b[1m└ \u001b[22m\u001b[39m\u001b[90m@ Revise ~/.julia/packages/Revise/FaTes/src/packagedef.jl:666\u001b[39m\n",
      "\u001b[33m\u001b[1m┌ \u001b[22m\u001b[39m\u001b[33m\u001b[1mWarning: \u001b[22m\u001b[39m/home/benoit/.julia/packages/ITensors/4M2ep/src/lib/SiteTypes/src/sitetypes/tj.jl no longer exists, deleted all methods\n",
      "\u001b[33m\u001b[1m└ \u001b[22m\u001b[39m\u001b[90m@ Revise ~/.julia/packages/Revise/FaTes/src/packagedef.jl:666\u001b[39m\n",
      "\u001b[33m\u001b[1m┌ \u001b[22m\u001b[39m\u001b[33m\u001b[1mWarning: \u001b[22m\u001b[39m/home/benoit/.julia/packages/ITensors/4M2ep/src/lib/SiteTypes/src/sitetypes/qudit.jl no longer exists, deleted all methods\n",
      "\u001b[33m\u001b[1m└ \u001b[22m\u001b[39m\u001b[90m@ Revise ~/.julia/packages/Revise/FaTes/src/packagedef.jl:666\u001b[39m\n",
      "\u001b[33m\u001b[1m┌ \u001b[22m\u001b[39m\u001b[33m\u001b[1mWarning: \u001b[22m\u001b[39m/home/benoit/.julia/packages/ITensors/4M2ep/src/lib/SiteTypes/src/sitetypes/boson.jl no longer exists, deleted all methods\n",
      "\u001b[33m\u001b[1m└ \u001b[22m\u001b[39m\u001b[90m@ Revise ~/.julia/packages/Revise/FaTes/src/packagedef.jl:666\u001b[39m\n",
      "\u001b[33m\u001b[1m┌ \u001b[22m\u001b[39m\u001b[33m\u001b[1mWarning: \u001b[22m\u001b[39m/home/benoit/.julia/packages/ITensors/4M2ep/src/lib/ITensorsSiteTypesExt/src/ITensorsSiteTypesExt.jl no longer exists, deleted all methods\n",
      "\u001b[33m\u001b[1m└ \u001b[22m\u001b[39m\u001b[90m@ Revise ~/.julia/packages/Revise/FaTes/src/packagedef.jl:666\u001b[39m\n",
      "\u001b[33m\u001b[1m┌ \u001b[22m\u001b[39m\u001b[33m\u001b[1mWarning: \u001b[22m\u001b[39m/home/benoit/.julia/packages/ITensors/4M2ep/src/lib/ITensorsOpsExt/src/ITensorsOpsExt.jl no longer exists, deleted all methods\n",
      "\u001b[33m\u001b[1m└ \u001b[22m\u001b[39m\u001b[90m@ Revise ~/.julia/packages/Revise/FaTes/src/packagedef.jl:666\u001b[39m\n",
      "\u001b[33m\u001b[1m┌ \u001b[22m\u001b[39m\u001b[33m\u001b[1mWarning: \u001b[22m\u001b[39m/home/benoit/.julia/packages/Observers/1ausc/src/abstractdataframe/deprecated.jl no longer exists, deleted all methods\n",
      "\u001b[33m\u001b[1m└ \u001b[22m\u001b[39m\u001b[90m@ Revise ~/.julia/packages/Revise/FaTes/src/packagedef.jl:666\u001b[39m\n",
      "\u001b[33m\u001b[1m┌ \u001b[22m\u001b[39m\u001b[33m\u001b[1mWarning: \u001b[22m\u001b[39m/home/benoit/.julia/packages/ITensors/4M2ep/src/fermions/fermions.jl no longer exists, deleted all methods\n",
      "\u001b[33m\u001b[1m└ \u001b[22m\u001b[39m\u001b[90m@ Revise ~/.julia/packages/Revise/FaTes/src/packagedef.jl:666\u001b[39m\n",
      "\u001b[33m\u001b[1m┌ \u001b[22m\u001b[39m\u001b[33m\u001b[1mWarning: \u001b[22m\u001b[39m/home/benoit/.julia/packages/ITensors/4M2ep/src/lib/ITensorMPS/src/ITensorMPS.jl no longer exists, deleted all methods\n",
      "\u001b[33m\u001b[1m└ \u001b[22m\u001b[39m\u001b[90m@ Revise ~/.julia/packages/Revise/FaTes/src/packagedef.jl:666\u001b[39m\n",
      "\u001b[33m\u001b[1m┌ \u001b[22m\u001b[39m\u001b[33m\u001b[1mWarning: \u001b[22m\u001b[39m/home/benoit/.julia/packages/ITensors/4M2ep/src/lib/ITensorMPS/src/imports.jl no longer exists, deleted all methods\n",
      "\u001b[33m\u001b[1m└ \u001b[22m\u001b[39m\u001b[90m@ Revise ~/.julia/packages/Revise/FaTes/src/packagedef.jl:666\u001b[39m\n",
      "\u001b[33m\u001b[1m┌ \u001b[22m\u001b[39m\u001b[33m\u001b[1mWarning: \u001b[22m\u001b[39m/home/benoit/.julia/packages/ITensors/4M2ep/src/lib/ITensorMPS/src/exports.jl no longer exists, deleted all methods\n",
      "\u001b[33m\u001b[1m└ \u001b[22m\u001b[39m\u001b[90m@ Revise ~/.julia/packages/Revise/FaTes/src/packagedef.jl:666\u001b[39m\n",
      "\u001b[33m\u001b[1m┌ \u001b[22m\u001b[39m\u001b[33m\u001b[1mWarning: \u001b[22m\u001b[39m/home/benoit/.julia/packages/ITensors/4M2ep/src/lib/ITensorMPS/src/abstractmps.jl no longer exists, deleted all methods\n",
      "\u001b[33m\u001b[1m└ \u001b[22m\u001b[39m\u001b[90m@ Revise ~/.julia/packages/Revise/FaTes/src/packagedef.jl:666\u001b[39m\n",
      "\u001b[33m\u001b[1m┌ \u001b[22m\u001b[39m\u001b[33m\u001b[1mWarning: \u001b[22m\u001b[39m/home/benoit/.julia/packages/ITensors/4M2ep/src/lib/ITensorMPS/src/mps.jl no longer exists, deleted all methods\n",
      "\u001b[33m\u001b[1m└ \u001b[22m\u001b[39m\u001b[90m@ Revise ~/.julia/packages/Revise/FaTes/src/packagedef.jl:666\u001b[39m\n",
      "\u001b[33m\u001b[1m┌ \u001b[22m\u001b[39m\u001b[33m\u001b[1mWarning: \u001b[22m\u001b[39m/home/benoit/.julia/packages/ITensors/4M2ep/src/lib/ITensorMPS/src/mpo.jl no longer exists, deleted all methods\n",
      "\u001b[33m\u001b[1m└ \u001b[22m\u001b[39m\u001b[90m@ Revise ~/.julia/packages/Revise/FaTes/src/packagedef.jl:666\u001b[39m\n",
      "\u001b[33m\u001b[1m┌ \u001b[22m\u001b[39m\u001b[33m\u001b[1mWarning: \u001b[22m\u001b[39m/home/benoit/.julia/packages/ITensors/4M2ep/src/lib/ITensorMPS/src/sweeps.jl no longer exists, deleted all methods\n",
      "\u001b[33m\u001b[1m└ \u001b[22m\u001b[39m\u001b[90m@ Revise ~/.julia/packages/Revise/FaTes/src/packagedef.jl:666\u001b[39m\n",
      "\u001b[33m\u001b[1m┌ \u001b[22m\u001b[39m\u001b[33m\u001b[1mWarning: \u001b[22m\u001b[39m/home/benoit/.julia/packages/ITensors/4M2ep/src/lib/ITensorMPS/src/abstractprojmpo/abstractprojmpo.jl no longer exists, deleted all methods\n",
      "\u001b[33m\u001b[1m└ \u001b[22m\u001b[39m\u001b[90m@ Revise ~/.julia/packages/Revise/FaTes/src/packagedef.jl:666\u001b[39m\n",
      "\u001b[33m\u001b[1m┌ \u001b[22m\u001b[39m\u001b[33m\u001b[1mWarning: \u001b[22m\u001b[39m/home/benoit/.julia/packages/ITensors/4M2ep/src/lib/ITensorMPS/src/abstractprojmpo/projmpo.jl no longer exists, deleted all methods\n",
      "\u001b[33m\u001b[1m└ \u001b[22m\u001b[39m\u001b[90m@ Revise ~/.julia/packages/Revise/FaTes/src/packagedef.jl:666\u001b[39m\n",
      "\u001b[33m\u001b[1m┌ \u001b[22m\u001b[39m\u001b[33m\u001b[1mWarning: \u001b[22m\u001b[39m/home/benoit/.julia/packages/ITensors/4M2ep/src/lib/ITensorMPS/src/abstractprojmpo/diskprojmpo.jl no longer exists, deleted all methods\n",
      "\u001b[33m\u001b[1m└ \u001b[22m\u001b[39m\u001b[90m@ Revise ~/.julia/packages/Revise/FaTes/src/packagedef.jl:666\u001b[39m\n",
      "\u001b[33m\u001b[1m┌ \u001b[22m\u001b[39m\u001b[33m\u001b[1mWarning: \u001b[22m\u001b[39m/home/benoit/.julia/packages/ITensors/4M2ep/src/lib/ITensorMPS/src/abstractprojmpo/projmposum.jl no longer exists, deleted all methods\n",
      "\u001b[33m\u001b[1m└ \u001b[22m\u001b[39m\u001b[90m@ Revise ~/.julia/packages/Revise/FaTes/src/packagedef.jl:666\u001b[39m\n",
      "\u001b[33m\u001b[1m┌ \u001b[22m\u001b[39m\u001b[33m\u001b[1mWarning: \u001b[22m\u001b[39m/home/benoit/.julia/packages/ITensors/4M2ep/src/lib/ITensorMPS/src/abstractprojmpo/projmps.jl no longer exists, deleted all methods\n",
      "\u001b[33m\u001b[1m└ \u001b[22m\u001b[39m\u001b[90m@ Revise ~/.julia/packages/Revise/FaTes/src/packagedef.jl:666\u001b[39m\n",
      "\u001b[33m\u001b[1m┌ \u001b[22m\u001b[39m\u001b[33m\u001b[1mWarning: \u001b[22m\u001b[39m/home/benoit/.julia/packages/ITensors/4M2ep/src/lib/ITensorMPS/src/abstractprojmpo/projmpo_mps.jl no longer exists, deleted all methods\n",
      "\u001b[33m\u001b[1m└ \u001b[22m\u001b[39m\u001b[90m@ Revise ~/.julia/packages/Revise/FaTes/src/packagedef.jl:666\u001b[39m\n"
     ]
    }
   ],
   "source": [
    "println(Es)\n",
    "using Plots\n",
    "Plots.plot(1:n,Es,\"*\",ms=10)\n",
    "plot!(1:n,ones(n)*E,\"--k\")\n",
    "xlabel!(\"copies\")\n",
    "ylabel!(\"energy estimation\")"
   ]
  },
  {
   "cell_type": "code",
   "execution_count": null,
   "id": "ab44db1c-04b2-4e70-9147-22f1cb6ee128",
   "metadata": {},
   "outputs": [],
   "source": []
  }
 ],
 "metadata": {
  "kernelspec": {
   "display_name": "Julia 1.10.0",
   "language": "julia",
   "name": "julia-1.10"
  },
  "language_info": {
   "file_extension": ".jl",
   "mimetype": "application/julia",
   "name": "julia",
   "version": "1.10.0"
  }
 },
 "nbformat": 4,
 "nbformat_minor": 5
}
