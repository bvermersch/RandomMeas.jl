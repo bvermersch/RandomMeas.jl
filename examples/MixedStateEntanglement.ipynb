{
 "cells": [
  {
   "cell_type": "code",
   "execution_count": 45,
   "id": "2a2c0683-6ec3-4b0e-ba9c-5f94cac50deb",
   "metadata": {},
   "outputs": [],
   "source": [
    "using Revise\n",
    "using ITensors,ITensorMPS\n",
    "using PastaQ\n",
    "push!(LOAD_PATH,\"../src/\")\n",
    "using RandomMeas\n",
    "using ProgressBars"
   ]
  },
  {
   "cell_type": "code",
   "execution_count": 46,
   "id": "961af975-be8e-4ed7-b4d8-34dbdd7edf69",
   "metadata": {},
   "outputs": [],
   "source": [
    "N  = 10\n",
    "χ = 2^(N÷2)\n",
    "ξ = siteinds(\"Qubit\", N)\n",
    "ψ = random_mps(ξ; linkdims=χ);"
   ]
  },
  {
   "cell_type": "code",
   "execution_count": 47,
   "id": "ee663b38-5049-4acb-befe-d1c0cf58d046",
   "metadata": {},
   "outputs": [
    {
     "name": "stdout",
     "output_type": "stream",
     "text": [
      "NA = 1\n",
      "NA = 2\n",
      "NA = 3\n",
      "NA = 4\n",
      "NA = 5\n"
     ]
    }
   ],
   "source": [
    "NAmax = N÷2\n",
    "nmax = 3\n",
    "p = zeros(NAmax,nmax-1)\n",
    "C3 = zeros(NAmax)\n",
    "r2 = zeros(NAmax)\n",
    "ITensors.disable_warn_order()\n",
    "for NA in 1:NAmax\n",
    "    NAB = 2*NA\n",
    "    ρT,ξAB = reduce_dm(ψ,1,NAB)\n",
    "    ρT = flatten(ρT)\n",
    "    for i in 1:NA\n",
    "        ρT  = swapind(ρT,ξAB[i],ξAB[i]')\n",
    "    end\n",
    "    D, U = eigen(ρT, ξAB, ξAB')\n",
    "    for k in 1:nmax-1\n",
    "        for s in 1:dim(D,1)\n",
    "            p[NA,k] += D[s,s]^(k+1)\n",
    "        end\n",
    "    end\n",
    "    @show NA\n",
    "    C3[NA] = p[NA,1]^2/p[NA,2]\n",
    "end"
   ]
  },
  {
   "cell_type": "code",
   "execution_count": 48,
   "id": "2278f399-832e-4bbb-a8c8-e8a094473a0d",
   "metadata": {},
   "outputs": [
    {
     "name": "stderr",
     "output_type": "stream",
     "text": [
      "0.0%┣                                             ┫ 0/2.0k [00:00<00:00, -0s/it]\n",
      "0.9%┣▍                                            ┫ 17/2.0k [00:02<04:09, 8it/s]\n",
      "2.5%┣█▏                                          ┫ 51/2.0k [00:04<02:37, 12it/s]\n",
      "4.2%┣█▉                                          ┫ 85/2.0k [00:06<02:18, 14it/s]\n",
      "5.9%┣██▌                                        ┫ 117/2.0k [00:08<02:12, 14it/s]\n",
      "7.6%┣███▎                                       ┫ 152/2.0k [00:10<02:04, 15it/s]\n",
      "9.2%┣████                                       ┫ 184/2.0k [00:12<02:01, 15it/s]\n",
      "10.9%┣████▋                                     ┫ 219/2.0k [00:14<01:56, 15it/s]\n",
      "12.7%┣█████▍                                    ┫ 254/2.0k [00:16<01:52, 16it/s]\n",
      "14.5%┣██████                                    ┫ 290/2.0k [00:18<01:48, 16it/s]\n",
      "16.2%┣██████▉                                   ┫ 324/2.0k [00:20<01:45, 16it/s]\n",
      "17.9%┣███████▌                                  ┫ 359/2.0k [00:22<01:42, 16it/s]\n",
      "19.6%┣████████▎                                 ┫ 392/2.0k [00:24<01:40, 16it/s]\n",
      "21.3%┣█████████                                 ┫ 426/2.0k [00:26<01:37, 16it/s]\n",
      "23.1%┣█████████▊                                ┫ 461/2.0k [00:28<01:35, 16it/s]\n",
      "24.4%┣██████████▎                               ┫ 489/2.0k [00:30<01:34, 16it/s]\n",
      "25.9%┣███████████                               ┫ 519/2.0k [00:32<01:33, 16it/s]\n",
      "27.5%┣███████████▌                              ┫ 550/2.0k [00:34<01:31, 16it/s]\n",
      "28.8%┣████████████                              ┫ 576/2.0k [00:36<01:30, 16it/s]\n",
      "30.2%┣████████████▊                             ┫ 604/2.0k [00:39<01:29, 16it/s]\n",
      "31.6%┣█████████████▎                            ┫ 633/2.0k [00:41<01:28, 16it/s]\n",
      "33.4%┣██████████████                            ┫ 668/2.0k [00:43<01:25, 16it/s]\n",
      "35.0%┣██████████████▊                           ┫ 701/2.0k [00:45<01:23, 16it/s]\n",
      "36.8%┣███████████████▍                          ┫ 735/2.0k [00:47<01:20, 16it/s]\n",
      "38.5%┣████████████████▏                         ┫ 769/2.0k [00:49<01:18, 16it/s]\n",
      "40.2%┣████████████████▉                         ┫ 804/2.0k [00:51<01:15, 16it/s]\n",
      "41.9%┣█████████████████▋                        ┫ 839/2.0k [00:53<01:13, 16it/s]\n",
      "43.6%┣██████████████████▎                       ┫ 873/2.0k [00:55<01:11, 16it/s]\n",
      "45.3%┣███████████████████                       ┫ 906/2.0k [00:57<01:09, 16it/s]\n",
      "46.8%┣███████████████████▋                      ┫ 936/2.0k [00:59<01:07, 16it/s]\n",
      "48.4%┣████████████████████▍                     ┫ 969/2.0k [01:01<01:05, 16it/s]\n",
      "50.1%┣████████████████████▌                    ┫ 1.0k/2.0k [01:03<01:03, 16it/s]\n",
      "51.7%┣█████████████████████▏                   ┫ 1.0k/2.0k [01:05<01:01, 16it/s]\n",
      "53.3%┣█████████████████████▉                   ┫ 1.1k/2.0k [01:07<00:59, 16it/s]\n",
      "55.0%┣██████████████████████▌                  ┫ 1.1k/2.0k [01:09<00:57, 16it/s]\n",
      "56.3%┣███████████████████████                  ┫ 1.1k/2.0k [01:11<00:55, 16it/s]\n",
      "57.9%┣███████████████████████▊                 ┫ 1.2k/2.0k [01:13<00:53, 16it/s]\n",
      "59.4%┣████████████████████████▍                ┫ 1.2k/2.0k [01:15<00:51, 16it/s]\n",
      "60.8%┣█████████████████████████                ┫ 1.2k/2.0k [01:17<00:50, 16it/s]\n",
      "62.2%┣█████████████████████████▌               ┫ 1.2k/2.0k [01:19<00:48, 16it/s]\n",
      "63.6%┣██████████████████████████               ┫ 1.3k/2.0k [01:21<00:47, 16it/s]\n",
      "65.1%┣██████████████████████████▊              ┫ 1.3k/2.0k [01:23<00:45, 16it/s]\n",
      "66.2%┣███████████████████████████▏             ┫ 1.3k/2.0k [01:25<00:43, 16it/s]\n",
      "67.5%┣███████████████████████████▊             ┫ 1.4k/2.0k [01:27<00:42, 15it/s]\n",
      "69.0%┣████████████████████████████▎            ┫ 1.4k/2.0k [01:29<00:40, 15it/s]\n",
      "70.6%┣█████████████████████████████            ┫ 1.4k/2.0k [01:31<00:38, 15it/s]\n",
      "72.0%┣█████████████████████████████▌           ┫ 1.4k/2.0k [01:33<00:36, 15it/s]\n",
      "73.4%┣██████████████████████████████           ┫ 1.5k/2.0k [01:35<00:35, 15it/s]\n",
      "75.1%┣██████████████████████████████▉          ┫ 1.5k/2.0k [01:37<00:32, 15it/s]\n",
      "76.8%┣███████████████████████████████▌         ┫ 1.5k/2.0k [01:40<00:30, 15it/s]\n",
      "78.4%┣████████████████████████████████▏        ┫ 1.6k/2.0k [01:42<00:28, 15it/s]\n",
      "80.0%┣████████████████████████████████▉        ┫ 1.6k/2.0k [01:44<00:26, 15it/s]\n",
      "81.8%┣█████████████████████████████████▌       ┫ 1.6k/2.0k [01:46<00:24, 15it/s]\n",
      "83.5%┣██████████████████████████████████▏      ┫ 1.7k/2.0k [01:48<00:21, 16it/s]\n",
      "85.2%┣███████████████████████████████████      ┫ 1.7k/2.0k [01:50<00:19, 16it/s]\n",
      "86.8%┣███████████████████████████████████▋     ┫ 1.7k/2.0k [01:52<00:17, 16it/s]\n",
      "88.4%┣████████████████████████████████████▎    ┫ 1.8k/2.0k [01:54<00:15, 16it/s]\n",
      "90.2%┣█████████████████████████████████████    ┫ 1.8k/2.0k [01:56<00:13, 16it/s]\n",
      "92.0%┣█████████████████████████████████████▊   ┫ 1.8k/2.0k [01:58<00:10, 16it/s]\n",
      "93.9%┣██████████████████████████████████████▌  ┫ 1.9k/2.0k [02:00<00:08, 16it/s]\n",
      "95.7%┣███████████████████████████████████████▏ ┫ 1.9k/2.0k [02:02<00:06, 16it/s]\n",
      "97.5%┣████████████████████████████████████████ ┫ 1.9k/2.0k [02:04<00:03, 16it/s]\n",
      "99.2%┣████████████████████████████████████████▋┫ 2.0k/2.0k [02:06<00:01, 16it/s]\n",
      "100.0%┣████████████████████████████████████████┫ 2.0k/2.0k [02:07<00:00, 16it/s]\n",
      "100.0%┣████████████████████████████████████████┫ 2.0k/2.0k [02:07<00:00, 16it/s]\n"
     ]
    }
   ],
   "source": [
    "#Perform Randomized measurements\n",
    "nu=2000\n",
    "NM=100\n",
    "data = zeros(Int8,(nu,NM,N))\n",
    "datat = zeros(Int8,(NM,N))\n",
    "u = Vector{Vector{ITensor}}()\n",
    "for r in ProgressBar(1:nu, printing_delay=2)\n",
    "    push!(u,get_rotations(ξ,1)) #Haar rotations in A\n",
    "    get_RandomMeas!(datat,ψ,u[r])\n",
    "    data[r,:,:] = datat[:,:]\n",
    "end"
   ]
  },
  {
   "cell_type": "code",
   "execution_count": 49,
   "id": "a0ca2989-be5b-476e-9ae7-db34b4dc4835",
   "metadata": {},
   "outputs": [
    {
     "name": "stderr",
     "output_type": "stream",
     "text": [
      "0.0%┣                                                ┫ 0/5 [00:00<00:00, -0s/it]\n",
      "60.0%┣████████████████████████████▉                   ┫ 3/5 [00:02<00:02, 1s/it]\n",
      "80.0%┣██████████████████████████████████████▍         ┫ 4/5 [00:14<00:05, 5s/it]\n",
      "100.0%┣██████████████████████████████████████████████┫ 5/5 [03:15<00:00, 49s/it]\n",
      "100.0%┣██████████████████████████████████████████████┫ 5/5 [03:15<00:00, 49s/it]\n"
     ]
    }
   ],
   "source": [
    "C3s = zeros(NAmax)\n",
    "for NA in ProgressBar(1:NAmax, printing_delay=2)\n",
    "    NAB = 2*NA\n",
    "    uAB = [ut[1:NAB] for ut in u]\n",
    "    ξAB = ξ[1:NAB]\n",
    "    #@show NA\n",
    "    ρs = acquire_shadows_batch_fromdata(data[:,:,1:NAB],ξAB,uAB,nmax)\n",
    "    for n in 1:nmax\n",
    "        for i in 1:NA\n",
    "             ρs[n] = swapind(ρs[n],ξAB[i],ξAB[i]')\n",
    "        end\n",
    "    end\n",
    "    p = get_moments_shadows_batch(ρs, ξAB, nmax, nu)\n",
    "    #@show p\n",
    "    C3s[NA] = p[1]^2/p[2]\n",
    "end"
   ]
  },
  {
   "cell_type": "code",
   "execution_count": 50,
   "id": "01deba5b-a8c8-49b5-a228-bd4b720e688e",
   "metadata": {},
   "outputs": [
    {
     "data": {
      "image/png": "[encoded data removed]",
      "text/plain": [
       "Figure(PyObject <Figure size 640x480 with 1 Axes>)"
      ]
     },
     "metadata": {},
     "output_type": "display_data"
    },
    {
     "data": {
      "text/plain": [
       "PyObject <matplotlib.legend.Legend object at 0x7f734dd0e1d0>"
      ]
     },
     "execution_count": 50,
     "metadata": {},
     "output_type": "execute_result"
    }
   ],
   "source": [
    "using PyPlot\n",
    "PyPlot.plot(1:NAmax,C3,label=\"C3\")\n",
    "PyPlot.plot(1:NAmax,C3s,label=\"C3 [est]\")\n",
    "PyPlot.plot(1:NAmax,ones(NAmax),\"--k\")\n",
    "xlabel(\"N_A\")\n",
    "yscale(\"log\")\n",
    "ylabel(\"Entanglement criterion\")\n",
    "legend()"
   ]
  },
  {
   "cell_type": "code",
   "execution_count": null,
   "id": "b5b4f94e-9448-403f-ad51-691bdc65663f",
   "metadata": {},
   "outputs": [],
   "source": []
  }
 ],
 "metadata": {
  "kernelspec": {
   "display_name": "Julia 1.10.0",
   "language": "julia",
   "name": "julia-1.10"
  },
  "language_info": {
   "file_extension": ".jl",
   "mimetype": "application/julia",
   "name": "julia",
   "version": "1.10.0"
  }
 },
 "nbformat": 4,
 "nbformat_minor": 5
}
