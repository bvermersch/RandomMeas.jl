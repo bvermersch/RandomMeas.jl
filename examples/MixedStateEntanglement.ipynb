{
 "cells": [
  {
   "cell_type": "code",
   "execution_count": 1,
   "id": "2a2c0683-6ec3-4b0e-ba9c-5f94cac50deb",
   "metadata": {},
   "outputs": [
    {
     "name": "stderr",
     "output_type": "stream",
     "text": [
      "\u001b[32m\u001b[1mPrecompiling\u001b[22m\u001b[39m RandomMeas\n",
      "\u001b[32m  ✓ \u001b[39mRandomMeas\n",
      "  1 dependency successfully precompiled in 4 seconds. 255 already precompiled.\n"
     ]
    }
   ],
   "source": [
    "using ITensors,ITensorMPS\n",
    "using RandomMeas\n",
    "using ProgressBars"
   ]
  },
  {
   "cell_type": "code",
   "execution_count": 2,
   "id": "961af975-be8e-4ed7-b4d8-34dbdd7edf69",
   "metadata": {},
   "outputs": [],
   "source": [
    "N  = 10\n",
    "χ = 2^(N÷2)\n",
    "ξ = siteinds(\"Qubit\", N)\n",
    "ψ = randomMPS(ξ; linkdims=χ);"
   ]
  },
  {
   "cell_type": "code",
   "execution_count": 3,
   "id": "ee663b38-5049-4acb-befe-d1c0cf58d046",
   "metadata": {},
   "outputs": [
    {
     "name": "stdout",
     "output_type": "stream",
     "text": [
      "NA = 1\n",
      "NA = 2\n",
      "NA = 3\n",
      "NA = 4\n",
      "NA = 5\n"
     ]
    }
   ],
   "source": [
    "NAmax = N÷2\n",
    "nmax = 3\n",
    "p = zeros(NAmax,nmax-1)\n",
    "C3 = zeros(NAmax)\n",
    "r2 = zeros(NAmax)\n",
    "ITensors.disable_warn_order()\n",
    "for NA in 1:NAmax\n",
    "    NAB = 2*NA\n",
    "    ρT,ξAB = reduce_dm(ψ,1,NAB)\n",
    "    ρT = flatten(ρT)\n",
    "    for i in 1:NA\n",
    "        ρT  = swapind(ρT,ξAB[i],ξAB[i]')\n",
    "    end\n",
    "    D, U = eigen(ρT, ξAB, ξAB')\n",
    "    for k in 1:nmax-1\n",
    "        for s in 1:dim(D,1)\n",
    "            p[NA,k] += D[s,s]^(k+1)\n",
    "        end\n",
    "    end\n",
    "    @show NA\n",
    "    C3[NA] = p[NA,1]^2/p[NA,2]\n",
    "end"
   ]
  },
  {
   "cell_type": "code",
   "execution_count": 4,
   "id": "2278f399-832e-4bbb-a8c8-e8a094473a0d",
   "metadata": {},
   "outputs": [
    {
     "name": "stderr",
     "output_type": "stream",
     "text": [
      "0.0%┣                                        ┫ 0/2.0k [00:03<-1:-34:-25, -3s/it]\n",
      "0.1%┣                                         ┫ 1/2.0k [00:40<Inf:Inf, InfGs/it]\n",
      "1.5%┣▋                                            ┫ 29/2.0k [00:42<49:51, 2s/it]\n",
      "2.9%┣█▎                                           ┫ 59/2.0k [00:45<24:49, 1it/s]\n",
      "4.3%┣██                                           ┫ 87/2.0k [00:47<17:15, 2it/s]\n",
      "5.5%┣██▍                                         ┫ 110/2.0k [00:49<14:02, 2it/s]\n",
      "6.9%┣███                                         ┫ 137/2.0k [00:51<11:33, 3it/s]\n",
      "8.2%┣███▋                                        ┫ 164/2.0k [00:53<09:53, 3it/s]\n",
      "9.5%┣████▏                                       ┫ 190/2.0k [00:55<08:44, 3it/s]\n",
      "10.9%┣████▊                                      ┫ 218/2.0k [00:57<07:46, 4it/s]\n",
      "12.3%┣█████▎                                     ┫ 246/2.0k [00:59<07:01, 4it/s]\n",
      "13.7%┣██████                                     ┫ 274/2.0k [01:01<06:25, 4it/s]\n",
      "15.3%┣██████▋                                    ┫ 306/2.0k [01:03<05:49, 5it/s]\n",
      "16.7%┣███████▏                                   ┫ 333/2.0k [01:05<05:26, 5it/s]\n",
      "18.1%┣███████▊                                   ┫ 361/2.0k [01:07<05:05, 5it/s]\n",
      "19.7%┣████████▌                                  ┫ 394/2.0k [01:09<04:42, 6it/s]\n",
      "21.3%┣█████████▏                                 ┫ 427/2.0k [01:11<04:22, 6it/s]\n",
      "22.9%┣█████████▉                                 ┫ 459/2.0k [01:13<04:06, 6it/s]\n",
      "24.6%┣██████████▋                                ┫ 491/2.0k [01:15<03:51, 7it/s]\n",
      "26.2%┣███████████▎                               ┫ 525/2.0k [01:17<03:37, 7it/s]\n",
      "28.0%┣████████████                               ┫ 559/2.0k [01:19<03:24, 7it/s]\n",
      "29.5%┣████████████▊                              ┫ 591/2.0k [01:21<03:14, 7it/s]\n",
      "31.0%┣█████████████▎                             ┫ 620/2.0k [01:23<03:05, 7it/s]\n",
      "32.3%┣██████████████                             ┫ 646/2.0k [01:25<02:59, 8it/s]\n",
      "33.8%┣██████████████▌                            ┫ 675/2.0k [01:27<02:51, 8it/s]\n",
      "35.2%┣███████████████▏                           ┫ 704/2.0k [01:29<02:45, 8it/s]\n",
      "36.8%┣███████████████▉                           ┫ 735/2.0k [01:31<02:37, 8it/s]\n",
      "38.4%┣████████████████▌                          ┫ 768/2.0k [01:33<02:30, 8it/s]\n",
      "40.0%┣█████████████████▏                         ┫ 800/2.0k [01:35<02:23, 8it/s]\n",
      "41.5%┣█████████████████▉                         ┫ 831/2.0k [01:37<02:17, 9it/s]\n",
      "43.1%┣██████████████████▌                        ┫ 863/2.0k [01:39<02:11, 9it/s]\n",
      "44.7%┣███████████████████▏                       ┫ 894/2.0k [01:41<02:06, 9it/s]\n",
      "46.2%┣███████████████████▉                       ┫ 923/2.0k [01:43<02:01, 9it/s]\n",
      "47.8%┣████████████████████▌                      ┫ 955/2.0k [01:45<01:55, 9it/s]\n",
      "49.4%┣█████████████████████▎                     ┫ 988/2.0k [01:47<01:50, 9it/s]\n",
      "51.1%┣█████████████████████▌                    ┫ 1.0k/2.0k [01:49<01:45, 9it/s]\n",
      "52.8%┣██████████████████████▏                   ┫ 1.1k/2.0k [01:51<01:40, 9it/s]\n",
      "54.5%┣██████████████████████▍                  ┫ 1.1k/2.0k [01:53<01:35, 10it/s]\n",
      "55.9%┣███████████████████████                  ┫ 1.1k/2.0k [01:56<01:31, 10it/s]\n",
      "57.5%┣███████████████████████▋                 ┫ 1.1k/2.0k [01:58<01:27, 10it/s]\n",
      "58.8%┣████████████████████████                 ┫ 1.2k/2.0k [02:00<01:24, 10it/s]\n",
      "60.5%┣████████████████████████▉                ┫ 1.2k/2.0k [02:02<01:19, 10it/s]\n",
      "62.2%┣█████████████████████████▌               ┫ 1.2k/2.0k [02:04<01:15, 10it/s]\n",
      "63.8%┣██████████████████████████▏              ┫ 1.3k/2.0k [02:06<01:11, 10it/s]\n",
      "65.5%┣██████████████████████████▉              ┫ 1.3k/2.0k [02:08<01:07, 10it/s]\n",
      "67.0%┣███████████████████████████▌             ┫ 1.3k/2.0k [02:10<01:04, 10it/s]\n",
      "68.0%┣████████████████████████████             ┫ 1.4k/2.0k [02:12<01:02, 10it/s]\n",
      "69.3%┣████████████████████████████▍            ┫ 1.4k/2.0k [02:14<00:59, 10it/s]\n",
      "70.7%┣█████████████████████████████            ┫ 1.4k/2.0k [02:16<00:57, 10it/s]\n",
      "71.9%┣█████████████████████████████▌           ┫ 1.4k/2.0k [02:18<00:54, 10it/s]\n",
      "73.0%┣██████████████████████████████           ┫ 1.5k/2.0k [02:20<00:52, 10it/s]\n",
      "74.2%┣██████████████████████████████▍          ┫ 1.5k/2.0k [02:22<00:49, 10it/s]\n",
      "75.4%┣███████████████████████████████          ┫ 1.5k/2.0k [02:24<00:47, 10it/s]\n",
      "76.5%┣███████████████████████████████▍         ┫ 1.5k/2.0k [02:26<00:45, 10it/s]\n",
      "77.7%┣███████████████████████████████▉         ┫ 1.6k/2.0k [02:28<00:43, 10it/s]\n",
      "79.0%┣████████████████████████████████▍        ┫ 1.6k/2.0k [02:30<00:40, 11it/s]\n",
      "80.2%┣█████████████████████████████████        ┫ 1.6k/2.0k [02:32<00:38, 11it/s]\n",
      "81.5%┣█████████████████████████████████▍       ┫ 1.6k/2.0k [02:34<00:35, 11it/s]\n",
      "82.6%┣█████████████████████████████████▉       ┫ 1.7k/2.0k [02:36<00:33, 11it/s]\n",
      "83.9%┣██████████████████████████████████▍      ┫ 1.7k/2.0k [02:38<00:31, 11it/s]\n",
      "85.2%┣███████████████████████████████████      ┫ 1.7k/2.0k [02:40<00:28, 11it/s]\n",
      "86.5%┣███████████████████████████████████▌     ┫ 1.7k/2.0k [02:42<00:25, 11it/s]\n",
      "87.8%┣████████████████████████████████████     ┫ 1.8k/2.0k [02:45<00:23, 11it/s]\n",
      "89.0%┣████████████████████████████████████▌    ┫ 1.8k/2.0k [02:47<00:21, 11it/s]\n",
      "90.3%┣█████████████████████████████████████    ┫ 1.8k/2.0k [02:49<00:18, 11it/s]\n",
      "91.6%┣█████████████████████████████████████▋   ┫ 1.8k/2.0k [02:51<00:16, 11it/s]\n",
      "92.8%┣██████████████████████████████████████   ┫ 1.9k/2.0k [02:53<00:13, 11it/s]\n",
      "94.1%┣██████████████████████████████████████▋  ┫ 1.9k/2.0k [02:55<00:11, 11it/s]\n",
      "95.6%┣███████████████████████████████████████▏ ┫ 1.9k/2.0k [02:57<00:08, 11it/s]\n",
      "97.0%┣███████████████████████████████████████▊ ┫ 1.9k/2.0k [02:59<00:06, 11it/s]\n",
      "98.6%┣████████████████████████████████████████▍┫ 2.0k/2.0k [03:01<00:03, 11it/s]\n",
      "100.0%┣████████████████████████████████████████┫ 2.0k/2.0k [03:03<00:00, 11it/s]\n",
      "100.0%┣████████████████████████████████████████┫ 2.0k/2.0k [03:03<00:00, 11it/s]\n"
     ]
    }
   ],
   "source": [
    "#Perform Randomized measurements\n",
    "nu=2000\n",
    "NM=100\n",
    "data = zeros(Int8,(nu,NM,N))\n",
    "u = Vector{Vector{ITensor}}()\n",
    "for r in ProgressBar(1:nu, printing_delay=2)\n",
    "    push!(u,get_rotations(ξ,1)) #Haar rotations in A\n",
    "    data[r,:,:] = get_RandomMeas(ψ,u[r],NM)\n",
    "end"
   ]
  },
  {
   "cell_type": "code",
   "execution_count": 8,
   "id": "a0ca2989-be5b-476e-9ae7-db34b4dc4835",
   "metadata": {},
   "outputs": [
    {
     "name": "stderr",
     "output_type": "stream",
     "text": [
      "0.0%┣                                                ┫ 0/5 [00:00<00:-1, -0s/it]\n",
      "60.0%┣████████████████████████████▉                   ┫ 3/5 [00:04<00:04, 2s/it]\n",
      "80.0%┣██████████████████████████████████████▍         ┫ 4/5 [00:19<00:06, 6s/it]\n",
      "100.0%┣██████████████████████████████████████████████┫ 5/5 [03:26<00:00, 51s/it]\n",
      "100.0%┣██████████████████████████████████████████████┫ 5/5 [03:26<00:00, 51s/it]\n"
     ]
    }
   ],
   "source": [
    "C3s = zeros(NAmax)\n",
    "for NA in ProgressBar(1:NAmax, printing_delay=2)\n",
    "    NAB = 2*NA\n",
    "    uAB = [ut[1:NAB] for ut in u]\n",
    "    ξAB = ξ[1:NAB]\n",
    "    #@show NA\n",
    "    ρs = get_batch_shadows(data[:,:,1:NAB],ξAB,uAB,nmax)\n",
    "    for n in 1:nmax\n",
    "        for i in 1:NA\n",
    "             ρs[n] = swapind(ρs[n],ξAB[i],ξAB[i]')\n",
    "        end\n",
    "    end\n",
    "    p = get_moments(ρs, ξAB, nmax)\n",
    "    #@show p\n",
    "    C3s[NA] = p[1]^2/p[2]\n",
    "end"
   ]
  },
  {
   "cell_type": "code",
   "execution_count": 7,
   "id": "f583d998-f0d9-4152-ade0-3df2aed1b9b9",
   "metadata": {},
   "outputs": [
    {
     "name": "stdout",
     "output_type": "stream",
     "text": [
      "[0.8870860463140408, 0.8291201136037603, 1.6339156604398473, 8.17862100203287, -23.519867371466123]\n"
     ]
    }
   ],
   "source": [
    "println(C3s)"
   ]
  },
  {
   "cell_type": "code",
   "execution_count": 6,
   "id": "01deba5b-a8c8-49b5-a228-bd4b720e688e",
   "metadata": {},
   "outputs": [
    {
     "data": {
      "image/png": "[encoded data removed]",
      "text/plain": [
       "Figure(PyObject <Figure size 640x480 with 1 Axes>)"
      ]
     },
     "metadata": {},
     "output_type": "display_data"
    },
    {
     "data": {
      "text/plain": [
       "PyObject <matplotlib.legend.Legend object at 0x7f01b68ca7d0>"
      ]
     },
     "execution_count": 6,
     "metadata": {},
     "output_type": "execute_result"
    }
   ],
   "source": [
    "using PyPlot\n",
    "PyPlot.plot(1:NAmax,C3,label=\"C3\")\n",
    "PyPlot.plot(1:NAmax,C3s,label=\"C3 [est]\")\n",
    "PyPlot.plot(1:NAmax,ones(NAmax),\"--k\")\n",
    "xlabel(\"N_A\")\n",
    "yscale(\"log\")\n",
    "ylabel(\"Entanglement criterion\")\n",
    "legend()"
   ]
  },
  {
   "cell_type": "code",
   "execution_count": null,
   "id": "1d4524f6-9740-456d-b2de-d0c7a0ad8302",
   "metadata": {},
   "outputs": [],
   "source": []
  }
 ],
 "metadata": {
  "kernelspec": {
   "display_name": "Julia 1.10.0",
   "language": "julia",
   "name": "julia-1.10"
  },
  "language_info": {
   "file_extension": ".jl",
   "mimetype": "application/julia",
   "name": "julia",
   "version": "1.10.0"
  }
 },
 "nbformat": 4,
 "nbformat_minor": 5
}
