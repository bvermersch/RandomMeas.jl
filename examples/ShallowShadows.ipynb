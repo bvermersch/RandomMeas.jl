{
 "cells": [
  {
   "cell_type": "code",
   "execution_count": 1,
   "id": "4f0311a9-bfed-432e-8f6f-f5ce7f434df0",
   "metadata": {},
   "outputs": [
    {
     "name": "stderr",
     "output_type": "stream",
     "text": [
      "\u001b[36m\u001b[1m[ \u001b[22m\u001b[39m\u001b[36m\u001b[1mInfo: \u001b[22m\u001b[39mPrecompiling RandomMeas [top-level]\n"
     ]
    }
   ],
   "source": [
    "using Revise\n",
    "push!(LOAD_PATH,\"/scratch/Codes/RandomMeas_dev.jl/src/\")\n",
    "#push!(LOAD_PATH,\"/scratch/Codes/RandomMeas_dev.jl/\")\n",
    "#import Pkg; Pkg.activate(\"../\")\n",
    "using ProgressBars\n",
    "using Random\n",
    "using ITensors\n",
    "using RandomMeas\n",
    "using StatsBase\n",
    "using TimerOutputs"
   ]
  },
  {
   "cell_type": "code",
   "execution_count": 311,
   "id": "2d03744b-6a59-4a00-8271-897d6c6649b8",
   "metadata": {},
   "outputs": [],
   "source": [
    "#Step 1: Calibration Data acquisition\n",
    "N = 2\n",
    "ξ = siteinds(\"S=1/2\", N;addtags=\"output\")\n",
    "s = siteinds(\"S=1/2\", N;addtags=\"input\")\n",
    "v = siteinds(\"S=1/2\", N;addtags=\"virtual\")\n",
    "χ = 2\n",
    "NM = 1000\n",
    "nu = 100\n",
    "states = [\"Dn\" for n in 1:N]\n",
    "ψ = MPS(ξ,states)\n",
    "ρ = state_to_dm(ψ)\n",
    "u = [get_rotations(ξ,1) for r in 1:nu]\n",
    "p = 0.8\n",
    "Λ =  get_random_Pauli_noise(ξ,s,p)\n",
    "M = AcquireMeasurementChannel(ρ,v,u,NM;Λ=Λ);\n",
    "M_shift = AcquireMeasurementChannel(ρ,v,u);\n",
    "M0 = IdealMeasurementChannel(ρ,v,1/3);\n",
    "MC = M-M_shift+M0;"
   ]
  },
  {
   "cell_type": "code",
   "execution_count": 312,
   "id": "0a8e1754-0713-4e56-94e3-50dd7d7e32e3",
   "metadata": {},
   "outputs": [
    {
     "data": {
      "text/plain": [
       "loss4 (generic function with 1 method)"
      ]
     },
     "execution_count": 312,
     "metadata": {},
     "output_type": "execute_result"
    }
   ],
   "source": [
    "function loss3(c::Vector{ITensor},M::ITensor,ρ::MPO)\n",
    "    M_model = MeasurementChannel(c,ρ)\n",
    "    X = M-M_model\n",
    "    return real(inner(X,X))\n",
    "end\n",
    "loss4(x) = loss3(x,MC,ρ)"
   ]
  },
  {
   "cell_type": "code",
   "execution_count": 313,
   "id": "4bb57d5a-13a2-4912-9c4a-28879876e581",
   "metadata": {},
   "outputs": [
    {
     "name": "stderr",
     "output_type": "stream",
     "text": [
      "\u001b[33m\u001b[1m┌ \u001b[22m\u001b[39m\u001b[33m\u001b[1mWarning: \u001b[22m\u001b[39mLinesearch bracket converged to a point without satisfying Wolfe conditions?\n",
      "\u001b[33m\u001b[1m└ \u001b[22m\u001b[39m\u001b[90m@ OptimKit ~/.julia/packages/OptimKit/xpmbV/src/linesearches.jl:189\u001b[39m\n",
      "\u001b[33m\u001b[1m┌ \u001b[22m\u001b[39m\u001b[33m\u001b[1mWarning: \u001b[22m\u001b[39mLinesearch bracket converged to a point without satisfying Wolfe conditions?\n",
      "\u001b[33m\u001b[1m└ \u001b[22m\u001b[39m\u001b[90m@ OptimKit ~/.julia/packages/OptimKit/xpmbV/src/linesearches.jl:189\u001b[39m\n",
      "\u001b[33m\u001b[1m┌ \u001b[22m\u001b[39m\u001b[33m\u001b[1mWarning: \u001b[22m\u001b[39mLinesearch bracket converged to a point without satisfying Wolfe conditions?\n",
      "\u001b[33m\u001b[1m└ \u001b[22m\u001b[39m\u001b[90m@ OptimKit ~/.julia/packages/OptimKit/xpmbV/src/linesearches.jl:189\u001b[39m\n",
      "\u001b[33m\u001b[1m┌ \u001b[22m\u001b[39m\u001b[33m\u001b[1mWarning: \u001b[22m\u001b[39mLinesearch bracket converged to a point without satisfying Wolfe conditions?\n",
      "\u001b[33m\u001b[1m└ \u001b[22m\u001b[39m\u001b[90m@ OptimKit ~/.julia/packages/OptimKit/xpmbV/src/linesearches.jl:189\u001b[39m\n",
      "\u001b[33m\u001b[1m┌ \u001b[22m\u001b[39m\u001b[33m\u001b[1mWarning: \u001b[22m\u001b[39mLinesearch bracket converged to a point without satisfying Wolfe conditions?\n",
      "\u001b[33m\u001b[1m└ \u001b[22m\u001b[39m\u001b[90m@ OptimKit ~/.julia/packages/OptimKit/xpmbV/src/linesearches.jl:189\u001b[39m\n",
      "\u001b[33m\u001b[1m┌ \u001b[22m\u001b[39m\u001b[33m\u001b[1mWarning: \u001b[22m\u001b[39mLinesearch bracket converged to a point without satisfying Wolfe conditions?\n",
      "\u001b[33m\u001b[1m└ \u001b[22m\u001b[39m\u001b[90m@ OptimKit ~/.julia/packages/OptimKit/xpmbV/src/linesearches.jl:189\u001b[39m\n",
      "\u001b[33m\u001b[1m┌ \u001b[22m\u001b[39m\u001b[33m\u001b[1mWarning: \u001b[22m\u001b[39mLinesearch bracket converged to a point without satisfying Wolfe conditions?\n",
      "\u001b[33m\u001b[1m└ \u001b[22m\u001b[39m\u001b[90m@ OptimKit ~/.julia/packages/OptimKit/xpmbV/src/linesearches.jl:189\u001b[39m\n",
      "\u001b[33m\u001b[1m┌ \u001b[22m\u001b[39m\u001b[33m\u001b[1mWarning: \u001b[22m\u001b[39mLinesearch bracket converged to a point without satisfying Wolfe conditions?\n",
      "\u001b[33m\u001b[1m└ \u001b[22m\u001b[39m\u001b[90m@ OptimKit ~/.julia/packages/OptimKit/xpmbV/src/linesearches.jl:189\u001b[39m\n",
      "\u001b[33m\u001b[1m┌ \u001b[22m\u001b[39m\u001b[33m\u001b[1mWarning: \u001b[22m\u001b[39mLinesearch bracket converged to a point without satisfying Wolfe conditions?\n",
      "\u001b[33m\u001b[1m└ \u001b[22m\u001b[39m\u001b[90m@ OptimKit ~/.julia/packages/OptimKit/xpmbV/src/linesearches.jl:189\u001b[39m\n",
      "\u001b[33m\u001b[1m┌ \u001b[22m\u001b[39m\u001b[33m\u001b[1mWarning: \u001b[22m\u001b[39mLinesearch bracket converged to a point without satisfying Wolfe conditions?\n",
      "\u001b[33m\u001b[1m└ \u001b[22m\u001b[39m\u001b[90m@ OptimKit ~/.julia/packages/OptimKit/xpmbV/src/linesearches.jl:189\u001b[39m\n",
      "\u001b[33m\u001b[1m┌ \u001b[22m\u001b[39m\u001b[33m\u001b[1mWarning: \u001b[22m\u001b[39mLinesearch bracket converged to a point without satisfying Wolfe conditions?\n",
      "\u001b[33m\u001b[1m└ \u001b[22m\u001b[39m\u001b[90m@ OptimKit ~/.julia/packages/OptimKit/xpmbV/src/linesearches.jl:189\u001b[39m\n",
      "\u001b[33m\u001b[1m┌ \u001b[22m\u001b[39m\u001b[33m\u001b[1mWarning: \u001b[22m\u001b[39mLinesearch bracket converged to a point without satisfying Wolfe conditions?\n",
      "\u001b[33m\u001b[1m└ \u001b[22m\u001b[39m\u001b[90m@ OptimKit ~/.julia/packages/OptimKit/xpmbV/src/linesearches.jl:189\u001b[39m\n",
      "\u001b[33m\u001b[1m┌ \u001b[22m\u001b[39m\u001b[33m\u001b[1mWarning: \u001b[22m\u001b[39mLinesearch bracket converged to a point without satisfying Wolfe conditions?\n",
      "\u001b[33m\u001b[1m└ \u001b[22m\u001b[39m\u001b[90m@ OptimKit ~/.julia/packages/OptimKit/xpmbV/src/linesearches.jl:189\u001b[39m\n",
      "\u001b[33m\u001b[1m┌ \u001b[22m\u001b[39m\u001b[33m\u001b[1mWarning: \u001b[22m\u001b[39mLBFGS: not converged to requested tol: f = 0.000066627176, ‖∇f‖ = 3.4918e-03\n",
      "\u001b[33m\u001b[1m└ \u001b[22m\u001b[39m\u001b[90m@ OptimKit ~/.julia/packages/OptimKit/xpmbV/src/lbfgs.jl:141\u001b[39m\n"
     ]
    }
   ],
   "source": [
    "#Step 2: Find c to model the measurement channel\n",
    "using Zygote\n",
    "using OptimKit\n",
    "optimizer = LBFGS(; maxiter=25, verbosity=1)\n",
    "function loss_and_grad(x)\n",
    "  y, (∇,) = withgradient(loss4, x)\n",
    "  return y, ∇\n",
    "end\n",
    "c0 = randomMPS(Float64,v,;linkdims=χ).data\n",
    "c, fs, gs, niter, normgradhistory = optimize(loss_and_grad, c0, optimizer);\n",
    "#@show c[1], c[2]\n",
    "#@show c[1]*c[2]"
   ]
  },
  {
   "cell_type": "code",
   "execution_count": 314,
   "id": "9ed485f9-d362-4f08-8114-0accb16fae05",
   "metadata": {},
   "outputs": [],
   "source": [
    "#Step 3 Build the channel Mc for any input state\n",
    "ρempty = MPO(ξ)\n",
    "for i in 1:N\n",
    "    ρempty[i] = δ(ξ[i],s[i])*δ(ξ[i]',s[i]')\n",
    "end\n",
    "Mc = MeasurementChannel(c,ρempty);\n",
    "d0 = randomMPS(Float64,v,;linkdims=χ).data;"
   ]
  },
  {
   "cell_type": "code",
   "execution_count": 315,
   "id": "8b9722d5-1862-452c-bcec-40784890ced8",
   "metadata": {},
   "outputs": [
    {
     "data": {
      "text/plain": [
       "loss5 (generic function with 1 method)"
      ]
     },
     "execution_count": 315,
     "metadata": {},
     "output_type": "execute_result"
    }
   ],
   "source": [
    "function loss5(d::Vector{ITensor})\n",
    "    MdMc = MeasurementChannel(d,Mc)\n",
    "    Id = 1.\n",
    "    for i in 1:N\n",
    "        Id *= δ(ξ[i],s[i])*δ(ξ[i]',s[i]')\n",
    "    end\n",
    "    X = MdMc -Id\n",
    "    return inner(X,X)\n",
    "end"
   ]
  },
  {
   "cell_type": "code",
   "execution_count": 316,
   "id": "dab95561-30d1-487c-9229-d6867dc5e3c1",
   "metadata": {},
   "outputs": [
    {
     "name": "stderr",
     "output_type": "stream",
     "text": [
      "\u001b[36m\u001b[1m[ \u001b[22m\u001b[39m\u001b[36m\u001b[1mInfo: \u001b[22m\u001b[39mLBFGS: converged after 19 iterations: f = 0.000000000000, ‖∇f‖ = 7.1772e-09\n"
     ]
    }
   ],
   "source": [
    "#Step 4: Find $d$ to form the inverse channel\n",
    "using Zygote\n",
    "using OptimKit\n",
    "optimizer = LBFGS(; maxiter=25, verbosity=1)\n",
    "function loss_and_grad(x)\n",
    "  y, (∇,) = withgradient(loss5, x)\n",
    "  return y, ∇\n",
    "end\n",
    "d, fs, gs, niter, normgradhistory = optimize(loss_and_grad, d0, optimizer);\n",
    "#println(\" --- Inversion Channel --- \")\n",
    "#@show d[1], d[2], d[1]*d[2]"
   ]
  },
  {
   "cell_type": "code",
   "execution_count": 317,
   "id": "6da86aef-7b5b-4e54-9f60-6d4bb481ee1b",
   "metadata": {},
   "outputs": [],
   "source": [
    "#Application to a noisy random MPS state\n",
    "ψ  = randomMPS(ComplexF64,ξ;linkdims=χ)\n",
    "ψ = MPS(ξ,states)\n",
    "ps = 0.8\n",
    "σ = state_to_dm(ψ)\n",
    "ρ = copy(σ)\n",
    "Λs = get_random_Pauli_noise(ξ,s,ps)\n",
    "Apply_channel!(Λs,ρ)\n",
    "#get measurements\n",
    "M = AcquireMeasurementChannel(ρ,v,u,NM;Λ=Λ);\n",
    "ρe = MeasurementChannel(d,M)\n",
    "#CRM shift\n",
    "σ_shift = IdealMeasurementChannel(AcquireMeasurementChannel(σ,v,u),v,3.);\n",
    "ρe = ρe-σ_shift+flatten(σ)\n",
    "\n",
    "ρe_nonmit = IdealMeasurementChannel(M,v,3.)-σ_shift+flatten(σ);"
   ]
  },
  {
   "cell_type": "code",
   "execution_count": 318,
   "id": "90bd3cb0-086e-4663-bcba-8ca845cc3916",
   "metadata": {},
   "outputs": [
    {
     "name": "stdout",
     "output_type": "stream",
     "text": [
      "Exact fidelity 0.844611197953546 + 0.0im\n",
      "Estimated fidelity 0.864062091911785 + 0.0im\n",
      "Estimated fidelity (no readout correction) 0.7135561146399719 + 0.0im\n"
     ]
    }
   ],
   "source": [
    "println(\"Exact fidelity \", inner(σ,ρ))\n",
    "println(\"Estimated fidelity \",trace(multiply(flatten(σ),ρe),ξ))\n",
    "println(\"Estimated fidelity (no readout correction) \",trace(multiply(flatten(σ),ρe_nonmit),ξ))"
   ]
  },
  {
   "cell_type": "code",
   "execution_count": null,
   "id": "9650f0dd-f09a-4fd4-9392-b81206a52e76",
   "metadata": {},
   "outputs": [],
   "source": []
  }
 ],
 "metadata": {
  "kernelspec": {
   "display_name": "Julia 1.10.0",
   "language": "julia",
   "name": "julia-1.10"
  },
  "language_info": {
   "file_extension": ".jl",
   "mimetype": "application/julia",
   "name": "julia",
   "version": "1.10.0"
  }
 },
 "nbformat": 4,
 "nbformat_minor": 5
}
