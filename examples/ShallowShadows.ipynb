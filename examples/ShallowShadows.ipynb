{
 "cells": [
  {
   "cell_type": "code",
   "execution_count": 186,
   "id": "4f0311a9-bfed-432e-8f6f-f5ce7f434df0",
   "metadata": {},
   "outputs": [],
   "source": [
    "using Revise\n",
    "#using ProgressBars\n",
    "using Random\n",
    "using ITensors\n",
    "#using Pkg;Pkg.activate(\"../.\")\n",
    "using RandomMeas\n",
    "using StatsBase\n",
    "using TimerOutputs\n",
    "using ProgressMeter"
   ]
  },
  {
   "cell_type": "markdown",
   "id": "619822c0-1bd5-444c-9aee-f26a60c3f9dd",
   "metadata": {},
   "source": [
    "## Shallow Shadows \n",
    "Based on https://quantum-journal.org/papers/q-2023-06-01-1026 and https://doi.org/10.1103/PhysRevResearch.5.023027 and arXiv:2402.17911"
   ]
  },
  {
   "cell_type": "markdown",
   "id": "e7f6328a-95a2-4d8a-ae08-2ea3b8ad0841",
   "metadata": {},
   "source": [
    "### Introduction\n",
    "For a given set of random unitaries, the measurement channel is defined as $\\mathcal{M}(\\rho)=\\sum_s \\bra{s}u\\rho u^\\dagger \\ket{s}E[u^\\dagger \\ket{s}\\bra{s}u]$. To design a randomized measurement protocol, we need to learn this channel, then invert it. Once we know the inverse channel, we will be able to form shadows on arbitrary states $\\rho$, as $\\hat{\\rho}=\\mathcal{M}^{-1}(u^\\dagger \\ket{s}\\bra{s}u)$\n",
    "\n",
    "We begin by picking a set of $N_u$ unitaries and calculate numerically the measurement channel $\\sigma_0=\\mathcal{M}(\\rho_0)$ from MPS simulations. Note that alternatively, one could consider measuring an approximate representation of the channel experimentally (arXiv:2402.17911)"
   ]
  },
  {
   "cell_type": "code",
   "execution_count": 216,
   "id": "b0be96ab-b3b2-41ac-b639-9a2d1f9bdc76",
   "metadata": {},
   "outputs": [],
   "source": [
    "#Step 1: Calibration Data acquisition\n",
    "N = 6\n",
    "ξ = siteinds(\"Qubit\", N;addtags=\"output\")\n",
    "χ = 4\n",
    "Nu = 1000\n",
    "states = [\"Dn\" for n in 1:N]\n",
    "ψ0 = MPS(ξ,states);\n",
    "ρ0 = outer(ψ0',ψ0);"
   ]
  },
  {
   "cell_type": "code",
   "execution_count": null,
   "id": "f92176d6-2580-4fec-afd8-f7ee27f000cc",
   "metadata": {},
   "outputs": [
    {
     "name": "stderr",
     "output_type": "stream",
     "text": [
      "\u001b[32mProgress:  43%|█████████████████▌                       |  ETA: 0:00:36\u001b[39m"
     ]
    }
   ],
   "source": [
    "u = Vector{Vector{ITensor}}()\n",
    "for r in 1:Nu\n",
    "    u1 = [op(\"RandomUnitary\",ξ[i]) for i in 1:N]\n",
    "    #push!(u,u1)\n",
    "    u2 = [op(\"RandomUnitary\",ξ[i],ξ[i+1]) for i in 1:N-1]\n",
    "    u3 = [op(\"RandomUnitary\",ξ[i],ξ[i+1]) for i in 2:N-2]\n",
    "    push!(u,[u1;u2;u3])\n",
    "end\n",
    "M = EvaluateMeasurementChannel(ψ0,u);"
   ]
  },
  {
   "cell_type": "code",
   "execution_count": null,
   "id": "a4873853-7891-4a6e-8cd5-324127b22a6b",
   "metadata": {},
   "outputs": [],
   "source": [
    "nsweeps = 4\n",
    "σ0 = FitChannelMPO(M,χ,nsweeps);"
   ]
  },
  {
   "cell_type": "markdown",
   "id": "4623b160-33b6-4a59-8b94-f6c0372b5805",
   "metadata": {},
   "source": [
    "### Inverting the channel\n",
    "Now we can then find the inverse map $\\mathcal{M}^{-1}(\\rho)=\\sum_A d_A \\rho_A$, such that $\\mathcal{M}^{-1}(\\mathcal{M})\\approx\\mathbf{1}$. This is based on automatic-differentation library Zygote and minimizing the cost function $||\\rho_0-\\mathcal{M}^{-1}(\\sigma_0)||^2=||\\rho_0-\\mathcal{M}^{-1}(\\mathcal{M}(\\rho_0))||^2$, where the vector $d$ is parametrized as MPS of bond dimension $\\chi$"
   ]
  },
  {
   "cell_type": "code",
   "execution_count": null,
   "id": "77ea0075-096d-4322-bd74-76f5e18d0018",
   "metadata": {},
   "outputs": [],
   "source": [
    "d = InversionChannel(ρ0,σ0,χ);"
   ]
  },
  {
   "cell_type": "markdown",
   "id": "3613daa8-d647-44f4-8c2d-d0df42833c97",
   "metadata": {},
   "source": [
    "## Data acquisition\n",
    "We are ready to perform an experiment on a unknown state and build shadows as MPO"
   ]
  },
  {
   "cell_type": "code",
   "execution_count": null,
   "id": "c0c65582-e3c4-4d9f-81c9-5f38dfb0c64c",
   "metadata": {},
   "outputs": [],
   "source": [
    "using PastaQ\n",
    "NM = 10\n",
    "circuit = randomcircuit(N, depth=2)\n",
    "#noisemodel1 = (1 => (\"depolarizing\", (p = 0,)),2 => (\"depolarizing\", (p = 0.05,)))\n",
    "ψ = runcircuit(ψ0,circuit);"
   ]
  },
  {
   "cell_type": "markdown",
   "id": "3472f4b3-cdd4-4198-b169-a203fdced550",
   "metadata": {},
   "source": [
    "## Extracting observables\n",
    "Here we focus on XX correlations"
   ]
  },
  {
   "cell_type": "code",
   "execution_count": null,
   "id": "11663484-ce88-4280-aa15-99a3c50dafa0",
   "metadata": {},
   "outputs": [],
   "source": [
    "O = Vector{MPO}()\n",
    "for i in 1:N-1\n",
    "    ampo = AutoMPO()\n",
    "    ampo .+= \"X\", i,\"X\",i+1\n",
    "    push!(O,MPO(ampo,ξ))\n",
    "end\n",
    "O_exact = zeros(N-1);"
   ]
  },
  {
   "cell_type": "code",
   "execution_count": null,
   "id": "4c1a0c06-c095-4f4f-9c2c-493e64d49e5f",
   "metadata": {},
   "outputs": [],
   "source": [
    "O_est = zeros(N-1);\n",
    "@showprogress dt=1 for r in 1:Nu\n",
    "            data = get_RandomMeas(ψ,u[r],NM) #data acquisition in simulated quantum device\n",
    "            shadow = get_ShallowShadow(data,u[r],d,ξ)\n",
    "            for m in 1:NM\n",
    "               for i in 1:N-1\n",
    "                    #$X = apply(O[i],shadow[m],apply_dag=false)\n",
    "                    O_est[i] += real(inner(O[i],shadow[m]))/Nu/NM\n",
    "                end \n",
    "            end\n",
    "end"
   ]
  },
  {
   "cell_type": "code",
   "execution_count": null,
   "id": "0a703a17-0159-4168-bc1a-eec17413d458",
   "metadata": {},
   "outputs": [],
   "source": [
    "for i in 1:N-1\n",
    "    O_exact[i] = real(inner(ψ',O[i],ψ))\n",
    "    println(\"XX for pair  \",i,i+1)\n",
    "    println(\"Exact \", O_exact[i])\n",
    "    println(\"Estimated \", O_est[i])\n",
    "end\n"
   ]
  },
  {
   "cell_type": "code",
   "execution_count": null,
   "id": "567b71bf-8242-4611-a9b1-d9c505d9de28",
   "metadata": {},
   "outputs": [],
   "source": []
  }
 ],
 "metadata": {
  "kernelspec": {
   "display_name": "Julia 1.10.0",
   "language": "julia",
   "name": "julia-1.10"
  },
  "language_info": {
   "file_extension": ".jl",
   "mimetype": "application/julia",
   "name": "julia",
   "version": "1.10.0"
  }
 },
 "nbformat": 4,
 "nbformat_minor": 5
}
