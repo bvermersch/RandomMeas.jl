{
 "cells": [
  {
   "cell_type": "markdown",
   "id": "9bc1b0a8",
   "metadata": {},
   "source": [
    "## Analysing the experimental data of  [Brydges et al, Science 2019](https://doi.org/10.1126/science.aau4963)"
   ]
  },
  {
   "cell_type": "code",
   "execution_count": 1,
   "id": "2a2c0683-6ec3-4b0e-ba9c-5f94cac50deb",
   "metadata": {},
   "outputs": [],
   "source": [
    "using RandomMeas\n",
    "using ProgressMeter\n",
    "using Revise"
   ]
  },
  {
   "cell_type": "code",
   "execution_count": 2,
   "id": "4fcfc571-3cd1-4e1d-8ae5-39cfedd8a94b",
   "metadata": {},
   "outputs": [],
   "source": [
    "## parameters \n",
    "N = 10 # System size\n",
    "times = [0,1,2,3,4,5] # quench times in ms\n",
    "ntimes = length(times)  # number of time points\n",
    "ξ = siteinds(\"Qubit\", N); # site indices of the shadows\n",
    "\n",
    "# Parameters specifying the Renyi entropies of interest\n",
    "n = 6 # maximal Renyi index (n-th Renyi entropy)\n",
    "NAmax = 6; #maximal subsystem size. We always consider subsystems of the form [1,2,...,NA]."
   ]
  },
  {
   "cell_type": "markdown",
   "id": "f0d8f9a5",
   "metadata": {},
   "source": [
    "We now load the experimental randomized measurement data obtained in Brydges et al., Science 2018."
   ]
  },
  {
   "cell_type": "code",
   "execution_count": 3,
   "id": "4060a930",
   "metadata": {},
   "outputs": [
    {
     "name": "stdout",
     "output_type": "stream",
     "text": [
      "Warning: Julia works with indices starting at 1. Binary data should therefore use 1 and 2, not 0 and 1. Please check the data and consider changing add_value parameter.\n",
      "Warning: Added 1 to all elements of the measurement results.\n",
      "Warning: Julia works with indices starting at 1. Binary data should therefore use 1 and 2, not 0 and 1. Please check the data and consider changing add_value parameter.\n",
      "Warning: Added 1 to all elements of the measurement results.\n",
      "Warning: Julia works with indices starting at 1. Binary data should therefore use 1 and 2, not 0 and 1. Please check the data and consider changing add_value parameter.\n",
      "Warning: Added 1 to all elements of the measurement results.\n",
      "Warning: Julia works with indices starting at 1. Binary data should therefore use 1 and 2, not 0 and 1. Please check the data and consider changing add_value parameter.\n",
      "Warning: Added 1 to all elements of the measurement results.\n",
      "Warning: Julia works with indices starting at 1. Binary data should therefore use 1 and 2, not 0 and 1. Please check the data and consider changing add_value parameter.\n",
      "Warning: Added 1 to all elements of the measurement results.\n",
      "Warning: Julia works with indices starting at 1. Binary data should therefore use 1 and 2, not 0 and 1. Please check the data and consider changing add_value parameter.\n",
      "Warning: Added 1 to all elements of the measurement results.\n"
     ]
    }
   ],
   "source": [
    "data = Vector{MeasurementData}(undef, ntimes)\n",
    "\n",
    "for s in 1:ntimes\n",
    "    data[s] = import_measurement_data(\"BrydgesScience2019data/measurement_data_10_T_\" * string(times[s]) * \".npz\",site_indices=ξ, add_value = 1)\n",
    "end "
   ]
  },
  {
   "cell_type": "markdown",
   "id": "16dd0a66",
   "metadata": {},
   "source": [
    "We estimate the purity using the direct purity estimation formula presented Brydges et al., Science 2019 and using classical shadows Huang et al., Nat. Phys. 2020."
   ]
  },
  {
   "cell_type": "code",
   "execution_count": 4,
   "id": "d4bcb43e",
   "metadata": {},
   "outputs": [
    {
     "name": "stderr",
     "output_type": "stream",
     "text": [
      "\u001b[32mProgress: 100%|█████████████████████████████████████████| Time: 0:00:09\u001b[39m\u001b[K\n"
     ]
    }
   ],
   "source": [
    "p_direct = zeros(Float64,ntimes,NAmax)\n",
    "@showprogress for s in 1:ntimes\n",
    "    for NA in 1:NAmax\n",
    "        p_direct[s,NA] = get_purity_direct(data[s],collect(1:NA))\n",
    "    end\n",
    "end"
   ]
  },
  {
   "cell_type": "code",
   "execution_count": 5,
   "id": "6df105f6",
   "metadata": {},
   "outputs": [
    {
     "name": "stdout",
     "output_type": "stream",
     "text": [
      "p_direct[2, :] = [0.7548595973154374, 0.6805170469798665, 0.6481793288590602, 0.618093959731544, 0.6069744966442955, 0.6067140939597319]\n"
     ]
    },
    {
     "data": {
      "text/plain": [
       "6-element Vector{Float64}:\n",
       " 0.7548595973154374\n",
       " 0.6805170469798665\n",
       " 0.6481793288590602\n",
       " 0.618093959731544\n",
       " 0.6069744966442955\n",
       " 0.6067140939597319"
      ]
     },
     "metadata": {},
     "output_type": "display_data"
    }
   ],
   "source": [
    "@show p_direct[2,:]"
   ]
  },
  {
   "cell_type": "markdown",
   "id": "a791b037",
   "metadata": {},
   "source": [
    "We estimate higher order Renyi entropies (up to order n) using batch shadows (c.f. Rath et al., PRXQ 2023)."
   ]
  },
  {
   "cell_type": "code",
   "execution_count": 6,
   "id": "bac4974b",
   "metadata": {},
   "outputs": [
    {
     "ename": "UndefVarError",
     "evalue": "UndefVarError: `u` not defined",
     "output_type": "error",
     "traceback": [
      "UndefVarError: `u` not defined\n",
      "\n",
      "Stacktrace:\n",
      " [1] macro expansion\n",
      "   @ ~/Andreas_Arbeit/Projects/RandomMeas.jl/examples/jl_notebook_cell_df34fa98e69747e1a8f8a730347b8e2f_X12sZmlsZQ==.jl:6 [inlined]\n",
      " [2] macro expansion\n",
      "   @ ~/.julia/packages/ProgressMeter/dMfiC/src/ProgressMeter.jl:1010 [inlined]\n",
      " [3] top-level scope\n",
      "   @ ~/Andreas_Arbeit/Projects/RandomMeas.jl/examples/jl_notebook_cell_df34fa98e69747e1a8f8a730347b8e2f_X12sZmlsZQ==.jl:4"
     ]
    }
   ],
   "source": [
    "#Tr(rho^n) and Renyis from batch shadows\n",
    "p_bshadow = zeros(Float64,ntimes,NAmax,n-1)\n",
    "S_bshadow = zeros(Float64,ntimes,NAmax,n-1)\n",
    "@showprogress for s in 1:ntimes\n",
    "    for NA in 1:NAmax\n",
    "        uA = [ut[1:NA] for ut in u[s]]\n",
    "        ξA = ξ[1:NA]\n",
    "        ρs = get_batch_shadows(data[s,:,:,1:NA],ξA,uA,n)\n",
    "        p_bshadow[s,NA,:] = get_moments(ρs, ξA, collect(2:n))\n",
    "        for nt in 2:n\n",
    "            S_bshadow[s,NA,nt-1]= log2(p_bshadow[s,NA,nt-1])/(1-nt)\n",
    "        end\n",
    "    end\n",
    "end"
   ]
  },
  {
   "cell_type": "markdown",
   "id": "cd346413",
   "metadata": {},
   "source": [
    "Finally, we load quantum states generated by classical simulations (master equation evolution) of the experiment, including a decoherence model. We compute Renyi entropies."
   ]
  },
  {
   "cell_type": "code",
   "execution_count": null,
   "id": "be33fbde-b611-48d1-9920-f3230a0c792a",
   "metadata": {},
   "outputs": [],
   "source": [
    "using MAT\n",
    "\n",
    "ρ = Vector{ITensor}()\n",
    "p = zeros(Float64,ntimes,NAmax,n-1)\n",
    "S = zeros(Float64,ntimes,NAmax,n-1)\n",
    "SvN = zeros(Float64,ntimes,NAmax)\n",
    "ITensors.disable_warn_order()\n",
    "\n",
    "for s in 1:ntimes\n",
    "    qstate = matread(\"BrydgesScience2019data/rho_10_XY_10_-1.00_0.00\"*string(times[s])*\"_1_1_1_flr_1.mat\")[\"rho\"]\n",
    "    qstate = reshape(qstate,tuple((2*ones(Int,2*N))...))\n",
    "    push!(ρ,ITensor(qstate,vcat(ξ',ξ)))\n",
    "    for NA in 1:NAmax\n",
    "        A = collect(1:NA)\n",
    "        ρA = copy(ρ[s])\n",
    "        for i in 1:N\n",
    "            if !(i in A)\n",
    "                ρA *= δ(ξ[i],ξ[i]') \n",
    "            end\n",
    "        end\n",
    "        for nt in 2:n\n",
    "            p[s,NA,nt-1] = real(trace(power(ρA,nt),ξ[1:NA]))\n",
    "            S[s,NA,nt-1]= log2(p[s,NA,nt-1])/(1-nt)\n",
    "        end\n",
    "    end\n",
    "end"
   ]
  },
  {
   "cell_type": "code",
   "execution_count": null,
   "id": "abb37c75",
   "metadata": {},
   "outputs": [],
   "source": [
    "@show p[2,1:NAmax,1]"
   ]
  },
  {
   "cell_type": "markdown",
   "id": "406a295a",
   "metadata": {},
   "source": [
    "We plot the purity as a function of NA for the different times."
   ]
  },
  {
   "cell_type": "code",
   "execution_count": null,
   "id": "5d664ec3",
   "metadata": {},
   "outputs": [],
   "source": []
  },
  {
   "cell_type": "code",
   "execution_count": null,
   "id": "a1ab698f",
   "metadata": {},
   "outputs": [],
   "source": [
    "using PyPlot\n",
    "\n",
    "clf()\n",
    "\n",
    "cm = get_cmap(:viridis)\n",
    "for s in 1:ntimes\n",
    "    plot(1:NAmax,p[s,:,1],\"--\",color=cm(s/ntimes))\n",
    "    plot(1:NAmax,p_direct[s,:],\"o\",color=cm(s/ntimes))\n",
    "    plot(1:NAmax,p_shadow[s,:],\"x\",color=cm(s/ntimes))\n",
    "    plot(1:NAmax,p_bshadow[s,:,1],\"*\",color=cm(s/ntimes))\n",
    "end\n",
    "#yscale(\"log\")\n",
    "xlabel(\"Partition\")\n",
    "ylabel(\"Purity\")\n",
    "legend([\"theory\",\"hamming\",\"shadow\",\"batch_shadow\"])\n",
    "title(\"Purity for different times\")\n",
    "\n",
    "gcf()"
   ]
  },
  {
   "cell_type": "markdown",
   "id": "a8845aa2",
   "metadata": {},
   "source": [
    "We plot the higher order Renyi entropies as a function of Renyi index n for a fixed subystem size and various times."
   ]
  },
  {
   "cell_type": "code",
   "execution_count": null,
   "id": "a3a1fdc2",
   "metadata": {},
   "outputs": [],
   "source": [
    "using PyPlot\n",
    "\n",
    "clf()\n",
    "cm = get_cmap(:viridis)\n",
    "NA = 6\n",
    "for s in 1:1\n",
    "    plot(2:n,p[s,NA,:],\"--\",color=cm(s/ntimes),label=\"theory\")\n",
    "    plot(2:n,p_bshadow[s,NA,:],\"x\",color=cm(s/ntimes),label=\"batch_shadow\")\n",
    "end\n",
    "for s in 2:ntimes\n",
    "    plot(2:n,p[s,NA,:],\"--\",color=cm(s/ntimes))\n",
    "    plot(2:n,p_bshadow[s,NA,:],\"x\",color=cm(s/ntimes))\n",
    "end\n",
    "xlabel(\"n\")\n",
    "ylabel(L\"p_n(\\rho_A)\")\n",
    "legend(title = \"NA= $NA \")\n",
    "\n",
    "gcf()"
   ]
  },
  {
   "cell_type": "code",
   "execution_count": null,
   "id": "3e05eba3",
   "metadata": {},
   "outputs": [],
   "source": [
    "using MAT\n",
    "ITensors.disable_warn_order()\n",
    "using Base.Threads: @threads\n",
    "\n",
    "using LinearAlgebra  # For BLAS thread management\n",
    "\n",
    "# Print the number of Julia threads\n",
    "println(\"Number of Julia threads: $(Threads.nthreads())\")\n",
    "\n",
    "# Set BLAS threads to 1\n",
    "BLAS.set_num_threads(1)\n",
    "println(\"Number of BLAS threads: $(BLAS.get_num_threads())\")\n",
    "\n",
    "# Parameters\n",
    "NU, NM = 500, 150\n",
    "export_dir = \"MeasurementDataExports/\"  # Directory to save exported files\n",
    "\n",
    "# Ensure the export directory exists\n",
    "isdir(export_dir) || mkpath(export_dir)\n",
    "\n",
    "for s in [1,3,5]\n",
    "    # Load and process the quantum state\n",
    "    qstate = matread(\"BrydgesScience2019data/rho_10_XY_10_-1.00_0.00\"*string(times[s])*\"_1_1_1_flr_1.mat\")[\"rho\"]\n",
    "    qstate = reshape(qstate, tuple((2 * ones(Int, 2 * N))...))\n",
    "    rho = ITensor(qstate, vcat(ξ', ξ))\n",
    "    rho = MPO(rho, ξ, cutoff=1e-10)\n",
    "\n",
    "    @threads for sample in 1:100\n",
    "        # Generate measurement settings and simulate results\n",
    "        @time measurement_settings = RandomMeas.LocalUnitaryMeasurementSettings(N, NU, site_indices=ξ)\n",
    "        @time measurement_data = simulate_RandomMeas(rho, measurement_settings, NM, \"dense\")\n",
    "\n",
    "        # Construct a meaningful filename\n",
    "        filename = joinpath(export_dir, \"simulated_measurement_data_t_$(times[s])_sample_$(sample)_NU_$(NU)_NM_$(NM).npz\")\n",
    "\n",
    "        # Export the data\n",
    "        export_measurement_data(measurement_data, filename)\n",
    "        println(\"Exported: $filename\")\n",
    "\n",
    "        # Load the exported data\n",
    "\n",
    "        if sample == 1\n",
    "            loaded_data = import_measurement_data(filename, site_indices=ξ)\n",
    "\n",
    "            # Check that the loaded data is the same as the original data\n",
    "            @assert isapprox(measurement_data.measurement_results, loaded_data.measurement_results)\n",
    "            @assert isapprox(measurement_data.measurement_settings.local_unitaries, loaded_data.measurement_settings.local_unitaries)\n",
    "\n",
    "            for NA in 1:NAmax\n",
    "                @show get_purity_direct(measurement_data,collect(1:NA))\n",
    "            end\n",
    "            \n",
    "        end\n",
    "\n",
    "    end\n",
    "end"
   ]
  },
  {
   "cell_type": "code",
   "execution_count": null,
   "id": "0fda9a6e",
   "metadata": {},
   "outputs": [],
   "source": [
    "using MAT\n",
    "ITensors.disable_warn_order()\n",
    "using Base.Threads: @threads\n",
    "\n",
    "using LinearAlgebra  # For BLAS thread management\n",
    "\n",
    "# Print the number of Julia threads\n",
    "println(\"Number of Julia threads: $(Threads.nthreads())\")\n",
    "\n",
    "# Set BLAS threads to 1\n",
    "BLAS.set_num_threads(1)\n",
    "println(\"Number of BLAS threads: $(BLAS.get_num_threads())\")\n",
    "\n",
    "# Parameters\n",
    "NU, NM = 500, 150\n",
    "export_dir = \"/Users/aelben/Data/RandomMeas_SampleBrydges/MeasurementDataExports/\"  # Directory to save exported files\n",
    "\n",
    "\n",
    "k_max = 6\n",
    "\n",
    "p_bshadow = zeros(Float64,100,3,NAmax,k_max-1)\n",
    "S_bshadow = zeros(Float64,100,3,NAmax,k_max-1)\n",
    "\n",
    "for i in 1:3\n",
    "\n",
    "    @threads for sample in 1:100\n",
    "\n",
    "        @show i, sample\n",
    "\n",
    "        filename = joinpath(export_dir, \"simulated_measurement_data_t_$(times[2*i])_sample_$(sample)_NU_$(NU)_NM_$(NM).npz\")\n",
    "\n",
    "        loaded_data = import_measurement_data(filename, site_indices=ξ)\n",
    "\n",
    "        local_unitaries = loaded_data.measurement_settings.local_unitaries\n",
    "        data = loaded_data.measurement_results\n",
    "\n",
    "        for NA in 1:NAmax\n",
    "            uA = [local_unitaries[r, 1:NA] for r in 1:size(local_unitaries, 1)]\n",
    "            ξA = ξ[1:NA]\n",
    "            ρs = get_batch_shadows(data[:,:,1:NA],ξA,uA,k_max)\n",
    "            p_bshadow[sample,i, NA,:] = get_moments(ρs, ξA, collect(2:k_max))\n",
    "            for nt in 2:n\n",
    "                S_bshadow[sample,i,NA,nt-1]= log2(p_bshadow[sample,i,NA,nt-1])/(1-nt)\n",
    "            end\n",
    "        end\n",
    "\n",
    "    end\n",
    "end"
   ]
  },
  {
   "cell_type": "code",
   "execution_count": null,
   "id": "44317ee6",
   "metadata": {},
   "outputs": [],
   "source": [
    "using Statistics"
   ]
  },
  {
   "cell_type": "code",
   "execution_count": null,
   "id": "17577ca5",
   "metadata": {},
   "outputs": [],
   "source": [
    "@show size(p_bshadow)\n",
    "@show size(p)"
   ]
  },
  {
   "cell_type": "code",
   "execution_count": null,
   "id": "b4d2d333",
   "metadata": {},
   "outputs": [],
   "source": [
    "p_bshadow_mean = mean(p_bshadow,dims=1)[1,:,:,:]\n",
    "p_select = p[[2,4,6],:,:]\n",
    "S_select = S[[2,4,6],:,:]"
   ]
  },
  {
   "cell_type": "code",
   "execution_count": null,
   "id": "c3e0fb64",
   "metadata": {},
   "outputs": [],
   "source": [
    "@show maximum(abs.(p_select.-p_bshadow_mean))\n",
    "\n",
    "@show 1/sqrt(500*100)"
   ]
  },
  {
   "cell_type": "code",
   "execution_count": null,
   "id": "e61fef8a",
   "metadata": {},
   "outputs": [],
   "source": [
    "@show cov(p_bshadow[:,1,],dims=1)"
   ]
  },
  {
   "cell_type": "code",
   "execution_count": null,
   "id": "bc69ed42",
   "metadata": {},
   "outputs": [],
   "source": [
    "using NPZ\n",
    "npzwrite(\"sampled_data.npz\",p_bshadow=p_bshadow,p=p_select,S=S_select,S_bshadow=S_bshadow,times=times[[2,4,6]],NU=NU,NM=NM,N=N,NAmax=NAmax,k_max=k_max,samples  = samples)"
   ]
  },
  {
   "cell_type": "code",
   "execution_count": null,
   "id": "cf2a6d06",
   "metadata": {},
   "outputs": [],
   "source": []
  }
 ],
 "metadata": {
  "kernelspec": {
   "display_name": "Julia 1.10.6",
   "language": "julia",
   "name": "julia-1.10"
  },
  "language_info": {
   "file_extension": ".jl",
   "mimetype": "application/julia",
   "name": "julia",
   "version": "1.10.6"
  }
 },
 "nbformat": 4,
 "nbformat_minor": 5
}
