{
 "cells": [
  {
   "cell_type": "markdown",
   "id": "2211fa0a",
   "metadata": {},
   "source": [
    "## Measuring energy and energy variance with classical shadows\n",
    "\n",
    "Related Paper [Huang et al, Nat Phys 2020](https://doi.org/10.1038/s41567-020-0932-7)"
   ]
  },
  {
   "cell_type": "code",
   "execution_count": 2,
   "id": "5b9637c3-6286-4f60-9525-ebc182a1e56b",
   "metadata": {},
   "outputs": [],
   "source": [
    "using Revise\n",
    "using RandomMeas\n",
    "using Statistics\n",
    "using ProgressMeter"
   ]
  },
  {
   "cell_type": "markdown",
   "id": "722cece3",
   "metadata": {},
   "source": [
    "# Ising Hamiltonian"
   ]
  },
  {
   "cell_type": "markdown",
   "id": "bec3e2a8",
   "metadata": {},
   "source": [
    "We first construct the Hamiltonian of the transverse field Ising model with N qubits."
   ]
  },
  {
   "cell_type": "code",
   "execution_count": 3,
   "id": "f8ea8288-4cfc-4ca9-8d4f-a0bf68dd5331",
   "metadata": {},
   "outputs": [],
   "source": [
    "N = 6 # Number of qubits\n",
    "ξ = siteinds(\"Qubit\", N) # ITensor site indices for classical shadows\n",
    "# Define the Hamiltonian\n",
    "J = -1. # Ising interaction strength\n",
    "B = 1. # Transverse field strength\n",
    "ampo = AutoMPO()\n",
    "for j in 1:(N - 1)\n",
    "  # Ising XX interactions\n",
    "  ampo .+= J , \"X\", j, \"X\", j + 1\n",
    "end\n",
    "for j in 1:N\n",
    "  # Transverse field Z\n",
    "  ampo .+= -B, \"Z\", j\n",
    "end\n",
    "H = MPO(ampo,ξ) # Hamiltonian as MPO\n",
    "H2 = apply(H,H); # H^2 for later use"
   ]
  },
  {
   "cell_type": "markdown",
   "id": "a6c2b9cf",
   "metadata": {},
   "source": [
    "# Groundstate energy and variance"
   ]
  },
  {
   "cell_type": "markdown",
   "id": "799f52b5",
   "metadata": {},
   "source": [
    "First, we compute the ground state $\\psi_G$ of the transverse field Ising model with DMRG."
   ]
  },
  {
   "cell_type": "code",
   "execution_count": 4,
   "id": "c8e706d8",
   "metadata": {},
   "outputs": [
    {
     "name": "stdout",
     "output_type": "stream",
     "text": [
      "Running DMRG to get ground state of transverse field Ising model:\n",
      "After sweep 1 energy=-7.243946309928767  maxlinkdim=4 maxerr=8.88E-16 time=17.120\n",
      "After sweep 2 energy=-7.296187134287553  maxlinkdim=8 maxerr=1.60E-16 time=0.017\n",
      "After sweep 3 energy=-7.296229810318139  maxlinkdim=6 maxerr=1.24E-11 time=0.018\n",
      "After sweep 4 energy=-7.296229810530125  maxlinkdim=6 maxerr=2.50E-12 time=0.018\n",
      "After sweep 5 energy=-7.296229810530149  maxlinkdim=6 maxerr=2.50E-12 time=0.014\n",
      "\n",
      "Ground state energy:  -7.296229810530149\n",
      "\n",
      "---------------------------------------\n",
      "\n"
     ]
    }
   ],
   "source": [
    "# Define the DMRG parameters \n",
    "dmrg_iter = 5      # DMRG steps\n",
    "dmrg_cutoff = 1E-10   # Cutoff\n",
    "ψ0 = random_mps(ξ) # Initial state\n",
    "sweeps = Sweeps(dmrg_iter)\n",
    "maxdim!(sweeps, 10, 20, 30, 40, 50, 100)\n",
    "cutoff!(sweeps, dmrg_cutoff)\n",
    "\n",
    "# Run DMRG to get the ground state\n",
    "println(\"Running DMRG to get ground state of transverse field Ising model:\")\n",
    "E, ψG = dmrg(H, ψ0, sweeps)\n",
    "println(\"\\nGround state energy:  \", E)\n",
    "println(\"\\n---------------------------------------\\n\")"
   ]
  },
  {
   "cell_type": "markdown",
   "id": "96699a52",
   "metadata": {},
   "source": [
    "We compute its energy and variance."
   ]
  },
  {
   "cell_type": "code",
   "execution_count": 5,
   "id": "abdbe5bc",
   "metadata": {},
   "outputs": [
    {
     "name": "stdout",
     "output_type": "stream",
     "text": [
      "final energy -7.296229810530149\n",
      "final expect of H2 53.234969448397685\n",
      "final energy variance 3.2886759981920477e-10\n"
     ]
    }
   ],
   "source": [
    "E_G = real(inner(ψG', H,ψG))\n",
    "println(\"final energy \",E_G)\n",
    "E2_G = real(inner(ψG', H2,ψG))\n",
    "println(\"final expect of H2 \",E2_G)\n",
    "Var_E_G = E2_G-E_G^2\n",
    "println(\"final energy variance \",Var_E_G)"
   ]
  },
  {
   "cell_type": "markdown",
   "id": "e02faf41",
   "metadata": {},
   "source": [
    "### Estimation with classical shadows \n",
    "\n",
    "We estimate its energy and variance with classical shadows via randomized measurements."
   ]
  },
  {
   "cell_type": "code",
   "execution_count": 6,
   "id": "cd8c438a",
   "metadata": {},
   "outputs": [
    {
     "name": "stderr",
     "output_type": "stream",
     "text": [
      "\u001b[32mProgress: 100%|█████████████████████████████████████████| Time: 0:00:54\u001b[39m\n"
     ]
    }
   ],
   "source": [
    "NU = 1000 # Number of random unitaries\n",
    "NM = 50\n",
    "measurement_group = MeasurementGroup(ψG,NU,NM;mode=\"dense\",progress_bar=true);"
   ]
  },
  {
   "cell_type": "code",
   "execution_count": 7,
   "id": "4def3049",
   "metadata": {},
   "outputs": [],
   "source": [
    "factorized_shadows = get_factorized_shadows(measurement_group);"
   ]
  },
  {
   "cell_type": "code",
   "execution_count": 8,
   "id": "535f2c45",
   "metadata": {},
   "outputs": [
    {
     "name": "stdout",
     "output_type": "stream",
     "text": [
      "Estimated energy  -7.43±0.03\n",
      "Estimated expectation value of H^2  54.6±0.4\n",
      "Estimated energy variance -0.6±-0.4\n"
     ]
    }
   ],
   "source": [
    "Es_m,Es_ste = get_expect_shadow(H,factorized_shadows,compute_sem=true)\n",
    "E2s_m,E2s_ste = get_expect_shadow(H2,factorized_shadows,compute_sem=true)\n",
    "Es_m = real(Es_m)\n",
    "E2s_m = real(E2s_m)\n",
    "Evar = E2s_m .- Es_m.^2\n",
    "Evar_ste = Evar*sqrt(4*Es_ste^2*Es_m^2 + E2s_ste^2)\n",
    "println(\"Estimated energy  \", round(Es_m,digits=2), \"±\", round(Es_ste, sigdigits=1))\n",
    "println(\"Estimated expectation value of H^2  \", round(E2s_m,digits=1), \"±\", round(E2s_ste, sigdigits=1))\n",
    "println(\"Estimated energy variance \", round(Evar,digits=1), \"±\", round(Evar_ste, sigdigits=1)) # We oversimplify here. E2s_m and E_m are not independent."
   ]
  },
  {
   "cell_type": "markdown",
   "id": "8e098b6a",
   "metadata": {},
   "source": [
    "# Output state of quantum circuit"
   ]
  },
  {
   "cell_type": "markdown",
   "id": "57576334",
   "metadata": {},
   "source": [
    "We construct a state as output of a quantum circuit."
   ]
  },
  {
   "cell_type": "code",
   "execution_count": 14,
   "id": "bdea0129-3c6c-459b-9010-da97492a84d6",
   "metadata": {},
   "outputs": [],
   "source": [
    "η = 4 # Number of layer blocks\n",
    "m = 4 # Number of layers per block\n",
    "# Build the gate structure\n",
    "circuit = ITensor[]\n",
    "for d in 1:η\n",
    "    xx_layer = [op(\"Rxx\", ξ[j], ξ[j+1], ϕ=1*d/η/m) for j in 1:(N - 1)] \n",
    "    z_layer = [op(\"Rz\", ξ[j], θ=2*B/m) for j in 1:N] \n",
    "    for t in 1:m\n",
    "        append!(circuit, xx_layer)\n",
    "        append!(circuit, z_layer)\n",
    "    end\n",
    "end\n",
    "ψ0 = MPS(ξ,[\"Up\" for n in 1:N]);\n",
    "ψt = apply(circuit,ψ0; cutoff=1E-8)\n",
    "normalize!(ψt);\n"
   ]
  },
  {
   "cell_type": "markdown",
   "id": "96718dff",
   "metadata": {},
   "source": [
    "We compute its energy and variance."
   ]
  },
  {
   "cell_type": "code",
   "execution_count": 15,
   "id": "b0153c9f-27f1-4b77-b025-41edce73a89f",
   "metadata": {},
   "outputs": [
    {
     "name": "stdout",
     "output_type": "stream",
     "text": [
      "final energy -6.899080647830891\n",
      "final energy variance 1.9151339083140613\n"
     ]
    }
   ],
   "source": [
    "Et = real(inner(ψt', H,ψt)) # Energy of ψt \n",
    "println(\"final energy \",Et)\n",
    "Var_Et = real(inner(ψt', H2,ψt))-Et^2 # Energy variance of ψt\n",
    "println(\"final energy variance \",Var_Et)"
   ]
  },
  {
   "cell_type": "code",
   "execution_count": 19,
   "id": "d2094589",
   "metadata": {},
   "outputs": [
    {
     "name": "stderr",
     "output_type": "stream",
     "text": [
      "\u001b[32mProgress: 100%|█████████████████████████████████████████| Time: 0:00:02\u001b[39m\n"
     ]
    }
   ],
   "source": [
    "NU = 1000 # Number of random unitaries\n",
    "NM = 50 # Number of measurements per unitary\n",
    "measurement_group = MeasurementGroup(ψt,NU,NM;mode=\"dense\",progress_bar=true);"
   ]
  },
  {
   "cell_type": "code",
   "execution_count": 20,
   "id": "83425c5a",
   "metadata": {},
   "outputs": [],
   "source": [
    "factorized_shadows = get_factorized_shadows(measurement_group);"
   ]
  },
  {
   "cell_type": "code",
   "execution_count": 21,
   "id": "664c4c99",
   "metadata": {},
   "outputs": [
    {
     "name": "stdout",
     "output_type": "stream",
     "text": [
      "Estimated energy of the circuit generated state -6.94±0.03\n",
      "Estimated expectation value of H^2 of the circuit generated state 49.7±0.4\n",
      "Estimated energy variance of the circuit generated state 1.6±1.0\n"
     ]
    }
   ],
   "source": [
    "Es_m,Es_ste = get_expect_shadow(H,factorized_shadows,compute_sem=true)\n",
    "E2s_m,E2s_ste = get_expect_shadow(H2,factorized_shadows,compute_sem=true)\n",
    "Es_m = real(Es_m)\n",
    "E2s_m = real(E2s_m)\n",
    "Evar = E2s_m .- Es_m.^2\n",
    "Evar_ste = Evar*sqrt(4*Es_ste^2*Es_m^2 + E2s_ste^2)\n",
    "println(\"Estimated energy of the circuit generated state \", round(Es_m,digits=2), \"±\", round(Es_ste, sigdigits=1))\n",
    "println(\"Estimated expectation value of H^2 of the circuit generated state \", round(E2s_m,digits=1), \"±\", round(E2s_ste, sigdigits=1))\n",
    "println(\"Estimated energy variance of the circuit generated state \", round(Evar,digits=1), \"±\", round(Evar_ste, sigdigits=1)) # We oversimplify here. E2s_m and E_m are not independent."
   ]
  }
 ],
 "metadata": {
  "kernelspec": {
   "display_name": "Julia 1.11.3",
   "language": "julia",
   "name": "julia-1.11"
  },
  "language_info": {
   "file_extension": ".jl",
   "mimetype": "application/julia",
   "name": "julia",
   "version": "1.11.3"
  }
 },
 "nbformat": 4,
 "nbformat_minor": 5
}
