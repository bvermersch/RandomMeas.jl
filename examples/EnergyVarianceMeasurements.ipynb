{
 "cells": [
  {
   "cell_type": "code",
   "execution_count": 6,
   "id": "5b9637c3-6286-4f60-9525-ebc182a1e56b",
   "metadata": {},
   "outputs": [],
   "source": [
    "using ITensors,ITensorMPS\n",
    "using PastaQ\n",
    "using RandomMeas\n",
    "using ProgressBars\n"
   ]
  },
  {
   "cell_type": "code",
   "execution_count": 28,
   "id": "f8ea8288-4cfc-4ca9-8d4f-a0bf68dd5331",
   "metadata": {},
   "outputs": [
    {
     "name": "stdout",
     "output_type": "stream",
     "text": [
      "Running DMRG to get ground state of transverse field Ising model:\n",
      "After sweep 1 energy=-9.804104279631897  maxlinkdim=4 maxerr=1.46E-16 time=0.008\n",
      "After sweep 2 energy=-9.83786582249718  maxlinkdim=12 maxerr=2.77E-12 time=0.009\n",
      "After sweep 3 energy=-9.837951443164044  maxlinkdim=8 maxerr=6.81E-11 time=0.008\n",
      "After sweep 4 energy=-9.83795144619894  maxlinkdim=6 maxerr=6.91E-11 time=0.019\n",
      "After sweep 5 energy=-9.837951446199057  maxlinkdim=6 maxerr=6.91E-11 time=0.012\n",
      "\n",
      "Ground state energy:  -9.837951446199057\n",
      "\n",
      "---------------------------------------\n",
      "\n"
     ]
    }
   ],
   "source": [
    "N = 8\n",
    "ξ = siteinds(\"Qubit\", N)\n",
    "B = 1.\n",
    "ampo = AutoMPO()\n",
    "for j in 1:(N - 1)\n",
    "  # Ising ZZ interactions\n",
    "  ampo .+= -1, \"X\", j, \"X\", j + 1\n",
    "end\n",
    "for j in 1:N\n",
    "  # Transverse field X\n",
    "  ampo .+= -B, \"Z\", j\n",
    "end\n",
    "H = MPO(ampo,ξ)\n",
    "H2 = apply(H,H)\n",
    "# Density-matrix renormalization group\n",
    "dmrg_iter = 5      # DMRG steps\n",
    "dmrg_cutoff = 1E-10   # Cutoff\n",
    "ψ0 = random_mps(ξ) # Initial state\n",
    "sweeps = Sweeps(dmrg_iter)\n",
    "maxdim!(sweeps, 10, 20, 30, 40, 50, 100)\n",
    "cutoff!(sweeps, dmrg_cutoff)\n",
    "# Run \n",
    "println(\"Running DMRG to get ground state of transverse field Ising model:\")\n",
    "E, ψ = dmrg(H, ψ0, sweeps)\n",
    "println(\"\\nGround state energy:  \", E)\n",
    "println(\"\\n---------------------------------------\\n\")"
   ]
  },
  {
   "cell_type": "code",
   "execution_count": 29,
   "id": "bdea0129-3c6c-459b-9010-da97492a84d6",
   "metadata": {},
   "outputs": [],
   "source": [
    "η = 10\n",
    "m = 4\n",
    "# Build the gate structure\n",
    "circuit = []\n",
    "for d in 1:η\n",
    "    xx_layer = [(\"Rxx\", (j, j + 1), (ϕ=1*d/η/m,)) for j in 1:(N - 1)]\n",
    "    z_layer = [(\"Rz\", j, (θ=2*B/m,)) for j in 1:N]\n",
    "    for t in 1:m\n",
    "        append!(circuit, xx_layer)\n",
    "        append!(circuit, z_layer)\n",
    "    end\n",
    "end\n",
    "ψ0 = MPS(ξ,[\"Up\" for n in 1:N]);"
   ]
  },
  {
   "cell_type": "code",
   "execution_count": 30,
   "id": "b0153c9f-27f1-4b77-b025-41edce73a89f",
   "metadata": {},
   "outputs": [
    {
     "name": "stdout",
     "output_type": "stream",
     "text": [
      "final energy -9.47182617618306\n",
      "final energy variance 1.6950453000525698\n"
     ]
    }
   ],
   "source": [
    "ψt = runcircuit(ψ0, circuit; cutoff=1E-8)\n",
    "orthogonalize!(ψt,1)\n",
    "ψt[1] /= norm(ψt[1])\n",
    "E_th = real(inner(ψt', H,ψt))\n",
    "println(\"final energy \",E_th)\n",
    "E2_th = real(inner(ψt', H2,ψt))-E_th^2\n",
    "println(\"final energy variance \",E2_th)"
   ]
  },
  {
   "cell_type": "code",
   "execution_count": 32,
   "id": "1124f2d8-313c-4a05-8715-30c172740932",
   "metadata": {},
   "outputs": [
    {
     "data": {
      "text/plain": [
       "1000"
      ]
     },
     "execution_count": 32,
     "metadata": {},
     "output_type": "execute_result"
    }
   ],
   "source": [
    "Nu = 400\n",
    "NM = 1000"
   ]
  },
  {
   "cell_type": "code",
   "execution_count": 33,
   "id": "bcf617ab-f277-443e-9094-944a3d72ae4d",
   "metadata": {},
   "outputs": [
    {
     "name": "stderr",
     "output_type": "stream",
     "text": [
      "0.0%┣                                              ┫ 0/400 [00:00<00:00, -0s/it]\n",
      "3.8%┣█▊                                            ┫ 15/400 [00:05<02:25, 3it/s]\n",
      "7.5%┣███▌                                          ┫ 30/400 [00:10<02:12, 3it/s]\n",
      "11.5%┣█████▏                                       ┫ 46/400 [00:16<02:04, 3it/s]\n",
      "15.5%┣███████                                      ┫ 62/400 [00:21<01:55, 3it/s]\n",
      "19.5%┣████████▊                                    ┫ 78/400 [00:26<01:49, 3it/s]\n",
      "23.5%┣██████████▋                                  ┫ 94/400 [00:31<01:43, 3it/s]\n",
      "27.5%┣████████████                                ┫ 110/400 [00:36<01:37, 3it/s]\n",
      "31.2%┣█████████████▊                              ┫ 125/400 [00:41<01:32, 3it/s]\n",
      "35.2%┣███████████████▌                            ┫ 141/400 [00:47<01:26, 3it/s]\n",
      "39.0%┣█████████████████▏                          ┫ 156/400 [00:52<01:21, 3it/s]\n",
      "42.8%┣██████████████████▉                         ┫ 171/400 [00:57<01:16, 3it/s]\n",
      "46.8%┣████████████████████▋                       ┫ 187/400 [01:02<01:11, 3it/s]\n",
      "50.2%┣██████████████████████                      ┫ 201/400 [01:07<01:07, 3it/s]\n",
      "54.2%┣███████████████████████▉                    ┫ 217/400 [01:12<01:01, 3it/s]\n",
      "58.2%┣█████████████████████████▋                  ┫ 233/400 [01:18<00:56, 3it/s]\n",
      "62.5%┣███████████████████████████▌                ┫ 250/400 [01:23<00:50, 3it/s]\n",
      "66.5%┣█████████████████████████████▎              ┫ 266/400 [01:28<00:45, 3it/s]\n",
      "70.5%┣███████████████████████████████             ┫ 282/400 [01:33<00:39, 3it/s]\n",
      "74.5%┣████████████████████████████████▉           ┫ 298/400 [01:39<00:34, 3it/s]\n",
      "78.2%┣██████████████████████████████████▍         ┫ 313/400 [01:44<00:29, 3it/s]\n",
      "82.0%┣████████████████████████████████████        ┫ 328/400 [01:49<00:24, 3it/s]\n",
      "86.2%┣██████████████████████████████████████      ┫ 345/400 [01:54<00:18, 3it/s]\n",
      "90.2%┣███████████████████████████████████████▊    ┫ 361/400 [01:59<00:13, 3it/s]\n",
      "94.2%┣█████████████████████████████████████████▌  ┫ 377/400 [02:04<00:08, 3it/s]\n",
      "98.0%┣███████████████████████████████████████████▏┫ 392/400 [02:10<00:03, 3it/s]\n",
      "\u001b[1A"
     ]
    },
    {
     "name": "stdout",
     "output_type": "stream",
     "text": [
      "estimated energy -9.492256466395915\n",
      "estimated energy variance 1.8095465259972912\n"
     ]
    },
    {
     "name": "stderr",
     "output_type": "stream",
     "text": [
      "100.0%┣███████████████████████████████████████████┫ 400/400 [02:12<00:00, 3it/s]\n",
      "100.0%┣███████████████████████████████████████████┫ 400/400 [02:12<00:00, 3it/s]\n"
     ]
    }
   ],
   "source": [
    "using Statistics\n",
    "Es = 0\n",
    "E2s = 0\n",
    "for r in ProgressBar(1:Nu, printing_delay=5)\n",
    "        u = get_rotations(ξ,1)\n",
    "        data = get_RandomMeas_MPS(ψt,u,NM)\n",
    "        for m in 1:NM\n",
    "            ρ = get_shadow_factorized(data[m,:],ξ,u)\n",
    "            Es += get_expect_shadow(H,ρ,ξ)/NM/Nu\n",
    "            E2s += get_expect_shadow(H2,ρ,ξ)/NM/Nu\n",
    "        end\n",
    "end\n",
    "E2s = E2s .- Es.^2\n",
    "println(\"estimated energy \",Es)\n",
    "println(\"estimated energy variance \",E2s)"
   ]
  },
  {
   "cell_type": "code",
   "execution_count": null,
   "id": "f3e182e0-b9dc-409d-a050-4131414b044d",
   "metadata": {},
   "outputs": [],
   "source": []
  },
  {
   "cell_type": "code",
   "execution_count": null,
   "id": "cea2e516-9973-43c8-9c6f-ce62a8add377",
   "metadata": {},
   "outputs": [],
   "source": []
  }
 ],
 "metadata": {
  "kernelspec": {
   "display_name": "Julia 1.10.0",
   "language": "julia",
   "name": "julia-1.10"
  },
  "language_info": {
   "file_extension": ".jl",
   "mimetype": "application/julia",
   "name": "julia",
   "version": "1.10.0"
  }
 },
 "nbformat": 4,
 "nbformat_minor": 5
}
