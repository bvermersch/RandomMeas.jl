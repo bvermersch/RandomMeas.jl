{
 "cells": [
  {
   "cell_type": "markdown",
   "id": "2211fa0a",
   "metadata": {},
   "source": [
    "# Measuring energy and energy variance of an Ising Hamiltonian with classical shadows\n",
    "\n",
    "Related Paper [Huang et al, Nat Phys 2020](https://doi.org/10.1038/s41567-020-0932-7)"
   ]
  },
  {
   "cell_type": "code",
   "execution_count": 1,
   "id": "5b9637c3-6286-4f60-9525-ebc182a1e56b",
   "metadata": {},
   "outputs": [],
   "source": [
    "using RandomMeas\n",
    "using Statistics"
   ]
  },
  {
   "cell_type": "markdown",
   "id": "bec3e2a8",
   "metadata": {},
   "source": [
    "We first construct the Hamiltonian of the transverse field Ising model with N qubits. "
   ]
  },
  {
   "cell_type": "code",
   "execution_count": 2,
   "id": "f8ea8288-4cfc-4ca9-8d4f-a0bf68dd5331",
   "metadata": {},
   "outputs": [],
   "source": [
    "N = 6 # Number of qubits\n",
    "\n",
    "ξ = siteinds(\"Qubit\", N) # ITensor site indices for classical shadows\n",
    "# Define the Hamiltonian\n",
    "J = -1. # Ising interaction strength\n",
    "B = 1. # Transverse field strength\n",
    "ampo = AutoMPO()\n",
    "for j in 1:(N - 1)\n",
    "  # Ising XX interactions\n",
    "  ampo .+= J , \"X\", j, \"X\", j + 1\n",
    "end\n",
    "for j in 1:N\n",
    "  # Transverse field Z\n",
    "  ampo .+= -B, \"Z\", j\n",
    "end\n",
    "H = MPO(ampo,ξ) # Hamiltonian as MPO\n",
    "H2 = apply(H,H); # H^2 for later use"
   ]
  },
  {
   "cell_type": "markdown",
   "id": "efe1c6c2",
   "metadata": {},
   "source": [
    "## Ground state "
   ]
  },
  {
   "cell_type": "markdown",
   "id": "6f00a369",
   "metadata": {},
   "source": [
    "Next, we compute the ground state $\\psi_G$ of the transverse field Ising model with DMRG."
   ]
  },
  {
   "cell_type": "code",
   "execution_count": 3,
   "id": "4fe5c20b",
   "metadata": {},
   "outputs": [
    {
     "name": "stdout",
     "output_type": "stream",
     "text": [
      "Running DMRG to get ground state of transverse field Ising model:\n",
      "After sweep 1 energy=-7.243290933628634  maxlinkdim=4 maxerr=1.11E-15 time=13.052\n",
      "After sweep 2 energy=-7.296190179340996  maxlinkdim=8 maxerr=2.59E-16 time=0.007\n",
      "After sweep 3 energy=-7.296229810269153  maxlinkdim=6 maxerr=1.02E-11 time=0.003\n",
      "After sweep 4 energy=-7.296229810530074  maxlinkdim=6 maxerr=2.51E-12 time=0.003\n",
      "After sweep 5 energy=-7.296229810530155  maxlinkdim=6 maxerr=2.50E-12 time=0.002\n",
      "After sweep 6 energy=-7.296229810530153  maxlinkdim=6 maxerr=2.50E-12 time=0.003\n",
      "\n",
      "Ground state energy:  -7.296229810530153\n"
     ]
    }
   ],
   "source": [
    "# Define the DMRG parameters \n",
    "dmrg_iter = 6      # DMRG steps\n",
    "dmrg_cutoff = 1E-10   # Cutoff\n",
    "ψ0 = random_mps(ξ) # Initial state\n",
    "sweeps = Sweeps(dmrg_iter)\n",
    "maxdim!(sweeps, 10, 20, 30, 40, 50, 100, 500)\n",
    "cutoff!(sweeps, dmrg_cutoff)\n",
    "\n",
    "# Run DMRG to get the ground state\n",
    "println(\"Running DMRG to get ground state of transverse field Ising model:\")\n",
    "E, ψG = dmrg(H, ψ0, sweeps)\n",
    "println(\"\\nGround state energy:  \", E)"
   ]
  },
  {
   "cell_type": "markdown",
   "id": "96699a52",
   "metadata": {},
   "source": [
    "We compute its energy and variance."
   ]
  },
  {
   "cell_type": "code",
   "execution_count": 4,
   "id": "abdbe5bc",
   "metadata": {},
   "outputs": [
    {
     "name": "stdout",
     "output_type": "stream",
     "text": [
      "Ground state energy: -7.296229810530155\n",
      "Expectation value of H2: 53.23496944839768\n",
      "Variance: 3.2877522926355596e-10\n"
     ]
    }
   ],
   "source": [
    "E_G = real(inner(ψG', H,ψG))\n",
    "println(\"Ground state energy: \",E_G)\n",
    "E2_G = real(inner(ψG', H2,ψG))\n",
    "println(\"Expectation value of H2: \",E2_G)\n",
    "Var_E_G = E2_G-E_G^2\n",
    "println(\"Variance: \",Var_E_G)"
   ]
  },
  {
   "cell_type": "markdown",
   "id": "b44e6b0e",
   "metadata": {},
   "source": [
    "## Memory efficient simulation and post-processing \n",
    "\n",
    "We simulate an experiment (memory-efficient) by sampling directly from with groundstate MPS."
   ]
  },
  {
   "cell_type": "code",
   "execution_count": 5,
   "id": "b9c59f0b",
   "metadata": {},
   "outputs": [
    {
     "name": "stderr",
     "output_type": "stream",
     "text": [
      "\u001b[32mProgress: 100%|█████████████████████████████████████████| Time: 0:00:24\u001b[39m\u001b[K\n"
     ]
    },
    {
     "name": "stdout",
     "output_type": "stream",
     "text": [
      " 28.492051 seconds (88.26 M allocations: 7.920 GiB, 4.37% gc time, 60.97% compilation time)\n"
     ]
    }
   ],
   "source": [
    "NU = 1000 # Number of measurement settings\n",
    "NM = 50 # Number of measurements per setting\n",
    "@time measurement_group = MeasurementGroup(ψG,NU,NM;mode=\"MPS/MPO\",progress_bar=true);"
   ]
  },
  {
   "cell_type": "markdown",
   "id": "bb8ca299",
   "metadata": {},
   "source": [
    "We now construct (memory efficient) factorized classical shadows."
   ]
  },
  {
   "cell_type": "code",
   "execution_count": 6,
   "id": "c66dbe25",
   "metadata": {},
   "outputs": [
    {
     "name": "stdout",
     "output_type": "stream",
     "text": [
      "  8.964195 seconds (37.29 M allocations: 4.695 GiB, 8.44% gc time, 29.69% compilation time)\n"
     ]
    }
   ],
   "source": [
    "@time factorized_shadows = get_factorized_shadows(measurement_group);"
   ]
  },
  {
   "cell_type": "markdown",
   "id": "6ac5e7cf",
   "metadata": {},
   "source": [
    "We use them to estimate the groundstate energy and its variance."
   ]
  },
  {
   "cell_type": "code",
   "execution_count": 7,
   "id": "35ea3077",
   "metadata": {},
   "outputs": [
    {
     "name": "stdout",
     "output_type": "stream",
     "text": [
      "Estimated energy  -7.27±0.03\n",
      "Estimated expectation value of H^2  53.2±0.4\n",
      "Estimated energy variance 0.3±0.2\n"
     ]
    }
   ],
   "source": [
    "Es_m,Es_ste = get_expect_shadow(H,factorized_shadows,compute_sem=true)\n",
    "E2s_m,E2s_ste = get_expect_shadow(H2,factorized_shadows,compute_sem=true)\n",
    "Es_m = real(Es_m)\n",
    "E2s_m = real(E2s_m)\n",
    "Evar = E2s_m .- Es_m.^2\n",
    "Evar_ste = Evar*sqrt(4*Es_ste^2*Es_m^2 + E2s_ste^2)\n",
    "println(\"Estimated energy  \", round(Es_m,digits=2), \"±\", round(Es_ste, sigdigits=1))\n",
    "println(\"Estimated expectation value of H^2  \", round(E2s_m,digits=1), \"±\", round(E2s_ste, sigdigits=1))\n",
    "println(\"Estimated energy variance \", round(Evar,digits=1), \"±\", round(Evar_ste, sigdigits=1)) # We oversimplify here. E2s_m and E_m are not independent."
   ]
  },
  {
   "cell_type": "markdown",
   "id": "e02faf41",
   "metadata": {},
   "source": [
    "## Faster memory inefficient simulation and post-processing\n",
    "\n",
    "We simulate an experiment by constructing first a dense probability tensor and use this to sample projective measurements. This works only for small systems $N\\lesssim 10$, but provides here an advantage in terms of speed."
   ]
  },
  {
   "cell_type": "code",
   "execution_count": 8,
   "id": "69071bcd",
   "metadata": {},
   "outputs": [
    {
     "name": "stderr",
     "output_type": "stream",
     "text": [
      "\u001b[32mProgress: 100%|█████████████████████████████████████████| Time: 0:00:23\u001b[39m\u001b[K\n"
     ]
    },
    {
     "name": "stdout",
     "output_type": "stream",
     "text": [
      " 23.155318 seconds (43.11 M allocations: 3.224 GiB, 2.48% gc time, 92.21% compilation time)\n"
     ]
    }
   ],
   "source": [
    "NU = 1000 # Number of measurement settings\n",
    "NM = 50 # Number of measurements per setting\n",
    "@time measurement_group = MeasurementGroup(ψG,NU,NM;mode=\"dense\",progress_bar=true);"
   ]
  },
  {
   "cell_type": "markdown",
   "id": "11ae3fb6",
   "metadata": {},
   "source": [
    "We construct $N_U$ dense classical shadows (i.e.\\ matrices of dimension 2^N)."
   ]
  },
  {
   "cell_type": "code",
   "execution_count": 9,
   "id": "4def3049",
   "metadata": {},
   "outputs": [
    {
     "name": "stdout",
     "output_type": "stream",
     "text": [
      " 46.006098 seconds (77.64 M allocations: 5.051 GiB, 2.75% gc time, 95.89% compilation time)\n"
     ]
    }
   ],
   "source": [
    "ITensors.disable_warn_order()\n",
    "\n",
    "@time dense_shadows = get_dense_shadows(measurement_group);"
   ]
  },
  {
   "cell_type": "markdown",
   "id": "beaca82c",
   "metadata": {},
   "source": [
    "We estimate energy and Hamiltonian variance with dense classical shadows. "
   ]
  },
  {
   "cell_type": "code",
   "execution_count": 10,
   "id": "535f2c45",
   "metadata": {},
   "outputs": [
    {
     "name": "stdout",
     "output_type": "stream",
     "text": [
      "Estimated energy  -7.24±0.08\n",
      "Estimated expectation value of H^2  52.7±0.9\n",
      "Estimated energy variance 0.4±0.6\n"
     ]
    }
   ],
   "source": [
    "Es_m,Es_ste = get_expect_shadow(H,dense_shadows,compute_sem=true)\n",
    "E2s_m,E2s_ste = get_expect_shadow(H2,dense_shadows,compute_sem=true)\n",
    "Es_m = real(Es_m)\n",
    "E2s_m = real(E2s_m)\n",
    "Evar = E2s_m .- Es_m.^2\n",
    "Evar_ste = Evar*sqrt(4*Es_ste^2*Es_m^2 + E2s_ste^2)\n",
    "println(\"Estimated energy  \", round(Es_m,digits=2), \"±\", round(Es_ste, sigdigits=1))\n",
    "println(\"Estimated expectation value of H^2  \", round(E2s_m,digits=1), \"±\", round(E2s_ste, sigdigits=1))\n",
    "println(\"Estimated energy variance \", round(Evar,digits=1), \"±\", round(Evar_ste, sigdigits=1)) # We oversimplify here. E2s_m and E_m are not independent."
   ]
  },
  {
   "cell_type": "markdown",
   "id": "8e098b6a",
   "metadata": {},
   "source": [
    "# Output state of quantum circuit"
   ]
  },
  {
   "cell_type": "markdown",
   "id": "57576334",
   "metadata": {},
   "source": [
    "We construct a state as output of a quantum circuit."
   ]
  },
  {
   "cell_type": "code",
   "execution_count": 11,
   "id": "bdea0129-3c6c-459b-9010-da97492a84d6",
   "metadata": {},
   "outputs": [],
   "source": [
    "η = 3 # Number of layer blocks\n",
    "m = 3 # Number of layers per block\n",
    "# Build the gate structure\n",
    "circuit = ITensor[]\n",
    "for d in 1:η\n",
    "    xx_layer = [op(\"Rxx\", ξ[j], ξ[j+1], ϕ=1*d/η/m) for j in 1:(N - 1)] \n",
    "    z_layer = [op(\"Rz\", ξ[j], θ=2*B/m) for j in 1:N] \n",
    "    for t in 1:m\n",
    "        append!(circuit, xx_layer)\n",
    "        append!(circuit, z_layer)\n",
    "    end\n",
    "end\n",
    "ψ0 = MPS(ξ,[\"Up\" for n in 1:N]);\n",
    "ψt = apply(circuit,ψ0; cutoff=1E-8)\n",
    "normalize!(ψt);\n"
   ]
  },
  {
   "cell_type": "markdown",
   "id": "96718dff",
   "metadata": {},
   "source": [
    "We compute its energy and variance."
   ]
  },
  {
   "cell_type": "code",
   "execution_count": 12,
   "id": "b0153c9f-27f1-4b77-b025-41edce73a89f",
   "metadata": {},
   "outputs": [
    {
     "name": "stdout",
     "output_type": "stream",
     "text": [
      "final energy -6.511387773163446\n",
      "final energy variance 3.6196819415243695\n"
     ]
    }
   ],
   "source": [
    "Et = real(inner(ψt', H,ψt)) # Energy of ψt \n",
    "println(\"final energy \",Et)\n",
    "Var_Et = real(inner(ψt', H2,ψt))-Et^2 # Energy variance of ψt\n",
    "println(\"final energy variance \",Var_Et)"
   ]
  },
  {
   "cell_type": "code",
   "execution_count": 13,
   "id": "d2094589",
   "metadata": {},
   "outputs": [
    {
     "name": "stderr",
     "output_type": "stream",
     "text": [
      "\u001b[32mProgress: 100%|█████████████████████████████████████████| Time: 0:00:10\u001b[39m\u001b[K\n"
     ]
    }
   ],
   "source": [
    "NU = 1000 # Number of random unitaries\n",
    "NM = 50 # Number of measurements per unitary\n",
    "measurement_group = MeasurementGroup(ψt,NU,NM;mode=\"MPS/MPO\",progress_bar=true);"
   ]
  },
  {
   "cell_type": "code",
   "execution_count": 14,
   "id": "83425c5a",
   "metadata": {},
   "outputs": [],
   "source": [
    "factorized_shadows = get_factorized_shadows(measurement_group);"
   ]
  },
  {
   "cell_type": "code",
   "execution_count": 15,
   "id": "664c4c99",
   "metadata": {},
   "outputs": [
    {
     "name": "stdout",
     "output_type": "stream",
     "text": [
      "Estimated energy of the circuit generated state -6.64±0.04\n",
      "Estimated expectation value of H^2 of the circuit generated state 47.0±0.4\n",
      "Estimated energy variance of the circuit generated state 2.8±2.0\n"
     ]
    }
   ],
   "source": [
    "Es_m,Es_ste = get_expect_shadow(H,factorized_shadows,compute_sem=true)\n",
    "E2s_m,E2s_ste = get_expect_shadow(H2,factorized_shadows,compute_sem=true)\n",
    "Es_m = real(Es_m)\n",
    "E2s_m = real(E2s_m)\n",
    "Evar = E2s_m .- Es_m.^2\n",
    "Evar_ste = Evar*sqrt(4*Es_ste^2*Es_m^2 + E2s_ste^2)\n",
    "println(\"Estimated energy of the circuit generated state \", round(Es_m,digits=2), \"±\", round(Es_ste, sigdigits=1))\n",
    "println(\"Estimated expectation value of H^2 of the circuit generated state \", round(E2s_m,digits=1), \"±\", round(E2s_ste, sigdigits=1))\n",
    "println(\"Estimated energy variance of the circuit generated state \", round(Evar,digits=1), \"±\", round(Evar_ste, sigdigits=1)) # We oversimplify here. E2s_m and E_m are not independent."
   ]
  }
 ],
 "metadata": {
  "kernelspec": {
   "display_name": "Julia 1.11.3",
   "language": "julia",
   "name": "julia-1.11"
  },
  "language_info": {
   "file_extension": ".jl",
   "mimetype": "application/julia",
   "name": "julia",
   "version": "1.11.3"
  }
 },
 "nbformat": 4,
 "nbformat_minor": 5
}
