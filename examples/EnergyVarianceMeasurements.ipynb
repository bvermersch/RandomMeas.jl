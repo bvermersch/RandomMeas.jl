{
 "cells": [
  {
   "cell_type": "markdown",
   "id": "2211fa0a",
   "metadata": {},
   "source": [
    "## Measuring energy and energy variance with classical shadows\n",
    "\n",
    "Related Paper [Huang et al, Nat Phys 2020](https://doi.org/10.1038/s41567-020-0932-7)"
   ]
  },
  {
   "cell_type": "code",
   "execution_count": 3,
   "id": "5b9637c3-6286-4f60-9525-ebc182a1e56b",
   "metadata": {},
   "outputs": [],
   "source": [
    "using ITensors,ITensorMPS\n",
    "using ProgressBars\n",
    "using RandomMeas\n",
    "using Statistics"
   ]
  },
  {
   "cell_type": "markdown",
   "id": "722cece3",
   "metadata": {},
   "source": [
    "# Ising Hamiltonian"
   ]
  },
  {
   "cell_type": "markdown",
   "id": "bec3e2a8",
   "metadata": {},
   "source": [
    "We first construct the Hamiltonian of the transverse field Ising model with N qubits."
   ]
  },
  {
   "cell_type": "code",
   "execution_count": 7,
   "id": "f8ea8288-4cfc-4ca9-8d4f-a0bf68dd5331",
   "metadata": {},
   "outputs": [],
   "source": [
    "N = 8 # Number of qubits\n",
    "ξ = siteinds(\"Qubit\", N) # ITensor site indices for classical shadows\n",
    "# Define the Hamiltonian\n",
    "J = -1. # Ising interaction strength\n",
    "B = 1. # Transverse field strength\n",
    "ampo = AutoMPO()\n",
    "for j in 1:(N - 1)\n",
    "  # Ising XX interactions\n",
    "  ampo .+= J , \"X\", j, \"X\", j + 1\n",
    "end\n",
    "for j in 1:N\n",
    "  # Transverse field Z\n",
    "  ampo .+= -B, \"Z\", j\n",
    "end\n",
    "H = MPO(ampo,ξ) # Hamiltonian as MPO\n",
    "H2 = apply(H,H); # H^2 for later use"
   ]
  },
  {
   "cell_type": "markdown",
   "id": "a6c2b9cf",
   "metadata": {},
   "source": [
    "# Groundstate energy and variance"
   ]
  },
  {
   "cell_type": "markdown",
   "id": "799f52b5",
   "metadata": {},
   "source": [
    "First, we compute the ground state $\\psi_G$ of the transverse field Ising model with DMRG."
   ]
  },
  {
   "cell_type": "code",
   "execution_count": 5,
   "id": "c8e706d8",
   "metadata": {},
   "outputs": [
    {
     "name": "stdout",
     "output_type": "stream",
     "text": [
      "Running DMRG to get ground state of transverse field Ising model:\n",
      "After sweep 1 energy=-9.735866623782888  maxlinkdim=4 maxerr=1.55E-16 time=6.045\n",
      "After sweep 2 energy=-9.837178296476658  maxlinkdim=13 maxerr=9.69E-12 time=0.005\n",
      "After sweep 3 energy=-9.837951340730063  maxlinkdim=9 maxerr=7.08E-11 time=0.005\n",
      "After sweep 4 energy=-9.837951446192639  maxlinkdim=6 maxerr=7.54E-11 time=0.013\n",
      "After sweep 5 energy=-9.83795144619905  maxlinkdim=6 maxerr=6.91E-11 time=0.005\n",
      "\n",
      "Ground state energy:  -9.83795144619905\n",
      "\n",
      "---------------------------------------\n",
      "\n"
     ]
    }
   ],
   "source": [
    "# Define the DMRG parameters \n",
    "dmrg_iter = 5      # DMRG steps\n",
    "dmrg_cutoff = 1E-10   # Cutoff\n",
    "ψ0 = random_mps(ξ) # Initial state\n",
    "sweeps = Sweeps(dmrg_iter)\n",
    "maxdim!(sweeps, 10, 20, 30, 40, 50, 100)\n",
    "cutoff!(sweeps, dmrg_cutoff)\n",
    "\n",
    "# Run DMRG to get the ground state\n",
    "println(\"Running DMRG to get ground state of transverse field Ising model:\")\n",
    "E, ψG = dmrg(H, ψ0, sweeps)\n",
    "println(\"\\nGround state energy:  \", E)\n",
    "println(\"\\n---------------------------------------\\n\")"
   ]
  },
  {
   "cell_type": "markdown",
   "id": "96699a52",
   "metadata": {},
   "source": [
    "We compute its energy and variance."
   ]
  },
  {
   "cell_type": "code",
   "execution_count": 6,
   "id": "abdbe5bc",
   "metadata": {},
   "outputs": [
    {
     "name": "stdout",
     "output_type": "stream",
     "text": [
      "final energy -9.83795144619906\n",
      "final energy variance 1.2634600921046513e-8\n"
     ]
    }
   ],
   "source": [
    "E_G = real(inner(ψG', H,ψG))\n",
    "println(\"final energy \",E_G)\n",
    "Var_E_G = real(inner(ψG', H2,ψG))-E_G^2\n",
    "println(\"final energy variance \",Var_E_G)"
   ]
  },
  {
   "cell_type": "markdown",
   "id": "e02faf41",
   "metadata": {},
   "source": [
    "We estimate its energy and variance with classical shadows"
   ]
  },
  {
   "cell_type": "code",
   "execution_count": 6,
   "id": "cd8c438a",
   "metadata": {},
   "outputs": [
    {
     "data": {
      "text/plain": [
       "1000"
      ]
     },
     "execution_count": 6,
     "metadata": {},
     "output_type": "execute_result"
    }
   ],
   "source": [
    "NU = 1000 # Number of random unitaries\n",
    "NM = 400 # Number of measurements per unitary "
   ]
  },
  {
   "cell_type": "code",
   "execution_count": 7,
   "id": "fc13bd72",
   "metadata": {},
   "outputs": [
    {
     "name": "stderr",
     "output_type": "stream",
     "text": [
      "0.0%┣                                             ┫ 0/400 [00:01<-8:-46, -1s/it]\n",
      "0.2%┣                                          ┫ 1/400 [00:10<Inf:Inf, InfGs/it]\n",
      "5.5%┣██▌                                           ┫ 22/400 [00:15<04:25, 1it/s]\n",
      "10.5%┣████▊                                        ┫ 42/400 [00:20<02:53, 2it/s]\n",
      "15.2%┣██████▉                                      ┫ 61/400 [00:25<02:21, 2it/s]\n",
      "19.8%┣████████▉                                    ┫ 79/400 [00:30<02:03, 3it/s]\n",
      "24.5%┣███████████                                  ┫ 98/400 [00:35<01:50, 3it/s]\n",
      "29.5%┣█████████████                               ┫ 118/400 [00:40<01:37, 3it/s]\n",
      "34.5%┣███████████████▏                            ┫ 138/400 [00:46<01:27, 3it/s]\n",
      "39.5%┣█████████████████▍                          ┫ 158/400 [00:51<01:18, 3it/s]\n",
      "44.5%┣███████████████████▋                        ┫ 178/400 [00:56<01:10, 3it/s]\n",
      "49.5%┣█████████████████████▉                      ┫ 198/400 [01:01<01:03, 3it/s]\n",
      "54.5%┣████████████████████████                    ┫ 218/400 [01:06<00:56, 3it/s]\n",
      "59.5%┣██████████████████████████▏                 ┫ 238/400 [01:11<00:49, 3it/s]\n",
      "64.2%┣████████████████████████████▎               ┫ 257/400 [01:17<00:43, 3it/s]\n",
      "68.8%┣██████████████████████████████▎             ┫ 275/400 [01:22<00:37, 3it/s]\n",
      "73.5%┣████████████████████████████████▍           ┫ 294/400 [01:27<00:31, 3it/s]\n",
      "78.2%┣██████████████████████████████████▍         ┫ 313/400 [01:32<00:26, 3it/s]\n",
      "80.0%┣███████████████████████████████████▏        ┫ 320/400 [01:37<00:24, 3it/s]\n",
      "85.0%┣█████████████████████████████████████▍      ┫ 340/400 [01:42<00:18, 3it/s]\n",
      "89.5%┣███████████████████████████████████████▍    ┫ 358/400 [01:47<00:13, 3it/s]\n",
      "94.2%┣█████████████████████████████████████████▌  ┫ 377/400 [01:53<00:07, 3it/s]\n",
      "99.2%┣███████████████████████████████████████████▊┫ 397/400 [01:58<00:01, 3it/s]\n",
      "100.0%┣███████████████████████████████████████████┫ 400/400 [01:59<00:00, 3it/s]\n",
      "100.0%┣███████████████████████████████████████████┫ 400/400 [01:59<00:00, 3it/s]\n"
     ]
    }
   ],
   "source": [
    "Es = Float32[]\n",
    "E2s = Float32[]\n",
    "for r in ProgressBar(1:NU, printing_delay=5) # Loop over random unitaries\n",
    "        u = get_rotations(ξ,\"Haar\") # Local random unitary\n",
    "        data = get_RandomMeas_MPS(ψG,u,NM) # Perform simulated randomized measurements\n",
    "        for m in 1:NM\n",
    "            ρ = get_shadow_factorized(data[m,:],ξ,u) # Get the classical shadow\n",
    "            push!(Es,get_expect_shadow(H,ρ,ξ)) # Estimate the expectation value of the Hamiltonian\n",
    "            push!(E2s,get_expect_shadow(H2,ρ,ξ)) # Estimate the expectation value of the Hamiltonian squared\n",
    "        end\n",
    "end"
   ]
  },
  {
   "cell_type": "code",
   "execution_count": 8,
   "id": "da682fdd",
   "metadata": {},
   "outputs": [
    {
     "name": "stdout",
     "output_type": "stream",
     "text": [
      "Estimated energy of the circuit generated state -9.82±0.01\n",
      "Estimated expectation value of H^2 of the circuit generated state 96.3±0.3\n",
      "Estimated energy variance of the circuit generated state -0.2±-0.08\n"
     ]
    }
   ],
   "source": [
    "Es_m = mean(Es)\n",
    "Es_ste = std(Es)/sqrt(NU*NM)\n",
    "E2s_m = mean(E2s)\n",
    "E2s_ste = std(E2s)/sqrt(NU*NM)\n",
    "Evar = E2s_m .- Es_m.^2\n",
    "Evar_ste = Evar*sqrt(4*Es_ste^2*Es_m^2 + E2s_ste^2)\n",
    "println(\"Estimated energy of the circuit generated state \", round(Es_m,digits=2), \"±\", round(Es_ste, sigdigits=1))\n",
    "println(\"Estimated expectation value of H^2 of the circuit generated state \", round(E2s_m,digits=1), \"±\", round(E2s_ste, sigdigits=1))\n",
    "println(\"Estimated energy variance of the circuit generated state \", round(Evar,digits=1), \"±\", round(Evar_ste, sigdigits=1)) # We oversimplify here. E2s_m and E_m are not independent."
   ]
  },
  {
   "cell_type": "markdown",
   "id": "8e098b6a",
   "metadata": {},
   "source": [
    "# Output state of quantum circuit"
   ]
  },
  {
   "cell_type": "markdown",
   "id": "57576334",
   "metadata": {},
   "source": [
    "We construct a state as output of a quantum circuit."
   ]
  },
  {
   "cell_type": "code",
   "execution_count": 9,
   "id": "bdea0129-3c6c-459b-9010-da97492a84d6",
   "metadata": {},
   "outputs": [
    {
     "data": {
      "text/plain": [
       "MPS\n",
       "[1] ((dim=2|id=114|\"Qubit,Site,n=1\"), (dim=2|id=62|\"Link,n=1\"))\n",
       "[2] ((dim=2|id=610|\"Qubit,Site,n=2\"), (dim=2|id=62|\"Link,n=1\"), (dim=4|id=219|\"Link,n=1\"))\n",
       "[3] ((dim=2|id=679|\"Qubit,Site,n=3\"), (dim=4|id=219|\"Link,n=1\"), (dim=8|id=626|\"Link,n=1\"))\n",
       "[4] ((dim=2|id=294|\"Qubit,Site,n=4\"), (dim=8|id=626|\"Link,n=1\"), (dim=13|id=847|\"Link,n=1\"))\n",
       "[5] ((dim=2|id=483|\"Qubit,Site,n=5\"), (dim=13|id=847|\"Link,n=1\"), (dim=8|id=133|\"Link,n=1\"))\n",
       "[6] ((dim=2|id=907|\"Qubit,Site,n=6\"), (dim=8|id=133|\"Link,n=1\"), (dim=4|id=447|\"Link,n=1\"))\n",
       "[7] ((dim=2|id=198|\"Qubit,Site,n=7\"), (dim=4|id=447|\"Link,n=1\"), (dim=2|id=351|\"Link,n=1\"))\n",
       "[8] ((dim=2|id=399|\"Qubit,Site,n=8\"), (dim=2|id=351|\"Link,n=1\"))\n"
      ]
     },
     "execution_count": 9,
     "metadata": {},
     "output_type": "execute_result"
    }
   ],
   "source": [
    "η = 10 # Number of layer blocks\n",
    "m = 4 # Number of layers per block\n",
    "# Build the gate structure\n",
    "circuit = ITensor[]\n",
    "for d in 1:η\n",
    "    xx_layer = [op(\"Rxx\", ξ[j], ξ[j+1], ϕ=1*d/η/m) for j in 1:(N - 1)] # Rxx gates TODO: PastaQ dependence removed\n",
    "    z_layer = [op(\"Rz\", ξ[j], θ=2*B/m) for j in 1:N] # Rxx gates TODO: PastaQ dependence removed\n",
    "    for t in 1:m\n",
    "        append!(circuit, xx_layer)\n",
    "        append!(circuit, z_layer)\n",
    "    end\n",
    "end\n",
    "ψ0 = MPS(ξ,[\"Up\" for n in 1:N]);\n",
    "ψt = apply(circuit,ψ0; cutoff=1E-8)\n",
    "normalize!(ψt) # Normalize the state TODO: Is this ok?\n",
    "#orthogonalize!(ψt,1) TODO: why do we need this? \n",
    "#ψt[1] /= norm(ψt[1]) TODO: why do we need this?\n"
   ]
  },
  {
   "cell_type": "markdown",
   "id": "96718dff",
   "metadata": {},
   "source": [
    "We compute its energy and variance."
   ]
  },
  {
   "cell_type": "code",
   "execution_count": 10,
   "id": "b0153c9f-27f1-4b77-b025-41edce73a89f",
   "metadata": {},
   "outputs": [
    {
     "name": "stdout",
     "output_type": "stream",
     "text": [
      "final energy -9.47182617618307\n",
      "final energy variance 1.6950453000525556\n"
     ]
    }
   ],
   "source": [
    "E_th = real(inner(ψt', H,ψt)) # Energy of ψt TODO: I don't understand the naming convention here. What does the _th stand for? Thermal?\n",
    "println(\"final energy \",E_th)\n",
    "Var_E_th = real(inner(ψt', H2,ψt))-E_th^2 # Energy variance of ψt\n",
    "println(\"final energy variance \",Var_E_th)"
   ]
  },
  {
   "cell_type": "code",
   "execution_count": 21,
   "id": "d2094589",
   "metadata": {},
   "outputs": [
    {
     "data": {
      "text/plain": [
       "400"
      ]
     },
     "execution_count": 21,
     "metadata": {},
     "output_type": "execute_result"
    }
   ],
   "source": [
    "NU = 1000 # Number of random unitaries\n",
    "NM = 400 # Number of measurements per unitary "
   ]
  },
  {
   "cell_type": "code",
   "execution_count": 22,
   "id": "664c4c99",
   "metadata": {},
   "outputs": [
    {
     "name": "stderr",
     "output_type": "stream",
     "text": [
      "0.0%┣                                             ┫ 0/1.0k [00:00<00:00, -0s/it]\n",
      "4.7%┣██▏                                          ┫ 47/1.0k [00:05<01:45, 9it/s]\n",
      "9.6%┣████▎                                        ┫ 96/1.0k [00:10<01:37, 9it/s]\n"
     ]
    },
    {
     "ename": "LoadError",
     "evalue": "InterruptException:",
     "output_type": "error",
     "traceback": [
      "InterruptException:",
      "",
      "Stacktrace:",
      " [1] <(x::Float64, y::Float64)",
      "   @ Base ./float.jl:536"
     ]
    }
   ],
   "source": [
    "Es = Float32[]\n",
    "E2s = Float32[]\n",
    "for r in ProgressBar(1:NU, printing_delay=5) # Loop over random unitaries\n",
    "        u = get_rotations(ξ,\"Haar\") # Local random unitary\n",
    "        data = get_RandomMeas_MPS(ψt,u,NM) # Perform simulated randomized measurements\n",
    "        for m in 1:NM\n",
    "            ρ = get_shadow_factorized(data[m,:],ξ,u) # Get the classical shadow\n",
    "            push!(Es,get_expect_shadow(H,ρ,ξ)) # Estimate the expectation value of the Hamiltonian\n",
    "            push!(E2s,get_expect_shadow(H2,ρ,ξ)) # Estimate the expectation value of the Hamiltonian squared\n",
    "        end\n",
    "end"
   ]
  },
  {
   "cell_type": "code",
   "execution_count": 20,
   "id": "106039f1",
   "metadata": {},
   "outputs": [
    {
     "name": "stdout",
     "output_type": "stream",
     "text": [
      "Estimated energy of the circuit generated state -9.46±0.03\n",
      "Estimated expectation value of H^2 of the circuit generated state 90.9±0.5\n",
      "Estimated energy variance of the circuit generated state 1.3±1.0\n"
     ]
    }
   ],
   "source": [
    "Es_m = mean(Es)\n",
    "Es_ste = std(Es)/sqrt(NU*NM)\n",
    "E2s_m = mean(E2s)\n",
    "E2s_ste = std(E2s)/sqrt(NU*NM)\n",
    "Evar = E2s_m - Es_m^2\n",
    "Evar_ste = Evar*sqrt(4*Es_ste^2*Es_m^2 + E2s_ste^2)\n",
    "println(\"Estimated energy of the circuit generated state \", round(Es_m,digits=2), \"±\", round(Es_ste, sigdigits=1))\n",
    "println(\"Estimated expectation value of H^2 of the circuit generated state \", round(E2s_m,digits=1), \"±\", round(E2s_ste, sigdigits=1))\n",
    "println(\"Estimated energy variance of the circuit generated state \", round(Evar,digits=1), \"±\", round(Evar_ste, sigdigits=1)) # We oversimplify here. E2s_m and E_m are not independent."
   ]
  }
 ],
 "metadata": {
  "kernelspec": {
   "display_name": "Julia 1.10.4",
   "language": "julia",
   "name": "julia-1.10"
  },
  "language_info": {
   "file_extension": ".jl",
   "mimetype": "application/julia",
   "name": "julia",
   "version": "1.10.4"
  }
 },
 "nbformat": 4,
 "nbformat_minor": 5
}
