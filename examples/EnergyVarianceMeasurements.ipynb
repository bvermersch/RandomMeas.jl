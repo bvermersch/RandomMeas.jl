{
 "cells": [
  {
   "cell_type": "code",
   "execution_count": 23,
   "id": "5b9637c3-6286-4f60-9525-ebc182a1e56b",
   "metadata": {},
   "outputs": [],
   "source": [
    "using Revise\n",
    "using ITensors,ITensorMPS\n",
    "using PastaQ\n",
    "push!(LOAD_PATH,\"../src/\")\n",
    "using RandomMeas\n",
    "using ProgressBars\n"
   ]
  },
  {
   "cell_type": "code",
   "execution_count": 25,
   "id": "f8ea8288-4cfc-4ca9-8d4f-a0bf68dd5331",
   "metadata": {},
   "outputs": [
    {
     "name": "stdout",
     "output_type": "stream",
     "text": [
      "Running DMRG to get ground state of transverse field Ising model:\n",
      "After sweep 1 energy=-12.286585733423948  maxlinkdim=4 maxerr=1.90E-16 time=0.008\n",
      "After sweep 2 energy=-12.380216814044163  maxlinkdim=13 maxerr=8.29E-11 time=0.012\n",
      "After sweep 3 energy=-12.381489464429103  maxlinkdim=10 maxerr=9.22E-11 time=0.013\n",
      "After sweep 4 energy=-12.381489996617532  maxlinkdim=8 maxerr=8.92E-11 time=0.014\n",
      "After sweep 5 energy=-12.381489996614333  maxlinkdim=8 maxerr=7.01E-11 time=0.031\n",
      "\n",
      "Ground state energy:  -12.381489996614333\n",
      "\n",
      "---------------------------------------\n",
      "\n"
     ]
    }
   ],
   "source": [
    "N = 10\n",
    "ξ = siteinds(\"Qubit\", N)\n",
    "B = 1.\n",
    "ampo = AutoMPO()\n",
    "for j in 1:(N - 1)\n",
    "  # Ising ZZ interactions\n",
    "  ampo .+= -1, \"X\", j, \"X\", j + 1\n",
    "end\n",
    "for j in 1:N\n",
    "  # Transverse field X\n",
    "  ampo .+= -B, \"Z\", j\n",
    "end\n",
    "H = MPO(ampo,ξ)\n",
    "H2 = apply(H,H)\n",
    "# Density-matrix renormalization group\n",
    "dmrg_iter = 5      # DMRG steps\n",
    "dmrg_cutoff = 1E-10   # Cutoff\n",
    "ψ0 = randomMPS(ξ) # Initial state\n",
    "sweeps = Sweeps(dmrg_iter)\n",
    "maxdim!(sweeps, 10, 20, 30, 40, 50, 100)\n",
    "cutoff!(sweeps, dmrg_cutoff)\n",
    "# Run \n",
    "println(\"Running DMRG to get ground state of transverse field Ising model:\")\n",
    "E, ψ = dmrg(H, ψ0, sweeps)\n",
    "println(\"\\nGround state energy:  \", E)\n",
    "println(\"\\n---------------------------------------\\n\")"
   ]
  },
  {
   "cell_type": "code",
   "execution_count": 26,
   "id": "bdea0129-3c6c-459b-9010-da97492a84d6",
   "metadata": {},
   "outputs": [],
   "source": [
    "η = 10\n",
    "m = 4\n",
    "# Build the gate structure\n",
    "circuit = []\n",
    "for d in 1:η\n",
    "    xx_layer = [(\"Rxx\", (j, j + 1), (ϕ=1*d/η/m,)) for j in 1:(N - 1)]\n",
    "    z_layer = [(\"Rz\", j, (θ=2*B/m,)) for j in 1:N]\n",
    "    for t in 1:m\n",
    "        append!(circuit, xx_layer)\n",
    "        append!(circuit, z_layer)\n",
    "    end\n",
    "end\n",
    "ψ0 = MPS(ξ,[\"Up\" for n in 1:N]);"
   ]
  },
  {
   "cell_type": "code",
   "execution_count": 27,
   "id": "b0153c9f-27f1-4b77-b025-41edce73a89f",
   "metadata": {},
   "outputs": [
    {
     "name": "stdout",
     "output_type": "stream",
     "text": [
      "final energy -11.869405413372245\n",
      "final energy variance 2.427253542583628\n"
     ]
    }
   ],
   "source": [
    "ψt = runcircuit(ψ0, circuit; cutoff=1E-8)\n",
    "orthogonalize!(ψt,1)\n",
    "ψt[1] /= norm(ψt[1])\n",
    "E_th = real(inner(ψt', H,ψt))\n",
    "println(\"final energy \",E_th)\n",
    "E2_th = real(inner(ψt', H2,ψt))-E_th^2\n",
    "println(\"final energy variance \",E2_th)"
   ]
  },
  {
   "cell_type": "code",
   "execution_count": 28,
   "id": "1124f2d8-313c-4a05-8715-30c172740932",
   "metadata": {},
   "outputs": [],
   "source": [
    "Nu = 1000\n",
    "NM = 100\n",
    "ρ = Vector{ITensor}(undef,N);\n",
    "data = zeros(Int8,(NM,N));"
   ]
  },
  {
   "cell_type": "code",
   "execution_count": 35,
   "id": "bcf617ab-f277-443e-9094-944a3d72ae4d",
   "metadata": {},
   "outputs": [
    {
     "name": "stderr",
     "output_type": "stream",
     "text": [
      "0.0%┣                                             ┫ 0/1.0k [00:00<00:00, -0s/it]\n",
      "11.8%┣█████                                     ┫ 118/1.0k [00:05<00:38, 23it/s]\n",
      "22.5%┣█████████▌                                ┫ 225/1.0k [00:10<00:35, 22it/s]\n",
      "34.6%┣██████████████▌                           ┫ 346/1.0k [00:15<00:29, 23it/s]\n",
      "46.9%┣███████████████████▊                      ┫ 469/1.0k [00:20<00:23, 23it/s]\n",
      "59.7%┣█████████████████████████                 ┫ 597/1.0k [00:25<00:17, 24it/s]\n",
      "69.6%┣█████████████████████████████▎            ┫ 696/1.0k [00:30<00:13, 23it/s]\n",
      "81.6%┣██████████████████████████████████▎       ┫ 816/1.0k [00:35<00:08, 23it/s]\n",
      "94.6%┣███████████████████████████████████████▊  ┫ 946/1.0k [00:40<00:02, 24it/s]\n",
      "\u001b[1A"
     ]
    },
    {
     "name": "stdout",
     "output_type": "stream",
     "text": [
      "estimated energy -1.2736076985924307\n",
      "estimated energy variance 29.670124934968896\n"
     ]
    },
    {
     "name": "stderr",
     "output_type": "stream",
     "text": [
      "100.0%┣████████████████████████████████████████┫ 1.0k/1.0k [00:42<00:00, 24it/s]\n",
      "100.0%┣████████████████████████████████████████┫ 1.0k/1.0k [00:42<00:00, 24it/s]\n"
     ]
    }
   ],
   "source": [
    "Es = 0.\n",
    "E2s = 0.\n",
    "for r in ProgressBar(1:Nu, printing_delay=5)\n",
    "        u = get_rotations(ξ,1)\n",
    "        get_RandomMeas_MPS!(data,ψt,u)\n",
    "        for m in 1:NM\n",
    "            get_shadow_factorized!(ρ,data[m,:],ξ,u)\n",
    "            Es += get_expect_shadow(H,ρ,ξ)/Nu/NM\n",
    "            E2s += get_expect_shadow(H2,ρ,ξ)/Nu/NM\n",
    "        end\n",
    "end\n",
    "E2s -= Es^2\n",
    "println(\"estimated energy \",Es)\n",
    "println(\"estimated energy variance \",E2s)"
   ]
  },
  {
   "cell_type": "code",
   "execution_count": null,
   "id": "818eb1e5-9273-44d4-8aca-44795c26d818",
   "metadata": {},
   "outputs": [],
   "source": []
  }
 ],
 "metadata": {
  "kernelspec": {
   "display_name": "Julia 1.10.0",
   "language": "julia",
   "name": "julia-1.10"
  },
  "language_info": {
   "file_extension": ".jl",
   "mimetype": "application/julia",
   "name": "julia",
   "version": "1.10.0"
  }
 },
 "nbformat": 4,
 "nbformat_minor": 5
}
