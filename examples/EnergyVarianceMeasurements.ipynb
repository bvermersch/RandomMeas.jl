{
 "cells": [
  {
   "cell_type": "markdown",
   "id": "2211fa0a",
   "metadata": {},
   "source": [
    "## Measuring energy and energy variance with classical shadows\n",
    "\n",
    "Related Paper [Huang et al, Nat Phys 2020](https://doi.org/10.1038/s41567-020-0932-7)"
   ]
  },
  {
   "cell_type": "code",
   "execution_count": 1,
   "id": "5b9637c3-6286-4f60-9525-ebc182a1e56b",
   "metadata": {},
   "outputs": [
    {
     "name": "stderr",
     "output_type": "stream",
     "text": [
      "\u001b[36m\u001b[1m[ \u001b[22m\u001b[39m\u001b[36m\u001b[1mInfo: \u001b[22m\u001b[39mPrecompiling RandomMeas [a9f96d1f-ed6a-4404-822f-5927c777f274] (cache misses: include_dependency fsize change (4), wrong source (2), incompatible header (8))\n",
      "\u001b[91m\u001b[1mERROR: \u001b[22m\u001b[39mLoadError: UndefVarError: `reduce_to_subsystem` not defined in `RandomMeas`\n",
      "Stacktrace:\n",
      " [1] top-level scope\n",
      "\u001b[90m   @\u001b[39m \u001b[90m~/RandomMeas.jl/src/\u001b[39m\u001b[90m\u001b[4mexports.jl:11\u001b[24m\u001b[39m\n",
      " [2] \u001b[0m\u001b[1minclude\u001b[22m\u001b[0m\u001b[1m(\u001b[22m\u001b[90mmod\u001b[39m::\u001b[0mModule, \u001b[90m_path\u001b[39m::\u001b[0mString\u001b[0m\u001b[1m)\u001b[22m\n",
      "\u001b[90m   @\u001b[39m \u001b[90mBase\u001b[39m \u001b[90m./\u001b[39m\u001b[90m\u001b[4mBase.jl:557\u001b[24m\u001b[39m\n",
      " [3] \u001b[0m\u001b[1minclude\u001b[22m\u001b[0m\u001b[1m(\u001b[22m\u001b[90mx\u001b[39m::\u001b[0mString\u001b[0m\u001b[1m)\u001b[22m\n",
      "\u001b[90m   @\u001b[39m \u001b[35mRandomMeas\u001b[39m \u001b[90m~/RandomMeas.jl/src/\u001b[39m\u001b[90m\u001b[4mRandomMeas.jl:1\u001b[24m\u001b[39m\n",
      " [4] top-level scope\n",
      "\u001b[90m   @\u001b[39m \u001b[90m~/RandomMeas.jl/src/\u001b[39m\u001b[90m\u001b[4mRandomMeas.jl:4\u001b[24m\u001b[39m\n",
      " [5] \u001b[0m\u001b[1minclude\u001b[22m\n",
      "\u001b[90m   @\u001b[39m \u001b[90m./\u001b[39m\u001b[90m\u001b[4mBase.jl:557\u001b[24m\u001b[39m\u001b[90m [inlined]\u001b[39m\n",
      " [6] \u001b[0m\u001b[1minclude_package_for_output\u001b[22m\u001b[0m\u001b[1m(\u001b[22m\u001b[90mpkg\u001b[39m::\u001b[0mBase.PkgId, \u001b[90minput\u001b[39m::\u001b[0mString, \u001b[90mdepot_path\u001b[39m::\u001b[0mVector\u001b[90m{String}\u001b[39m, \u001b[90mdl_load_path\u001b[39m::\u001b[0mVector\u001b[90m{String}\u001b[39m, \u001b[90mload_path\u001b[39m::\u001b[0mVector\u001b[90m{String}\u001b[39m, \u001b[90mconcrete_deps\u001b[39m::\u001b[0mVector\u001b[90m{Pair{Base.PkgId, UInt128}}\u001b[39m, \u001b[90msource\u001b[39m::\u001b[0mNothing\u001b[0m\u001b[1m)\u001b[22m\n",
      "\u001b[90m   @\u001b[39m \u001b[90mBase\u001b[39m \u001b[90m./\u001b[39m\u001b[90m\u001b[4mloading.jl:2881\u001b[24m\u001b[39m\n",
      " [7] top-level scope\n",
      "\u001b[90m   @\u001b[39m \u001b[90m\u001b[4mstdin:6\u001b[24m\u001b[39m\n",
      "in expression starting at /home/vermersch/RandomMeas.jl/src/exports.jl:11\n",
      "in expression starting at /home/vermersch/RandomMeas.jl/src/RandomMeas.jl:1\n",
      "in expression starting at stdin:6\n"
     ]
    },
    {
     "ename": "LoadError",
     "evalue": "Failed to precompile RandomMeas [a9f96d1f-ed6a-4404-822f-5927c777f274] to \"/home/vermersch/.julia/compiled/v1.11/RandomMeas/jl_5lKbxJ\".",
     "output_type": "error",
     "traceback": [
      "Failed to precompile RandomMeas [a9f96d1f-ed6a-4404-822f-5927c777f274] to \"/home/vermersch/.julia/compiled/v1.11/RandomMeas/jl_5lKbxJ\".",
      "",
      "Stacktrace:",
      "  [1] error(s::String)",
      "    @ Base ./error.jl:35",
      "  [2] compilecache(pkg::Base.PkgId, path::String, internal_stderr::IO, internal_stdout::IO, keep_loaded_modules::Bool; flags::Cmd, cacheflags::Base.CacheFlags, reasons::Dict{String, Int64}, loadable_exts::Nothing)",
      "    @ Base ./loading.jl:3174",
      "  [3] (::Base.var\"#1110#1111\"{Base.PkgId})()",
      "    @ Base ./loading.jl:2579",
      "  [4] mkpidlock(f::Base.var\"#1110#1111\"{Base.PkgId}, at::String, pid::Int32; kwopts::@Kwargs{stale_age::Int64, wait::Bool})",
      "    @ FileWatching.Pidfile /snap/julia/129/share/julia/stdlib/v1.11/FileWatching/src/pidfile.jl:95",
      "  [5] #mkpidlock#6",
      "    @ /snap/julia/129/share/julia/stdlib/v1.11/FileWatching/src/pidfile.jl:90 [inlined]",
      "  [6] trymkpidlock(::Function, ::Vararg{Any}; kwargs::@Kwargs{stale_age::Int64})",
      "    @ FileWatching.Pidfile /snap/julia/129/share/julia/stdlib/v1.11/FileWatching/src/pidfile.jl:116",
      "  [7] #invokelatest#2",
      "    @ ./essentials.jl:1057 [inlined]",
      "  [8] invokelatest",
      "    @ ./essentials.jl:1052 [inlined]",
      "  [9] maybe_cachefile_lock(f::Base.var\"#1110#1111\"{Base.PkgId}, pkg::Base.PkgId, srcpath::String; stale_age::Int64)",
      "    @ Base ./loading.jl:3698",
      " [10] maybe_cachefile_lock",
      "    @ ./loading.jl:3695 [inlined]",
      " [11] _require(pkg::Base.PkgId, env::String)",
      "    @ Base ./loading.jl:2565",
      " [12] __require_prelocked(uuidkey::Base.PkgId, env::String)",
      "    @ Base ./loading.jl:2388",
      " [13] #invoke_in_world#3",
      "    @ ./essentials.jl:1089 [inlined]",
      " [14] invoke_in_world",
      "    @ ./essentials.jl:1086 [inlined]",
      " [15] _require_prelocked(uuidkey::Base.PkgId, env::String)",
      "    @ Base ./loading.jl:2375",
      " [16] macro expansion",
      "    @ ./loading.jl:2314 [inlined]",
      " [17] macro expansion",
      "    @ ./lock.jl:273 [inlined]",
      " [18] __require(into::Module, mod::Symbol)",
      "    @ Base ./loading.jl:2271",
      " [19] #invoke_in_world#3",
      "    @ ./essentials.jl:1089 [inlined]",
      " [20] invoke_in_world",
      "    @ ./essentials.jl:1086 [inlined]",
      " [21] require(into::Module, mod::Symbol)",
      "    @ Base ./loading.jl:2260"
     ]
    }
   ],
   "source": [
    "using Revise\n",
    "using RandomMeas\n",
    "using Statistics"
   ]
  },
  {
   "cell_type": "markdown",
   "id": "722cece3",
   "metadata": {},
   "source": [
    "# Ising Hamiltonian"
   ]
  },
  {
   "cell_type": "markdown",
   "id": "bec3e2a8",
   "metadata": {},
   "source": [
    "We first construct the Hamiltonian of the transverse field Ising model with N qubits."
   ]
  },
  {
   "cell_type": "code",
   "execution_count": 2,
   "id": "f8ea8288-4cfc-4ca9-8d4f-a0bf68dd5331",
   "metadata": {},
   "outputs": [],
   "source": [
    "N = 8 # Number of qubits\n",
    "ξ = siteinds(\"Qubit\", N) # ITensor site indices for classical shadows\n",
    "# Define the Hamiltonian\n",
    "J = -1. # Ising interaction strength\n",
    "B = 1. # Transverse field strength\n",
    "ampo = AutoMPO()\n",
    "for j in 1:(N - 1)\n",
    "  # Ising XX interactions\n",
    "  ampo .+= J , \"X\", j, \"X\", j + 1\n",
    "end\n",
    "for j in 1:N\n",
    "  # Transverse field Z\n",
    "  ampo .+= -B, \"Z\", j\n",
    "end\n",
    "H = MPO(ampo,ξ) # Hamiltonian as MPO\n",
    "H2 = apply(H,H); # H^2 for later use"
   ]
  },
  {
   "cell_type": "markdown",
   "id": "a6c2b9cf",
   "metadata": {},
   "source": [
    "# Groundstate energy and variance"
   ]
  },
  {
   "cell_type": "markdown",
   "id": "799f52b5",
   "metadata": {},
   "source": [
    "First, we compute the ground state $\\psi_G$ of the transverse field Ising model with DMRG."
   ]
  },
  {
   "cell_type": "code",
   "execution_count": 3,
   "id": "c8e706d8",
   "metadata": {},
   "outputs": [
    {
     "name": "stdout",
     "output_type": "stream",
     "text": [
      "Running DMRG to get ground state of transverse field Ising model:\n",
      "After sweep 1 energy=-9.771199068882083  maxlinkdim=4 maxerr=1.68E-16 time=4.978\n",
      "After sweep 2 energy=-9.837811662730537  maxlinkdim=12 maxerr=4.37E-11 time=0.004\n",
      "After sweep 3 energy=-9.83795143412691  maxlinkdim=7 maxerr=7.94E-11 time=0.004\n",
      "After sweep 4 energy=-9.837951446197561  maxlinkdim=6 maxerr=8.73E-11 time=0.005\n",
      "After sweep 5 energy=-9.837951446199044  maxlinkdim=6 maxerr=6.91E-11 time=0.003\n",
      "\n",
      "Ground state energy:  -9.837951446199044\n",
      "\n",
      "---------------------------------------\n",
      "\n"
     ]
    }
   ],
   "source": [
    "# Define the DMRG parameters \n",
    "dmrg_iter = 5      # DMRG steps\n",
    "dmrg_cutoff = 1E-10   # Cutoff\n",
    "ψ0 = random_mps(ξ) # Initial state\n",
    "sweeps = Sweeps(dmrg_iter)\n",
    "maxdim!(sweeps, 10, 20, 30, 40, 50, 100)\n",
    "cutoff!(sweeps, dmrg_cutoff)\n",
    "\n",
    "# Run DMRG to get the ground state\n",
    "println(\"Running DMRG to get ground state of transverse field Ising model:\")\n",
    "E, ψG = dmrg(H, ψ0, sweeps)\n",
    "println(\"\\nGround state energy:  \", E)\n",
    "println(\"\\n---------------------------------------\\n\")"
   ]
  },
  {
   "cell_type": "markdown",
   "id": "96699a52",
   "metadata": {},
   "source": [
    "We compute its energy and variance."
   ]
  },
  {
   "cell_type": "code",
   "execution_count": 4,
   "id": "abdbe5bc",
   "metadata": {},
   "outputs": [
    {
     "name": "stdout",
     "output_type": "stream",
     "text": [
      "final energy -9.83795144619905\n",
      "final expect of H2 96.78528867040467\n",
      "final energy variance 1.2634700397029519e-8\n"
     ]
    }
   ],
   "source": [
    "E_G = real(inner(ψG', H,ψG))\n",
    "println(\"final energy \",E_G)\n",
    "E2_G = real(inner(ψG', H2,ψG))\n",
    "println(\"final expect of H2 \",E2_G)\n",
    "Var_E_G = E2_G-E_G^2\n",
    "println(\"final energy variance \",Var_E_G)"
   ]
  },
  {
   "cell_type": "markdown",
   "id": "e02faf41",
   "metadata": {},
   "source": [
    "### Estimation with classical shadows \n",
    "\n",
    "We estimate its energy and variance with classical shadows. First, we sample the measurement settings."
   ]
  },
  {
   "cell_type": "code",
   "execution_count": 6,
   "id": "cd8c438a",
   "metadata": {},
   "outputs": [],
   "source": [
    "NU = 1000 # Number of random unitaries\n",
    "measurement_settings=RandomMeas.LocalUnitaryMeasurementSettings(N,NU,site_indices = ξ);"
   ]
  },
  {
   "cell_type": "markdown",
   "id": "78a545cc",
   "metadata": {},
   "source": [
    "Next, we simulate the randomized measurements."
   ]
  },
  {
   "cell_type": "code",
   "execution_count": 8,
   "id": "f62d7ef8",
   "metadata": {},
   "outputs": [],
   "source": [
    "NM = 100\n",
    "measurement_results = simulate_local_measurements(ψG,NM,\"dense\";measurement_settings=measurement_settings);"
   ]
  },
  {
   "cell_type": "code",
   "execution_count": 9,
   "id": "4def3049",
   "metadata": {},
   "outputs": [],
   "source": [
    "factorized_shadows = get_factorized_shadows(measurement_results);"
   ]
  },
  {
   "cell_type": "code",
   "execution_count": 10,
   "id": "535f2c45",
   "metadata": {},
   "outputs": [
    {
     "name": "stdout",
     "output_type": "stream",
     "text": [
      "Estimated energy of the circuit generated state -9.8±0.03\n",
      "Estimated expectation value of H^2 of the circuit generated state 96.2±0.5\n",
      "Estimated energy variance of the circuit generated state 0.3±0.2\n"
     ]
    }
   ],
   "source": [
    "Es_m,Es_ste = get_expect_shadow(H,factorized_shadows,compute_sem=true)\n",
    "E2s_m,E2s_ste = get_expect_shadow(H2,factorized_shadows,compute_sem=true)\n",
    "Es_m = real(Es_m)\n",
    "E2s_m = real(E2s_m)\n",
    "Evar = E2s_m .- Es_m.^2\n",
    "Evar_ste = Evar*sqrt(4*Es_ste^2*Es_m^2 + E2s_ste^2)\n",
    "println(\"Estimated energy of the circuit generated state \", round(Es_m,digits=2), \"±\", round(Es_ste, sigdigits=1))\n",
    "println(\"Estimated expectation value of H^2 of the circuit generated state \", round(E2s_m,digits=1), \"±\", round(E2s_ste, sigdigits=1))\n",
    "println(\"Estimated energy variance of the circuit generated state \", round(Evar,digits=1), \"±\", round(Evar_ste, sigdigits=1)) # We oversimplify here. E2s_m and E_m are not independent."
   ]
  },
  {
   "cell_type": "markdown",
   "id": "8e098b6a",
   "metadata": {},
   "source": [
    "# Output state of quantum circuit"
   ]
  },
  {
   "cell_type": "markdown",
   "id": "57576334",
   "metadata": {},
   "source": [
    "We construct a state as output of a quantum circuit."
   ]
  },
  {
   "cell_type": "code",
   "execution_count": 11,
   "id": "bdea0129-3c6c-459b-9010-da97492a84d6",
   "metadata": {},
   "outputs": [
    {
     "data": {
      "text/plain": [
       "MPS\n",
       "[1] ((dim=2|id=289|\"Qubit,Site,n=1\"), (dim=2|id=407|\"Link,n=1\"))\n",
       "[2] ((dim=2|id=240|\"Qubit,Site,n=2\"), (dim=2|id=407|\"Link,n=1\"), (dim=4|id=282|\"Link,n=1\"))\n",
       "[3] ((dim=2|id=565|\"Qubit,Site,n=3\"), (dim=4|id=282|\"Link,n=1\"), (dim=8|id=887|\"Link,n=1\"))\n",
       "[4] ((dim=2|id=75|\"Qubit,Site,n=4\"), (dim=8|id=887|\"Link,n=1\"), (dim=13|id=726|\"Link,n=1\"))\n",
       "[5] ((dim=2|id=748|\"Qubit,Site,n=5\"), (dim=13|id=726|\"Link,n=1\"), (dim=8|id=491|\"Link,n=1\"))\n",
       "[6] ((dim=2|id=415|\"Qubit,Site,n=6\"), (dim=8|id=491|\"Link,n=1\"), (dim=4|id=354|\"Link,n=1\"))\n",
       "[7] ((dim=2|id=367|\"Qubit,Site,n=7\"), (dim=4|id=354|\"Link,n=1\"), (dim=2|id=122|\"Link,n=1\"))\n",
       "[8] ((dim=2|id=697|\"Qubit,Site,n=8\"), (dim=2|id=122|\"Link,n=1\"))\n"
      ]
     },
     "metadata": {},
     "output_type": "display_data"
    }
   ],
   "source": [
    "η = 10 # Number of layer blocks\n",
    "m = 4 # Number of layers per block\n",
    "# Build the gate structure\n",
    "circuit = ITensor[]\n",
    "for d in 1:η\n",
    "    xx_layer = [op(\"Rxx\", ξ[j], ξ[j+1], ϕ=1*d/η/m) for j in 1:(N - 1)] # Rxx gates TODO: PastaQ dependence removed\n",
    "    z_layer = [op(\"Rz\", ξ[j], θ=2*B/m) for j in 1:N] # Rxx gates TODO: PastaQ dependence removed\n",
    "    for t in 1:m\n",
    "        append!(circuit, xx_layer)\n",
    "        append!(circuit, z_layer)\n",
    "    end\n",
    "end\n",
    "ψ0 = MPS(ξ,[\"Up\" for n in 1:N]);\n",
    "ψt = apply(circuit,ψ0; cutoff=1E-8)\n",
    "normalize!(ψt) # Normalize the state TODO: Is this ok?\n",
    "#orthogonalize!(ψt,1) TODO: why do we need this? \n",
    "#ψt[1] /= norm(ψt[1]) TODO: why do we need this?\n"
   ]
  },
  {
   "cell_type": "markdown",
   "id": "96718dff",
   "metadata": {},
   "source": [
    "We compute its energy and variance."
   ]
  },
  {
   "cell_type": "code",
   "execution_count": 12,
   "id": "b0153c9f-27f1-4b77-b025-41edce73a89f",
   "metadata": {},
   "outputs": [
    {
     "name": "stdout",
     "output_type": "stream",
     "text": [
      "final energy -9.47182617618307\n",
      "final energy variance 1.6950453000525556\n"
     ]
    }
   ],
   "source": [
    "E_th = real(inner(ψt', H,ψt)) # Energy of ψt TODO: I don't understand the naming convention here. What does the _th stand for? Thermal?\n",
    "println(\"final energy \",E_th)\n",
    "Var_E_th = real(inner(ψt', H2,ψt))-E_th^2 # Energy variance of ψt\n",
    "println(\"final energy variance \",Var_E_th)"
   ]
  },
  {
   "cell_type": "code",
   "execution_count": 13,
   "id": "d2094589",
   "metadata": {},
   "outputs": [],
   "source": [
    "NU = 1000 # Number of random unitaries\n",
    "measurement_settings=RandomMeas.LocalUnitaryMeasurementSettings(N,NU,site_indices = ξ);\n",
    "\n",
    "NM = 400 # Number of measurements per unitary\n",
    "measurement_results = simulate_local_measurements(ψG,NM,\"dense\";measurement_settings=measurement_settings);"
   ]
  },
  {
   "cell_type": "code",
   "execution_count": 14,
   "id": "83425c5a",
   "metadata": {},
   "outputs": [],
   "source": [
    "factorized_shadows = get_factorized_shadows(measurement_results);"
   ]
  },
  {
   "cell_type": "code",
   "execution_count": 15,
   "id": "664c4c99",
   "metadata": {},
   "outputs": [
    {
     "name": "stdout",
     "output_type": "stream",
     "text": [
      "Estimated energy of the circuit generated state -9.75±0.01\n",
      "Estimated expectation value of H^2 of the circuit generated state 95.7±0.3\n",
      "Estimated energy variance of the circuit generated state 0.7±0.3\n"
     ]
    }
   ],
   "source": [
    "Es_m,Es_ste = get_expect_shadow(H,factorized_shadows,compute_sem=true)\n",
    "E2s_m,E2s_ste = get_expect_shadow(H2,factorized_shadows,compute_sem=true)\n",
    "Es_m = real(Es_m)\n",
    "E2s_m = real(E2s_m)\n",
    "Evar = E2s_m .- Es_m.^2\n",
    "Evar_ste = Evar*sqrt(4*Es_ste^2*Es_m^2 + E2s_ste^2)\n",
    "println(\"Estimated energy of the circuit generated state \", round(Es_m,digits=2), \"±\", round(Es_ste, sigdigits=1))\n",
    "println(\"Estimated expectation value of H^2 of the circuit generated state \", round(E2s_m,digits=1), \"±\", round(E2s_ste, sigdigits=1))\n",
    "println(\"Estimated energy variance of the circuit generated state \", round(Evar,digits=1), \"±\", round(Evar_ste, sigdigits=1)) # We oversimplify here. E2s_m and E_m are not independent."
   ]
  }
 ],
 "metadata": {
  "kernelspec": {
   "display_name": "Julia 1.11.3",
   "language": "julia",
   "name": "julia-1.11"
  },
  "language_info": {
   "file_extension": ".jl",
   "mimetype": "application/julia",
   "name": "julia",
   "version": "1.11.3"
  }
 },
 "nbformat": 4,
 "nbformat_minor": 5
}
