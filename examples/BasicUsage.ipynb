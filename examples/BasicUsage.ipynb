{
 "cells": [
  {
   "cell_type": "markdown",
   "id": "523b301c",
   "metadata": {},
   "source": [
    "# Basic Usage of `RandomMeas.jl`\n",
    "\n",
    "This notebook walks through **one complete workflow** of the package – from *sampling* random measurement settings, through *collecting* bit‑string data, to *building* classical shadows and finally *estimating* observables.\n",
    "\n",
    "We start by importing the package."
   ]
  },
  {
   "cell_type": "code",
   "execution_count": 2,
   "id": "1d1aced9",
   "metadata": {},
   "outputs": [],
   "source": [
    "using RandomMeas"
   ]
  },
  {
   "cell_type": "markdown",
   "id": "8b0e6b3e",
   "metadata": {},
   "source": [
    "Next, we define the (total) system size of interest."
   ]
  },
  {
   "cell_type": "code",
   "execution_count": 3,
   "id": "aec742b2",
   "metadata": {},
   "outputs": [],
   "source": [
    "N=20;"
   ]
  },
  {
   "cell_type": "markdown",
   "id": "f86dc013",
   "metadata": {},
   "source": [
    "## Randomized measurement settings\n",
    "\n",
    "We now sample randomized measurement settings. Here, we parametrize them through single‑qubit (local) random unitaries which are drawn for each qubit independently from the Haar ensemble on $U(2)$. We draw $N_U = 100$ settings. "
   ]
  },
  {
   "cell_type": "code",
   "execution_count": 4,
   "id": "ef34e946",
   "metadata": {},
   "outputs": [],
   "source": [
    "NU = 100 # Number of measurement settings\n",
    "measurement_settings = [LocalUnitaryMeasurementSetting(N) for _ in 1:NU];"
   ]
  },
  {
   "cell_type": "markdown",
   "id": "d1b72350",
   "metadata": {},
   "source": [
    "## Classical simulation of randomized measurements\n",
    "\n",
    "Instead of running on actual quantum hardware we here simulate the entire RM protocol on a\n",
    "weakly‑entangled MPS $\\lvert\\psi\\rangle$ with bond dimension 2."
   ]
  },
  {
   "cell_type": "code",
   "execution_count": 5,
   "id": "65f6a464",
   "metadata": {},
   "outputs": [],
   "source": [
    "site_indices = siteinds(\"Qubit\",N)\n",
    "ψ = random_mps(site_indices, linkdims=2); # state"
   ]
  },
  {
   "cell_type": "markdown",
   "id": "1272cc6c",
   "metadata": {},
   "source": [
    "For each setting we perform $N_M = 400$ projective measurements, yielding a\n",
    "`MeasurementGroup` container that stores **all** measurement outcomes **and** measurement settings used."
   ]
  },
  {
   "cell_type": "code",
   "execution_count": 6,
   "id": "2c27e13e",
   "metadata": {},
   "outputs": [],
   "source": [
    "NM=400 # Number of projective measurements per measurement setting\n",
    "measurement_data = MeasurementGroup(ψ ,measurement_settings,NM);"
   ]
  },
  {
   "cell_type": "markdown",
   "id": "8f4a621c",
   "metadata": {},
   "source": [
    "## Post‑processing\n"
   ]
  },
  {
   "cell_type": "markdown",
   "id": "5b08f3ce",
   "metadata": {},
   "source": [
    "###  Building classical shadows\n",
    "\n",
    "Now, we start the postprocessing. We first construct classical shadows (reference). Here, \"factorized\" classical shadows are memory efficient objects (stored as N x 2 x 2 arrays) suitable for large system sizes."
   ]
  },
  {
   "cell_type": "code",
   "execution_count": 7,
   "id": "c68e11ea",
   "metadata": {},
   "outputs": [],
   "source": [
    "classical_shadows = get_factorized_shadows(measurement_data);"
   ]
  },
  {
   "cell_type": "markdown",
   "id": "92f6dd4e",
   "metadata": {},
   "source": [
    "### Estimating the expectation value of an observable\n",
    "\n",
    "As an example, we construct an observable\n",
    "$$\n",
    "O = Z_1 \\otimes I_2 \\otimes I_3 \\otimes X_4 \\otimes I_{5\\dots N},\n",
    "$$\n",
    "and compute\n",
    "\n",
    "* the shadow estimate $\\widehat{\\langle O\\rangle}$ and its standard error \n",
    "* the exact value $\\langle O\\rangle = \\langle\\psi\\lvert O \\rvert\\psi\\rangle$ . "
   ]
  },
  {
   "cell_type": "code",
   "execution_count": 8,
   "id": "6a64bcdc",
   "metadata": {},
   "outputs": [
    {
     "name": "stdout",
     "output_type": "stream",
     "text": [
      "Estimated expectation value ⟨O⟩ = -0.19 ± 0.01\n",
      "Exact expectation value of ⟨O⟩ = -0.23\n"
     ]
    }
   ],
   "source": [
    "ops = [\"I\" for _ in 1:N]\n",
    "ops[1] = \"Z\"\n",
    "ops[4] = \"X\"\n",
    "O=MPO(site_indices,ops);\n",
    "\n",
    "mean_val, sem_val = real.(get_expect_shadow(O,classical_shadows,compute_sem = true));\n",
    "exact_val = inner(ψ',O,ψ);\n",
    "\n",
    "println(\"Estimated expectation value ⟨O⟩ = $(round(mean_val, digits=2)) ± $(round(sem_val, digits=2))\")\n",
    "println(\"Exact expectation value of ⟨O⟩ = $(round(exact_val, digits=2))\")\n"
   ]
  },
  {
   "cell_type": "markdown",
   "id": "5d97aebb",
   "metadata": {},
   "source": [
    "### Dense classical shadows for small systems\n",
    "\n",
    "Alternatively, becasue our observable $O$ acts non‑trivially on just two qubits, we can reduce the entire post-processing procedure to effective two-qubit subsystem of interest. To this end, we reduce the data set and construct classical shadows on the two-qubit subsystem. This allows to generate dense classical shadows (stored $2^2 \\times 2^2$ dense matrices) which allow for very fast post-processing. Since these dense classical shadows are not memory efficient (in a general $N$ qubit system, they are a $2^N \\times 2^N$ dense matrix), this approach works for (sub-)systems consisting of up to ~15 qubits."
   ]
  },
  {
   "cell_type": "code",
   "execution_count": 9,
   "id": "3b7ef394",
   "metadata": {},
   "outputs": [],
   "source": [
    "subsystem = [1,4]\n",
    "reduced_data = reduce_to_subsystem(measurement_data,subsystem);\n",
    "reduced_classical_shadows = get_dense_shadows(reduced_data);"
   ]
  },
  {
   "cell_type": "markdown",
   "id": "0f9060f9",
   "metadata": {},
   "source": [
    "We use the reduced classical shadows to estimat the expectation value of the reduced operator O. We obtain the same value as before."
   ]
  },
  {
   "cell_type": "code",
   "execution_count": 10,
   "id": "af3d0084",
   "metadata": {},
   "outputs": [
    {
     "name": "stdout",
     "output_type": "stream",
     "text": [
      "Estimated expectation value ⟨O⟩ = -0.19 ± 0.04\n",
      "Exact expectation value of ⟨O⟩ = -0.23\n"
     ]
    }
   ],
   "source": [
    "ops = [\"Z\",\"X\"]\n",
    "reduced_O=MPO([site_indices[1],site_indices[4]],ops);\n",
    "\n",
    "mean_val, sem_val = real.(get_expect_shadow(reduced_O,reduced_classical_shadows,compute_sem = true));\n",
    "exact_val = inner(reduced_O,reduce_to_subsystem(ψ,[1,4]));\n",
    "\n",
    "println(\"Estimated expectation value ⟨O⟩ = $(round(mean_val, digits=2)) ± $(round(sem_val, digits=2))\")\n",
    "println(\"Exact expectation value of ⟨O⟩ = $(round(exact_val, digits=2))\")\n"
   ]
  },
  {
   "cell_type": "markdown",
   "id": "24cf350d",
   "metadata": {},
   "source": [
    "### Purity estimation\n",
    "\n",
    "Lastly, we can also estimate non-linear functions of the density matrices such as the purity of the reduced density matrix of subsystem defined by qubits 1 and 4. For this, we also use the reduced measurement data set and the corresponding dense classical shadows."
   ]
  },
  {
   "cell_type": "code",
   "execution_count": 11,
   "id": "a14a7ace",
   "metadata": {},
   "outputs": [
    {
     "name": "stdout",
     "output_type": "stream",
     "text": [
      "Estimated purity of ρ = 0.46 ± 0.03\n",
      "Exact purity of ρ = 0.54\n"
     ]
    }
   ],
   "source": [
    "mean_val, sem_val = get_trace_moment(reduced_classical_shadows,2,compute_sem = true);\n",
    "exact_val = get_trace_moment(reduce_to_subsystem(ψ,[1,4]),2);\n",
    "\n",
    "println(\"Estimated purity of ρ = $(round(mean_val, digits=2)) ± $(round(sem_val, digits=2))\")\n",
    "println(\"Exact purity of ρ = $(round(exact_val, digits=2))\")"
   ]
  }
 ],
 "metadata": {
  "kernelspec": {
   "display_name": "Julia 1.11.5",
   "language": "julia",
   "name": "julia-1.11"
  },
  "language_info": {
   "file_extension": ".jl",
   "mimetype": "application/julia",
   "name": "julia",
   "version": "1.11.5"
  }
 },
 "nbformat": 4,
 "nbformat_minor": 5
}
