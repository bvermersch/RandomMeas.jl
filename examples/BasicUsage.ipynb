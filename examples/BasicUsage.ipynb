{
 "cells": [
  {
   "cell_type": "code",
   "execution_count": 1,
   "id": "b2c158b3",
   "metadata": {},
   "outputs": [],
   "source": [
    "using RandomMeas"
   ]
  },
  {
   "cell_type": "markdown",
   "id": "523b301c",
   "metadata": {},
   "source": [
    "We first define the system size (number of qubits) we are going to be interested in."
   ]
  },
  {
   "cell_type": "code",
   "execution_count": 2,
   "id": "aec742b2",
   "metadata": {},
   "outputs": [
    {
     "data": {
      "text/plain": [
       "20"
      ]
     },
     "metadata": {},
     "output_type": "display_data"
    }
   ],
   "source": [
    "N=20"
   ]
  },
  {
   "cell_type": "markdown",
   "id": "f86dc013",
   "metadata": {},
   "source": [
    "### Generation of randomized measurment settings\n",
    "\n",
    "Next, we sample N_U = 100 measurement settings. Here, we consider local (single-qubit) random unitaries which are sampled, for each qubit independently, sample from the Haar measure on U(2)."
   ]
  },
  {
   "cell_type": "code",
   "execution_count": 3,
   "id": "ef34e946",
   "metadata": {},
   "outputs": [],
   "source": [
    "NU = 100 # Number of measurement settings\n",
    "measurement_settings = [LocalUnitaryMeasurementSetting(N) for _ in 1:NU];"
   ]
  },
  {
   "cell_type": "markdown",
   "id": "d1b72350",
   "metadata": {},
   "source": [
    "### Classical simulation of randomized measurements\n",
    "\n",
    "We could now export these measurement settings and perform randomized measurements on a QPU. Here, instead, we simulate the randomized measurements on a CPU on a sample MPS \\psi.\n",
    "\n",
    "We begin by defining the corresponding site index set and generate a weakly entangled random MPS (bond dimension 2). "
   ]
  },
  {
   "cell_type": "code",
   "execution_count": 4,
   "id": "1272cc6c",
   "metadata": {},
   "outputs": [],
   "source": [
    "site_indices = siteinds(\"Qubit\",N)\n",
    "ψ = random_mps(site_indices, linkdims=2); # state"
   ]
  },
  {
   "cell_type": "markdown",
   "id": "8f4a621c",
   "metadata": {},
   "source": [
    "We now sample N_M = 100 projective randomized measurements per measurement setting."
   ]
  },
  {
   "cell_type": "code",
   "execution_count": 6,
   "id": "c899af99",
   "metadata": {},
   "outputs": [],
   "source": [
    "NM=100 # Number of projective measurements per measurement setting\n",
    "measurement_data = MeasurementGroup(ψ ,measurement_settings,NM);"
   ]
  },
  {
   "cell_type": "markdown",
   "id": "5b08f3ce",
   "metadata": {},
   "source": [
    "### Post-processing\n",
    "\n",
    "Now, we start the postprocessing. We first construct classical shadows (reference). Here, \"factorized\" classical shadows are memory efficient objects (stored as N x 2 x 2 arrays) suitable for large system sizes."
   ]
  },
  {
   "cell_type": "code",
   "execution_count": 14,
   "id": "c68e11ea",
   "metadata": {},
   "outputs": [],
   "source": [
    "classical_shadows = get_factorized_shadows(measurement_data);"
   ]
  },
  {
   "cell_type": "markdown",
   "id": "92f6dd4e",
   "metadata": {},
   "source": [
    "Next, we use the classical shadows to estimat the expectation value of a simple MPO O."
   ]
  },
  {
   "cell_type": "code",
   "execution_count": 9,
   "id": "6a64bcdc",
   "metadata": {},
   "outputs": [
    {
     "name": "stdout",
     "output_type": "stream",
     "text": [
      "Estimated expectation value ⟨O⟩ = 0.07 ± 0.03\n",
      "Exact expectation value of ⟨O⟩ = 0.06\n"
     ]
    }
   ],
   "source": [
    "ops = [\"I\" for _ in 1:N]\n",
    "ops[1] = \"Z\"\n",
    "ops[4] = \"X\"\n",
    "O=MPO(site_indices,ops);\n",
    "\n",
    "mean_val, sem_val = real.(get_expect_shadow(O,classical_shadows,compute_sem = true));\n",
    "exact_val = inner(ψ',O,ψ);\n",
    "\n",
    "println(\"Estimated expectation value ⟨O⟩ = $(round(mean_val, digits=2)) ± $(round(sem_val, digits=2))\")\n",
    "println(\"Exact expectation value of ⟨O⟩ = $(round(exact_val, digits=2))\")\n"
   ]
  },
  {
   "cell_type": "markdown",
   "id": "5d97aebb",
   "metadata": {},
   "source": [
    "Alternatively, since our MPO O has only support on qubit 1 and 4, we can first reduce the data set to effective 2-qubit system of interest. This allows to generate dense classical shadows (in 2^2 x 2^2 dense matrices) which allow for very fast post-processing (but are not memory-efficient)."
   ]
  },
  {
   "cell_type": "code",
   "execution_count": 10,
   "id": "3b7ef394",
   "metadata": {},
   "outputs": [],
   "source": [
    "subsystem = [1,4]\n",
    "reduced_data = reduce_to_subsystem(measurement_data,subsystem);\n",
    "reduced_classical_shadows = get_dense_shadows(reduced_data);"
   ]
  },
  {
   "cell_type": "markdown",
   "id": "c63eac87",
   "metadata": {},
   "source": [
    "We use the reduced classical shadows to estimat the expectation value of the reduced operator O. We obtain the same value as before."
   ]
  },
  {
   "cell_type": "code",
   "execution_count": 11,
   "id": "7d306d16",
   "metadata": {},
   "outputs": [
    {
     "name": "stdout",
     "output_type": "stream",
     "text": [
      "Estimated expectation value ⟨O⟩ = 0.07 ± 0.04\n",
      "Exact expectation value of ⟨O⟩ = 0.06\n"
     ]
    }
   ],
   "source": [
    "ops = [\"Z\",\"X\"]\n",
    "reduced_O=MPO([site_indices[1],site_indices[4]],ops);\n",
    "\n",
    "mean_val, sem_val = real.(get_expect_shadow(reduced_O,reduced_classical_shadows,compute_sem = true));\n",
    "exact_val = inner(reduced_O,reduce_to_subsystem(ψ,[1,4]));\n",
    "\n",
    "println(\"Estimated expectation value ⟨O⟩ = $(round(mean_val, digits=2)) ± $(round(sem_val, digits=2))\")\n",
    "println(\"Exact expectation value of ⟨O⟩ = $(round(exact_val, digits=2))\")\n"
   ]
  },
  {
   "cell_type": "markdown",
   "id": "24cf350d",
   "metadata": {},
   "source": [
    "Lastly, we can also estimate non-linear functions of the density matrices such as the purity of the reduced density matrix of subsystem defined by qubits 1 and 4. For this, we also use the reduced measurement data set."
   ]
  },
  {
   "cell_type": "code",
   "execution_count": null,
   "id": "a14a7ace",
   "metadata": {},
   "outputs": [],
   "source": [
    "mean_val, sem_val = get_trace_moment(reduced_classical_shadows,2,compute_sem = true);\n",
    "exact_val = get_trace_moment(ρ,2);\n",
    "\n",
    "println(\"Estimated purity of ρ = $(round(mean_val, digits=2)) ± $(round(sem_val, digits=2))\")\n",
    "println(\"Exact purity of ρ = $(round(exact_val, digits=2))\")"
   ]
  }
 ],
 "metadata": {
  "kernelspec": {
   "display_name": "Julia 1.11.2",
   "language": "julia",
   "name": "julia-1.11"
  },
  "language_info": {
   "file_extension": ".jl",
   "mimetype": "application/julia",
   "name": "julia",
   "version": "1.11.2"
  }
 },
 "nbformat": 4,
 "nbformat_minor": 5
}
