{
 "cells": [
  {
   "cell_type": "code",
   "execution_count": 1,
   "metadata": {},
   "outputs": [],
   "source": [
    "using ITensors"
   ]
  },
  {
   "cell_type": "code",
   "execution_count": 21,
   "metadata": {},
   "outputs": [
    {
     "data": {
      "text/plain": [
       "14"
      ]
     },
     "execution_count": 21,
     "metadata": {},
     "output_type": "execute_result"
    }
   ],
   "source": [
    "ITensors.disable_warn_order()"
   ]
  },
  {
   "cell_type": "code",
   "execution_count": 23,
   "metadata": {},
   "outputs": [
    {
     "ename": "",
     "evalue": "",
     "output_type": "error",
     "traceback": [
      "\u001b[1;31mThe Kernel crashed while executing code in the current cell or a previous cell. \n",
      "\u001b[1;31mPlease review the code in the cell(s) to identify a possible cause of the failure. \n",
      "\u001b[1;31mClick <a href='https://aka.ms/vscodeJupyterKernelCrash'>here</a> for more info. \n",
      "\u001b[1;31mView Jupyter <a href='command:jupyter.viewOutput'>log</a> for further details."
     ]
    }
   ],
   "source": [
    "N=15\n",
    "sites = siteinds(\"Qubit\",N)\n",
    "\n",
    "psi = randomMPS(sites,linkdims=1)\n",
    "o = outer(psi',psi)\n",
    "\n",
    "t  = ITensor(1.)\n",
    "for s in 1:N\n",
    "    t = t*o[s]\n",
    "end\n",
    "\n",
    "add_time_mpo = 0.\n",
    "add_time_itensor = 0.\n",
    "\n",
    "\n",
    "for i in 1:100\n",
    "\n",
    "    psi = randomMPS(sites,linkdims=1)\n",
    "    o_inc = outer(psi',psi)\n",
    "    elapsed_time = @elapsed o = +(o,o_inc,alg=\"directsum\")\n",
    "    add_time_mpo +=  elapsed_time\n",
    "\n",
    "    t_inc  = ITensor(1.)\n",
    "    for s in 1:N\n",
    "        t_inc = t_inc*o_inc[s]\n",
    "    end\n",
    "    elapsed_time = @elapsed t+=t_inc\n",
    "    add_time_itensor +=  elapsed_time\n",
    "\n",
    "    #@show i linkdims(o)\n",
    "\n",
    "end\n",
    "\n",
    "@show linkdims(o)\n",
    "\n",
    "@show add_time_mpo add_time_itensor\n",
    "\n",
    "t_o = ITensor(1.)\n",
    "    for s in 1:N\n",
    "        t_o = t_o*o[s]\n",
    "    end\n",
    "@show norm(t-t_o)"
   ]
  },
  {
   "cell_type": "code",
   "execution_count": null,
   "metadata": {},
   "outputs": [],
   "source": []
  }
 ],
 "metadata": {
  "kernelspec": {
   "display_name": "Julia 1.10.4",
   "language": "julia",
   "name": "julia-1.10"
  },
  "language_info": {
   "file_extension": ".jl",
   "mimetype": "application/julia",
   "name": "julia",
   "version": "1.10.4"
  }
 },
 "nbformat": 4,
 "nbformat_minor": 2
}
