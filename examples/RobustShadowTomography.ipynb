{
 "cells": [
  {
   "cell_type": "code",
   "execution_count": 6,
   "id": "4f0311a9-bfed-432e-8f6f-f5ce7f434df0",
   "metadata": {},
   "outputs": [],
   "source": [
    "using Revise\n",
    "push!(LOAD_PATH,\"../src/\")\n",
    "using ProgressBars\n",
    "using Random\n",
    "using ITensors,ITensorMPS\n",
    "using PastaQ\n",
    "using RandomMeas"
   ]
  },
  {
   "cell_type": "code",
   "execution_count": 7,
   "id": "b5a8a5a9-221d-4ad3-8447-2ec7b2641608",
   "metadata": {},
   "outputs": [
    {
     "name": "stdout",
     "output_type": "stream",
     "text": [
      "state prepared in the `experiment' 1 \n"
     ]
    },
    {
     "data": {
      "text/plain": [
       "10000"
      ]
     },
     "execution_count": 7,
     "metadata": {},
     "output_type": "execute_result"
    }
   ],
   "source": [
    "#Perform RM in the first experiment\n",
    "N = 8\n",
    "ξ = siteinds(\"Qubit\", N)\n",
    "\n",
    "p,dp = 0.15,0.02\n",
    "p_vec = [max(0, min(p + dp * randn(), 1)) for i in 1:N]\n",
    "G = 1 .-p_vec/2\n",
    "\n",
    "circuit = randomcircuit(N, depth=2)\n",
    "states = [\"Dn\" for n in 1:N]\n",
    "ψ0  = MPS(ComplexF64,ξ,states)\n",
    "\n",
    "ρ0 = outer(ψ0',ψ0)\n",
    "ρ0n = copy(ρ0)\n",
    "Apply_depo_channel!(ρ0n,ξ,p_vec)\n",
    "\n",
    "#\n",
    "ρ = runcircuit(ρ0,circuit)\n",
    "ρn = copy(ρ)\n",
    "Apply_depo_channel!(ρn,ξ,p_vec)\n",
    "#ρ = runcircuit(circuit;noise = noisemodel);\n",
    "println(\"state prepared in the `experiment' 1 \")\n",
    "#RM on a calibration state\n",
    "\n",
    "\n",
    "nu=100 #Number of random unitaries\n",
    "NM=10000 #Number of projective measurements per unitary"
   ]
  },
  {
   "cell_type": "code",
   "execution_count": 8,
   "id": "9843f2e0-9dc3-40c1-af62-56dc7e2a55d7",
   "metadata": {},
   "outputs": [
    {
     "name": "stderr",
     "output_type": "stream",
     "text": [
      "0.0%┣                                              ┫ 0/100 [00:00<00:00, -0s/it]\n",
      "92.0%┣████████████████████████████████████████▌   ┫ 92/100 [00:02<00:00, 45it/s]\n",
      "\u001b[1A"
     ]
    },
    {
     "name": "stdout",
     "output_type": "stream",
     "text": [
      "[0.9187606944295327, 0.9276152223657846, 0.9133762696604503, 0.9158065414071859, 0.9282457584960316, 0.9279647841511441, 0.910917394339781, 0.9368791872567804]\n",
      "[0.9117426613378256, 0.9158168530550913, 0.9084456001325482, 0.9123205697664782, 0.9192423171599582, 0.9236501808985242, 0.9135865089189679, 0.9436992350452215]\n"
     ]
    },
    {
     "name": "stderr",
     "output_type": "stream",
     "text": [
      "100.0%┣██████████████████████████████████████████┫ 100/100 [00:02<00:00, 45it/s]\n",
      "100.0%┣██████████████████████████████████████████┫ 100/100 [00:02<00:00, 45it/s]\n"
     ]
    }
   ],
   "source": [
    "#Calibration experiment\n",
    "Gs = zeros(Float64,N)\n",
    "for r in ProgressBar(1:nu, printing_delay=2)\n",
    "        u = get_rotations(ξ,1) #Haar rotations in A\n",
    "        data = get_RandomMeas(ρ0n,u,NM)\n",
    "        σu = apply(u,ρ0,apply_dag=true)\n",
    "        #σu = rotate(ρ0,u)\n",
    "        for i in 1:N\n",
    "            P = get_Born(data[:,i:i],ξ[i:i])\n",
    "            #P2 = get_Born_data_binary(datat2[:,i:i],ξ[i:i])\n",
    "            #@show norm(P-P2)\n",
    "            σui,ξi = reduce_dm(σu,collect(i:i))\n",
    "            Pσ = get_Born(σui)\n",
    "            Gs[i] += real((3*(P-Pσ)*Pσ)[]+1)/nu\n",
    "            #Gs[i] += real((3*(P-Pσ)*Pσ)[]+1)/nu\n",
    "        end\n",
    "end\n",
    "println(G)\n",
    "println(Gs)"
   ]
  },
  {
   "cell_type": "code",
   "execution_count": 13,
   "id": "bf71e574-a4b3-48dd-ae65-c3a2f5834f60",
   "metadata": {},
   "outputs": [
    {
     "name": "stderr",
     "output_type": "stream",
     "text": [
      "0.0%┣                                              ┫ 0/100 [00:00<00:00, -0s/it]\n",
      "100.0%┣██████████████████████████████████████████┫ 100/100 [00:01<00:00, 70it/s]\n",
      "100.0%┣██████████████████████████████████████████┫ 100/100 [00:01<00:00, 70it/s]\n"
     ]
    }
   ],
   "source": [
    "u = Vector{Vector{ITensor}}()\n",
    "data = zeros(Int8,nu,NM,N)\n",
    "for r in ProgressBar(1:nu, printing_delay=2)\n",
    "            push!(u,get_rotations(ξ,1)) #generate random unitary\n",
    "            data[r,:,:] = get_RandomMeas(ρn,u[r],NM) #data acquisation in simulated quantum device\n",
    "end"
   ]
  },
  {
   "cell_type": "code",
   "execution_count": 14,
   "id": "c70e0d50-59b4-46ef-a561-59694d5417fa",
   "metadata": {},
   "outputs": [
    {
     "name": "stderr",
     "output_type": "stream",
     "text": [
      "0.0%┣                                                ┫ 0/8 [00:00<00:00, -0s/it]\n",
      "25.0%┣████████████                                    ┫ 2/8 [00:09<00:51, 9s/it]\n",
      "37.5%┣█████████████████▋                             ┫ 3/8 [00:22<00:54, 11s/it]\n",
      "50.0%┣███████████████████████▌                       ┫ 4/8 [00:41<00:54, 14s/it]\n",
      "62.5%┣█████████████████████████████▍                 ┫ 5/8 [01:01<00:46, 15s/it]\n",
      "75.0%┣███████████████████████████████████▎           ┫ 6/8 [01:25<00:34, 17s/it]\n",
      "87.5%┣█████████████████████████████████████████▏     ┫ 7/8 [01:54<00:19, 19s/it]\n",
      "100.0%┣██████████████████████████████████████████████┫ 8/8 [02:27<00:00, 21s/it]\n",
      "100.0%┣██████████████████████████████████████████████┫ 8/8 [02:27<00:00, 21s/it]\n"
     ]
    }
   ],
   "source": [
    "ITensors.disable_warn_order()\n",
    "purity = zeros(Float64,N)\n",
    "purity_nonmit = zeros(Float64,N)\n",
    "purity_mit = zeros(Float64,N)\n",
    "\n",
    "for NA in ProgressBar(1:N, printing_delay=2)\n",
    "        purity[NA] = get_purity(ρ,collect(1:NA),ξ)\n",
    "        uA = [ut[1:NA] for ut in u]\n",
    "        purity_nonmit[NA] = get_purity_shadows(data[:,:,1:NA],uA,ξ[1:NA])\n",
    "        purity_mit[NA] = get_purity_shadows(data[:,:,1:NA],uA,ξ[1:NA];G=Gs)\n",
    "\n",
    "end"
   ]
  },
  {
   "cell_type": "code",
   "execution_count": 11,
   "id": "d3b3c09d-55ae-4d57-8115-07f9f03227a6",
   "metadata": {},
   "outputs": [
    {
     "data": {
      "image/png": "[encoded data removed]",
      "text/plain": [
       "Figure(PyObject <Figure size 640x480 with 1 Axes>)"
      ]
     },
     "metadata": {},
     "output_type": "display_data"
    },
    {
     "data": {
      "text/plain": [
       "PyObject <matplotlib.legend.Legend object at 0x7f49a40c98d0>"
      ]
     },
     "execution_count": 11,
     "metadata": {},
     "output_type": "execute_result"
    }
   ],
   "source": [
    "using PyPlot\n",
    "plot(1:N,purity,\"-o\")\n",
    "plot(1:N,purity_nonmit,\"-o\")\n",
    "plot(1:N,purity_mit,\"-o\")\n",
    "xlabel(\"partition\")\n",
    "ylabel(\"purity\")\n",
    "legend([\"exact\",\"shadows\",\"robust shadows\"])"
   ]
  },
  {
   "cell_type": "code",
   "execution_count": null,
   "id": "04dcfbd2-63d5-427b-b924-2463510a0fe3",
   "metadata": {},
   "outputs": [],
   "source": []
  },
  {
   "cell_type": "code",
   "execution_count": null,
   "id": "2f9dd28c-2efd-4bba-9183-21a53cb4c282",
   "metadata": {},
   "outputs": [],
   "source": []
  }
 ],
 "metadata": {
  "kernelspec": {
   "display_name": "Julia 1.10.0",
   "language": "julia",
   "name": "julia-1.10"
  },
  "language_info": {
   "file_extension": ".jl",
   "mimetype": "application/julia",
   "name": "julia",
   "version": "1.10.0"
  }
 },
 "nbformat": 4,
 "nbformat_minor": 5
}
