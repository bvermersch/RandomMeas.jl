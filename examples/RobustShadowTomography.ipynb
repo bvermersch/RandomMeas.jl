{
 "cells": [
  {
   "cell_type": "code",
   "execution_count": 5,
   "id": "4f0311a9-bfed-432e-8f6f-f5ce7f434df0",
   "metadata": {},
   "outputs": [],
   "source": [
    "using ProgressBars\n",
    "using ITensors,ITensorMPS\n",
    "using PastaQ\n",
    "using RandomMeas"
   ]
  },
  {
   "cell_type": "code",
   "execution_count": null,
   "id": "b5a8a5a9-221d-4ad3-8447-2ec7b2641608",
   "metadata": {},
   "outputs": [],
   "source": [
    "#Perform RM in the first experiment\n",
    "N = 6\n",
    "ξ = siteinds(\"Qubit\", N)\n",
    "\n",
    "p,dp = 0.15,0.02\n",
    "p_vec = [max(0, min(p + dp * randn(), 1)) for i in 1:N]\n",
    "G = 1 .-p_vec/2\n",
    "\n",
    "circuit = randomcircuit(N, depth=2)\n",
    "states = [\"Dn\" for n in 1:N]\n",
    "ψ0  = MPS(ComplexF64,ξ,states)\n",
    "\n",
    "ρ0 = outer(ψ0',ψ0)\n",
    "ρ0n = copy(ρ0)\n",
    "Apply_depo_channel!(ρ0n,ξ,p_vec)\n",
    "\n",
    "#\n",
    "ρ = runcircuit(ρ0,circuit)\n",
    "ρn = copy(ρ)\n",
    "Apply_depo_channel!(ρn,ξ,p_vec)\n",
    "#ρ = runcircuit(circuit;noise = noisemodel);\n",
    "println(\"state prepared in the `experiment' 1 \")\n",
    "#RM on a calibration state\n",
    "\n",
    "\n",
    "nu=100 #Number of random unitaries\n",
    "NM=10000 #Number of projective measurements per unitary"
   ]
  },
  {
   "cell_type": "code",
   "execution_count": 1,
   "id": "9843f2e0-9dc3-40c1-af62-56dc7e2a55d7",
   "metadata": {},
   "outputs": [
    {
     "ename": "LoadError",
     "evalue": "UndefVarError: `N` not defined",
     "output_type": "error",
     "traceback": [
      "UndefVarError: `N` not defined",
      "",
      "Stacktrace:",
      " [1] top-level scope",
      "   @ In[1]:2"
     ]
    }
   ],
   "source": [
    "#Calibration experiment\n",
    "Gs = zeros(Float64,N)\n",
    "for r in ProgressBar(1:nu, printing_delay=2)\n",
    "        u = get_rotations(ξ,1) #Haar rotations in A\n",
    "        data = get_RandomMeas(ρ0n,u,NM)\n",
    "        σu = apply(u,ρ0,apply_dag=true)\n",
    "        #σu = rotate(ρ0,u)\n",
    "        for i in 1:N\n",
    "            P = get_Born(data[:,i:i],ξ[i:i])\n",
    "            #P2 = get_Born_data_binary(datat2[:,i:i],ξ[i:i])\n",
    "            #@show norm(P-P2)\n",
    "            σui,ξi = reduce_dm(σu,collect(i:i))\n",
    "            Pσ = get_Born(σui)\n",
    "            Gs[i] += real((3*(P-Pσ)*Pσ)[]+1)/nu\n",
    "            #Gs[i] += real((3*(P-Pσ)*Pσ)[]+1)/nu\n",
    "        end\n",
    "end\n",
    "println(G)\n",
    "println(Gs)"
   ]
  },
  {
   "cell_type": "code",
   "execution_count": 2,
   "id": "bf71e574-a4b3-48dd-ae65-c3a2f5834f60",
   "metadata": {},
   "outputs": [
    {
     "ename": "LoadError",
     "evalue": "UndefVarError: `ITensor` not defined",
     "output_type": "error",
     "traceback": [
      "UndefVarError: `ITensor` not defined",
      "",
      "Stacktrace:",
      " [1] top-level scope",
      "   @ In[2]:1"
     ]
    }
   ],
   "source": [
    "u = Vector{Vector{ITensor}}()\n",
    "data = zeros(Int8,nu,NM,N)\n",
    "for r in ProgressBar(1:nu, printing_delay=2)\n",
    "            push!(u,get_rotations(ξ,1)) #generate random unitary\n",
    "            data[r,:,:] = get_RandomMeas(ρn,u[r],NM) #data acquisation in simulated quantum device\n",
    "end"
   ]
  },
  {
   "cell_type": "code",
   "execution_count": 3,
   "id": "c70e0d50-59b4-46ef-a561-59694d5417fa",
   "metadata": {},
   "outputs": [
    {
     "ename": "LoadError",
     "evalue": "UndefVarError: `ITensors` not defined",
     "output_type": "error",
     "traceback": [
      "UndefVarError: `ITensors` not defined",
      "",
      "Stacktrace:",
      " [1] top-level scope",
      "   @ In[3]:1"
     ]
    }
   ],
   "source": [
    "ITensors.disable_warn_order()\n",
    "purity = zeros(Float64,N)\n",
    "purity_nonmit = zeros(Float64,N)\n",
    "purity_mit = zeros(Float64,N)\n",
    "\n",
    "for NA in ProgressBar(1:N, printing_delay=2)\n",
    "        purity[NA] = get_purity(ρ,collect(1:NA),ξ)\n",
    "        uA = [ut[1:NA] for ut in u]\n",
    "        purity_nonmit[NA] = get_purity_shadows(data[:,:,1:NA],uA,ξ[1:NA])\n",
    "        purity_mit[NA] = get_purity_shadows(data[:,:,1:NA],uA,ξ[1:NA];G=Gs)\n",
    "\n",
    "end"
   ]
  },
  {
   "cell_type": "code",
   "execution_count": 4,
   "id": "d3b3c09d-55ae-4d57-8115-07f9f03227a6",
   "metadata": {},
   "outputs": [
    {
     "ename": "LoadError",
     "evalue": "UndefVarError: `N` not defined",
     "output_type": "error",
     "traceback": [
      "UndefVarError: `N` not defined",
      "",
      "Stacktrace:",
      " [1] top-level scope",
      "   @ In[4]:2"
     ]
    }
   ],
   "source": [
    "using Plots\n",
    "plot(1:N,purity,label=\"exact\")\n",
    "plot!(1:N,purity_nonmit,label=\"shadows\")\n",
    "plot!(1:N,purity_mit,label=\"robust shadows\")\n",
    "xlabel!(\"partition\")\n",
    "ylabel!(\"purity\")"
   ]
  }
 ],
 "metadata": {
  "kernelspec": {
   "display_name": "Julia 1.10.0",
   "language": "julia",
   "name": "julia-1.10"
  },
  "language_info": {
   "file_extension": ".jl",
   "mimetype": "application/julia",
   "name": "julia",
   "version": "1.10.0"
  }
 },
 "nbformat": 4,
 "nbformat_minor": 5
}
