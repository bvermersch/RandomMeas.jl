{
 "cells": [
  {
   "cell_type": "markdown",
   "id": "d973418d",
   "metadata": {},
   "source": [
    "## Fidelities with Common Randomized Measurements\n",
    "\n",
    "With common randomized measurements [Vermersch, al, PRXQ 2024](https://doi.org/10.1103/PRXQuantum.5.010352), a classical approximation $\\sigma$ of an experimental state $\\rho$ is used to facilitate the measurement of physical properties. \n",
    "\n",
    "In this tutorial, we will illustrate in the context of the measurement of the fidelity $\\mathcal{F}=\\mathrm{Tr}(\\rho \\sigma)$, where $\\sigma=\\ket{\\psi}\\bra{\\psi}$.\n",
    "\n",
    "Note that in this example,  $\\sigma$ is at the same time the observable we are interested in, and the classical approximation we used for building common randomized measurements."
   ]
  },
  {
   "cell_type": "code",
   "execution_count": 1,
   "id": "4f0311a9-bfed-432e-8f6f-f5ce7f434df0",
   "metadata": {},
   "outputs": [
    {
     "name": "stderr",
     "output_type": "stream",
     "text": [
      "\u001b[91m\u001b[1mERROR: \u001b[22m\u001b[39mLoadError: PCRE compilation error: unknown property after \\P or \\p at offset 283\n",
      "Stacktrace:\n",
      "  [1] \u001b[0m\u001b[1merror\u001b[22m\u001b[0m\u001b[1m(\u001b[22m\u001b[90ms\u001b[39m::\u001b[0mString\u001b[0m\u001b[1m)\u001b[22m\n",
      "\u001b[90m    @\u001b[39m \u001b[90mBase\u001b[39m \u001b[90m./\u001b[39m\u001b[90m\u001b[4merror.jl:35\u001b[24m\u001b[39m\n",
      "  [2] \u001b[0m\u001b[1mcompile\u001b[22m\u001b[0m\u001b[1m(\u001b[22m\u001b[90mpattern\u001b[39m::\u001b[0mString, \u001b[90moptions\u001b[39m::\u001b[0mUInt32\u001b[0m\u001b[1m)\u001b[22m\n",
      "\u001b[90m    @\u001b[39m \u001b[90mBase.PCRE\u001b[39m \u001b[90m./\u001b[39m\u001b[90m\u001b[4mpcre.jl:165\u001b[24m\u001b[39m\n",
      "  [3] \u001b[0m\u001b[1mcompile\u001b[22m\u001b[0m\u001b[1m(\u001b[22m\u001b[90mregex\u001b[39m::\u001b[0mRegex\u001b[0m\u001b[1m)\u001b[22m\n",
      "\u001b[90m    @\u001b[39m \u001b[90mBase\u001b[39m \u001b[90m./\u001b[39m\u001b[90m\u001b[4mregex.jl:80\u001b[24m\u001b[39m\n",
      "  [4] \u001b[0m\u001b[1mRegex\u001b[22m\u001b[0m\u001b[1m(\u001b[22m\u001b[90mpattern\u001b[39m::\u001b[0mString, \u001b[90mcompile_options\u001b[39m::\u001b[0mUInt32, \u001b[90mmatch_options\u001b[39m::\u001b[0mUInt32\u001b[0m\u001b[1m)\u001b[22m\n",
      "\u001b[90m    @\u001b[39m \u001b[90mBase\u001b[39m \u001b[90m./\u001b[39m\u001b[90m\u001b[4mregex.jl:40\u001b[24m\u001b[39m\n",
      "  [5] \u001b[0m\u001b[1mRegex\u001b[22m\u001b[0m\u001b[1m(\u001b[22m\u001b[90mpattern\u001b[39m::\u001b[0mString\u001b[0m\u001b[1m)\u001b[22m\n",
      "\u001b[90m    @\u001b[39m \u001b[90mBase\u001b[39m \u001b[90m./\u001b[39m\u001b[90m\u001b[4mregex.jl:68\u001b[24m\u001b[39m\n",
      "  [6] \u001b[0m\u001b[1mvar\"@r_str\"\u001b[22m\u001b[0m\u001b[1m(\u001b[22m\u001b[90m__source__\u001b[39m::\u001b[0mLineNumberNode, \u001b[90m__module__\u001b[39m::\u001b[0mModule, \u001b[90mpattern\u001b[39m::\u001b[0mAny, \u001b[90mflags\u001b[39m::\u001b[0mVararg\u001b[90m{Any}\u001b[39m\u001b[0m\u001b[1m)\u001b[22m\n",
      "\u001b[90m    @\u001b[39m \u001b[90mBase\u001b[39m \u001b[90m./\u001b[39m\u001b[90m\u001b[4mregex.jl:123\u001b[24m\u001b[39m\n",
      "  [7] \u001b[0m\u001b[1minclude\u001b[22m\u001b[0m\u001b[1m(\u001b[22m\u001b[90mmod\u001b[39m::\u001b[0mModule, \u001b[90m_path\u001b[39m::\u001b[0mString\u001b[0m\u001b[1m)\u001b[22m\n",
      "\u001b[90m    @\u001b[39m \u001b[90mBase\u001b[39m \u001b[90m./\u001b[39m\u001b[90m\u001b[4mBase.jl:495\u001b[24m\u001b[39m\n",
      "  [8] \u001b[0m\u001b[1minclude\u001b[22m\u001b[0m\u001b[1m(\u001b[22m\u001b[90mx\u001b[39m::\u001b[0mString\u001b[0m\u001b[1m)\u001b[22m\n",
      "\u001b[90m    @\u001b[39m \u001b[35mRandomMeas\u001b[39m \u001b[90m~/Andreas_Arbeit/Projects/RandomMeas.jl/src/\u001b[39m\u001b[90m\u001b[4mRandomMeas.jl:59\u001b[24m\u001b[39m\n",
      "  [9] top-level scope\n",
      "\u001b[90m    @\u001b[39m \u001b[90m~/Andreas_Arbeit/Projects/RandomMeas.jl/src/\u001b[39m\u001b[90m\u001b[4mRandomMeas.jl:103\u001b[24m\u001b[39m\n",
      " [10] \u001b[0m\u001b[1minclude\u001b[22m\n",
      "\u001b[90m    @\u001b[39m \u001b[90m./\u001b[39m\u001b[90m\u001b[4mBase.jl:495\u001b[24m\u001b[39m\u001b[90m [inlined]\u001b[39m\n",
      " [11] \u001b[0m\u001b[1minclude_package_for_output\u001b[22m\u001b[0m\u001b[1m(\u001b[22m\u001b[90mpkg\u001b[39m::\u001b[0mBase.PkgId, \u001b[90minput\u001b[39m::\u001b[0mString, \u001b[90mdepot_path\u001b[39m::\u001b[0mVector\u001b[90m{String}\u001b[39m, \u001b[90mdl_load_path\u001b[39m::\u001b[0mVector\u001b[90m{String}\u001b[39m, \u001b[90mload_path\u001b[39m::\u001b[0mVector\u001b[90m{String}\u001b[39m, \u001b[90mconcrete_deps\u001b[39m::\u001b[0mVector\u001b[90m{Pair{Base.PkgId, UInt128}}\u001b[39m, \u001b[90msource\u001b[39m::\u001b[0mString\u001b[0m\u001b[1m)\u001b[22m\n",
      "\u001b[90m    @\u001b[39m \u001b[90mBase\u001b[39m \u001b[90m./\u001b[39m\u001b[90m\u001b[4mloading.jl:2292\u001b[24m\u001b[39m\n",
      " [12] top-level scope\n",
      "\u001b[90m    @\u001b[39m \u001b[90m\u001b[4mstdin:4\u001b[24m\u001b[39m\n",
      "in expression starting at /Users/aelben/Andreas_Arbeit/Projects/RandomMeas.jl/src/Circuits.jl:135\n",
      "in expression starting at /Users/aelben/Andreas_Arbeit/Projects/RandomMeas.jl/src/Circuits.jl:135\n",
      "in expression starting at /Users/aelben/Andreas_Arbeit/Projects/RandomMeas.jl/src/RandomMeas.jl:59\n",
      "in expression starting at stdin:4\n"
     ]
    },
    {
     "ename": "ErrorException",
     "evalue": "Failed to precompile RandomMeas [a9f96d1f-ed6a-4404-822f-5927c777f274] to \"/Users/aelben/.julia/compiled/v1.10/RandomMeas/jl_mTQQAI\".",
     "output_type": "error",
     "traceback": [
      "Failed to precompile RandomMeas [a9f96d1f-ed6a-4404-822f-5927c777f274] to \"/Users/aelben/.julia/compiled/v1.10/RandomMeas/jl_mTQQAI\".\n",
      "\n",
      "Stacktrace:\n",
      "  [1] error(s::String)\n",
      "    @ Base ./error.jl:35\n",
      "  [2] compilecache(pkg::Base.PkgId, path::String, internal_stderr::IO, internal_stdout::IO, keep_loaded_modules::Bool)\n",
      "    @ Base ./loading.jl:2539\n",
      "  [3] compilecache\n",
      "    @ ./loading.jl:2411 [inlined]\n",
      "  [4] (::Base.var\"#969#970\"{Base.PkgId})()\n",
      "    @ Base ./loading.jl:2044\n",
      "  [5] mkpidlock(f::Base.var\"#969#970\"{Base.PkgId}, at::String, pid::Int32; kwopts::@Kwargs{stale_age::Int64, wait::Bool})\n",
      "    @ FileWatching.Pidfile ~/.julia/juliaup/julia-1.10.8+0.aarch64.apple.darwin14/share/julia/stdlib/v1.10/FileWatching/src/pidfile.jl:93\n",
      "  [6] #mkpidlock#6\n",
      "    @ ~/.julia/juliaup/julia-1.10.8+0.aarch64.apple.darwin14/share/julia/stdlib/v1.10/FileWatching/src/pidfile.jl:88 [inlined]\n",
      "  [7] trymkpidlock(::Function, ::Vararg{Any}; kwargs::@Kwargs{stale_age::Int64})\n",
      "    @ FileWatching.Pidfile ~/.julia/juliaup/julia-1.10.8+0.aarch64.apple.darwin14/share/julia/stdlib/v1.10/FileWatching/src/pidfile.jl:111\n",
      "  [8] #invokelatest#2\n",
      "    @ ./essentials.jl:894 [inlined]\n",
      "  [9] invokelatest\n",
      "    @ ./essentials.jl:889 [inlined]\n",
      " [10] maybe_cachefile_lock(f::Base.var\"#969#970\"{Base.PkgId}, pkg::Base.PkgId, srcpath::String; stale_age::Int64)\n",
      "    @ Base ./loading.jl:3054\n",
      " [11] maybe_cachefile_lock\n",
      "    @ ./loading.jl:3051 [inlined]\n",
      " [12] _require(pkg::Base.PkgId, env::String)\n",
      "    @ Base ./loading.jl:2040\n",
      " [13] __require_prelocked(uuidkey::Base.PkgId, env::String)\n",
      "    @ Base ./loading.jl:1882\n",
      " [14] #invoke_in_world#3\n",
      "    @ ./essentials.jl:926 [inlined]\n",
      " [15] invoke_in_world\n",
      "    @ ./essentials.jl:923 [inlined]\n",
      " [16] _require_prelocked(uuidkey::Base.PkgId, env::String)\n",
      "    @ Base ./loading.jl:1873\n",
      " [17] macro expansion\n",
      "    @ ./loading.jl:1860 [inlined]\n",
      " [18] macro expansion\n",
      "    @ ./lock.jl:267 [inlined]\n",
      " [19] __require(into::Module, mod::Symbol)\n",
      "    @ Base ./loading.jl:1823\n",
      " [20] #invoke_in_world#3\n",
      "    @ ./essentials.jl:926 [inlined]\n",
      " [21] invoke_in_world\n",
      "    @ ./essentials.jl:923 [inlined]\n",
      " [22] require(into::Module, mod::Symbol)\n",
      "    @ Base ./loading.jl:1816\n",
      " [23] eval\n",
      "    @ ./boot.jl:385 [inlined]\n",
      " [24] include_string(mapexpr::typeof(REPL.softscope), mod::Module, code::String, filename::String)\n",
      "    @ Base ./loading.jl:2146\n",
      " [25] #invokelatest#2\n",
      "    @ ./essentials.jl:892 [inlined]\n",
      " [26] invokelatest\n",
      "    @ ./essentials.jl:889 [inlined]\n",
      " [27] (::VSCodeServer.var\"#217#218\"{VSCodeServer.NotebookRunCellArguments, String})()\n",
      "    @ VSCodeServer ~/.vscode/extensions/julialang.language-julia-1.127.2/scripts/packages/VSCodeServer/src/serve_notebook.jl:24\n",
      " [28] withpath(f::VSCodeServer.var\"#217#218\"{VSCodeServer.NotebookRunCellArguments, String}, path::String)\n",
      "    @ VSCodeServer ~/.vscode/extensions/julialang.language-julia-1.127.2/scripts/packages/VSCodeServer/src/repl.jl:276\n",
      " [29] notebook_runcell_request(conn::VSCodeServer.JSONRPC.JSONRPCEndpoint{Base.PipeEndpoint, Base.PipeEndpoint}, params::VSCodeServer.NotebookRunCellArguments)\n",
      "    @ VSCodeServer ~/.vscode/extensions/julialang.language-julia-1.127.2/scripts/packages/VSCodeServer/src/serve_notebook.jl:13\n",
      " [30] dispatch_msg(x::VSCodeServer.JSONRPC.JSONRPCEndpoint{Base.PipeEndpoint, Base.PipeEndpoint}, dispatcher::VSCodeServer.JSONRPC.MsgDispatcher, msg::Dict{String, Any})\n",
      "    @ VSCodeServer.JSONRPC ~/.vscode/extensions/julialang.language-julia-1.127.2/scripts/packages/JSONRPC/src/typed.jl:67\n",
      " [31] serve_notebook(pipename::String, debugger_pipename::String, outputchannel_logger::Base.CoreLogging.SimpleLogger; error_handler::var\"#5#10\"{String})\n",
      "    @ VSCodeServer ~/.vscode/extensions/julialang.language-julia-1.127.2/scripts/packages/VSCodeServer/src/serve_notebook.jl:147\n",
      " [32] top-level scope\n",
      "    @ ~/.vscode/extensions/julialang.language-julia-1.127.2/scripts/notebook/notebook.jl:35"
     ]
    }
   ],
   "source": [
    "using RandomMeas"
   ]
  },
  {
   "cell_type": "markdown",
   "id": "c91f5d9a",
   "metadata": {},
   "source": [
    "We begin by considering $\\sigma=\\ket{\\psi}\\bra{\\psi}$ ($\\rho$) as the output of an ideal (noisy, respectively) $2$-qubit quantum circuit of various depths $d$"
   ]
  },
  {
   "cell_type": "code",
   "execution_count": 2,
   "id": "2d03744b-6a59-4a00-8271-897d6c6649b8",
   "metadata": {},
   "outputs": [
    {
     "ename": "UndefVarError",
     "evalue": "UndefVarError: `siteinds` not defined",
     "output_type": "error",
     "traceback": [
      "UndefVarError: `siteinds` not defined\n",
      "\n",
      "Stacktrace:\n",
      " [1] top-level scope\n",
      "   @ ~/Andreas_Arbeit/Projects/RandomMeas.jl/examples/jl_notebook_cell_df34fa98e69747e1a8f8a730347b8e2f_W3sZmlsZQ==.jl:4"
     ]
    }
   ],
   "source": [
    "N = 4\n",
    "depth = 5\n",
    "cutoff = 1e-4\n",
    "ξ = siteinds(\"Qubit\", N)\n",
    "ψ,ρ,F = MPS[], MPO[], Float64[]\n",
    "\n",
    "#initial states\n",
    "push!(ψ,MPS(ξ, [\"Dn\" for n in 1:N]));\n",
    "push!(ρ,outer(ψ[1]',ψ[1]));\n",
    "push!(F,1.)\n",
    "\n",
    "#random circuit and noise parameters\n",
    "circuit = random_circuit(ξ,depth)\n",
    "p = 0.1*rand(N)\n",
    "@showprogress dt=1 for d in 1:depth\n",
    "            push!(ψ,apply(circuit,ψ[d];cutoff=cutoff))\n",
    "            ρt = apply(circuit,ρ[d],apply_dag=true;cutoff=cutoff)\n",
    "            #each random circuit layer is followed by local depolarization with probabilities p \n",
    "            push!(ρ,apply_depo_channel(ρt,p));  \n",
    "\n",
    "            push!(F,real(inner(ψ[d+1]',ρ[d+1],ψ[d+1])))\n",
    "end\n"
   ]
  },
  {
   "cell_type": "markdown",
   "id": "8c802868",
   "metadata": {},
   "source": [
    "We first perform randomized measurement on the experimental state, and store the unitaries $u$ that we used"
   ]
  },
  {
   "cell_type": "code",
   "execution_count": 3,
   "id": "cf164d08-347a-4bbe-96d5-7dc0576948b5",
   "metadata": {},
   "outputs": [
    {
     "ename": "UndefVarError",
     "evalue": "UndefVarError: `MeasurementGroup` not defined",
     "output_type": "error",
     "traceback": [
      "UndefVarError: `MeasurementGroup` not defined\n",
      "\n",
      "Stacktrace:\n",
      " [1] top-level scope\n",
      "   @ ~/Andreas_Arbeit/Projects/RandomMeas.jl/examples/jl_notebook_cell_df34fa98e69747e1a8f8a730347b8e2f_W5sZmlsZQ==.jl:5"
     ]
    }
   ],
   "source": [
    "#Perform Randomized measurements\n",
    "NU=200\n",
    "NM=2000\n",
    "\n",
    "measurement_group = Vector{MeasurementGroup}(undef,depth+1)\n",
    "@showprogress dt=1 for d in 1:depth+1\n",
    "    measurement_group[d] = MeasurementGroup(ρ[d],NU,NM;mode=\"dense\");\n",
    "end"
   ]
  },
  {
   "cell_type": "markdown",
   "id": "90e6e7d7",
   "metadata": {},
   "source": [
    "From randomized measurement, we know that we can build estimate the fidelity $\\mathcal{F}$ as $\\mathcal{F}_e=\\mathrm{tr}(\\sigma \\hat{\\rho})$ with the shadows $\\hat{\\rho}$. "
   ]
  },
  {
   "cell_type": "code",
   "execution_count": 4,
   "id": "d488e8a8",
   "metadata": {},
   "outputs": [
    {
     "ename": "UndefVarError",
     "evalue": "UndefVarError: `measurement_group` not defined",
     "output_type": "error",
     "traceback": [
      "UndefVarError: `measurement_group` not defined\n",
      "\n",
      "Stacktrace:\n",
      " [1] top-level scope\n",
      "   @ ~/Andreas_Arbeit/Projects/RandomMeas.jl/examples/jl_notebook_cell_df34fa98e69747e1a8f8a730347b8e2f_X10sZmlsZQ==.jl:3"
     ]
    }
   ],
   "source": [
    "F_e = zeros(Float64,depth+1)\n",
    "for d in 1:depth+1\n",
    "    shadow_d = get_dense_shadows(measurement_group[d])\n",
    "    F_e[d] = real(get_expect_shadow(outer(ψ[d]',ψ[d]),shadow_d))\n",
    "end"
   ]
  },
  {
   "cell_type": "markdown",
   "id": "37aca296",
   "metadata": {},
   "source": [
    "CRM provide a more efficient estimator $\\mathcal{F}_{CRM}=\\mathrm{tr}(\\sigma \\hat{\\rho})-\\mathrm{tr}(\\sigma \\hat{\\sigma})+1$ based on  using the simulated shadow $\\hat{\\sigma}$, which is generated numerically from the Born probabilities $P_0(s)=\\langle s|u\\sigma u^\\dag|s\\rangle$."
   ]
  },
  {
   "cell_type": "code",
   "execution_count": 5,
   "id": "324fcc49",
   "metadata": {},
   "outputs": [
    {
     "ename": "UndefVarError",
     "evalue": "UndefVarError: `measurement_group` not defined",
     "output_type": "error",
     "traceback": [
      "UndefVarError: `measurement_group` not defined\n",
      "\n",
      "Stacktrace:\n",
      " [1] top-level scope\n",
      "   @ ~/Andreas_Arbeit/Projects/RandomMeas.jl/examples/jl_notebook_cell_df34fa98e69747e1a8f8a730347b8e2f_X12sZmlsZQ==.jl:5"
     ]
    }
   ],
   "source": [
    "F_CRM = copy(F_e).+1\n",
    "\n",
    "for d in 1:depth+1\n",
    "    for r in 1:NU\n",
    "        data = measurement_group[d].measurements[r]\n",
    "        P = MeasurementProbability(ψ[d],data.measurement_setting)\n",
    "        shadow_sigma = DenseShadow(P)\n",
    "        F_CRM[d] -= real(get_expect_shadow(outer(ψ[d]',ψ[d]),shadow_sigma))/NU\n",
    "    end\n",
    "end"
   ]
  },
  {
   "cell_type": "code",
   "execution_count": 6,
   "id": "15160b91-ef16-49f7-b24a-9b44d02d8dc3",
   "metadata": {},
   "outputs": [
    {
     "ename": "UndefVarError",
     "evalue": "UndefVarError: `F` not defined",
     "output_type": "error",
     "traceback": [
      "UndefVarError: `F` not defined\n",
      "\n",
      "Stacktrace:\n",
      " [1] top-level scope\n",
      "   @ ~/Andreas_Arbeit/Projects/RandomMeas.jl/examples/jl_notebook_cell_df34fa98e69747e1a8f8a730347b8e2f_X13sZmlsZQ==.jl:2"
     ]
    }
   ],
   "source": [
    "using Plots\n",
    "Plots.plot(1:depth+1,F,label=\"Fidelity\")\n",
    "plot!(1:depth+1,F_e,label=\"Estimated\")\n",
    "plot!(1:depth+1,F_CRM,label=\"CRM estimated\")\n",
    "xlabel!(\"depth\")\n",
    "ylabel!(\"Fidelity\")"
   ]
  }
 ],
 "metadata": {
  "kernelspec": {
   "display_name": "Julia 1.10.8",
   "language": "julia",
   "name": "julia-1.10"
  },
  "language_info": {
   "file_extension": ".jl",
   "mimetype": "application/julia",
   "name": "julia",
   "version": "1.10.8"
  }
 },
 "nbformat": 4,
 "nbformat_minor": 5
}
