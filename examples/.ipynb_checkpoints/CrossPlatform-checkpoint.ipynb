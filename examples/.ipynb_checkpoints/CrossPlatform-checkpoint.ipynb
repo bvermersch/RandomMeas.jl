{
 "cells": [
  {
   "cell_type": "code",
   "execution_count": 1,
   "id": "4f0311a9-bfed-432e-8f6f-f5ce7f434df0",
   "metadata": {},
   "outputs": [
    {
     "name": "stdout",
     "output_type": "stream",
     "text": [
      "\u001b[36m\u001b[1mProject\u001b[22m\u001b[39m RandomMeas v0.1.0\n",
      "\u001b[32m\u001b[1mStatus\u001b[22m\u001b[39m `/scratch/Codes/RandomMeas.jl/Project.toml`\n",
      "  \u001b[90m[861a8166] \u001b[39mCombinatorics v1.0.2\n",
      "  \u001b[90m[0d1a4710] \u001b[39mITensorMPS v0.2.3\n",
      "  \u001b[90m[9136182c] \u001b[39mITensors v0.6.10\n",
      "  \u001b[90m[0db19996] \u001b[39mNBInclude v2.3.0\n",
      "  \u001b[90m[91a5bcdd] \u001b[39mPlots v1.40.4\n",
      "  \u001b[90m[49802e3a] \u001b[39mProgressBars v1.5.1\n",
      "  \u001b[90m[2913bbd2] \u001b[39mStatsBase v0.34.3\n",
      "  \u001b[90m[9a3f8284] \u001b[39mRandom\n",
      "\u001b[36m\u001b[1mProject\u001b[22m\u001b[39m RandomMeas v0.1.0\n",
      "\u001b[32m\u001b[1mStatus\u001b[22m\u001b[39m `/scratch/Codes/RandomMeas.jl/Project.toml`\n",
      "  \u001b[90m[861a8166] \u001b[39mCombinatorics v1.0.2\n",
      "  \u001b[90m[0d1a4710] \u001b[39mITensorMPS v0.2.3\n",
      "  \u001b[90m[9136182c] \u001b[39mITensors v0.6.10\n",
      "  \u001b[90m[0db19996] \u001b[39mNBInclude v2.3.0\n",
      "  \u001b[90m[91a5bcdd] \u001b[39mPlots v1.40.4\n",
      "  \u001b[90m[49802e3a] \u001b[39mProgressBars v1.5.1\n",
      "  \u001b[90m[2913bbd2] \u001b[39mStatsBase v0.34.3\n",
      "  \u001b[90m[9a3f8284] \u001b[39mRandom\n",
      "\u001b[36m\u001b[1mProject\u001b[22m\u001b[39m RandomMeas v0.1.0\n",
      "\u001b[32m\u001b[1mStatus\u001b[22m\u001b[39m `/scratch/Codes/RandomMeas.jl/Project.toml`\n",
      "  \u001b[90m[861a8166] \u001b[39mCombinatorics v1.0.2\n",
      "  \u001b[90m[0d1a4710] \u001b[39mITensorMPS v0.2.3\n",
      "  \u001b[90m[9136182c] \u001b[39mITensors v0.6.10\n",
      "  \u001b[90m[0db19996] \u001b[39mNBInclude v2.3.0\n",
      "  \u001b[90m[91a5bcdd] \u001b[39mPlots v1.40.4\n",
      "  \u001b[90m[49802e3a] \u001b[39mProgressBars v1.5.1\n",
      "  \u001b[90m[2913bbd2] \u001b[39mStatsBase v0.34.3\n",
      "  \u001b[90m[9a3f8284] \u001b[39mRandom\n",
      "\u001b[36m\u001b[1mProject\u001b[22m\u001b[39m RandomMeas v0.1.0\n",
      "\u001b[32m\u001b[1mStatus\u001b[22m\u001b[39m `/scratch/Codes/RandomMeas.jl/Project.toml`\n",
      "  \u001b[90m[861a8166] \u001b[39mCombinatorics v1.0.2\n",
      "  \u001b[90m[0d1a4710] \u001b[39mITensorMPS v0.2.3\n",
      "  \u001b[90m[9136182c] \u001b[39mITensors v0.6.10\n",
      "  \u001b[90m[0db19996] \u001b[39mNBInclude v2.3.0\n",
      "  \u001b[90m[91a5bcdd] \u001b[39mPlots v1.40.4\n",
      "  \u001b[90m[49802e3a] \u001b[39mProgressBars v1.5.1\n",
      "  \u001b[90m[2913bbd2] \u001b[39mStatsBase v0.34.3\n",
      "  \u001b[90m[9a3f8284] \u001b[39mRandom\n"
     ]
    }
   ],
   "source": [
    "using ProgressBars\n",
    "using ITensors\n",
    "using PastaQ\n",
    "using RandomMeas"
   ]
  },
  {
   "cell_type": "code",
   "execution_count": 24,
   "id": "3a4dfb91-4c26-457c-b954-25aece57259e",
   "metadata": {},
   "outputs": [
    {
     "name": "stdout",
     "output_type": "stream",
     "text": [
      "\u001b[36m\u001b[1mProject\u001b[22m\u001b[39m RandomMeas v0.1.0\n",
      "\u001b[32m\u001b[1mStatus\u001b[22m\u001b[39m `/scratch/Codes/RandomMeas.jl/Project.toml`\n",
      "  \u001b[90m[861a8166] \u001b[39mCombinatorics v1.0.2\n",
      "  \u001b[90m[0d1a4710] \u001b[39mITensorMPS v0.2.3\n",
      "  \u001b[90m[9136182c] \u001b[39mITensors v0.6.10\n",
      "  \u001b[90m[0db19996] \u001b[39mNBInclude v2.3.0\n",
      "  \u001b[90m[91a5bcdd] \u001b[39mPlots v1.40.4\n",
      "  \u001b[90m[49802e3a] \u001b[39mProgressBars v1.5.1\n",
      "  \u001b[90m[2913bbd2] \u001b[39mStatsBase v0.34.3\n",
      "  \u001b[90m[9a3f8284] \u001b[39mRandom\n"
     ]
    },
    {
     "data": {
      "text/plain": [
       "v\"0.6.10\""
      ]
     },
     "execution_count": 24,
     "metadata": {},
     "output_type": "execute_result"
    }
   ],
   "source": [
    "using Pkg;Pkg.status()\n",
    "pkgversion(ITensors)"
   ]
  },
  {
   "cell_type": "code",
   "execution_count": 4,
   "id": "1627f745-c147-4aa8-ac3e-8a083cf63ee8",
   "metadata": {},
   "outputs": [
    {
     "name": "stdout",
     "output_type": "stream",
     "text": [
      "Index{Int64}[(dim=2|id=721|\"Qubit,Site,n=1\"), (dim=2|id=589|\"Qubit,Site,n=2\"), (dim=2|id=741|\"Qubit,Site,n=3\"), (dim=2|id=201|\"Qubit,Site,n=4\"), (dim=2|id=772|\"Qubit,Site,n=5\"), (dim=2|id=784|\"Qubit,Site,n=6\")]\n",
      "state prepared in the `experiment' 1 \n"
     ]
    }
   ],
   "source": [
    "#Perform RM in the first experiment\n",
    "N = 6\n",
    "circuit = randomcircuit(N, depth=2)\n",
    "noisemodel1 = (1 => (\"depolarizing\", (p = 0,)),2 => (\"depolarizing\", (p = 0.05,)))\n",
    "ρ1 = runcircuit(circuit;noise = noisemodel1);\n",
    "ξ = firstsiteinds(ρ1;plev=0)\n",
    "println(ξ)\n",
    "println(\"state prepared in the `experiment' 1 \")"
   ]
  },
  {
   "cell_type": "code",
   "execution_count": 9,
   "id": "587f976c-2f29-401a-b25f-c2228049284e",
   "metadata": {
    "editable": true,
    "slideshow": {
     "slide_type": ""
    },
    "tags": []
   },
   "outputs": [
    {
     "name": "stderr",
     "output_type": "stream",
     "text": [
      "0.0%┣                                             ┫ 0/200 [00:03<-9:-54, -3s/it]\n",
      "0.5%┣▏                                         ┫ 1/200 [00:14<Inf:Inf, InfGs/it]\n",
      "100.0%┣██████████████████████████████████████████┫ 200/200 [00:15<00:00, 14it/s]\n",
      "100.0%┣██████████████████████████████████████████┫ 200/200 [00:15<00:00, 14it/s]\n"
     ]
    }
   ],
   "source": [
    "#Perform Randomized measurements\n",
    "nu=200 #Number of random unitaries\n",
    "NM=1000 #Number of projective measurements per unitary\n",
    "u = Vector{Vector{ITensor}}()\n",
    "data1 = zeros(Int8,(nu,NM,N)) #Data storage\n",
    "for r in ProgressBar(1:nu, printing_delay=2)\n",
    "            push!(u,get_rotations(ξ,1)) #generate random unitary\n",
    "            data1[r,:,:] = get_RandomMeas(ρ1,u[r],NM) #data acquisation in simulated quantum device\n",
    "end"
   ]
  },
  {
   "cell_type": "code",
   "execution_count": 10,
   "id": "7d1df330-3677-4b9b-bd3c-0b93f3913148",
   "metadata": {},
   "outputs": [
    {
     "name": "stderr",
     "output_type": "stream",
     "text": [
      "\u001b[33m\u001b[1m┌ \u001b[22m\u001b[39m\u001b[33m\u001b[1mWarning: \u001b[22m\u001b[39mNoise model not defined for 2-qubit gates! Applying tensor-product noise instead.\n",
      "\u001b[33m\u001b[1m└ \u001b[22m\u001b[39m\u001b[90m@ PastaQ ~/.julia/packages/PastaQ/IVHHb/src/circuits/noise.jl:177\u001b[39m\n",
      "\u001b[33m\u001b[1m┌ \u001b[22m\u001b[39m\u001b[33m\u001b[1mWarning: \u001b[22m\u001b[39mNoise model not defined for 2-qubit gates! Applying tensor-product noise instead.\n",
      "\u001b[33m\u001b[1m└ \u001b[22m\u001b[39m\u001b[90m@ PastaQ ~/.julia/packages/PastaQ/IVHHb/src/circuits/noise.jl:177\u001b[39m\n",
      "\u001b[33m\u001b[1m┌ \u001b[22m\u001b[39m\u001b[33m\u001b[1mWarning: \u001b[22m\u001b[39mNoise model not defined for 2-qubit gates! Applying tensor-product noise instead.\n",
      "\u001b[33m\u001b[1m└ \u001b[22m\u001b[39m\u001b[90m@ PastaQ ~/.julia/packages/PastaQ/IVHHb/src/circuits/noise.jl:177\u001b[39m\n",
      "\u001b[33m\u001b[1m┌ \u001b[22m\u001b[39m\u001b[33m\u001b[1mWarning: \u001b[22m\u001b[39mNoise model not defined for 2-qubit gates! Applying tensor-product noise instead.\n",
      "\u001b[33m\u001b[1m└ \u001b[22m\u001b[39m\u001b[90m@ PastaQ ~/.julia/packages/PastaQ/IVHHb/src/circuits/noise.jl:177\u001b[39m\n",
      "\u001b[33m\u001b[1m┌ \u001b[22m\u001b[39m\u001b[33m\u001b[1mWarning: \u001b[22m\u001b[39mNoise model not defined for 2-qubit gates! Applying tensor-product noise instead.\n",
      "\u001b[33m\u001b[1m└ \u001b[22m\u001b[39m\u001b[90m@ PastaQ ~/.julia/packages/PastaQ/IVHHb/src/circuits/noise.jl:177\u001b[39m\n"
     ]
    },
    {
     "name": "stdout",
     "output_type": "stream",
     "text": [
      "state prepared in the `experiment' 2 \n"
     ]
    },
    {
     "name": "stderr",
     "output_type": "stream",
     "text": [
      "0.0%┣                                              ┫ 0/200 [00:00<00:00, -0s/it]\n",
      "100.0%┣█████████████████████████████████████████┫ 200/200 [00:01<00:00, 278it/s]\n",
      "100.0%┣█████████████████████████████████████████┫ 200/200 [00:01<00:00, 278it/s]\n"
     ]
    }
   ],
   "source": [
    "#Perform RM in the second experiment\n",
    "noisemodel2 = (1 => (\"amplitude_damping\", (γ = 0.1,)),2 => (\"amplitude_damping\", (γ = 0.1,)))\n",
    "ρ2 = runcircuit(circuit;noise = noisemodel2);\n",
    "ξ2 = [firstind(ρ2[i],tags=\"Site\",plev=0) for i in 1:N]\n",
    "for i in 1:N\n",
    "    replaceind!(ρ2[i],ξ2[i],ξ[i])\n",
    "    replaceind!(ρ2[i],ξ2[i]',ξ[i]')\n",
    "end\n",
    "println(\"state prepared in the `experiment' 2 \")\n",
    "data2 = zeros(Int8,(nu,NM,N))\n",
    "for r in ProgressBar(1:nu, printing_delay=2)\n",
    "                data2[r,:,:] = get_RandomMeas(ρ2,u[r],NM)\n",
    "end"
   ]
  },
  {
   "cell_type": "code",
   "execution_count": 11,
   "id": "52a8155a-8540-4cde-b077-1f9ddd261475",
   "metadata": {},
   "outputs": [],
   "source": [
    "#Build histograms for each unitary\n",
    "P1 = Vector{ITensor}()\n",
    "P2 = Vector{ITensor}()\n",
    "for r in 1:nu\n",
    "                push!(P1,get_Born(data1[r,:,:],ξ))\n",
    "                push!(P2,get_Born(data2[r,:,:],ξ))\n",
    "end"
   ]
  },
  {
   "cell_type": "code",
   "execution_count": 12,
   "id": "414f95db-0a39-4afa-9d9c-7e7833c9b2b0",
   "metadata": {},
   "outputs": [],
   "source": [
    "#Uncomment if you want to see an animation\n",
    "# using Plots\n",
    "# anim = @animate for r in 1:nu\n",
    "#     y1 =  reshape(array(P1[r]),(2^N))\n",
    "#     y2 =  reshape(array(P2[r]),(2^N))\n",
    "#     bar(y1,label=\"Experiment 1\")\n",
    "#     bar!(y2,label=\"Experiment 2\")\n",
    "#     xlabel!(\"bitstring index\")\n",
    "#     ylabel!(\"Probabilities\")\n",
    "#     title!(\"Random unitary $(r)\")\n",
    "# end\n",
    "# gif(anim,fps=0.5)"
   ]
  },
  {
   "cell_type": "code",
   "execution_count": 13,
   "id": "877b7fa8-cfb0-4c78-8e0f-399d41675d3e",
   "metadata": {},
   "outputs": [
    {
     "name": "stdout",
     "output_type": "stream",
     "text": [
      "Estimated overlap 0.4919364550000003\n",
      "Estimated purity1 0.6715464864864865\n",
      "Estimated purity2 0.38449006006006\n",
      "Estimated fidelity 0.7325426681536208\n"
     ]
    }
   ],
   "source": [
    "overlaps = 0\n",
    "for r in 1:nu\n",
    "    global overlaps += get_overlap(P1[r],P2[r],ξ,N)/nu\n",
    "end\n",
    "purity1s = get_purity_hamming(data1,ξ)\n",
    "purity2s = get_purity_hamming(data2,ξ)\n",
    "Fs = overlaps/max(purity1s,purity2s)\n",
    "println(\"Estimated overlap \",overlaps)\n",
    "println(\"Estimated purity1 \",purity1s)\n",
    "println(\"Estimated purity2 \",purity2s)\n",
    "println(\"Estimated fidelity \",Fs)"
   ]
  },
  {
   "cell_type": "code",
   "execution_count": 14,
   "id": "3a8dd170-0ed1-48f2-a1d5-20673b1cc419",
   "metadata": {},
   "outputs": [
    {
     "name": "stdout",
     "output_type": "stream",
     "text": [
      "overlap 0.501489278892665\n",
      "purity1 0.6560675592516233\n",
      "purity2 0.40590907973637697\n",
      "fidelity 0.7643866425352812\n"
     ]
    }
   ],
   "source": [
    "overlap = real(inner(ρ1,ρ2))\n",
    "purity1 = get_purity(ρ1)\n",
    "purity2 = get_purity(ρ2)\n",
    "F = overlap/max(purity1,purity2)\n",
    "println(\"overlap \",overlap)\n",
    "println(\"purity1 \",purity1)\n",
    "println(\"purity2 \",purity2)\n",
    "println(\"fidelity \",F)"
   ]
  },
  {
   "cell_type": "code",
   "execution_count": null,
   "id": "987313b8-eda4-4842-8824-ef898a9288ed",
   "metadata": {},
   "outputs": [],
   "source": []
  }
 ],
 "metadata": {
  "kernelspec": {
   "display_name": "Julia 1.10.0",
   "language": "julia",
   "name": "julia-1.10"
  },
  "language_info": {
   "file_extension": ".jl",
   "mimetype": "application/julia",
   "name": "julia",
   "version": "1.10.0"
  }
 },
 "nbformat": 4,
 "nbformat_minor": 5
}
