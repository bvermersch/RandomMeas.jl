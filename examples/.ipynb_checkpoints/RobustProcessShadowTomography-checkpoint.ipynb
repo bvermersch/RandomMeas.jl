{
 "cells": [
  {
   "cell_type": "code",
   "execution_count": 1,
   "id": "4f0311a9-bfed-432e-8f6f-f5ce7f434df0",
   "metadata": {},
   "outputs": [],
   "source": [
    "using Revise\n",
    "push!(LOAD_PATH,\"/scratch/Codes/RandomMeas_dev.jl/src/\")\n",
    "using ProgressBars\n",
    "using ITensors\n",
    "using PastaQ\n",
    "using RandomMeas"
   ]
  },
  {
   "cell_type": "code",
   "execution_count": 2,
   "id": "a12cdfb5-7b52-49a3-953e-9789c1566d8d",
   "metadata": {},
   "outputs": [
    {
     "name": "stdout",
     "output_type": "stream",
     "text": [
      " -- Process Fidelity 0.9604266666666653\n"
     ]
    }
   ],
   "source": [
    "N = 2\n",
    "depth = 2\n",
    "nu = 1000\n",
    "NM = 10000\n",
    "circuit    = randomcircuit(N, depth=depth)\n",
    "noisemodel = (1 => (\"depolarizing\", (p = 0.02,)),2 => (\"depolarizing\", (p = 0.02,)))\n",
    "noisemodel0 = (1 => (\"depolarizing\", (p = 0.0,)),2 => (\"depolarizing\", (p = 0.0,)))\n",
    "Λ0 = runcircuit(circuit; process = true, noise = noisemodel0)\n",
    "ξ0 = [firstind(Λ0[i],tags=\"Input\",plev=0) for i in 1:N]\n",
    "ξ20 = [firstind(Λ0[i],tags=\"Output\",plev=0) for i in 1:N]\n",
    "Λ = runcircuit(circuit; process = true, noise = noisemodel)\n",
    "ξ = [firstind(Λ[i],tags=\"Input\",plev=0) for i in 1:N]\n",
    "ξ2 = [firstind(Λ[i],tags=\"Output\",plev=0) for i in 1:N]\n",
    "for i in 1:N\n",
    "    Λ0[i] = replaceind(Λ0[i],ξ0[i],ξ[i])\n",
    "    Λ0[i] = replaceind(Λ0[i],ξ0'[i],ξ'[i])\n",
    "    Λ0[i] = replaceind(Λ0[i],ξ20[i],ξ2[i])\n",
    "    Λ0[i] = replaceind(Λ0[i],ξ20'[i],ξ2'[i])\n",
    "end\n",
    "F = fidelity(Λ,Λ0)\n",
    "println(\" -- Process Fidelity \", F)"
   ]
  },
  {
   "cell_type": "code",
   "execution_count": 3,
   "id": "79eecc3a-b4ab-45ed-8e19-2170cf4ac4bd",
   "metadata": {},
   "outputs": [],
   "source": [
    "p_i,p_f,dp = 0.05,0.05,0.02\n",
    "p_i_vec = [max(0, min(p_i + dp * randn(), 1)) for i in 1:N]\n",
    "p_f_vec = [max(0, min(p_f + dp * randn(), 1)) for i in 1:N]\n",
    "Gi = 1 .-p_i_vec/2\n",
    "Gf = 1 .-p_f_vec/2\n",
    "states = [\"Dn\" for n in 1:N]\n",
    "ψ  = MPS(ComplexF64,ξ,states)\n",
    "ρ = outer(ψ',ψ)\n",
    "data = zeros(Int8,(NM,N));"
   ]
  },
  {
   "cell_type": "code",
   "execution_count": 4,
   "id": "86eb64c0-aa95-444d-ada3-cd65a3c2697f",
   "metadata": {},
   "outputs": [
    {
     "name": "stderr",
     "output_type": "stream",
     "text": [
      "0.0%┣                                         ┫ 0/1.0k [00:04<-1:-11:-9, -4s/it]\n",
      "0.1%┣                                         ┫ 1/1.0k [00:18<Inf:Inf, InfGs/it]\n",
      "18.1%┣███████▉                                   ┫ 181/1.0k [00:20<01:30, 9it/s]\n",
      "35.0%┣██████████████▊                           ┫ 350/1.0k [00:22<00:41, 16it/s]\n",
      "54.8%┣███████████████████████                   ┫ 548/1.0k [00:24<00:20, 23it/s]\n",
      "75.9%┣███████████████████████████████▉          ┫ 759/1.0k [00:26<00:08, 29it/s]\n",
      "97.1%┣████████████████████████████████████████▉ ┫ 971/1.0k [00:28<00:01, 35it/s]\n",
      "100.0%┣████████████████████████████████████████┫ 1.0k/1.0k [00:28<00:00, 36it/s]\n",
      "100.0%┣████████████████████████████████████████┫ 1.0k/1.0k [00:28<00:00, 36it/s]\n"
     ]
    },
    {
     "name": "stdout",
     "output_type": "stream",
     "text": [
      "[0.9726401430873799, 0.9672195030885684]\n",
      "[0.9720267603666479, 0.9675632387381994]\n"
     ]
    }
   ],
   "source": [
    "#First Calibration experiment\n",
    "Gfs = zeros(Float64,N)\n",
    "for r in ProgressBar(1:nu, printing_delay=2)\n",
    "        uf = get_rotations(ξ,1) #Haar rotations in A\n",
    "        ρn = copy(ρ)\n",
    "        Apply_depo_channel!(ρn,ξ,p_f_vec)\n",
    "        get_RandomMeas!(data,ρn,uf,NM)\n",
    "        σu = rotate_b(ρ,uf)\n",
    "        for i in 1:N\n",
    "            P = get_Born_data_binary(data[:,i:i],ξ[i:i])\n",
    "            σui,ξi = reduce_dm(σu,collect(i:i))\n",
    "            Pσ = get_Born(σui)\n",
    "            Gfs[i] += real((3*(P-Pσ)*Pσ)[]+1)/nu\n",
    "        end\n",
    "end\n",
    "println(Gf)\n",
    "println(Gfs)"
   ]
  },
  {
   "cell_type": "code",
   "execution_count": 5,
   "id": "ee221357-e1be-4c7d-9327-13b0cbfc2759",
   "metadata": {},
   "outputs": [
    {
     "name": "stderr",
     "output_type": "stream",
     "text": [
      "0.0%┣                                             ┫ 0/1.0k [00:00<00:00, -0s/it]\n",
      "20.8%┣████████▌                                ┫ 208/1.0k [00:02<00:08, 103it/s]\n",
      "42.0%┣█████████████████▏                       ┫ 420/1.0k [00:04<00:06, 104it/s]\n",
      "61.6%┣█████████████████████████▎               ┫ 616/1.0k [00:06<00:04, 102it/s]\n",
      "84.0%┣██████████████████████████████████▍      ┫ 840/1.0k [00:08<00:02, 105it/s]\n",
      "100.0%┣███████████████████████████████████████┫ 1.0k/1.0k [00:09<00:00, 106it/s]\n",
      "100.0%┣███████████████████████████████████████┫ 1.0k/1.0k [00:09<00:00, 106it/s]\n"
     ]
    },
    {
     "name": "stdout",
     "output_type": "stream",
     "text": [
      "[0.9889415747917318, 0.981004671597158]\n",
      "[0.9919840632447084, 0.980218369484834]\n"
     ]
    }
   ],
   "source": [
    "#Second Calibration experiment\n",
    "C = zeros(Float64,N)\n",
    "for r in ProgressBar(1:nu, printing_delay=2)\n",
    "        ui = get_rotations(ξ,1) #Haar rotations in A\n",
    "        uf = get_rotations(ξ,1) #Haar rotations in A\n",
    "        ρ1 = copy(ρ)\n",
    "        Apply_depo_channel!(ρ1,ξ,p_i_vec)\n",
    "        ρu = rotate_b(ρ1,ui)\n",
    "        Apply_depo_channel!(ρu,ξ,p_f_vec)\n",
    "        get_RandomMeas!(data,ρu,uf,NM)\n",
    "        σu = rotate_b(rotate_b(ρ,ui),uf)\n",
    "        for i in 1:N\n",
    "            P = get_Born_data_binary(data[:,i:i],ξ[i:i])\n",
    "            σui,ξi = reduce_dm(σu,collect(i:i))\n",
    "            Pσ = get_Born(σui)\n",
    "            C[i] += real(((P-Pσ)*Pσ)[]+2/3)/nu\n",
    "        end\n",
    "end\n",
    "Gis = (3*C.-2 .+ Gfs)./(2*Gfs.-1)\n",
    "println(Gi)\n",
    "println(Gis)"
   ]
  },
  {
   "cell_type": "code",
   "execution_count": 6,
   "id": "22a4553d-1a3c-4514-a1f1-993254eb6a69",
   "metadata": {},
   "outputs": [
    {
     "name": "stderr",
     "output_type": "stream",
     "text": [
      "0.0%┣                                             ┫ 0/1.0k [00:00<00:00, -0s/it]\n",
      "0.1%┣                                         ┫ 1/1.0k [00:21<Inf:Inf, InfGs/it]\n",
      "15.0%┣██████▌                                    ┫ 150/1.0k [00:23<02:12, 6it/s]\n",
      "30.3%┣████████████▊                             ┫ 303/1.0k [00:25<00:58, 12it/s]\n",
      "45.1%┣███████████████████                       ┫ 451/1.0k [00:27<00:33, 17it/s]\n",
      "60.5%┣█████████████████████████▍                ┫ 605/1.0k [00:29<00:19, 21it/s]\n",
      "75.9%┣███████████████████████████████▉          ┫ 759/1.0k [00:31<00:10, 24it/s]\n",
      "91.0%┣██████████████████████████████████████▏   ┫ 910/1.0k [00:33<00:03, 27it/s]\n",
      "100.0%┣████████████████████████████████████████┫ 1.0k/1.0k [00:34<00:00, 29it/s]\n",
      "100.0%┣████████████████████████████████████████┫ 1.0k/1.0k [00:34<00:00, 29it/s]\n"
     ]
    }
   ],
   "source": [
    "#NON-MITIGATED\n",
    "states = [\"Dn\" for n in 1:N]\n",
    "ψ  = MPS(ComplexF64,ξ,states)\n",
    "ρ = outer(ψ',ψ)\n",
    "data = zeros(Int8,(NM,N))\n",
    "Λs = ITensor(vcat(ξ,ξ',ξ2,ξ2'))\n",
    "Λs_CRM = ITensor(vcat(ξ,ξ',ξ2,ξ2'))\n",
    "\n",
    "P0 = state(ξ[1],\"Dn\")\n",
    "for i in 2:N\n",
    "    P0 *= state(ξ[i],\"Dn\")\n",
    "end\n",
    "\n",
    "Fs_CRM = zeros(Float64,nu)\n",
    "\n",
    "for r in ProgressBar(1:nu, printing_delay=2)   \n",
    "        ui = get_rotations(ξ,1) #Haar rotations in A\n",
    "        uf = get_rotations(ξ,1) #Haar rotations in A\n",
    "        ### Quantum Measurements\n",
    "        ρ1 = copy(ρ)\n",
    "        Apply_depo_channel!(ρ1,ξ,p_i_vec)\n",
    "        ρe = runcircuit(rotate_b(ρ1,ui),circuit,noise=noisemodel)\n",
    "        Apply_depo_channel!(ρe,ξ,p_f_vec)\n",
    "        get_RandomMeas!(data,ρe,uf,NM)\n",
    "\n",
    "        #Build shadow for the initial state\n",
    "        uid = [dag(swapinds(ui[i],ξ[i],ξ[i]')) for i in 1:N]\n",
    "        ρi = get_shadow(P0,ξ,uid)\n",
    "        ρi = swapinds(ρi,ξ,ξ')\n",
    "        \n",
    "        #Build shadow for the final state\n",
    "        P = get_Born_data_binary(data,ξ)\n",
    "        ρf = get_shadow(P,ξ,uf)\n",
    "        replaceinds!(ρf,ξ,ξ2)\n",
    "        replaceinds!(ρf,ξ',ξ2')\n",
    "\n",
    "        #Form process shadow\n",
    "        Λt = 2^N*ρi*ρf\n",
    "    \n",
    "        #Repeat the same thing for simulated measurements\n",
    "        σi = get_shadow(P0,ξ,uid)\n",
    "        σi = swapinds(σi,ξ,ξ')\n",
    "        σe = runcircuit(rotate_b(ρ,ui),circuit,noise=noisemodel0)\n",
    "        Pσ = get_Born(rotate_b(σe,uf))\n",
    "        σf = get_shadow(Pσ,ξ,uf)\n",
    "        replaceinds!(σf,ξ,ξ2)\n",
    "        replaceinds!(σf,ξ',ξ2')        \n",
    "\n",
    "        Λt_CRM = Λt-2^N*σi*σf+flatten(Λ0)\n",
    "        Λs_CRM += Λt_CRM\n",
    "        Fs_CRM[r] = real(inner(Λs_CRM,flatten(Λ0))/2^(2*N))/r\n",
    "end"
   ]
  },
  {
   "cell_type": "code",
   "execution_count": 7,
   "id": "78214cde-afa1-4dd8-9bcc-10acfadf8f30",
   "metadata": {},
   "outputs": [
    {
     "name": "stderr",
     "output_type": "stream",
     "text": [
      "0.0%┣                                             ┫ 0/1.0k [00:00<00:00, -0s/it]\n",
      "13.3%┣█████▋                                    ┫ 133/1.0k [00:02<00:13, 66it/s]\n",
      "28.7%┣████████████                              ┫ 287/1.0k [00:04<00:10, 71it/s]\n",
      "43.4%┣██████████████████▎                       ┫ 434/1.0k [00:06<00:08, 72it/s]\n",
      "56.7%┣███████████████████████▉                  ┫ 567/1.0k [00:08<00:06, 71it/s]\n",
      "69.8%┣█████████████████████████████▎            ┫ 698/1.0k [00:10<00:04, 69it/s]\n",
      "82.1%┣██████████████████████████████████▌       ┫ 821/1.0k [00:12<00:03, 68it/s]\n",
      "96.7%┣████████████████████████████████████████▋ ┫ 967/1.0k [00:14<00:00, 69it/s]\n",
      "100.0%┣████████████████████████████████████████┫ 1.0k/1.0k [00:15<00:00, 68it/s]\n",
      "100.0%┣████████████████████████████████████████┫ 1.0k/1.0k [00:15<00:00, 68it/s]\n"
     ]
    }
   ],
   "source": [
    "#MITIGATED\n",
    "Λs = ITensor(vcat(ξ,ξ',ξ2,ξ2'))\n",
    "Λs_CRM = ITensor(vcat(ξ,ξ',ξ2,ξ2'))\n",
    "Fs_CRM_mit = zeros(Float64,nu)\n",
    "\n",
    "for r in ProgressBar(1:nu, printing_delay=2)   \n",
    "        ui = get_rotations(ξ,1) #Haar rotations in A\n",
    "        uf = get_rotations(ξ,1) #Haar rotations in A\n",
    "        ### Quantum Measurements\n",
    "        ρ1 = copy(ρ)\n",
    "        Apply_depo_channel!(ρ1,ξ,p_i_vec)\n",
    "        ρe = runcircuit(rotate_b(ρ1,ui),circuit,noise=noisemodel)\n",
    "        Apply_depo_channel!(ρe,ξ,p_f_vec)\n",
    "        get_RandomMeas!(data,ρe,uf,NM)\n",
    "\n",
    "        #Build shadow for the initial state\n",
    "        uid = [dag(swapinds(ui[i],ξ[i],ξ[i]')) for i in 1:N]\n",
    "        ρi = get_shadow(P0,ξ,uid;G=Gis)\n",
    "\n",
    "        ρi = swapinds(ρi,ξ,ξ')\n",
    "        \n",
    "        #Build shadow for the final state\n",
    "        P = get_Born_data_binary(data,ξ)\n",
    "        ρf = get_shadow(P,ξ,uf;G=Gfs)  \n",
    "        replaceinds!(ρf,ξ,ξ2)\n",
    "        replaceinds!(ρf,ξ',ξ2')\n",
    "    \n",
    "        #Form process shadow \n",
    "        Λt = 2^N*ρi*ρf\n",
    "    \n",
    "        #Repeat the same thing for simulated measurements\n",
    "        σi = get_shadow(P0,ξ,uid)\n",
    "        σi = swapinds(σi,ξ,ξ')\n",
    "        σe = runcircuit(rotate_b(ρ,ui),circuit,noise=noisemodel0)\n",
    "        Pσ = get_Born(rotate_b(σe,uf))\n",
    "        σf = get_shadow(Pσ,ξ,uf)\n",
    "        replaceinds!(σf,ξ,ξ2)\n",
    "        replaceinds!(σf,ξ',ξ2')        \n",
    "\n",
    "        Λt_CRM = Λt-2^N*σi*σf+flatten(Λ0)\n",
    "        Λs_CRM += Λt_CRM\n",
    "        Fs_CRM_mit[r] = real(inner(Λs_CRM,flatten(Λ0))/2^(2*N))/r\n",
    "end"
   ]
  },
  {
   "cell_type": "code",
   "execution_count": 8,
   "id": "50d3d44d-38d9-43fd-9f57-a6a91c4436ff",
   "metadata": {},
   "outputs": [
    {
     "data": {
      "image/png": "[encoded data removed]",
      "text/plain": [
       "Figure(PyObject <Figure size 640x480 with 1 Axes>)"
      ]
     },
     "metadata": {},
     "output_type": "display_data"
    },
    {
     "data": {
      "text/plain": [
       "PyObject <matplotlib.legend.Legend object at 0x7fa6b5fce4d0>"
      ]
     },
     "execution_count": 8,
     "metadata": {},
     "output_type": "execute_result"
    }
   ],
   "source": [
    "using PyPlot\n",
    "plot(1:nu,Fs_CRM)\n",
    "plot(1:nu,Fs_CRM_mit)\n",
    "plot(1:nu,F*ones(nu),\"--k\")\n",
    "xscale(\"log\")\n",
    "#yscale(\"log\")\n",
    "ylim(ymax=1)\n",
    "ylabel(\"Fidelity\")\n",
    "xlabel(\"unitaries\")\n",
    "legend([\"Non-Mitigated\",\"Mitigated\",\"exact\"])"
   ]
  },
  {
   "cell_type": "code",
   "execution_count": null,
   "id": "48e5a78e-fcc6-44e7-97b7-0a940d11d6a0",
   "metadata": {},
   "outputs": [],
   "source": []
  }
 ],
 "metadata": {
  "kernelspec": {
   "display_name": "Julia 1.10.0",
   "language": "julia",
   "name": "julia-1.10"
  },
  "language_info": {
   "file_extension": ".jl",
   "mimetype": "application/julia",
   "name": "julia",
   "version": "1.10.0"
  }
 },
 "nbformat": 4,
 "nbformat_minor": 5
}
