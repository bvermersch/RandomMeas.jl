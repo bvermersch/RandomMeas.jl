{
 "cells": [
  {
   "cell_type": "code",
   "execution_count": 1,
   "id": "2a2c0683-6ec3-4b0e-ba9c-5f94cac50deb",
   "metadata": {},
   "outputs": [],
   "source": [
    "using ITensors,ITensorMPS\n",
    "using RandomMeas\n",
    "using ProgressBars"
   ]
  },
  {
   "cell_type": "code",
   "execution_count": 2,
   "id": "961af975-be8e-4ed7-b4d8-34dbdd7edf69",
   "metadata": {},
   "outputs": [],
   "source": [
    "N  = 10\n",
    "χ = 2^(N÷2)\n",
    "ξ = siteinds(\"Qubit\", N)\n",
    "ψ = randomMPS(ξ; linkdims=χ);"
   ]
  },
  {
   "cell_type": "code",
   "execution_count": 3,
   "id": "ee663b38-5049-4acb-befe-d1c0cf58d046",
   "metadata": {},
   "outputs": [
    {
     "name": "stdout",
     "output_type": "stream",
     "text": [
      "NA = 1\n",
      "NA = 2\n",
      "NA = 3\n",
      "NA = 4\n",
      "NA = 5\n"
     ]
    }
   ],
   "source": [
    "NAmax = N÷2\n",
    "nmax = 3\n",
    "p = zeros(NAmax,nmax-1)\n",
    "C3 = zeros(NAmax)\n",
    "r2 = zeros(NAmax)\n",
    "ITensors.disable_warn_order()\n",
    "for NA in 1:NAmax\n",
    "    NAB = 2*NA\n",
    "    ρT,ξAB = reduce_dm(ψ,1,NAB)\n",
    "    ρT = flatten(ρT)\n",
    "    for i in 1:NA\n",
    "        ρT  = swapind(ρT,ξAB[i],ξAB[i]')\n",
    "    end\n",
    "    D, U = eigen(ρT, ξAB, ξAB')\n",
    "    for k in 1:nmax-1\n",
    "        for s in 1:dim(D,1)\n",
    "            p[NA,k] += D[s,s]^(k+1)\n",
    "        end\n",
    "    end\n",
    "    @show NA\n",
    "    C3[NA] = p[NA,1]^2/p[NA,2]\n",
    "end"
   ]
  },
  {
   "cell_type": "code",
   "execution_count": 7,
   "id": "2278f399-832e-4bbb-a8c8-e8a094473a0d",
   "metadata": {},
   "outputs": [
    {
     "name": "stderr",
     "output_type": "stream",
     "text": [
      "0.0%┣                                             ┫ 0/2.0k [00:00<00:00, -0s/it]\n",
      "0.1%┣                                         ┫ 1/2.0k [00:39<Inf:Inf, InfGs/it]\n",
      "1.6%┣▊                                            ┫ 32/2.0k [00:41<43:24, 1s/it]\n",
      "3.1%┣█▍                                           ┫ 62/2.0k [00:43<22:47, 1it/s]\n",
      "4.5%┣██                                           ┫ 90/2.0k [00:45<16:08, 2it/s]\n",
      "5.9%┣██▋                                         ┫ 118/2.0k [00:47<12:38, 2it/s]\n",
      "7.2%┣███▏                                        ┫ 145/2.0k [00:49<10:33, 3it/s]\n",
      "8.8%┣███▉                                        ┫ 175/2.0k [00:51<08:57, 3it/s]\n",
      "10.2%┣████▍                                      ┫ 204/2.0k [00:53<07:51, 4it/s]\n",
      "11.6%┣█████                                      ┫ 232/2.0k [00:55<07:03, 4it/s]\n",
      "13.2%┣█████▋                                     ┫ 263/2.0k [00:57<06:20, 5it/s]\n",
      "14.7%┣██████▎                                    ┫ 294/2.0k [00:59<05:46, 5it/s]\n",
      "16.2%┣███████                                    ┫ 325/2.0k [01:01<05:18, 5it/s]\n",
      "17.6%┣███████▋                                   ┫ 353/2.0k [01:04<04:57, 6it/s]\n",
      "19.1%┣████████▏                                  ┫ 381/2.0k [01:06<04:39, 6it/s]\n",
      "20.2%┣████████▊                                  ┫ 405/2.0k [01:08<04:27, 6it/s]\n",
      "21.4%┣█████████▎                                 ┫ 429/2.0k [01:10<04:16, 6it/s]\n",
      "22.9%┣█████████▉                                 ┫ 458/2.0k [01:12<04:02, 6it/s]\n",
      "24.2%┣██████████▍                                ┫ 485/2.0k [01:14<03:51, 7it/s]\n",
      "25.6%┣███████████                                ┫ 512/2.0k [01:16<03:40, 7it/s]\n",
      "26.7%┣███████████▌                               ┫ 533/2.0k [01:18<03:35, 7it/s]\n",
      "27.7%┣████████████                               ┫ 554/2.0k [01:20<03:29, 7it/s]\n",
      "28.6%┣████████████▎                              ┫ 572/2.0k [01:22<03:25, 7it/s]\n",
      "29.9%┣████████████▉                              ┫ 598/2.0k [01:24<03:17, 7it/s]\n",
      "31.4%┣█████████████▌                             ┫ 629/2.0k [01:26<03:08, 7it/s]\n",
      "33.0%┣██████████████▏                            ┫ 659/2.0k [01:28<02:59, 7it/s]\n",
      "34.4%┣██████████████▉                            ┫ 689/2.0k [01:30<02:52, 8it/s]\n",
      "35.9%┣███████████████▍                           ┫ 718/2.0k [01:32<02:45, 8it/s]\n",
      "37.4%┣████████████████                           ┫ 748/2.0k [01:34<02:38, 8it/s]\n",
      "38.9%┣████████████████▊                          ┫ 777/2.0k [01:36<02:32, 8it/s]\n",
      "40.2%┣█████████████████▎                         ┫ 804/2.0k [01:38<02:26, 8it/s]\n",
      "41.6%┣██████████████████                         ┫ 833/2.0k [01:40<02:21, 8it/s]\n",
      "43.1%┣██████████████████▌                        ┫ 862/2.0k [01:42<02:15, 8it/s]\n",
      "44.6%┣███████████████████▏                       ┫ 892/2.0k [01:44<02:10, 9it/s]\n",
      "45.9%┣███████████████████▊                       ┫ 917/2.0k [01:46<02:06, 9it/s]\n",
      "47.1%┣████████████████████▎                      ┫ 943/2.0k [01:49<02:02, 9it/s]\n",
      "47.9%┣████████████████████▋                      ┫ 959/2.0k [01:51<02:00, 9it/s]\n",
      "48.8%┣█████████████████████                      ┫ 976/2.0k [01:53<01:58, 9it/s]\n",
      "50.0%┣█████████████████████                     ┫ 1.0k/2.0k [01:55<01:55, 9it/s]\n",
      "51.1%┣█████████████████████▌                    ┫ 1.0k/2.0k [01:57<01:52, 9it/s]\n",
      "52.3%┣██████████████████████                    ┫ 1.0k/2.0k [01:59<01:48, 9it/s]\n",
      "53.5%┣██████████████████████▌                   ┫ 1.1k/2.0k [02:01<01:45, 9it/s]\n",
      "54.5%┣███████████████████████                   ┫ 1.1k/2.0k [02:03<01:42, 9it/s]\n",
      "55.7%┣███████████████████████▍                  ┫ 1.1k/2.0k [02:05<01:39, 9it/s]\n",
      "57.0%┣████████████████████████                  ┫ 1.1k/2.0k [02:07<01:36, 9it/s]\n",
      "58.6%┣████████████████████████▋                 ┫ 1.2k/2.0k [02:09<01:31, 9it/s]\n",
      "60.2%┣█████████████████████████▎                ┫ 1.2k/2.0k [02:11<01:27, 9it/s]\n",
      "61.8%┣██████████████████████████                ┫ 1.2k/2.0k [02:13<01:22, 9it/s]\n",
      "63.3%┣██████████████████████████▋               ┫ 1.3k/2.0k [02:15<01:18, 9it/s]\n",
      "65.0%┣███████████████████████████▎              ┫ 1.3k/2.0k [02:17<01:14, 9it/s]\n",
      "66.5%┣███████████████████████████▎             ┫ 1.3k/2.0k [02:19<01:10, 10it/s]\n",
      "67.8%┣███████████████████████████▉             ┫ 1.4k/2.0k [02:21<01:07, 10it/s]\n",
      "69.2%┣████████████████████████████▍            ┫ 1.4k/2.0k [02:23<01:04, 10it/s]\n",
      "70.7%┣█████████████████████████████            ┫ 1.4k/2.0k [02:25<01:00, 10it/s]\n",
      "72.1%┣█████████████████████████████▋           ┫ 1.4k/2.0k [02:27<00:57, 10it/s]\n",
      "73.5%┣██████████████████████████████▏          ┫ 1.5k/2.0k [02:29<00:54, 10it/s]\n",
      "74.8%┣██████████████████████████████▋          ┫ 1.5k/2.0k [02:31<00:51, 10it/s]\n",
      "76.0%┣███████████████████████████████▏         ┫ 1.5k/2.0k [02:33<00:48, 10it/s]\n",
      "77.5%┣███████████████████████████████▊         ┫ 1.5k/2.0k [02:35<00:45, 10it/s]\n",
      "78.8%┣████████████████████████████████▎        ┫ 1.6k/2.0k [02:37<00:42, 10it/s]\n",
      "80.2%┣█████████████████████████████████        ┫ 1.6k/2.0k [02:39<00:39, 10it/s]\n",
      "81.6%┣█████████████████████████████████▌       ┫ 1.6k/2.0k [02:41<00:36, 10it/s]\n",
      "83.0%┣██████████████████████████████████       ┫ 1.7k/2.0k [02:43<00:34, 10it/s]\n",
      "84.4%┣██████████████████████████████████▋      ┫ 1.7k/2.0k [02:45<00:31, 10it/s]\n",
      "85.9%┣███████████████████████████████████▏     ┫ 1.7k/2.0k [02:48<00:28, 10it/s]\n",
      "87.3%┣███████████████████████████████████▉     ┫ 1.7k/2.0k [02:50<00:25, 10it/s]\n",
      "88.8%┣████████████████████████████████████▍    ┫ 1.8k/2.0k [02:52<00:22, 10it/s]\n",
      "90.1%┣█████████████████████████████████████    ┫ 1.8k/2.0k [02:54<00:19, 10it/s]\n",
      "91.5%┣█████████████████████████████████████▌   ┫ 1.8k/2.0k [02:56<00:16, 10it/s]\n",
      "93.0%┣██████████████████████████████████████▏  ┫ 1.9k/2.0k [02:58<00:13, 10it/s]\n",
      "94.5%┣██████████████████████████████████████▊  ┫ 1.9k/2.0k [03:00<00:10, 11it/s]\n",
      "96.0%┣███████████████████████████████████████▍ ┫ 1.9k/2.0k [03:02<00:08, 11it/s]\n",
      "97.3%┣████████████████████████████████████████ ┫ 1.9k/2.0k [03:04<00:05, 11it/s]\n",
      "98.7%┣████████████████████████████████████████▌┫ 2.0k/2.0k [03:06<00:02, 11it/s]\n",
      "100.0%┣████████████████████████████████████████┫ 2.0k/2.0k [03:08<00:00, 11it/s]\n",
      "100.0%┣████████████████████████████████████████┫ 2.0k/2.0k [03:08<00:00, 11it/s]\n"
     ]
    }
   ],
   "source": [
    "#Perform Randomized measurements\n",
    "nu=2000\n",
    "NM=100\n",
    "data = zeros(Int8,(nu,NM,N))\n",
    "u = Vector{Vector{ITensor}}()\n",
    "for r in ProgressBar(1:nu, printing_delay=2)\n",
    "    push!(u,get_rotations(ξ,1)) #Haar rotations in A\n",
    "    data[r,:,:] = get_RandomMeas(ψ,u[r],NM)\n",
    "end"
   ]
  },
  {
   "cell_type": "code",
   "execution_count": 8,
   "id": "a0ca2989-be5b-476e-9ae7-db34b4dc4835",
   "metadata": {},
   "outputs": [
    {
     "name": "stderr",
     "output_type": "stream",
     "text": [
      "0.0%┣                                                ┫ 0/5 [00:00<00:00, -0s/it]\n",
      "20.0%┣████████▋                                  ┫ 1/5 [00:12<Inf:Inf, InfGs/it]\n",
      "40.0%┣██████████████████▉                            ┫ 2/5 [00:41<02:03, 41s/it]\n",
      "60.0%┣████████████████████████████▏                  ┫ 3/5 [01:19<01:19, 40s/it]\n",
      "80.0%┣█████████████████████████████████████▋         ┫ 4/5 [02:17<00:46, 46s/it]\n",
      "100.0%┣██████████████████████████████████████████████┫ 5/5 [06:27<00:00, 97s/it]\n",
      "100.0%┣██████████████████████████████████████████████┫ 5/5 [06:27<00:00, 97s/it]\n"
     ]
    }
   ],
   "source": [
    "C3s = zeros(NAmax)\n",
    "for NA in ProgressBar(1:NAmax, printing_delay=2)\n",
    "    NAB = 2*NA\n",
    "    uAB = [ut[1:NAB] for ut in u]\n",
    "    ξAB = ξ[1:NAB]\n",
    "    #@show NA\n",
    "    ρs = get_batch_shadows(data[:,:,1:NAB],ξAB,uAB,nmax)\n",
    "    for n in 1:nmax\n",
    "        for i in 1:NA\n",
    "             ρs[n] = swapind(ρs[n],ξAB[i],ξAB[i]')\n",
    "        end\n",
    "    end\n",
    "    p = get_moments(ρs, ξAB, nmax, nu)\n",
    "    #@show p\n",
    "    C3s[NA] = p[1]^2/p[2]\n",
    "end"
   ]
  },
  {
   "cell_type": "code",
   "execution_count": 9,
   "id": "01deba5b-a8c8-49b5-a228-bd4b720e688e",
   "metadata": {},
   "outputs": [
    {
     "data": {
      "image/png": "[encoded data removed]",
      "text/plain": [
       "Figure(PyObject <Figure size 640x480 with 1 Axes>)"
      ]
     },
     "metadata": {},
     "output_type": "display_data"
    },
    {
     "data": {
      "text/plain": [
       "PyObject <matplotlib.legend.Legend object at 0x7f5af29df050>"
      ]
     },
     "execution_count": 9,
     "metadata": {},
     "output_type": "execute_result"
    }
   ],
   "source": [
    "using PyPlot\n",
    "PyPlot.plot(1:NAmax,C3,label=\"C3\")\n",
    "PyPlot.plot(1:NAmax,C3s,label=\"C3 [est]\")\n",
    "PyPlot.plot(1:NAmax,ones(NAmax),\"--k\")\n",
    "xlabel(\"N_A\")\n",
    "yscale(\"log\")\n",
    "ylabel(\"Entanglement criterion\")\n",
    "legend()"
   ]
  }
 ],
 "metadata": {
  "kernelspec": {
   "display_name": "Julia 1.10.0",
   "language": "julia",
   "name": "julia-1.10"
  },
  "language_info": {
   "file_extension": ".jl",
   "mimetype": "application/julia",
   "name": "julia",
   "version": "1.10.0"
  }
 },
 "nbformat": 4,
 "nbformat_minor": 5
}
