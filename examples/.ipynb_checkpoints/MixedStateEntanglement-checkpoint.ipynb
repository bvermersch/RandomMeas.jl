{
 "cells": [
  {
   "cell_type": "code",
   "execution_count": 1,
   "id": "2a2c0683-6ec3-4b0e-ba9c-5f94cac50deb",
   "metadata": {},
   "outputs": [
    {
     "name": "stderr",
     "output_type": "stream",
     "text": [
      "\u001b[36m\u001b[1m[ \u001b[22m\u001b[39m\u001b[36m\u001b[1mInfo: \u001b[22m\u001b[39mPrecompiling RandomMeas [top-level]\n"
     ]
    }
   ],
   "source": [
    "using Revise\n",
    "using ITensors\n",
    "using PastaQ\n",
    "push!(LOAD_PATH,\"../src/\")\n",
    "using RandomMeas\n",
    "using ProgressBars"
   ]
  },
  {
   "cell_type": "code",
   "execution_count": 2,
   "id": "961af975-be8e-4ed7-b4d8-34dbdd7edf69",
   "metadata": {},
   "outputs": [],
   "source": [
    "N  = 10\n",
    "χ = 2^(N÷2)\n",
    "ξ = siteinds(\"Qubit\", N)\n",
    "ψ = randomMPS(ξ; linkdims=χ);"
   ]
  },
  {
   "cell_type": "code",
   "execution_count": 3,
   "id": "ee663b38-5049-4acb-befe-d1c0cf58d046",
   "metadata": {},
   "outputs": [
    {
     "name": "stdout",
     "output_type": "stream",
     "text": [
      "NA = 1\n",
      "NA = 2\n",
      "NA = 3\n",
      "NA = 4\n"
     ]
    }
   ],
   "source": [
    "NAmax = 4\n",
    "nmax = 3\n",
    "p = zeros(NAmax,nmax-1)\n",
    "C3 = zeros(NAmax)\n",
    "r2 = zeros(NAmax)\n",
    "ITensors.disable_warn_order()\n",
    "for NA in 1:NAmax\n",
    "    NAB = 2*NA\n",
    "    ρT,ξAB = reduce_dm(ψ,1,NAB)\n",
    "    ρT = flatten(ρT)\n",
    "    for i in 1:NA\n",
    "        ρT  = swapind(ρT,ξAB[i],ξAB[i]')\n",
    "    end\n",
    "    D, U = eigen(ρT, ξAB, ξAB')\n",
    "    for k in 1:nmax-1\n",
    "        for s in 1:dim(D,1)\n",
    "            p[NA,k] += D[s,s]^(k+1)\n",
    "        end\n",
    "    end\n",
    "    @show NA\n",
    "    C3[NA] = p[NA,1]^2/p[NA,2]\n",
    "end"
   ]
  },
  {
   "cell_type": "code",
   "execution_count": 4,
   "id": "2278f399-832e-4bbb-a8c8-e8a094473a0d",
   "metadata": {},
   "outputs": [
    {
     "name": "stderr",
     "output_type": "stream",
     "text": [
      "0.0%┣                                        ┫ 0/2.0k [00:04<-2:-14:-37, -4s/it]\n",
      "0.1%┣                                         ┫ 1/2.0k [00:18<Inf:Inf, InfGs/it]\n",
      "1.9%┣▉                                            ┫ 38/2.0k [00:20<17:49, 2it/s]\n",
      "4.5%┣██                                           ┫ 90/2.0k [00:22<07:56, 4it/s]\n",
      "7.0%┣███                                         ┫ 140/2.0k [00:24<05:24, 6it/s]\n",
      "9.9%┣████▍                                       ┫ 198/2.0k [00:26<04:00, 8it/s]\n",
      "12.8%┣█████▌                                     ┫ 255/2.0k [00:28<03:14, 9it/s]\n",
      "15.8%┣██████▋                                   ┫ 316/2.0k [00:30<02:42, 10it/s]\n",
      "19.1%┣████████                                  ┫ 381/2.0k [00:32<02:18, 12it/s]\n",
      "22.1%┣█████████▎                                ┫ 441/2.0k [00:34<02:02, 13it/s]\n",
      "24.9%┣██████████▌                               ┫ 498/2.0k [00:36<01:50, 14it/s]\n",
      "28.1%┣███████████▉                              ┫ 561/2.0k [00:38<01:39, 15it/s]\n",
      "30.9%┣█████████████                             ┫ 619/2.0k [00:40<01:30, 15it/s]\n",
      "34.2%┣██████████████▍                           ┫ 685/2.0k [00:42<01:21, 16it/s]\n",
      "37.8%┣███████████████▉                          ┫ 755/2.0k [00:44<01:13, 17it/s]\n",
      "41.0%┣█████████████████▏                        ┫ 820/2.0k [00:46<01:07, 18it/s]\n",
      "43.6%┣██████████████████▎                       ┫ 873/2.0k [00:48<01:03, 18it/s]\n",
      "46.5%┣███████████████████▌                      ┫ 930/2.0k [00:50<00:58, 18it/s]\n",
      "49.5%┣████████████████████▉                     ┫ 991/2.0k [00:52<00:53, 19it/s]\n",
      "52.7%┣█████████████████████▋                   ┫ 1.1k/2.0k [00:55<00:49, 19it/s]\n",
      "55.6%┣██████████████████████▉                  ┫ 1.1k/2.0k [00:57<00:45, 20it/s]\n",
      "57.3%┣███████████████████████▌                 ┫ 1.1k/2.0k [00:59<00:44, 20it/s]\n",
      "60.9%┣█████████████████████████                ┫ 1.2k/2.0k [01:01<00:39, 20it/s]\n",
      "63.5%┣██████████████████████████               ┫ 1.3k/2.0k [01:03<00:36, 20it/s]\n",
      "67.0%┣███████████████████████████▌             ┫ 1.3k/2.0k [01:05<00:32, 21it/s]\n",
      "70.3%┣████████████████████████████▉            ┫ 1.4k/2.0k [01:07<00:28, 21it/s]\n",
      "74.0%┣██████████████████████████████▍          ┫ 1.5k/2.0k [01:09<00:24, 22it/s]\n",
      "78.1%┣████████████████████████████████         ┫ 1.6k/2.0k [01:11<00:20, 22it/s]\n",
      "82.2%┣█████████████████████████████████▊       ┫ 1.6k/2.0k [01:13<00:16, 23it/s]\n",
      "86.2%┣███████████████████████████████████▍     ┫ 1.7k/2.0k [01:15<00:12, 23it/s]\n",
      "90.1%┣█████████████████████████████████████    ┫ 1.8k/2.0k [01:17<00:08, 23it/s]\n",
      "94.0%┣██████████████████████████████████████▌  ┫ 1.9k/2.0k [01:19<00:05, 24it/s]\n",
      "97.8%┣████████████████████████████████████████ ┫ 2.0k/2.0k [01:21<00:02, 24it/s]\n",
      "100.0%┣████████████████████████████████████████┫ 2.0k/2.0k [01:22<00:00, 24it/s]\n",
      "100.0%┣████████████████████████████████████████┫ 2.0k/2.0k [01:22<00:00, 24it/s]\n"
     ]
    }
   ],
   "source": [
    "#Perform Randomized measurements\n",
    "nu=2000\n",
    "NM=100\n",
    "data = zeros(Int8,(nu,NM,N))\n",
    "datat = zeros(Int8,(NM,N))\n",
    "u = Vector{Vector{ITensor}}()\n",
    "for r in ProgressBar(1:nu, printing_delay=2)\n",
    "    push!(u,get_rotations(ξ,1)) #Haar rotations in A\n",
    "    get_RandomMeas_MPS!(datat,ψ,u[r],NM)\n",
    "    data[r,:,:] = datat[:,:]\n",
    "end"
   ]
  },
  {
   "cell_type": "code",
   "execution_count": 5,
   "id": "a0ca2989-be5b-476e-9ae7-db34b4dc4835",
   "metadata": {},
   "outputs": [
    {
     "name": "stderr",
     "output_type": "stream",
     "text": [
      "0.0%┣                                                ┫ 0/4 [00:00<00:00, -0s/it]\n",
      "25.0%┣██████████▊                                ┫ 1/4 [00:18<Inf:Inf, InfGs/it]\n",
      "50.0%┣███████████████████████▌                       ┫ 2/4 [00:51<01:42, 51s/it]\n",
      "75.0%┣███████████████████████████████████▎           ┫ 3/4 [01:32<00:46, 46s/it]\n",
      "100.0%┣██████████████████████████████████████████████┫ 4/4 [02:31<00:00, 50s/it]\n",
      "100.0%┣██████████████████████████████████████████████┫ 4/4 [02:31<00:00, 50s/it]\n"
     ]
    }
   ],
   "source": [
    "C3s = zeros(NAmax)\n",
    "for NA in ProgressBar(1:NAmax, printing_delay=2)\n",
    "    NAB = 2*NA\n",
    "    uAB = [ut[1:NAB] for ut in u]\n",
    "    ξAB = ξ[1:NAB]\n",
    "    #@show NA\n",
    "    ρs = acquire_shadows_batch_fromdata(data[:,:,1:NAB],ξAB,uAB,nmax)\n",
    "    for n in 1:nmax\n",
    "        for i in 1:NA\n",
    "             ρs[n] = swapind(ρs[n],ξAB[i],ξAB[i]')\n",
    "        end\n",
    "    end\n",
    "    p = get_moments_shadows_batch(ρs, ξAB, nmax, nu)\n",
    "    #@show p\n",
    "    C3s[NA] = p[1]^2/p[2]\n",
    "end"
   ]
  },
  {
   "cell_type": "code",
   "execution_count": 6,
   "id": "01deba5b-a8c8-49b5-a228-bd4b720e688e",
   "metadata": {},
   "outputs": [
    {
     "data": {
      "image/png": "[encoded data removed]",
      "text/plain": [
       "Figure(PyObject <Figure size 640x480 with 1 Axes>)"
      ]
     },
     "metadata": {},
     "output_type": "display_data"
    },
    {
     "data": {
      "text/plain": [
       "PyObject <matplotlib.legend.Legend object at 0x7fee87688c50>"
      ]
     },
     "execution_count": 6,
     "metadata": {},
     "output_type": "execute_result"
    }
   ],
   "source": [
    "using PyPlot\n",
    "PyPlot.plot(1:NAmax,C3,label=\"C3\")\n",
    "PyPlot.plot(1:NAmax,C3s,label=\"C3 [est]\")\n",
    "PyPlot.plot(1:NAmax,ones(NAmax),\"--k\")\n",
    "xlabel(\"N_A\")\n",
    "yscale(\"log\")\n",
    "ylabel(\"Entanglement criterion\")\n",
    "legend()"
   ]
  },
  {
   "cell_type": "code",
   "execution_count": null,
   "id": "1d421bbe-0710-4418-94b6-43a94e75832c",
   "metadata": {},
   "outputs": [],
   "source": []
  }
 ],
 "metadata": {
  "kernelspec": {
   "display_name": "Julia 1.10.0",
   "language": "julia",
   "name": "julia-1.10"
  },
  "language_info": {
   "file_extension": ".jl",
   "mimetype": "application/julia",
   "name": "julia",
   "version": "1.10.0"
  }
 },
 "nbformat": 4,
 "nbformat_minor": 5
}
