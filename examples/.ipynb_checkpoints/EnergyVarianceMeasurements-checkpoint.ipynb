{
 "cells": [
  {
   "cell_type": "code",
   "execution_count": 2,
   "id": "5b9637c3-6286-4f60-9525-ebc182a1e56b",
   "metadata": {},
   "outputs": [],
   "source": [
    "using Revise\n",
    "using ITensors\n",
    "using PastaQ\n",
    "push!(LOAD_PATH,\"/scratch/Codes/RandomMeas_dev.jl/src/\")\n",
    "using RandomMeas\n",
    "using ProgressBars\n"
   ]
  },
  {
   "cell_type": "code",
   "execution_count": 3,
   "id": "f8ea8288-4cfc-4ca9-8d4f-a0bf68dd5331",
   "metadata": {},
   "outputs": [
    {
     "name": "stdout",
     "output_type": "stream",
     "text": [
      "Running DMRG to get ground state of transverse field Ising model:\n",
      "After sweep 1 energy=-50.079934626842885  maxlinkdim=4 maxerr=1.47E-15 time=17.834\n",
      "After sweep 2 energy=-50.50173277758765  maxlinkdim=15 maxerr=9.56E-11 time=0.073\n",
      "After sweep 3 energy=-50.560094581012464  maxlinkdim=25 maxerr=9.96E-11 time=0.080\n",
      "After sweep 4 energy=-50.568229174748154  maxlinkdim=26 maxerr=9.73E-11 time=0.091\n",
      "After sweep 5 energy=-50.56932436017555  maxlinkdim=23 maxerr=9.68E-11 time=0.082\n",
      "\n",
      "Ground state energy:  -50.56932436017555\n",
      "\n",
      "---------------------------------------\n",
      "\n"
     ]
    }
   ],
   "source": [
    "N = 40\n",
    "ξ = siteinds(\"Qubit\", N)\n",
    "B = 1.\n",
    "ampo = AutoMPO()\n",
    "for j in 1:(N - 1)\n",
    "  # Ising ZZ interactions\n",
    "  ampo .+= -1, \"X\", j, \"X\", j + 1\n",
    "end\n",
    "for j in 1:N\n",
    "  # Transverse field X\n",
    "  ampo .+= -B, \"Z\", j\n",
    "end\n",
    "H = MPO(ampo,ξ)\n",
    "H2 = multiply(H,H)\n",
    "# Density-matrix renormalization group\n",
    "dmrg_iter = 5      # DMRG steps\n",
    "dmrg_cutoff = 1E-10   # Cutoff\n",
    "ψ0 = randomMPS(ξ) # Initial state\n",
    "sweeps = Sweeps(dmrg_iter)\n",
    "maxdim!(sweeps, 10, 20, 30, 40, 50, 100)\n",
    "cutoff!(sweeps, dmrg_cutoff)\n",
    "# Run \n",
    "println(\"Running DMRG to get ground state of transverse field Ising model:\")\n",
    "E, ψ = dmrg(H, ψ0, sweeps)\n",
    "println(\"\\nGround state energy:  \", E)\n",
    "println(\"\\n---------------------------------------\\n\")"
   ]
  },
  {
   "cell_type": "code",
   "execution_count": 4,
   "id": "bdea0129-3c6c-459b-9010-da97492a84d6",
   "metadata": {},
   "outputs": [],
   "source": [
    "η = 10\n",
    "m = 4\n",
    "# Build the gate structure\n",
    "circuit = []\n",
    "for d in 1:η\n",
    "    xx_layer = [(\"Rxx\", (j, j + 1), (ϕ=1*d/η/m,)) for j in 1:(N - 1)]\n",
    "    z_layer = [(\"Rz\", j, (θ=2*B/m,)) for j in 1:N]\n",
    "    for t in 1:m\n",
    "        append!(circuit, xx_layer)\n",
    "        append!(circuit, z_layer)\n",
    "    end\n",
    "end\n",
    "ψ0 = MPS(ξ,[\"Up\" for n in 1:N]);"
   ]
  },
  {
   "cell_type": "code",
   "execution_count": 5,
   "id": "b0153c9f-27f1-4b77-b025-41edce73a89f",
   "metadata": {},
   "outputs": [
    {
     "name": "stdout",
     "output_type": "stream",
     "text": [
      "final energy -48.128696873191444\n",
      "final energy variance 11.581820887635331\n"
     ]
    }
   ],
   "source": [
    "ψt = runcircuit(ψ0, circuit; cutoff=1E-8)\n",
    "orthogonalize!(ψt,1)\n",
    "ψt[1] /= norm(ψt[1])\n",
    "E_th = real(inner(ψt', H,ψt))\n",
    "println(\"final energy \",E_th)\n",
    "E2_th = real(inner(ψt', H2,ψt))-E_th^2\n",
    "println(\"final energy variance \",E2_th)"
   ]
  },
  {
   "cell_type": "code",
   "execution_count": 6,
   "id": "1124f2d8-313c-4a05-8715-30c172740932",
   "metadata": {},
   "outputs": [],
   "source": [
    "Nu = 2000\n",
    "NM = 100\n",
    "ρ = Vector{ITensor}(undef,N);\n",
    "data = zeros(Int8,(NM,N));"
   ]
  },
  {
   "cell_type": "code",
   "execution_count": 7,
   "id": "bcf617ab-f277-443e-9094-944a3d72ae4d",
   "metadata": {},
   "outputs": [
    {
     "name": "stderr",
     "output_type": "stream",
     "text": [
      "0.0%┣                                        ┫ 0/2.0k [00:05<-2:-48:-55, -5s/it]\n",
      "1.6%┣▊                                            ┫ 31/2.0k [00:26<27:54, 1it/s]\n",
      "4.7%┣██▏                                          ┫ 94/2.0k [00:46<15:34, 2it/s]\n",
      "7.7%┣███▍                                        ┫ 154/2.0k [01:06<13:12, 2it/s]\n",
      "11.0%┣████▊                                      ┫ 220/2.0k [01:26<11:37, 3it/s]\n",
      "14.2%┣██████▏                                    ┫ 285/2.0k [01:46<10:39, 3it/s]\n",
      "18.1%┣███████▉                                   ┫ 362/2.0k [02:06<09:32, 3it/s]\n",
      "21.5%┣█████████▎                                 ┫ 430/2.0k [02:26<08:56, 3it/s]\n",
      "24.6%┣██████████▋                                ┫ 493/2.0k [02:47<08:30, 3it/s]\n",
      "28.0%┣████████████                               ┫ 559/2.0k [03:07<08:03, 3it/s]\n",
      "31.0%┣█████████████▎                             ┫ 620/2.0k [03:27<07:42, 3it/s]\n",
      "34.0%┣██████████████▋                            ┫ 680/2.0k [03:47<07:22, 3it/s]\n",
      "37.1%┣████████████████                           ┫ 742/2.0k [04:07<07:00, 3it/s]\n",
      "40.6%┣█████████████████▍                         ┫ 811/2.0k [04:28<06:33, 3it/s]\n",
      "43.8%┣██████████████████▉                        ┫ 875/2.0k [04:48<06:11, 3it/s]\n",
      "46.7%┣████████████████████                       ┫ 933/2.0k [05:08<05:53, 3it/s]\n",
      "49.5%┣█████████████████████▎                     ┫ 990/2.0k [05:28<05:35, 3it/s]\n",
      "51.9%┣█████████████████████▉                    ┫ 1.0k/2.0k [05:48<05:23, 3it/s]\n",
      "54.6%┣███████████████████████                   ┫ 1.1k/2.0k [06:09<05:07, 3it/s]\n",
      "57.5%┣████████████████████████▏                 ┫ 1.1k/2.0k [06:29<04:48, 3it/s]\n",
      "60.9%┣█████████████████████████▋                ┫ 1.2k/2.0k [06:49<04:23, 3it/s]\n",
      "64.2%┣███████████████████████████               ┫ 1.3k/2.0k [07:09<03:59, 3it/s]\n",
      "67.5%┣████████████████████████████▍             ┫ 1.4k/2.0k [07:29<03:36, 3it/s]\n",
      "70.9%┣█████████████████████████████▊            ┫ 1.4k/2.0k [07:49<03:13, 3it/s]\n",
      "74.2%┣███████████████████████████████▏          ┫ 1.5k/2.0k [08:09<02:50, 3it/s]\n",
      "77.8%┣████████████████████████████████▋         ┫ 1.6k/2.0k [08:30<02:26, 3it/s]\n",
      "81.3%┣██████████████████████████████████▏       ┫ 1.6k/2.0k [08:50<02:02, 3it/s]\n",
      "84.5%┣███████████████████████████████████▌      ┫ 1.7k/2.0k [09:10<01:41, 3it/s]\n",
      "87.8%┣████████████████████████████████████▉     ┫ 1.8k/2.0k [09:30<01:19, 3it/s]\n",
      "90.8%┣██████████████████████████████████████▏   ┫ 1.8k/2.0k [09:50<01:00, 3it/s]\n",
      "93.7%┣███████████████████████████████████████▍  ┫ 1.9k/2.0k [10:11<00:41, 3it/s]\n",
      "96.1%┣████████████████████████████████████████▍ ┫ 1.9k/2.0k [10:31<00:26, 3it/s]\n",
      "98.8%┣█████████████████████████████████████████▌┫ 2.0k/2.0k [10:51<00:08, 3it/s]\n",
      "\u001b[1A"
     ]
    },
    {
     "name": "stdout",
     "output_type": "stream",
     "text": [
      "estimated energy -48.251165494012895\n",
      "estimated energy variance 11.167012676557533\n"
     ]
    },
    {
     "name": "stderr",
     "output_type": "stream",
     "text": [
      "100.0%┣█████████████████████████████████████████┫ 2.0k/2.0k [10:59<00:00, 3it/s]\n",
      "100.0%┣█████████████████████████████████████████┫ 2.0k/2.0k [10:59<00:00, 3it/s]\n"
     ]
    }
   ],
   "source": [
    "Es = 0.\n",
    "E2s = 0.\n",
    "for r in ProgressBar(1:Nu, printing_delay=20)\n",
    "        u = get_rotations(ξ,1)\n",
    "        get_RandomMeas_MPS!(data,ψt,u,NM)\n",
    "        for m in 1:NM\n",
    "            get_shadow_factorized!(ρ,data[m,:],ξ,u,ones(N),N)\n",
    "            Es += get_expect_shadow(H,ρ,ξ)/Nu/NM\n",
    "            E2s += get_expect_shadow(H2,ρ,ξ)/Nu/NM\n",
    "        end\n",
    "end\n",
    "E2s -= Es^2\n",
    "println(\"estimated energy \",Es)\n",
    "println(\"estimated energy variance \",E2s)"
   ]
  },
  {
   "cell_type": "code",
   "execution_count": null,
   "id": "df3fdfaf-f438-4343-a35c-928e0927d632",
   "metadata": {},
   "outputs": [],
   "source": []
  }
 ],
 "metadata": {
  "kernelspec": {
   "display_name": "Julia 1.10.0",
   "language": "julia",
   "name": "julia-1.10"
  },
  "language_info": {
   "file_extension": ".jl",
   "mimetype": "application/julia",
   "name": "julia",
   "version": "1.10.0"
  }
 },
 "nbformat": 4,
 "nbformat_minor": 5
}
