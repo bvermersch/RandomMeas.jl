{
 "cells": [
  {
   "cell_type": "code",
   "execution_count": 2,
   "id": "4f0311a9-bfed-432e-8f6f-f5ce7f434df0",
   "metadata": {},
   "outputs": [
    {
     "name": "stderr",
     "output_type": "stream",
     "text": [
      "\u001b[32m\u001b[1mPrecompiling\u001b[22m\u001b[39m RandomMeas\n",
      "\u001b[32m  ✓ \u001b[39mRandomMeas\n",
      "  1 dependency successfully precompiled in 4 seconds. 275 already precompiled.\n"
     ]
    }
   ],
   "source": [
    "using Revise\n",
    "#using ProgressBars\n",
    "using Random\n",
    "using ITensors\n",
    "#using Pkg;Pkg.activate(\"../.\")\n",
    "using RandomMeas\n",
    "using StatsBase\n",
    "using TimerOutputs\n",
    "using ProgressMeter"
   ]
  },
  {
   "cell_type": "markdown",
   "id": "619822c0-1bd5-444c-9aee-f26a60c3f9dd",
   "metadata": {},
   "source": [
    "## Shallow Shadows \n",
    "Based on https://quantum-journal.org/papers/q-2023-06-01-1026 and https://doi.org/10.1103/PhysRevResearch.5.023027 and arXiv:2402.17911"
   ]
  },
  {
   "cell_type": "code",
   "execution_count": 141,
   "id": "b0be96ab-b3b2-41ac-b639-9a2d1f9bdc76",
   "metadata": {},
   "outputs": [],
   "source": [
    "#Step 1: Calibration Data acquisition\n",
    "N = 4\n",
    "ξ = siteinds(\"Qubit\", N;addtags=\"output\")\n",
    "χ = 2\n",
    "χchannel = 16\n",
    "Nu = 100\n",
    "states = [\"Dn\" for n in 1:N]\n",
    "ψ0 = MPS(ξ,states);"
   ]
  },
  {
   "cell_type": "markdown",
   "id": "e7f6328a-95a2-4d8a-ae08-2ea3b8ad0841",
   "metadata": {},
   "source": [
    "### Introduction\n",
    "For a given set of random unitaries, the measurement channel is defined as $\\mathcal{M}(\\rho)=\\sum_s \\bra{s}u\\rho u^\\dagger \\ket{s}E[u^\\dagger \\ket{s}\\bra{s}u]$. To design a randomized measurement protocol, we need to learn this channel, then invert it. Once we know the inverse channel, we will be able to form shadows on arbitrary states $\\rho$, as $\\hat{\\rho}=\\mathcal{M}^{-1}(u^\\dagger \\ket{s}\\bra{s}u)$\n",
    "\n",
    "We begin by picking a set of $N_u$ unitaries and calculate numerically the measurement channel $\\mathcal{M}(\\rho)$ from MPS simulations. Note that alternatively, one could consider measuring an approximate representation of the channel experimentally (arXiv:2402.17911)"
   ]
  },
  {
   "cell_type": "code",
   "execution_count": 144,
   "id": "f92176d6-2580-4fec-afd8-f7ee27f000cc",
   "metadata": {},
   "outputs": [],
   "source": [
    "u = Vector{Vector{ITensor}}()\n",
    "for r in 1:Nu\n",
    "    #u1 = get_rotations(ξ,1)\n",
    "   # u1 = [op(\"RandomUnitary\",ξ[i]) for i in 1:N]\n",
    "    u2 = [op(\"RandomUnitary\",ξ[i],ξ[i+1]) for i in 1:N-1]\n",
    "    u3 = [op(\"RandomUnitary\",ξ[i],ξ[i+1]) for i in 2:N-2]\n",
    "    push!(u,[u2;u3])\n",
    "    #push!(u,u1)\n",
    "end\n",
    "M = EvaluateMeasurementChannel(ψ0,u,χchannel);\n",
    "#[maxlinkdim(m) for m in M]\n",
    "#println(\"Bond dimension reconstructed channel \",maxlinkdim(M))"
   ]
  },
  {
   "cell_type": "code",
   "execution_count": 145,
   "id": "879ce2cf-e2ed-4e20-a10c-8854990da738",
   "metadata": {},
   "outputs": [],
   "source": [
    "nsweeps=4\n",
    "σ = FitChannelMPO(M,χ,nsweeps);"
   ]
  },
  {
   "cell_type": "markdown",
   "id": "2b54731c-cedd-498b-accd-8dc55448ec55",
   "metadata": {},
   "source": [
    "### Learning an MPS representation of the channel\n",
    "Next we find the best MPS $\\ket{c}$ of bond dimension $\\chi$ such that $\\mathcal{M}(\\rho)\\approx \\mathcal{M}_c(\\rho)=\\sum_A c_A\\rho_A$.\n",
    "This is based on automatic-differentation library Zigote for minimizing the cost function $||\\mathcal{M}(\\rho)-\\mathcal{M}_c(\\rho)||_2^2$"
   ]
  },
  {
   "cell_type": "code",
   "execution_count": 5,
   "id": "72bee14d-7ff9-4f52-93eb-bfcffc3f3eb4",
   "metadata": {},
   "outputs": [
    {
     "name": "stderr",
     "output_type": "stream",
     "text": [
      "\u001b[33m\u001b[1m┌ \u001b[22m\u001b[39m\u001b[33m\u001b[1mWarning: \u001b[22m\u001b[39mLBFGS: not converged to requested tol: f = 0.000050625555, ‖∇f‖ = 5.4958e-04\n",
      "\u001b[33m\u001b[1m└ \u001b[22m\u001b[39m\u001b[90m@ OptimKit ~/.julia/packages/OptimKit/xpmbV/src/lbfgs.jl:141\u001b[39m\n"
     ]
    }
   ],
   "source": [
    "c = Find_c(ψ0,M,χ);"
   ]
  },
  {
   "cell_type": "markdown",
   "id": "4623b160-33b6-4a59-8b94-f6c0372b5805",
   "metadata": {},
   "source": [
    "### Inverting the channel\n",
    "Similary, we can then find the inverse map $\\mathcal{M}^{-1}(\\rho)=\\sum_A d_A \\rho_A$, such that $\\mathcal{M}^{-1}(\\mathcal{M})\\approx\\mathbf{1}$"
   ]
  },
  {
   "cell_type": "code",
   "execution_count": 14,
   "id": "1d0eadff-c303-47d9-bab2-cbb40500ddfb",
   "metadata": {
    "scrolled": true
   },
   "outputs": [
    {
     "name": "stdout",
     "output_type": "stream",
     "text": [
      "random guess4072.1949455660338\n",
      "taylor guess3940.4007098951756\n"
     ]
    },
    {
     "name": "stderr",
     "output_type": "stream",
     "text": [
      "\u001b[33m\u001b[1m┌ \u001b[22m\u001b[39m\u001b[33m\u001b[1mWarning: \u001b[22m\u001b[39mLBFGS: not converged to requested tol: f = 0.001380792917, ‖∇f‖ = 1.7301e-03\n",
      "\u001b[33m\u001b[1m└ \u001b[22m\u001b[39m\u001b[90m@ OptimKit ~/.julia/packages/OptimKit/xpmbV/src/lbfgs.jl:141\u001b[39m\n"
     ]
    }
   ],
   "source": [
    "d = Find_d(c,2*χ);"
   ]
  },
  {
   "cell_type": "markdown",
   "id": "3613daa8-d647-44f4-8c2d-d0df42833c97",
   "metadata": {},
   "source": [
    "## Data acquisition\n",
    "We are ready to perform an experiment on a unknown state and build shadows as MPO"
   ]
  },
  {
   "cell_type": "code",
   "execution_count": 122,
   "id": "c0c65582-e3c4-4d9f-81c9-5f38dfb0c64c",
   "metadata": {},
   "outputs": [],
   "source": [
    "using PastaQ\n",
    "NM = 10\n",
    "circuit = randomcircuit(N, depth=1)\n",
    "#noisemodel1 = (1 => (\"depolarizing\", (p = 0,)),2 => (\"depolarizing\", (p = 0.05,)))\n",
    "ψ = runcircuit(ψ0,circuit);"
   ]
  },
  {
   "cell_type": "code",
   "execution_count": 123,
   "id": "4c1a0c06-c095-4f4f-9c2c-493e64d49e5f",
   "metadata": {},
   "outputs": [
    {
     "name": "stderr",
     "output_type": "stream",
     "text": [
      "\u001b[32mProgress:  40%|████████████████▍                        |  ETA: 0:00:24\u001b[39m"
     ]
    },
    {
     "ename": "LoadError",
     "evalue": "InterruptException:",
     "output_type": "error",
     "traceback": [
      "InterruptException:",
      "",
      "Stacktrace:",
      "  [1] contract(::Type{NDTensors.CanContract{NDTensors.DenseTensor{ComplexF64, 5, NTuple{5, Index{Int64}}, NDTensors.Dense{ComplexF64, Vector{ComplexF64}}}, NDTensors.DenseTensor{ComplexF64, 2, Tuple{Index{Int64}, Index{Int64}}, NDTensors.Dense{ComplexF64, Vector{ComplexF64}}}}}, tensor1::NDTensors.DenseTensor{ComplexF64, 5, NTuple{5, Index{Int64}}, NDTensors.Dense{ComplexF64, Vector{ComplexF64}}}, labels_tensor1::NTuple{5, Int64}, tensor2::NDTensors.DenseTensor{ComplexF64, 2, Tuple{Index{Int64}, Index{Int64}}, NDTensors.Dense{ComplexF64, Vector{ComplexF64}}}, labels_tensor2::Tuple{Int64, Int64})",
      "    @ NDTensors ~/.julia/packages/NDTensors/vDdB4/src/tensoroperations/generic_tensor_operations.jl:91",
      "  [2] contract",
      "    @ NDTensors ~/.julia/packages/SimpleTraits/l1ZsK/src/SimpleTraits.jl:331 [inlined]",
      "  [3] _contract(A::NDTensors.DenseTensor{ComplexF64, 5, NTuple{5, Index{Int64}}, NDTensors.Dense{ComplexF64, Vector{ComplexF64}}}, B::NDTensors.DenseTensor{ComplexF64, 2, Tuple{Index{Int64}, Index{Int64}}, NDTensors.Dense{ComplexF64, Vector{ComplexF64}}})",
      "    @ ITensors ~/.julia/packages/ITensors/iifFp/src/tensor_operations/tensor_algebra.jl:3",
      "  [4] _contract(A::ITensor, B::ITensor)",
      "    @ ITensors ~/.julia/packages/ITensors/iifFp/src/tensor_operations/tensor_algebra.jl:9",
      "  [5] contract(A::ITensor, B::ITensor)",
      "    @ ITensors ~/.julia/packages/ITensors/iifFp/src/tensor_operations/tensor_algebra.jl:74",
      "  [6] *(A::ITensor, B::ITensor)",
      "    @ ITensors ~/.julia/packages/ITensors/iifFp/src/tensor_operations/tensor_algebra.jl:61",
      "  [7] orthogonalize!(M::MPO, j::Int64; maxdim::Nothing, normalize::Nothing)",
      "    @ ITensors.ITensorMPS ~/.julia/packages/ITensors/iifFp/src/lib/ITensorMPS/src/abstractmps.jl:1642",
      "  [8] orthogonalize!",
      "    @ ~/.julia/packages/ITensors/iifFp/src/lib/ITensorMPS/src/abstractmps.jl:1602 [inlined]",
      "  [9] #orthogonalize#338",
      "    @ ~/.julia/packages/ITensors/iifFp/src/lib/ITensorMPS/src/abstractmps.jl:1660 [inlined]",
      " [10] orthogonalize",
      "    @ ~/.julia/packages/ITensors/iifFp/src/lib/ITensorMPS/src/abstractmps.jl:1658 [inlined]",
      " [11] product(o::ITensor, ψ::MPO, ns::Vector{Int64}; move_sites_back::Bool, apply_dag::Bool, kwargs::@Kwargs{})",
      "    @ ITensors.ITensorMPS ~/.julia/packages/ITensors/iifFp/src/lib/ITensorMPS/src/abstractmps.jl:2120",
      " [12] product (repeats 2 times)",
      "    @ ~/.julia/packages/ITensors/iifFp/src/lib/ITensorMPS/src/abstractmps.jl:2105 [inlined]",
      " [13] product(As::Vector{ITensor}, ψ::MPO; move_sites_back_between_gates::Bool, move_sites_back::Bool, kwargs::@Kwargs{apply_dag::Bool})",
      "    @ ITensors.ITensorMPS ~/.julia/packages/ITensors/iifFp/src/lib/ITensorMPS/src/abstractmps.jl:2247",
      " [14] product",
      "    @ ~/.julia/packages/ITensors/iifFp/src/lib/ITensorMPS/src/abstractmps.jl:2238 [inlined]",
      " [15] PostRotator(s::Vector{Index{Int64}}, ξ::Vector{Index{Int64}}, u::Vector{ITensor})",
      "    @ RandomMeas /scratch/Codes/RandomMeas.jl/src/ShallowShadows.jl:9",
      " [16] get_ShallowShadow(data::Vector{Int8}, u::Vector{ITensor}, d::Vector{ITensor}, ξ::Vector{Index{Int64}})",
      "    @ RandomMeas /scratch/Codes/RandomMeas.jl/src/ShallowShadows.jl:161",
      " [17] macro expansion",
      "    @ ./In[123]:6 [inlined]",
      " [18] macro expansion",
      "    @ ~/.julia/packages/ProgressMeter/dMfiC/src/ProgressMeter.jl:1010 [inlined]",
      " [19] top-level scope",
      "    @ ./In[123]:3"
     ]
    }
   ],
   "source": [
    "data = zeros(Int8,(Nu,NM,N)) #Data storage\n",
    "shadow = Vector{MPO}(undef,Nu*NM)\n",
    "@showprogress dt=1 for r in 1:Nu\n",
    "            data[r,:,:] = get_RandomMeas(ψ,u[r],NM) #data acquisition in simulated quantum device\n",
    "            for m in 1:NM\n",
    "               shadow[(r-1)*NM+m] = get_ShallowShadow(data[r,m,:],u[r],d,ξ)\n",
    "            end\n",
    "end"
   ]
  },
  {
   "cell_type": "markdown",
   "id": "3472f4b3-cdd4-4198-b169-a203fdced550",
   "metadata": {},
   "source": [
    "## Extracting observables\n",
    "Here we focus on XX correlations"
   ]
  },
  {
   "cell_type": "code",
   "execution_count": 124,
   "id": "0a703a17-0159-4168-bc1a-eec17413d458",
   "metadata": {},
   "outputs": [
    {
     "name": "stderr",
     "output_type": "stream",
     "text": [
      "\u001b[32mProgress:  36%|██████████████▉                          |  ETA: 0:00:07\u001b[39m"
     ]
    },
    {
     "ename": "LoadError",
     "evalue": "UndefRefError: access to undefined reference",
     "output_type": "error",
     "traceback": [
      "UndefRefError: access to undefined reference",
      "",
      "Stacktrace:",
      " [1] getindex(A::Vector{MPO}, i1::Int64)",
      "   @ Base ./essentials.jl:13",
      " [2] macro expansion",
      "   @ ./In[124]:13 [inlined]",
      " [3] macro expansion",
      "   @ ~/.julia/packages/ProgressMeter/dMfiC/src/ProgressMeter.jl:1010 [inlined]",
      " [4] top-level scope",
      "   @ ./In[124]:12"
     ]
    }
   ],
   "source": [
    "O = Vector{Vector{ITensor}}()\n",
    "for i in 1:N-1\n",
    "    Ot = Vector{ITensor}()\n",
    "    push!(Ot,op(\"X\",ξ[i]))\n",
    "    push!(Ot,op(\"X\",ξ[i+1]))\n",
    "    push!(O,Ot)\n",
    "end\n",
    "O_exact = zeros(N-1)\n",
    "O_est = zeros(N-1)\n",
    "for i in 1:N-1\n",
    "    O_exact[i] += real(trace(apply(O[i],outer(ψ',ψ),apply_dag=false),ξ))\n",
    "    @showprogress dt=1 for k in 1:Nu*NM\n",
    "        O_est[i] += real(trace(apply(O[i],shadow[k],apply_dag=false),ξ))/Nu/NM\n",
    "    end\n",
    "    println(\"XX for pair  \",i,i+1)\n",
    "    println(\"Exact \", O_exact[i])\n",
    "    println(\"Estimated \", O_est[i])\n",
    "end\n"
   ]
  },
  {
   "cell_type": "code",
   "execution_count": null,
   "id": "fbdc6b10-c84e-4101-b36a-612d7abdc3a9",
   "metadata": {},
   "outputs": [],
   "source": []
  }
 ],
 "metadata": {
  "kernelspec": {
   "display_name": "Julia 1.10.0",
   "language": "julia",
   "name": "julia-1.10"
  },
  "language_info": {
   "file_extension": ".jl",
   "mimetype": "application/julia",
   "name": "julia",
   "version": "1.10.0"
  }
 },
 "nbformat": 4,
 "nbformat_minor": 5
}
