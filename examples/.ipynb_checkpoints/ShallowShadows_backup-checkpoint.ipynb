{
 "cells": [
  {
   "cell_type": "code",
   "execution_count": 1,
   "id": "4f0311a9-bfed-432e-8f6f-f5ce7f434df0",
   "metadata": {},
   "outputs": [],
   "source": [
    "using Revise\n",
    "using ProgressBars\n",
    "using Random\n",
    "using ITensors\n",
    "using RandomMeas\n",
    "using StatsBase\n",
    "using TimerOutputs"
   ]
  },
  {
   "cell_type": "code",
   "execution_count": 2,
   "id": "b0be96ab-b3b2-41ac-b639-9a2d1f9bdc76",
   "metadata": {},
   "outputs": [],
   "source": [
    "#Step 1: Calibration Data acquisition\n",
    "N = 4\n",
    "ξ = siteinds(\"Qubit\", N;addtags=\"output\")\n",
    "η = siteinds(\"Qubit\", N;addtags=\"output\")\n",
    "s = siteinds(\"Qubit\", N;addtags=\"input\")\n",
    "v = siteinds(\"Qubit\", N;addtags=\"virtual\")\n",
    "x = siteinds(\"Qubit\", N;addtags=\"virtual\")\n",
    "χ = 2\n",
    "Nu = 400\n",
    "states = [\"Dn\" for n in 1:N]\n",
    "ψ0 = MPS(ξ,states);"
   ]
  },
  {
   "cell_type": "code",
   "execution_count": 3,
   "id": "1908d916-111b-463e-b203-6a6b27c5a695",
   "metadata": {},
   "outputs": [
    {
     "data": {
      "text/plain": [
       "EvaluateMeasurementChannel (generic function with 1 method)"
      ]
     },
     "execution_count": 3,
     "metadata": {},
     "output_type": "execute_result"
    }
   ],
   "source": [
    "function PostRotator(v::Index{Int64},ξ::Index{Int64},u::ITensor)\n",
    "    #return the projected measurement u^dag |v><v| u\n",
    "    PO = ITensor(v,ξ,ξ')\n",
    "    for ve in 1:2\n",
    "        ut = u*onehot(ξ'=>ve)\n",
    "        Y = replaceind(dag(ut),ξ,ξ')\n",
    "        Y *= ut\n",
    "        PO += Y*onehot(v=>ve)\n",
    "    end\n",
    "    return PO\n",
    "end\n",
    "\n",
    "function PostRotator(s::Vector{Index{Int64}},ξ::Vector{Index{Int64}},u::Vector{ITensor})\n",
    "        ρe = MPO(ξ)\n",
    "        for i in 1:N\n",
    "            ρe[i] = δ(ξ[i],ξ[i]',s[i])\n",
    "        end\n",
    "        ## Realizes the post-selected state U^\\dag|ket{s}\\bra{s}U (for any s)\n",
    "        ud = reverse([swapprime(dag(ut),0,1) for ut in u])\n",
    "        return apply(ud,ρe,apply_dag=true)\n",
    "end\n",
    "\n",
    "function EvaluateMeasurementChannel(ψ::MPS,u::Vector{Vector{ITensor}})\n",
    "    ξ = siteinds(ψ)\n",
    "    N = length(ψ)\n",
    "    s = siteinds(\"Qubit\", N;addtags=\"input\")\n",
    "    nu = length(u)\n",
    "    to = TimerOutput()\n",
    "    M = Vector{Vector{ITensor}}(undef,Nu)\n",
    "    for r in 1:Nu\n",
    "        ψu = apply(u[r],ψ)\n",
    "        Pu = get_Born_MPS(ψu).data\n",
    "        PostState = PostRotator(s,ξ,u[r])\n",
    "        for i in 1:N\n",
    "            Pu[i] = (Pu[i]*δ(ξ[i],s[i]))*PostState[i]\n",
    "            #Pu[i] = (Pu[i]*δ(ξ[i],v[i]))*PostRotator(v[i],ξ[i],u[r][i])\n",
    "        end\n",
    "        M[r] = Pu\n",
    "    end\n",
    "    return M\n",
    "end\n"
   ]
  },
  {
   "cell_type": "markdown",
   "id": "d5e88a5e-be2d-466b-af95-92f7fd978712",
   "metadata": {},
   "source": [
    "We build the measurement channel $\\mathcal{M}(\\rho)=\\sum_s \\bra{s}u\\rho u^\\dagger \\ket{s}E[u^\\dagger \\ket{s}\\bra{s}u]$"
   ]
  },
  {
   "cell_type": "code",
   "execution_count": 4,
   "id": "f92176d6-2580-4fec-afd8-f7ee27f000cc",
   "metadata": {},
   "outputs": [],
   "source": [
    "u = Vector{Vector{ITensor}}()\n",
    "for r in 1:Nu\n",
    "   # u1 = get_rotations(ξ,1)\n",
    "    u1 = [op(\"RandomUnitary\",ξ[i]) for i in 1:N]\n",
    "    u2 = [op(\"RandomUnitary\",ξ[i],ξ[i+1]) for i in 1:N-1]\n",
    "    u3 = [op(\"RandomUnitary\",ξ[i],ξ[i+1]) for i in 2:N-2]\n",
    "    push!(u,[u1;u2;u3])\n",
    "    #push!(u,u2)\n",
    "end\n",
    "M = EvaluateMeasurementChannel(ψ0,u);"
   ]
  },
  {
   "cell_type": "code",
   "execution_count": 5,
   "id": "aae06dac-d0e4-42b1-82c9-e9aeeb25f8d8",
   "metadata": {},
   "outputs": [],
   "source": [
    "#@show sum([flatten(m) for m in M])/Nu*δ(ξ[1],ξ[1]',ξ[1]'')*δ(ξ[2],ξ[2]',ξ[2]'');#*δ(ξ[3],ξ[3]',ξ[3]'');"
   ]
  },
  {
   "cell_type": "code",
   "execution_count": 6,
   "id": "91389a14-9168-4415-a5a4-57c7b1851949",
   "metadata": {},
   "outputs": [
    {
     "data": {
      "text/plain": [
       "Cost2 (generic function with 1 method)"
      ]
     },
     "execution_count": 6,
     "metadata": {},
     "output_type": "execute_result"
    }
   ],
   "source": [
    "function Dissipators(ξ::Vector{Index{Int64}},s::Vector{Index{Int64}},v::Vector{Index{Int64}})\n",
    "    N = length(ξ)\n",
    "    D = Vector{ITensor}(undef,N)\n",
    "    for i in 1:N\n",
    "        D[i] = onehot(v[i]=>1)*δ(ξ[i],s[i])*δ(ξ'[i],s'[i])\n",
    "        D[i] += onehot(v[i]=>2)*δ(ξ[i],ξ'[i])*δ(s'[i],s[i])/2\n",
    "    end\n",
    "    return D\n",
    "end\n",
    "\n",
    "function guess_c(v::Vector{Index{Int64}},χ::Int64,p::Float64)\n",
    "    c0 = Vector{ITensor}()\n",
    "    N = length(v)\n",
    "    for i in 1:N\n",
    "        push!(c0,p*onehot(v[i]=>1)+(1-p)*onehot(v[i]=>2))\n",
    "    end\n",
    "    if χ>1\n",
    "        c0 = MPS(c0)+0*randomMPS(Float64,v;linkdims=χ-1)\n",
    "        c0 = c0.data\n",
    "    end\n",
    "    return c0\n",
    "end\n",
    "\n",
    "function Cost(c::Vector{ITensor},ρ::MPO,D::Vector{ITensor},M::Vector{Vector{ITensor}})\n",
    "    N = length(c)\n",
    "    X1 = 1\n",
    "    for i in 1:N\n",
    "        Y = D[i]*ρ[i]*c[i]\n",
    "        X1 *= Y*prime(Y,tags=\"Link\")\n",
    "    end\n",
    "    X2 = 0\n",
    "    Nu = length(M)\n",
    "    for r in 1:Nu\n",
    "        Xt = 1\n",
    "        for i in 1:N\n",
    "            Y = D[i]*ρ[i]*c[i]\n",
    "            Xt *= Y*prime(M[r][i],tags=\"Link\")\n",
    "        end\n",
    "        X2 += Xt[]/Nu\n",
    "        end\n",
    "    return real(X1[]-2*X2)\n",
    "end\n",
    "\n",
    "function Cost2(c::Vector{ITensor},Dρ2::Vector{ITensor},DρM::Vector{Vector{ITensor}})\n",
    "    N = length(c)\n",
    "    X1 = 1\n",
    "    for i in 1:N\n",
    "        X1 *= Dρ2[i]*c[i]*c[i]'\n",
    "    end\n",
    "    X2 = 0\n",
    "    Nu = length(M)\n",
    "    for r in 1:Nu\n",
    "        Xt = 1\n",
    "        for i in 1:N\n",
    "            Xt *= DρM[r][i]*c[i]\n",
    "        end\n",
    "        X2 += Xt[]/Nu\n",
    "        end\n",
    "    return real(X1[]-2*X2)\n",
    "end"
   ]
  },
  {
   "cell_type": "code",
   "execution_count": 7,
   "id": "b5cbdf94-84eb-4f49-9685-c84da4260d92",
   "metadata": {},
   "outputs": [
    {
     "name": "stdout",
     "output_type": "stream",
     "text": [
      "400\n",
      "4\n"
     ]
    },
    {
     "data": {
      "text/plain": [
       "loss2 (generic function with 1 method)"
      ]
     },
     "execution_count": 7,
     "metadata": {},
     "output_type": "execute_result"
    }
   ],
   "source": [
    "ψ0t = replace_siteinds(ψ0,s)\n",
    "ρ0 = outer(ψ0t',ψ0t)\n",
    "D = Dissipators(ξ,s,v)\n",
    "Dρ0 = [D[i]*ρ0[i] for i in 1:N]\n",
    "Dρ02 = [Dρ0[i]*(δ(v[i],v[i]')*prime(Dρ0[i],tags=\"Link\")) for i in 1:N]\n",
    "Dρ0M = [ [Dρ0[i]*prime(M[r][i],tags=\"Link\") for i in 1:N] for r in 1:Nu]\n",
    "println(length(Dρ0M))\n",
    "println(length(Dρ0M[1]))\n",
    "\n",
    "loss(c) = Cost(c,ρ0,D,M)\n",
    "loss2(c) = Cost2(c,Dρ02,Dρ0M)"
   ]
  },
  {
   "cell_type": "code",
   "execution_count": 8,
   "id": "51eb2957-7554-4100-9e83-e85cdfad4807",
   "metadata": {},
   "outputs": [
    {
     "name": "stdout",
     "output_type": "stream",
     "text": [
      "  8.110052 seconds (11.44 M allocations: 1.319 GiB, 2.19% gc time, 96.61% compilation time)\n",
      "  4.430139 seconds (4.89 M allocations: 717.639 MiB, 1.41% gc time, 95.72% compilation time)\n"
     ]
    },
    {
     "data": {
      "text/plain": [
       "0.34794980517681423"
      ]
     },
     "execution_count": 8,
     "metadata": {},
     "output_type": "execute_result"
    }
   ],
   "source": [
    "ci = randomMPS(Float64,v,;linkdims=χ).data\n",
    "\n",
    "@time loss(ci)\n",
    "@time loss2(ci)"
   ]
  },
  {
   "cell_type": "code",
   "execution_count": 9,
   "id": "1ac02e78-ce88-4178-b86b-0f77e8e7a64f",
   "metadata": {},
   "outputs": [
    {
     "name": "stderr",
     "output_type": "stream",
     "text": [
      "\u001b[36m\u001b[1m[ \u001b[22m\u001b[39m\u001b[36m\u001b[1mInfo: \u001b[22m\u001b[39mLBFGS: initializing with f = 0.347949805177, ‖∇f‖ = 1.5840e+00\n",
      "\u001b[36m\u001b[1m[ \u001b[22m\u001b[39m\u001b[36m\u001b[1mInfo: \u001b[22m\u001b[39mLBFGS: iter    1: f = 0.032311709799, ‖∇f‖ = 2.8241e-01, α = 1.00e+00, m = 0, nfg = 1\n",
      "\u001b[36m\u001b[1m[ \u001b[22m\u001b[39m\u001b[36m\u001b[1mInfo: \u001b[22m\u001b[39mLBFGS: iter    2: f = -0.003256328922, ‖∇f‖ = 1.4162e-01, α = 1.00e+00, m = 1, nfg = 1\n",
      "\u001b[36m\u001b[1m[ \u001b[22m\u001b[39m\u001b[36m\u001b[1mInfo: \u001b[22m\u001b[39mLBFGS: iter    3: f = -0.028400317517, ‖∇f‖ = 1.0016e-01, α = 1.00e+00, m = 2, nfg = 1\n",
      "\u001b[36m\u001b[1m[ \u001b[22m\u001b[39m\u001b[36m\u001b[1mInfo: \u001b[22m\u001b[39mLBFGS: iter    4: f = -0.035390322593, ‖∇f‖ = 7.8107e-02, α = 2.31e-01, m = 3, nfg = 2\n",
      "\u001b[36m\u001b[1m[ \u001b[22m\u001b[39m\u001b[36m\u001b[1mInfo: \u001b[22m\u001b[39mLBFGS: iter    5: f = -0.044410860522, ‖∇f‖ = 1.1228e-01, α = 1.00e+00, m = 4, nfg = 1\n",
      "\u001b[36m\u001b[1m[ \u001b[22m\u001b[39m\u001b[36m\u001b[1mInfo: \u001b[22m\u001b[39mLBFGS: iter    6: f = -0.052829688113, ‖∇f‖ = 5.2365e-02, α = 1.00e+00, m = 5, nfg = 1\n",
      "\u001b[36m\u001b[1m[ \u001b[22m\u001b[39m\u001b[36m\u001b[1mInfo: \u001b[22m\u001b[39mLBFGS: iter    7: f = -0.060129606632, ‖∇f‖ = 4.0447e-02, α = 1.00e+00, m = 6, nfg = 1\n",
      "\u001b[36m\u001b[1m[ \u001b[22m\u001b[39m\u001b[36m\u001b[1mInfo: \u001b[22m\u001b[39mLBFGS: iter    8: f = -0.064697937407, ‖∇f‖ = 2.6074e-02, α = 1.00e+00, m = 7, nfg = 1\n",
      "\u001b[36m\u001b[1m[ \u001b[22m\u001b[39m\u001b[36m\u001b[1mInfo: \u001b[22m\u001b[39mLBFGS: iter    9: f = -0.065774658983, ‖∇f‖ = 4.8557e-02, α = 1.00e+00, m = 8, nfg = 1\n",
      "\u001b[36m\u001b[1m[ \u001b[22m\u001b[39m\u001b[36m\u001b[1mInfo: \u001b[22m\u001b[39mLBFGS: iter   10: f = -0.066473713622, ‖∇f‖ = 2.3832e-02, α = 1.00e+00, m = 8, nfg = 1\n",
      "\u001b[36m\u001b[1m[ \u001b[22m\u001b[39m\u001b[36m\u001b[1mInfo: \u001b[22m\u001b[39mLBFGS: iter   11: f = -0.066680867720, ‖∇f‖ = 1.4079e-02, α = 1.00e+00, m = 8, nfg = 1\n",
      "\u001b[36m\u001b[1m[ \u001b[22m\u001b[39m\u001b[36m\u001b[1mInfo: \u001b[22m\u001b[39mLBFGS: iter   12: f = -0.067310486227, ‖∇f‖ = 1.0725e-02, α = 1.00e+00, m = 8, nfg = 1\n",
      "\u001b[36m\u001b[1m[ \u001b[22m\u001b[39m\u001b[36m\u001b[1mInfo: \u001b[22m\u001b[39mLBFGS: iter   13: f = -0.067777038831, ‖∇f‖ = 1.6446e-02, α = 1.00e+00, m = 8, nfg = 1\n",
      "\u001b[36m\u001b[1m[ \u001b[22m\u001b[39m\u001b[36m\u001b[1mInfo: \u001b[22m\u001b[39mLBFGS: iter   14: f = -0.067984960821, ‖∇f‖ = 5.4625e-03, α = 1.00e+00, m = 8, nfg = 1\n",
      "\u001b[36m\u001b[1m[ \u001b[22m\u001b[39m\u001b[36m\u001b[1mInfo: \u001b[22m\u001b[39mLBFGS: iter   15: f = -0.068063164330, ‖∇f‖ = 7.7349e-03, α = 1.00e+00, m = 8, nfg = 1\n",
      "\u001b[36m\u001b[1m[ \u001b[22m\u001b[39m\u001b[36m\u001b[1mInfo: \u001b[22m\u001b[39mLBFGS: iter   16: f = -0.068097436287, ‖∇f‖ = 6.0333e-03, α = 1.00e+00, m = 8, nfg = 1\n",
      "\u001b[36m\u001b[1m[ \u001b[22m\u001b[39m\u001b[36m\u001b[1mInfo: \u001b[22m\u001b[39mLBFGS: iter   17: f = -0.068160537111, ‖∇f‖ = 2.6208e-03, α = 1.00e+00, m = 8, nfg = 1\n",
      "\u001b[36m\u001b[1m[ \u001b[22m\u001b[39m\u001b[36m\u001b[1mInfo: \u001b[22m\u001b[39mLBFGS: iter   18: f = -0.068180812836, ‖∇f‖ = 2.8444e-03, α = 1.00e+00, m = 8, nfg = 1\n",
      "\u001b[36m\u001b[1m[ \u001b[22m\u001b[39m\u001b[36m\u001b[1mInfo: \u001b[22m\u001b[39mLBFGS: iter   19: f = -0.068219789895, ‖∇f‖ = 8.9994e-03, α = 1.00e+00, m = 8, nfg = 1\n",
      "\u001b[36m\u001b[1m[ \u001b[22m\u001b[39m\u001b[36m\u001b[1mInfo: \u001b[22m\u001b[39mLBFGS: iter   20: f = -0.068282920374, ‖∇f‖ = 9.1906e-03, α = 1.00e+00, m = 8, nfg = 1\n",
      "\u001b[36m\u001b[1m[ \u001b[22m\u001b[39m\u001b[36m\u001b[1mInfo: \u001b[22m\u001b[39mLBFGS: iter   21: f = -0.068336889858, ‖∇f‖ = 1.8327e-02, α = 4.64e-01, m = 8, nfg = 2\n",
      "\u001b[36m\u001b[1m[ \u001b[22m\u001b[39m\u001b[36m\u001b[1mInfo: \u001b[22m\u001b[39mLBFGS: iter   22: f = -0.068426445959, ‖∇f‖ = 1.1223e-02, α = 1.00e+00, m = 8, nfg = 1\n",
      "\u001b[36m\u001b[1m[ \u001b[22m\u001b[39m\u001b[36m\u001b[1mInfo: \u001b[22m\u001b[39mLBFGS: iter   23: f = -0.068478248266, ‖∇f‖ = 1.8800e-03, α = 1.00e+00, m = 8, nfg = 1\n",
      "\u001b[36m\u001b[1m[ \u001b[22m\u001b[39m\u001b[36m\u001b[1mInfo: \u001b[22m\u001b[39mLBFGS: iter   24: f = -0.068481970911, ‖∇f‖ = 1.0395e-03, α = 1.00e+00, m = 8, nfg = 1\n",
      "\u001b[36m\u001b[1m[ \u001b[22m\u001b[39m\u001b[36m\u001b[1mInfo: \u001b[22m\u001b[39mLBFGS: converged after 25 iterations: f = -0.068483976664, ‖∇f‖ = 9.5089e-04\n"
     ]
    }
   ],
   "source": [
    "using Zygote\n",
    "using OptimKit\n",
    "optimizer = LBFGS(; maxiter=25, verbosity=2, gradtol = 1e-3)\n",
    "function loss_and_grad(x)\n",
    "  y, (∇,) = withgradient(loss2, x)\n",
    "  return y, ∇\n",
    "end\n",
    "c0 = guess_c(v,χ,1/3)\n",
    "c, fs, gs, niter, normgradhistory = optimize(loss_and_grad, ci, optimizer);"
   ]
  },
  {
   "cell_type": "code",
   "execution_count": 10,
   "id": "53fa05eb-2077-4efc-86ba-ac354c684e70",
   "metadata": {},
   "outputs": [
    {
     "name": "stdout",
     "output_type": "stream",
     "text": [
      "norm(flatten(c) - flatten(c0)) = 0.530253934562455\n",
      "flatten(c0) = ITensor ord=4\n",
      "Dim 1: (dim=2|id=48|\"Qubit,Site,n=1,virtual\")\n",
      "Dim 2: (dim=2|id=846|\"Qubit,Site,n=2,virtual\")\n",
      "Dim 3: (dim=2|id=394|\"Qubit,Site,n=3,virtual\")\n",
      "Dim 4: (dim=2|id=180|\"Qubit,Site,n=4,virtual\")\n",
      "NDTensors.Dense{Float64, Vector{Float64}}\n",
      " 2×2×2×2\n",
      "[:, :, 1, 1] =\n",
      " 0.01234567901234567   0.024691358024691343\n",
      " 0.024691358024691346  0.049382716049382706\n",
      "\n",
      "[:, :, 2, 1] =\n",
      " 0.024691358024691343  0.0493827160493827\n",
      " 0.049382716049382706  0.09876543209876544\n",
      "\n",
      "[:, :, 1, 2] =\n",
      " 0.024691358024691343  0.0493827160493827\n",
      " 0.049382716049382706  0.09876543209876544\n",
      "\n",
      "[:, :, 2, 2] =\n",
      " 0.0493827160493827   0.09876543209876543\n",
      " 0.09876543209876544  0.19753086419753094\n",
      "flatten(c) = ITensor ord=4\n",
      "Dim 1: (dim=2|id=48|\"Qubit,Site,n=1,virtual\")\n",
      "Dim 2: (dim=2|id=846|\"Qubit,Site,n=2,virtual\")\n",
      "Dim 3: (dim=2|id=394|\"Qubit,Site,n=3,virtual\")\n",
      "Dim 4: (dim=2|id=180|\"Qubit,Site,n=4,virtual\")\n",
      "NDTensors.Dense{Float64, Vector{Float64}}\n",
      " 2×2×2×2\n",
      "[:, :, 1, 1] =\n",
      " 0.007978182687604108  0.0036150450702878236\n",
      " 0.005406380724650205  0.0837511934455746\n",
      "\n",
      "[:, :, 2, 1] =\n",
      " -0.0014153094604940038  0.008340400581789099\n",
      "  0.010966415585517425   0.05184738382379349\n",
      "\n",
      "[:, :, 1, 2] =\n",
      "  0.01989015629878265   -0.01350721526437129\n",
      " -0.016422250503650378   0.041549286938319066\n",
      "\n",
      "[:, :, 2, 2] =\n",
      " 0.09585306159494883   0.000721964503752358\n",
      " 0.008245180916398556  0.6890200248935303\n"
     ]
    },
    {
     "data": {
      "text/plain": [
       "ITensor ord=4 (dim=2|id=48|\"Qubit,Site,n=1,virtual\") (dim=2|id=846|\"Qubit,Site,n=2,virtual\") (dim=2|id=394|\"Qubit,Site,n=3,virtual\") (dim=2|id=180|\"Qubit,Site,n=4,virtual\")\n",
       "NDTensors.Dense{Float64, Vector{Float64}}"
      ]
     },
     "execution_count": 10,
     "metadata": {},
     "output_type": "execute_result"
    }
   ],
   "source": [
    "@show norm(flatten(c)-flatten(c0))\n",
    "@show flatten(c0)\n",
    "@show flatten(c)"
   ]
  },
  {
   "cell_type": "code",
   "execution_count": 11,
   "id": "2720bba0-3287-4d19-afb9-1751ddde2bf7",
   "metadata": {},
   "outputs": [
    {
     "data": {
      "text/plain": [
       "loss2 (generic function with 1 method)"
      ]
     },
     "execution_count": 11,
     "metadata": {},
     "output_type": "execute_result"
    }
   ],
   "source": [
    "function Cost2(d::Vector{ITensor},c::Vector{ITensor},D::Vector{ITensor},D2::Vector{ITensor},s::Vector{Index{Int64}},η::Vector{Index{Int64}})\n",
    "    N = length(c)\n",
    "    X1 = 1\n",
    "    for i in 1:N\n",
    "        Y = D[i]*c[i]*D2[i]*d[i]\n",
    "        X1 *= Y*prime(Y,tags=\"Link\")\n",
    "    end\n",
    "    X2 = 1\n",
    "    for i in 1:N\n",
    "        Y = D[i]*c[i]*D2[i]*d[i]\n",
    "        X2 *= Y*δ(s[i],η[i])*δ(s[i]',η[i]')\n",
    "    end\n",
    "    return real(X1[]-2*X2[])\n",
    "end\n",
    "D2 = Dissipators(η,ξ,x)\n",
    "loss2(d) = Cost2(d,c,D,D2,s,η)"
   ]
  },
  {
   "cell_type": "code",
   "execution_count": 12,
   "id": "642779a0-9c9b-4d88-9bff-8aa7148accc4",
   "metadata": {},
   "outputs": [
    {
     "name": "stderr",
     "output_type": "stream",
     "text": [
      "\u001b[36m\u001b[1m[ \u001b[22m\u001b[39m\u001b[36m\u001b[1mInfo: \u001b[22m\u001b[39mLBFGS: initializing with f = 17.315923093228, ‖∇f‖ = 5.6192e+01\n",
      "\u001b[36m\u001b[1m[ \u001b[22m\u001b[39m\u001b[36m\u001b[1mInfo: \u001b[22m\u001b[39mLBFGS: iter    1: f = -0.787702513299, ‖∇f‖ = 8.2019e+00, α = 1.00e+00, m = 0, nfg = 1\n",
      "\u001b[36m\u001b[1m[ \u001b[22m\u001b[39m\u001b[36m\u001b[1mInfo: \u001b[22m\u001b[39mLBFGS: iter    2: f = -21.708290800403, ‖∇f‖ = 3.7320e+01, α = 1.13e+01, m = 1, nfg = 7\n",
      "\u001b[36m\u001b[1m[ \u001b[22m\u001b[39m\u001b[36m\u001b[1mInfo: \u001b[22m\u001b[39mLBFGS: iter    3: f = -21.823153042099, ‖∇f‖ = 3.0453e+01, α = 1.00e+00, m = 2, nfg = 1\n",
      "\u001b[36m\u001b[1m[ \u001b[22m\u001b[39m\u001b[36m\u001b[1mInfo: \u001b[22m\u001b[39mLBFGS: iter    4: f = -127.196816709794, ‖∇f‖ = 6.0952e+02, α = 7.12e+00, m = 3, nfg = 5\n",
      "\u001b[36m\u001b[1m[ \u001b[22m\u001b[39m\u001b[36m\u001b[1mInfo: \u001b[22m\u001b[39mLBFGS: iter    5: f = -194.961899515178, ‖∇f‖ = 1.5694e+02, α = 3.14e-01, m = 4, nfg = 2\n",
      "\u001b[36m\u001b[1m[ \u001b[22m\u001b[39m\u001b[36m\u001b[1mInfo: \u001b[22m\u001b[39mLBFGS: iter    6: f = -197.338502793705, ‖∇f‖ = 1.5517e+02, α = 1.95e-02, m = 5, nfg = 2\n",
      "\u001b[36m\u001b[1m[ \u001b[22m\u001b[39m\u001b[36m\u001b[1mInfo: \u001b[22m\u001b[39mLBFGS: iter    7: f = -209.314853600303, ‖∇f‖ = 9.7729e+01, α = 2.46e-01, m = 6, nfg = 2\n",
      "\u001b[36m\u001b[1m[ \u001b[22m\u001b[39m\u001b[36m\u001b[1mInfo: \u001b[22m\u001b[39mLBFGS: iter    8: f = -214.965044506351, ‖∇f‖ = 3.8274e+01, α = 4.53e-01, m = 7, nfg = 2\n",
      "\u001b[36m\u001b[1m[ \u001b[22m\u001b[39m\u001b[36m\u001b[1mInfo: \u001b[22m\u001b[39mLBFGS: iter    9: f = -216.660374226998, ‖∇f‖ = 4.1586e+01, α = 1.00e+00, m = 8, nfg = 1\n",
      "\u001b[36m\u001b[1m[ \u001b[22m\u001b[39m\u001b[36m\u001b[1mInfo: \u001b[22m\u001b[39mLBFGS: iter   10: f = -219.293242972882, ‖∇f‖ = 7.0825e+01, α = 1.00e+00, m = 8, nfg = 1\n",
      "\u001b[36m\u001b[1m[ \u001b[22m\u001b[39m\u001b[36m\u001b[1mInfo: \u001b[22m\u001b[39mLBFGS: iter   11: f = -220.627346169359, ‖∇f‖ = 8.1313e+01, α = 1.20e-01, m = 8, nfg = 2\n",
      "\u001b[36m\u001b[1m[ \u001b[22m\u001b[39m\u001b[36m\u001b[1mInfo: \u001b[22m\u001b[39mLBFGS: iter   12: f = -223.377837056961, ‖∇f‖ = 1.5784e+02, α = 4.22e-01, m = 8, nfg = 4\n",
      "\u001b[36m\u001b[1m[ \u001b[22m\u001b[39m\u001b[36m\u001b[1mInfo: \u001b[22m\u001b[39mLBFGS: iter   13: f = -226.277447343740, ‖∇f‖ = 5.5951e+01, α = 1.00e+00, m = 8, nfg = 1\n",
      "\u001b[36m\u001b[1m[ \u001b[22m\u001b[39m\u001b[36m\u001b[1mInfo: \u001b[22m\u001b[39mLBFGS: iter   14: f = -228.071340997306, ‖∇f‖ = 3.8287e+01, α = 1.00e+00, m = 8, nfg = 1\n",
      "\u001b[36m\u001b[1m[ \u001b[22m\u001b[39m\u001b[36m\u001b[1mInfo: \u001b[22m\u001b[39mLBFGS: iter   15: f = -228.997326100462, ‖∇f‖ = 4.6797e+01, α = 1.00e+00, m = 8, nfg = 1\n",
      "\u001b[36m\u001b[1m[ \u001b[22m\u001b[39m\u001b[36m\u001b[1mInfo: \u001b[22m\u001b[39mLBFGS: iter   16: f = -229.920420052801, ‖∇f‖ = 4.8462e+01, α = 1.00e+00, m = 8, nfg = 1\n",
      "\u001b[36m\u001b[1m[ \u001b[22m\u001b[39m\u001b[36m\u001b[1mInfo: \u001b[22m\u001b[39mLBFGS: iter   17: f = -230.796012665850, ‖∇f‖ = 1.4816e+02, α = 1.00e+00, m = 8, nfg = 1\n",
      "\u001b[36m\u001b[1m[ \u001b[22m\u001b[39m\u001b[36m\u001b[1mInfo: \u001b[22m\u001b[39mLBFGS: iter   18: f = -233.864853382257, ‖∇f‖ = 5.9079e+01, α = 1.00e+00, m = 8, nfg = 1\n",
      "\u001b[36m\u001b[1m[ \u001b[22m\u001b[39m\u001b[36m\u001b[1mInfo: \u001b[22m\u001b[39mLBFGS: iter   19: f = -235.871942525277, ‖∇f‖ = 4.3608e+01, α = 1.00e+00, m = 8, nfg = 1\n",
      "\u001b[36m\u001b[1m[ \u001b[22m\u001b[39m\u001b[36m\u001b[1mInfo: \u001b[22m\u001b[39mLBFGS: iter   20: f = -239.213773314129, ‖∇f‖ = 7.5858e+01, α = 1.00e+00, m = 8, nfg = 1\n",
      "\u001b[36m\u001b[1m[ \u001b[22m\u001b[39m\u001b[36m\u001b[1mInfo: \u001b[22m\u001b[39mLBFGS: iter   21: f = -241.431179710502, ‖∇f‖ = 8.6564e+01, α = 1.00e+00, m = 8, nfg = 1\n",
      "\u001b[36m\u001b[1m[ \u001b[22m\u001b[39m\u001b[36m\u001b[1mInfo: \u001b[22m\u001b[39mLBFGS: iter   22: f = -242.130347433650, ‖∇f‖ = 1.5986e+01, α = 1.00e+00, m = 8, nfg = 1\n",
      "\u001b[36m\u001b[1m[ \u001b[22m\u001b[39m\u001b[36m\u001b[1mInfo: \u001b[22m\u001b[39mLBFGS: iter   23: f = -242.357849847929, ‖∇f‖ = 8.9043e+00, α = 1.00e+00, m = 8, nfg = 1\n",
      "\u001b[36m\u001b[1m[ \u001b[22m\u001b[39m\u001b[36m\u001b[1mInfo: \u001b[22m\u001b[39mLBFGS: iter   24: f = -242.577969230583, ‖∇f‖ = 1.0686e+01, α = 1.00e+00, m = 8, nfg = 1\n",
      "\u001b[36m\u001b[1m[ \u001b[22m\u001b[39m\u001b[36m\u001b[1mInfo: \u001b[22m\u001b[39mLBFGS: iter   25: f = -242.617357962547, ‖∇f‖ = 1.6543e+01, α = 1.00e+00, m = 8, nfg = 1\n",
      "\u001b[36m\u001b[1m[ \u001b[22m\u001b[39m\u001b[36m\u001b[1mInfo: \u001b[22m\u001b[39mLBFGS: iter   26: f = -242.699254740717, ‖∇f‖ = 5.2798e+00, α = 1.00e+00, m = 8, nfg = 1\n",
      "\u001b[36m\u001b[1m[ \u001b[22m\u001b[39m\u001b[36m\u001b[1mInfo: \u001b[22m\u001b[39mLBFGS: iter   27: f = -242.716325604493, ‖∇f‖ = 4.1698e+00, α = 1.00e+00, m = 8, nfg = 1\n",
      "\u001b[36m\u001b[1m[ \u001b[22m\u001b[39m\u001b[36m\u001b[1mInfo: \u001b[22m\u001b[39mLBFGS: iter   28: f = -242.810840282926, ‖∇f‖ = 8.0253e+00, α = 1.00e+00, m = 8, nfg = 1\n",
      "\u001b[36m\u001b[1m[ \u001b[22m\u001b[39m\u001b[36m\u001b[1mInfo: \u001b[22m\u001b[39mLBFGS: iter   29: f = -242.951559345225, ‖∇f‖ = 1.4999e+01, α = 1.00e+00, m = 8, nfg = 1\n",
      "\u001b[36m\u001b[1m[ \u001b[22m\u001b[39m\u001b[36m\u001b[1mInfo: \u001b[22m\u001b[39mLBFGS: iter   30: f = -243.107101626265, ‖∇f‖ = 1.0523e+01, α = 1.00e+00, m = 8, nfg = 1\n",
      "\u001b[36m\u001b[1m[ \u001b[22m\u001b[39m\u001b[36m\u001b[1mInfo: \u001b[22m\u001b[39mLBFGS: iter   31: f = -243.180780177372, ‖∇f‖ = 2.8444e+01, α = 4.95e-01, m = 8, nfg = 2\n",
      "\u001b[36m\u001b[1m[ \u001b[22m\u001b[39m\u001b[36m\u001b[1mInfo: \u001b[22m\u001b[39mLBFGS: iter   32: f = -243.351128056594, ‖∇f‖ = 1.3157e+01, α = 1.00e+00, m = 8, nfg = 1\n",
      "\u001b[36m\u001b[1m[ \u001b[22m\u001b[39m\u001b[36m\u001b[1mInfo: \u001b[22m\u001b[39mLBFGS: iter   33: f = -243.586240849000, ‖∇f‖ = 1.2001e+01, α = 1.00e+00, m = 8, nfg = 1\n",
      "\u001b[36m\u001b[1m[ \u001b[22m\u001b[39m\u001b[36m\u001b[1mInfo: \u001b[22m\u001b[39mLBFGS: iter   34: f = -243.870813037174, ‖∇f‖ = 1.6036e+01, α = 1.00e+00, m = 8, nfg = 1\n",
      "\u001b[36m\u001b[1m[ \u001b[22m\u001b[39m\u001b[36m\u001b[1mInfo: \u001b[22m\u001b[39mLBFGS: iter   35: f = -244.367623821746, ‖∇f‖ = 4.3364e+01, α = 1.00e+00, m = 8, nfg = 1\n",
      "\u001b[36m\u001b[1m[ \u001b[22m\u001b[39m\u001b[36m\u001b[1mInfo: \u001b[22m\u001b[39mLBFGS: iter   36: f = -244.692447365891, ‖∇f‖ = 2.5417e+01, α = 1.00e+00, m = 8, nfg = 1\n",
      "\u001b[36m\u001b[1m[ \u001b[22m\u001b[39m\u001b[36m\u001b[1mInfo: \u001b[22m\u001b[39mLBFGS: iter   37: f = -245.068719257866, ‖∇f‖ = 2.5565e+01, α = 5.15e-01, m = 8, nfg = 2\n",
      "\u001b[36m\u001b[1m[ \u001b[22m\u001b[39m\u001b[36m\u001b[1mInfo: \u001b[22m\u001b[39mLBFGS: iter   38: f = -245.109123704909, ‖∇f‖ = 9.3833e+00, α = 3.07e-01, m = 8, nfg = 2\n",
      "\u001b[36m\u001b[1m[ \u001b[22m\u001b[39m\u001b[36m\u001b[1mInfo: \u001b[22m\u001b[39mLBFGS: iter   39: f = -245.122594321604, ‖∇f‖ = 4.9739e+00, α = 1.00e+00, m = 8, nfg = 1\n",
      "\u001b[36m\u001b[1m[ \u001b[22m\u001b[39m\u001b[36m\u001b[1mInfo: \u001b[22m\u001b[39mLBFGS: iter   40: f = -245.127390669083, ‖∇f‖ = 2.4187e+00, α = 1.00e+00, m = 8, nfg = 1\n",
      "\u001b[36m\u001b[1m[ \u001b[22m\u001b[39m\u001b[36m\u001b[1mInfo: \u001b[22m\u001b[39mLBFGS: iter   41: f = -245.130068029083, ‖∇f‖ = 2.9436e+00, α = 1.00e+00, m = 8, nfg = 1\n",
      "\u001b[36m\u001b[1m[ \u001b[22m\u001b[39m\u001b[36m\u001b[1mInfo: \u001b[22m\u001b[39mLBFGS: iter   42: f = -245.144442139626, ‖∇f‖ = 6.6361e+00, α = 1.00e+00, m = 8, nfg = 1\n",
      "\u001b[36m\u001b[1m[ \u001b[22m\u001b[39m\u001b[36m\u001b[1mInfo: \u001b[22m\u001b[39mLBFGS: iter   43: f = -245.161917195718, ‖∇f‖ = 8.5364e+00, α = 1.00e+00, m = 8, nfg = 1\n",
      "\u001b[36m\u001b[1m[ \u001b[22m\u001b[39m\u001b[36m\u001b[1mInfo: \u001b[22m\u001b[39mLBFGS: iter   44: f = -245.190129866356, ‖∇f‖ = 7.2167e+00, α = 1.00e+00, m = 8, nfg = 1\n",
      "\u001b[36m\u001b[1m[ \u001b[22m\u001b[39m\u001b[36m\u001b[1mInfo: \u001b[22m\u001b[39mLBFGS: iter   45: f = -245.218267900546, ‖∇f‖ = 4.4931e+00, α = 1.00e+00, m = 8, nfg = 1\n",
      "\u001b[36m\u001b[1m[ \u001b[22m\u001b[39m\u001b[36m\u001b[1mInfo: \u001b[22m\u001b[39mLBFGS: iter   46: f = -245.239976831203, ‖∇f‖ = 3.7208e+00, α = 1.00e+00, m = 8, nfg = 1\n",
      "\u001b[36m\u001b[1m[ \u001b[22m\u001b[39m\u001b[36m\u001b[1mInfo: \u001b[22m\u001b[39mLBFGS: iter   47: f = -245.255967541994, ‖∇f‖ = 1.2827e+01, α = 1.00e+00, m = 8, nfg = 1\n",
      "\u001b[36m\u001b[1m[ \u001b[22m\u001b[39m\u001b[36m\u001b[1mInfo: \u001b[22m\u001b[39mLBFGS: iter   48: f = -245.282511284000, ‖∇f‖ = 1.3553e+01, α = 1.00e+00, m = 8, nfg = 1\n",
      "\u001b[36m\u001b[1m[ \u001b[22m\u001b[39m\u001b[36m\u001b[1mInfo: \u001b[22m\u001b[39mLBFGS: iter   49: f = -245.359572889087, ‖∇f‖ = 1.3531e+01, α = 1.00e+00, m = 8, nfg = 1\n",
      "\u001b[36m\u001b[1m[ \u001b[22m\u001b[39m\u001b[36m\u001b[1mInfo: \u001b[22m\u001b[39mLBFGS: iter   50: f = -245.394509018212, ‖∇f‖ = 1.4079e+01, α = 4.35e-01, m = 8, nfg = 2\n",
      "\u001b[36m\u001b[1m[ \u001b[22m\u001b[39m\u001b[36m\u001b[1mInfo: \u001b[22m\u001b[39mLBFGS: iter   51: f = -245.448826992062, ‖∇f‖ = 9.9436e+00, α = 1.00e+00, m = 8, nfg = 1\n",
      "\u001b[36m\u001b[1m[ \u001b[22m\u001b[39m\u001b[36m\u001b[1mInfo: \u001b[22m\u001b[39mLBFGS: iter   52: f = -245.523424620766, ‖∇f‖ = 5.8539e+00, α = 1.00e+00, m = 8, nfg = 1\n",
      "\u001b[36m\u001b[1m[ \u001b[22m\u001b[39m\u001b[36m\u001b[1mInfo: \u001b[22m\u001b[39mLBFGS: iter   53: f = -245.541533125491, ‖∇f‖ = 7.1227e+00, α = 1.00e+00, m = 8, nfg = 1\n",
      "\u001b[36m\u001b[1m[ \u001b[22m\u001b[39m\u001b[36m\u001b[1mInfo: \u001b[22m\u001b[39mLBFGS: iter   54: f = -245.553597101370, ‖∇f‖ = 1.0747e+01, α = 1.00e+00, m = 8, nfg = 1\n",
      "\u001b[36m\u001b[1m[ \u001b[22m\u001b[39m\u001b[36m\u001b[1mInfo: \u001b[22m\u001b[39mLBFGS: iter   55: f = -245.565773001962, ‖∇f‖ = 4.9201e+00, α = 1.00e+00, m = 8, nfg = 1\n",
      "\u001b[36m\u001b[1m[ \u001b[22m\u001b[39m\u001b[36m\u001b[1mInfo: \u001b[22m\u001b[39mLBFGS: iter   56: f = -245.578060820838, ‖∇f‖ = 4.8733e+00, α = 1.00e+00, m = 8, nfg = 1\n",
      "\u001b[36m\u001b[1m[ \u001b[22m\u001b[39m\u001b[36m\u001b[1mInfo: \u001b[22m\u001b[39mLBFGS: iter   57: f = -245.613766756396, ‖∇f‖ = 8.9592e+00, α = 1.00e+00, m = 8, nfg = 1\n",
      "\u001b[36m\u001b[1m[ \u001b[22m\u001b[39m\u001b[36m\u001b[1mInfo: \u001b[22m\u001b[39mLBFGS: iter   58: f = -245.655073165020, ‖∇f‖ = 1.1069e+01, α = 1.00e+00, m = 8, nfg = 1\n",
      "\u001b[36m\u001b[1m[ \u001b[22m\u001b[39m\u001b[36m\u001b[1mInfo: \u001b[22m\u001b[39mLBFGS: iter   59: f = -245.676799474834, ‖∇f‖ = 7.5727e+00, α = 1.00e+00, m = 8, nfg = 1\n",
      "\u001b[36m\u001b[1m[ \u001b[22m\u001b[39m\u001b[36m\u001b[1mInfo: \u001b[22m\u001b[39mLBFGS: iter   60: f = -245.696798025070, ‖∇f‖ = 5.0802e+00, α = 1.00e+00, m = 8, nfg = 1\n",
      "\u001b[36m\u001b[1m[ \u001b[22m\u001b[39m\u001b[36m\u001b[1mInfo: \u001b[22m\u001b[39mLBFGS: iter   61: f = -245.703492765622, ‖∇f‖ = 1.7393e+00, α = 1.00e+00, m = 8, nfg = 1\n",
      "\u001b[36m\u001b[1m[ \u001b[22m\u001b[39m\u001b[36m\u001b[1mInfo: \u001b[22m\u001b[39mLBFGS: iter   62: f = -245.705413855889, ‖∇f‖ = 2.0081e+00, α = 1.00e+00, m = 8, nfg = 1\n",
      "\u001b[36m\u001b[1m[ \u001b[22m\u001b[39m\u001b[36m\u001b[1mInfo: \u001b[22m\u001b[39mLBFGS: iter   63: f = -245.706548386313, ‖∇f‖ = 2.1214e+00, α = 1.00e+00, m = 8, nfg = 1\n",
      "\u001b[36m\u001b[1m[ \u001b[22m\u001b[39m\u001b[36m\u001b[1mInfo: \u001b[22m\u001b[39mLBFGS: iter   64: f = -245.707257527494, ‖∇f‖ = 4.5782e+00, α = 1.98e-01, m = 8, nfg = 2\n",
      "\u001b[36m\u001b[1m[ \u001b[22m\u001b[39m\u001b[36m\u001b[1mInfo: \u001b[22m\u001b[39mLBFGS: iter   65: f = -245.709756282057, ‖∇f‖ = 2.7955e+00, α = 1.00e+00, m = 8, nfg = 1\n",
      "\u001b[36m\u001b[1m[ \u001b[22m\u001b[39m\u001b[36m\u001b[1mInfo: \u001b[22m\u001b[39mLBFGS: iter   66: f = -245.711558656366, ‖∇f‖ = 1.2404e+00, α = 1.00e+00, m = 8, nfg = 1\n",
      "\u001b[36m\u001b[1m[ \u001b[22m\u001b[39m\u001b[36m\u001b[1mInfo: \u001b[22m\u001b[39mLBFGS: iter   67: f = -245.712740833671, ‖∇f‖ = 9.7434e-01, α = 1.00e+00, m = 8, nfg = 1\n",
      "\u001b[36m\u001b[1m[ \u001b[22m\u001b[39m\u001b[36m\u001b[1mInfo: \u001b[22m\u001b[39mLBFGS: iter   68: f = -245.713126577763, ‖∇f‖ = 7.1112e-01, α = 1.00e+00, m = 8, nfg = 1\n",
      "\u001b[36m\u001b[1m[ \u001b[22m\u001b[39m\u001b[36m\u001b[1mInfo: \u001b[22m\u001b[39mLBFGS: iter   69: f = -245.713345382631, ‖∇f‖ = 1.7670e+00, α = 1.00e+00, m = 8, nfg = 1\n",
      "\u001b[36m\u001b[1m[ \u001b[22m\u001b[39m\u001b[36m\u001b[1mInfo: \u001b[22m\u001b[39mLBFGS: iter   70: f = -245.713671820677, ‖∇f‖ = 8.0863e-01, α = 1.00e+00, m = 8, nfg = 1\n",
      "\u001b[36m\u001b[1m[ \u001b[22m\u001b[39m\u001b[36m\u001b[1mInfo: \u001b[22m\u001b[39mLBFGS: iter   71: f = -245.714019082314, ‖∇f‖ = 1.2094e+00, α = 1.00e+00, m = 8, nfg = 1\n",
      "\u001b[36m\u001b[1m[ \u001b[22m\u001b[39m\u001b[36m\u001b[1mInfo: \u001b[22m\u001b[39mLBFGS: iter   72: f = -245.714308069665, ‖∇f‖ = 1.4892e+00, α = 1.00e+00, m = 8, nfg = 1\n",
      "\u001b[36m\u001b[1m[ \u001b[22m\u001b[39m\u001b[36m\u001b[1mInfo: \u001b[22m\u001b[39mLBFGS: iter   73: f = -245.715392943836, ‖∇f‖ = 1.9490e+00, α = 1.00e+00, m = 8, nfg = 1\n",
      "\u001b[36m\u001b[1m[ \u001b[22m\u001b[39m\u001b[36m\u001b[1mInfo: \u001b[22m\u001b[39mLBFGS: iter   74: f = -245.715648975026, ‖∇f‖ = 5.1025e+00, α = 1.00e+00, m = 8, nfg = 1\n",
      "\u001b[36m\u001b[1m[ \u001b[22m\u001b[39m\u001b[36m\u001b[1mInfo: \u001b[22m\u001b[39mLBFGS: iter   75: f = -245.717130439533, ‖∇f‖ = 1.3841e+00, α = 1.00e+00, m = 8, nfg = 1\n",
      "\u001b[36m\u001b[1m[ \u001b[22m\u001b[39m\u001b[36m\u001b[1mInfo: \u001b[22m\u001b[39mLBFGS: iter   76: f = -245.717466879385, ‖∇f‖ = 6.6318e-01, α = 1.00e+00, m = 8, nfg = 1\n",
      "\u001b[36m\u001b[1m[ \u001b[22m\u001b[39m\u001b[36m\u001b[1mInfo: \u001b[22m\u001b[39mLBFGS: iter   77: f = -245.717681223259, ‖∇f‖ = 1.0774e+00, α = 1.00e+00, m = 8, nfg = 1\n",
      "\u001b[36m\u001b[1m[ \u001b[22m\u001b[39m\u001b[36m\u001b[1mInfo: \u001b[22m\u001b[39mLBFGS: iter   78: f = -245.717921772199, ‖∇f‖ = 1.1269e+00, α = 1.00e+00, m = 8, nfg = 1\n",
      "\u001b[36m\u001b[1m[ \u001b[22m\u001b[39m\u001b[36m\u001b[1mInfo: \u001b[22m\u001b[39mLBFGS: iter   79: f = -245.718891362202, ‖∇f‖ = 2.5502e+00, α = 1.00e+00, m = 8, nfg = 1\n",
      "\u001b[36m\u001b[1m[ \u001b[22m\u001b[39m\u001b[36m\u001b[1mInfo: \u001b[22m\u001b[39mLBFGS: iter   80: f = -245.719780995639, ‖∇f‖ = 7.0566e-01, α = 5.54e-01, m = 8, nfg = 2\n",
      "\u001b[36m\u001b[1m[ \u001b[22m\u001b[39m\u001b[36m\u001b[1mInfo: \u001b[22m\u001b[39mLBFGS: iter   81: f = -245.720682457533, ‖∇f‖ = 1.0723e+00, α = 1.00e+00, m = 8, nfg = 1\n",
      "\u001b[36m\u001b[1m[ \u001b[22m\u001b[39m\u001b[36m\u001b[1mInfo: \u001b[22m\u001b[39mLBFGS: iter   82: f = -245.722558876023, ‖∇f‖ = 2.4187e+00, α = 1.00e+00, m = 8, nfg = 1\n",
      "\u001b[36m\u001b[1m[ \u001b[22m\u001b[39m\u001b[36m\u001b[1mInfo: \u001b[22m\u001b[39mLBFGS: iter   83: f = -245.724284051163, ‖∇f‖ = 2.1485e+00, α = 1.00e+00, m = 8, nfg = 1\n",
      "\u001b[36m\u001b[1m[ \u001b[22m\u001b[39m\u001b[36m\u001b[1mInfo: \u001b[22m\u001b[39mLBFGS: iter   84: f = -245.730708719640, ‖∇f‖ = 4.8272e+00, α = 1.00e+00, m = 8, nfg = 1\n",
      "\u001b[36m\u001b[1m[ \u001b[22m\u001b[39m\u001b[36m\u001b[1mInfo: \u001b[22m\u001b[39mLBFGS: iter   85: f = -245.733370229032, ‖∇f‖ = 1.0674e+01, α = 1.00e+00, m = 8, nfg = 1\n",
      "\u001b[36m\u001b[1m[ \u001b[22m\u001b[39m\u001b[36m\u001b[1mInfo: \u001b[22m\u001b[39mLBFGS: iter   86: f = -245.743473853634, ‖∇f‖ = 3.5432e+00, α = 1.00e+00, m = 8, nfg = 1\n",
      "\u001b[36m\u001b[1m[ \u001b[22m\u001b[39m\u001b[36m\u001b[1mInfo: \u001b[22m\u001b[39mLBFGS: iter   87: f = -245.751073704604, ‖∇f‖ = 3.4681e+00, α = 1.00e+00, m = 8, nfg = 1\n",
      "\u001b[36m\u001b[1m[ \u001b[22m\u001b[39m\u001b[36m\u001b[1mInfo: \u001b[22m\u001b[39mLBFGS: iter   88: f = -245.757555096088, ‖∇f‖ = 3.6308e+00, α = 1.00e+00, m = 8, nfg = 1\n",
      "\u001b[36m\u001b[1m[ \u001b[22m\u001b[39m\u001b[36m\u001b[1mInfo: \u001b[22m\u001b[39mLBFGS: iter   89: f = -245.763040671070, ‖∇f‖ = 7.3827e+00, α = 3.81e-01, m = 8, nfg = 2\n",
      "\u001b[36m\u001b[1m[ \u001b[22m\u001b[39m\u001b[36m\u001b[1mInfo: \u001b[22m\u001b[39mLBFGS: iter   90: f = -245.780728208112, ‖∇f‖ = 5.6713e+00, α = 1.00e+00, m = 8, nfg = 1\n",
      "\u001b[36m\u001b[1m[ \u001b[22m\u001b[39m\u001b[36m\u001b[1mInfo: \u001b[22m\u001b[39mLBFGS: iter   91: f = -245.834925061086, ‖∇f‖ = 8.4903e+00, α = 1.00e+00, m = 8, nfg = 1\n"
     ]
    },
    {
     "name": "stdout",
     "output_type": "stream",
     "text": [
      "flatten(d) = ITensor ord=4\n",
      "Dim 1: (dim=2|id=433|\"Qubit,Site,n=1,virtual\")\n",
      "Dim 2: (dim=2|id=157|\"Qubit,Site,n=2,virtual\")\n",
      "Dim 3: (dim=2|id=553|\"Qubit,Site,n=3,virtual\")\n",
      "Dim 4: (dim=2|id=877|\"Qubit,Site,n=4,virtual\")\n",
      "NDTensors.Dense{Float64, Vector{Float64}}\n",
      " 2×2×2×2\n",
      "[:, :, 1, 1] =\n",
      " 131.38802415193896  -54.77572506767331\n",
      " -64.33336651241306   -2.0012251008373494\n",
      "\n",
      "[:, :, 2, 1] =\n",
      "  -8.628326896263726   3.9373395842216157\n",
      " -12.027778887989516  12.512207131837693\n",
      "\n",
      "[:, :, 1, 2] =\n",
      " -90.13335759523608   37.168693156713594\n",
      "  63.62297827096831  -13.473883389443914\n",
      "\n",
      "[:, :, 2, 2] =\n",
      " -24.091660843761726  10.051473685124728\n",
      "  11.430871067780078   0.6453535206549023\n"
     ]
    },
    {
     "name": "stderr",
     "output_type": "stream",
     "text": [
      "\u001b[36m\u001b[1m[ \u001b[22m\u001b[39m\u001b[36m\u001b[1mInfo: \u001b[22m\u001b[39mLBFGS: iter   92: f = -245.906331325578, ‖∇f‖ = 2.6044e+01, α = 1.00e+00, m = 8, nfg = 1\n",
      "\u001b[36m\u001b[1m[ \u001b[22m\u001b[39m\u001b[36m\u001b[1mInfo: \u001b[22m\u001b[39mLBFGS: iter   93: f = -246.098452998048, ‖∇f‖ = 4.4837e+01, α = 1.00e+00, m = 8, nfg = 1\n",
      "\u001b[36m\u001b[1m[ \u001b[22m\u001b[39m\u001b[36m\u001b[1mInfo: \u001b[22m\u001b[39mLBFGS: iter   94: f = -246.321274057111, ‖∇f‖ = 1.0985e+02, α = 1.00e+00, m = 8, nfg = 1\n",
      "\u001b[36m\u001b[1m[ \u001b[22m\u001b[39m\u001b[36m\u001b[1mInfo: \u001b[22m\u001b[39mLBFGS: iter   95: f = -247.012902711613, ‖∇f‖ = 4.7457e+01, α = 5.40e-01, m = 8, nfg = 2\n",
      "\u001b[36m\u001b[1m[ \u001b[22m\u001b[39m\u001b[36m\u001b[1mInfo: \u001b[22m\u001b[39mLBFGS: iter   96: f = -247.269218429627, ‖∇f‖ = 3.8555e+01, α = 1.00e+00, m = 8, nfg = 1\n",
      "\u001b[36m\u001b[1m[ \u001b[22m\u001b[39m\u001b[36m\u001b[1mInfo: \u001b[22m\u001b[39mLBFGS: iter   97: f = -247.811812311915, ‖∇f‖ = 2.7167e+01, α = 1.00e+00, m = 8, nfg = 1\n",
      "\u001b[36m\u001b[1m[ \u001b[22m\u001b[39m\u001b[36m\u001b[1mInfo: \u001b[22m\u001b[39mLBFGS: iter   98: f = -247.926788399271, ‖∇f‖ = 1.6222e+01, α = 2.74e-01, m = 8, nfg = 2\n",
      "\u001b[36m\u001b[1m[ \u001b[22m\u001b[39m\u001b[36m\u001b[1mInfo: \u001b[22m\u001b[39mLBFGS: iter   99: f = -247.964018819003, ‖∇f‖ = 1.9384e+01, α = 1.00e+00, m = 8, nfg = 1\n",
      "\u001b[33m\u001b[1m┌ \u001b[22m\u001b[39m\u001b[33m\u001b[1mWarning: \u001b[22m\u001b[39mLBFGS: not converged to requested tol: f = -248.048535029555, ‖∇f‖ = 1.2627e+01\n",
      "\u001b[33m\u001b[1m└ \u001b[22m\u001b[39m\u001b[90m@ OptimKit ~/.julia/packages/OptimKit/xpmbV/src/lbfgs.jl:141\u001b[39m\n"
     ]
    },
    {
     "ename": "LoadError",
     "evalue": "UndefVarError: `d0` not defined",
     "output_type": "error",
     "traceback": [
      "UndefVarError: `d0` not defined",
      "",
      "Stacktrace:",
      " [1] macro expansion",
      "   @ show.jl:1181 [inlined]",
      " [2] top-level scope",
      "   @ In[12]:11"
     ]
    }
   ],
   "source": [
    "function loss_and_grad(x)\n",
    "  y, (∇,) = withgradient(loss2, x)\n",
    "  return y, ∇\n",
    "end\n",
    "optimizer = LBFGS(; maxiter=100, verbosity=2, gradtol = 1e-3)\n",
    "di = randomMPS(Float64,x,;linkdims=χ).data\n",
    "#d0 = guess_c(x,2,3.)\n",
    "d, fs, gs, niter, normgradhistory = optimize(loss_and_grad, di, optimizer);\n",
    "#@show c[1], c[2]\n",
    "@show flatten(d)\n",
    "@show flatten(d0)\n",
    "#@show norm(d-d0)"
   ]
  },
  {
   "cell_type": "code",
   "execution_count": 13,
   "id": "edbff450-16df-40cf-a441-f97411f31099",
   "metadata": {},
   "outputs": [
    {
     "data": {
      "text/plain": [
       "get_ShallowShadow (generic function with 1 method)"
      ]
     },
     "execution_count": 13,
     "metadata": {},
     "output_type": "execute_result"
    }
   ],
   "source": [
    "function get_ShallowShadow(data::Array{Int8},u::Vector{ITensor},d::Vector{ITensor},D::Vector{ITensor},s::Vector{Index{Int64}},ξ::Vector{Index{Int64}})\n",
    "    N = length(d)\n",
    "    shadow = MPO(ξ)\n",
    "    PostState = PostRotator(s,ξ,u)\n",
    "    for i in 1:N\n",
    "        shadow[i] = PostState[i]*onehot(s[i]=>data[i])\n",
    "        shadow[i] *= d[i]*D[i]\n",
    "        replaceind!(shadow[i],s[i],ξ[i])\n",
    "        replaceind!(shadow[i],s[i]',ξ[i]')\n",
    "    end\n",
    "    return shadow\n",
    "end"
   ]
  },
  {
   "cell_type": "code",
   "execution_count": 14,
   "id": "4c1a0c06-c095-4f4f-9c2c-493e64d49e5f",
   "metadata": {},
   "outputs": [
    {
     "name": "stderr",
     "output_type": "stream",
     "text": [
      "0.0%┣                                            ┫ 0/400 [00:02<-15:-33, -2s/it]\n",
      "0.2%┣                                          ┫ 1/400 [00:13<Inf:Inf, InfGs/it]\n",
      "1.8%┣▉                                              ┫ 7/400 [00:15<16:45, 3s/it]\n",
      "3.5%┣█▋                                            ┫ 14/400 [00:18<08:41, 1s/it]\n",
      "5.2%┣██▍                                           ┫ 21/400 [00:20<06:14, 1it/s]\n",
      "7.0%┣███▏                                          ┫ 28/400 [00:22<05:02, 1it/s]\n",
      "8.8%┣████                                          ┫ 35/400 [00:24<04:19, 1it/s]\n",
      "10.5%┣████▊                                        ┫ 42/400 [00:26<03:50, 2it/s]\n",
      "12.2%┣█████▌                                       ┫ 49/400 [00:29<03:29, 2it/s]\n",
      "14.0%┣██████▎                                      ┫ 56/400 [00:31<03:12, 2it/s]\n",
      "15.8%┣███████                                      ┫ 63/400 [00:33<02:59, 2it/s]\n",
      "17.5%┣███████▉                                     ┫ 70/400 [00:35<02:48, 2it/s]\n",
      "19.2%┣████████▋                                    ┫ 77/400 [00:37<02:39, 2it/s]\n",
      "21.0%┣█████████▌                                   ┫ 84/400 [00:40<02:31, 2it/s]\n",
      "22.8%┣██████████▎                                  ┫ 91/400 [00:42<02:23, 2it/s]\n",
      "24.5%┣███████████                                  ┫ 98/400 [00:44<02:17, 2it/s]\n",
      "25.8%┣███████████▎                                ┫ 103/400 [00:46<02:14, 2it/s]\n",
      "27.5%┣████████████                                ┫ 110/400 [00:48<02:09, 2it/s]\n",
      "29.2%┣████████████▉                               ┫ 117/400 [00:51<02:03, 2it/s]\n",
      "30.8%┣█████████████▌                              ┫ 123/400 [00:53<02:00, 2it/s]\n",
      "32.2%┣██████████████▏                             ┫ 129/400 [00:55<01:56, 2it/s]\n",
      "33.5%┣██████████████▊                             ┫ 134/400 [00:57<01:54, 2it/s]\n",
      "34.8%┣███████████████▎                            ┫ 139/400 [00:59<01:52, 2it/s]\n",
      "36.0%┣███████████████▉                            ┫ 144/400 [01:02<01:50, 2it/s]\n",
      "37.5%┣████████████████▌                           ┫ 150/400 [01:04<01:47, 2it/s]\n",
      "39.0%┣█████████████████▏                          ┫ 156/400 [01:06<01:44, 2it/s]\n",
      "40.5%┣█████████████████▉                          ┫ 162/400 [01:08<01:40, 2it/s]\n",
      "42.2%┣██████████████████▋                         ┫ 169/400 [01:10<01:36, 2it/s]\n",
      "44.0%┣███████████████████▍                        ┫ 176/400 [01:12<01:33, 2it/s]\n",
      "45.5%┣████████████████████                        ┫ 182/400 [01:14<01:30, 2it/s]\n",
      "47.2%┣████████████████████▉                       ┫ 189/400 [01:17<01:26, 2it/s]\n",
      "49.0%┣█████████████████████▋                      ┫ 196/400 [01:19<01:23, 2it/s]\n",
      "50.5%┣██████████████████████▏                     ┫ 202/400 [01:21<01:20, 2it/s]\n",
      "52.0%┣██████████████████████▉                     ┫ 208/400 [01:23<01:17, 2it/s]\n",
      "53.2%┣███████████████████████▍                    ┫ 213/400 [01:25<01:15, 2it/s]\n",
      "55.0%┣████████████████████████▏                   ┫ 220/400 [01:27<01:12, 3it/s]\n",
      "56.5%┣████████████████████████▉                   ┫ 226/400 [01:29<01:09, 3it/s]\n",
      "58.0%┣█████████████████████████▌                  ┫ 232/400 [01:32<01:07, 3it/s]\n",
      "59.5%┣██████████████████████████▏                 ┫ 238/400 [01:34<01:04, 3it/s]\n",
      "61.0%┣██████████████████████████▉                 ┫ 244/400 [01:36<01:02, 3it/s]\n",
      "62.5%┣███████████████████████████▌                ┫ 250/400 [01:38<00:59, 3it/s]\n",
      "64.0%┣████████████████████████████▏               ┫ 256/400 [01:41<00:57, 3it/s]\n",
      "65.5%┣████████████████████████████▉               ┫ 262/400 [01:43<00:54, 3it/s]\n",
      "66.8%┣█████████████████████████████▍              ┫ 267/400 [01:45<00:52, 3it/s]\n",
      "68.2%┣██████████████████████████████              ┫ 273/400 [01:47<00:50, 3it/s]\n",
      "69.8%┣██████████████████████████████▊             ┫ 279/400 [01:50<00:48, 3it/s]\n",
      "71.0%┣███████████████████████████████▎            ┫ 284/400 [01:52<00:46, 3it/s]\n",
      "72.2%┣███████████████████████████████▉            ┫ 289/400 [01:54<00:44, 3it/s]\n",
      "73.5%┣████████████████████████████████▍           ┫ 294/400 [01:56<00:42, 3it/s]\n",
      "74.8%┣█████████████████████████████████           ┫ 299/400 [01:59<00:40, 3it/s]\n",
      "76.0%┣█████████████████████████████████▍          ┫ 304/400 [02:01<00:38, 3it/s]\n",
      "77.0%┣█████████████████████████████████▉          ┫ 308/400 [02:03<00:37, 2it/s]\n",
      "78.0%┣██████████████████████████████████▎         ┫ 312/400 [02:06<00:36, 2it/s]\n",
      "79.0%┣██████████████████████████████████▊         ┫ 316/400 [02:08<00:34, 2it/s]\n",
      "80.0%┣███████████████████████████████████▏        ┫ 320/400 [02:10<00:33, 2it/s]\n",
      "80.8%┣███████████████████████████████████▌        ┫ 323/400 [02:13<00:32, 2it/s]\n",
      "82.0%┣████████████████████████████████████        ┫ 328/400 [02:15<00:30, 2it/s]\n",
      "83.0%┣████████████████████████████████████▌       ┫ 332/400 [02:18<00:28, 2it/s]\n",
      "84.0%┣█████████████████████████████████████       ┫ 336/400 [02:20<00:27, 2it/s]\n",
      "85.0%┣█████████████████████████████████████▍      ┫ 340/400 [02:22<00:25, 2it/s]\n",
      "86.0%┣█████████████████████████████████████▉      ┫ 344/400 [02:24<00:24, 2it/s]\n",
      "87.0%┣██████████████████████████████████████▎     ┫ 348/400 [02:26<00:22, 2it/s]\n",
      "88.5%┣███████████████████████████████████████     ┫ 354/400 [02:29<00:19, 2it/s]\n",
      "90.0%┣███████████████████████████████████████▋    ┫ 360/400 [02:31<00:17, 2it/s]\n",
      "91.8%┣████████████████████████████████████████▍   ┫ 367/400 [02:33<00:14, 2it/s]\n",
      "93.5%┣█████████████████████████████████████████▏  ┫ 374/400 [02:35<00:11, 2it/s]\n",
      "95.0%┣█████████████████████████████████████████▉  ┫ 380/400 [02:37<00:08, 2it/s]\n",
      "96.8%┣██████████████████████████████████████████▋ ┫ 387/400 [02:40<00:05, 2it/s]\n",
      "98.5%┣███████████████████████████████████████████▍┫ 394/400 [02:42<00:02, 2it/s]\n",
      "100.0%┣███████████████████████████████████████████┫ 400/400 [02:44<00:00, 2it/s]\n",
      "100.0%┣███████████████████████████████████████████┫ 400/400 [02:44<00:00, 2it/s]\n"
     ]
    }
   ],
   "source": [
    "using PastaQ\n",
    "NM = 100\n",
    "circuit = randomcircuit(N, depth=1)\n",
    "noisemodel1 = (1 => (\"depolarizing\", (p = 0,)),2 => (\"depolarizing\", (p = 0.05,)))\n",
    "ρ = runcircuit(ψ0,circuit;noise = noisemodel1);\n",
    "data = zeros(Int8,(Nu,NM,N)) #Data storage\n",
    "shadow = Vector{MPO}(undef,Nu*NM)\n",
    "D3 = Dissipators(s,ξ,x)\n",
    "for r in ProgressBar(1:Nu, printing_delay=2)\n",
    "            data[r,:,:] = get_RandomMeas(ρ,u[r],NM) #data acquisation in simulated quantum device\n",
    "            for m in 1:NM\n",
    "                shadow[(r-1)*NM+m] = get_ShallowShadow(data[r,m,:],u[r],d,D3,s,ξ)\n",
    "            end\n",
    "end"
   ]
  },
  {
   "cell_type": "code",
   "execution_count": 15,
   "id": "0a703a17-0159-4168-bc1a-eec17413d458",
   "metadata": {},
   "outputs": [
    {
     "name": "stderr",
     "output_type": "stream",
     "text": [
      "0.0%┣                                            ┫ 0/40.0k [00:00<00:00, -0s/it]\n",
      "2.6%┣█                                       ┫ 1.1k/40.0k [00:02<01:14, 526it/s]\n",
      "9.3%┣███▊                                    ┫ 3.7k/40.0k [00:04<00:39, 930it/s]\n",
      "16.3%┣██████▏                               ┫ 6.5k/40.0k [00:06<00:31, 1.1kit/s]\n",
      "22.7%┣████████▋                             ┫ 9.1k/40.0k [00:08<00:27, 1.1kit/s]\n",
      "29.5%┣███████████                          ┫ 11.8k/40.0k [00:10<00:24, 1.2kit/s]\n",
      "36.3%┣█████████████▍                       ┫ 14.5k/40.0k [00:12<00:21, 1.2kit/s]\n",
      "43.0%┣████████████████                     ┫ 17.2k/40.0k [00:14<00:19, 1.2kit/s]\n",
      "49.4%┣██████████████████▎                  ┫ 19.8k/40.0k [00:16<00:16, 1.2kit/s]\n",
      "55.9%┣████████████████████▊                ┫ 22.3k/40.0k [00:18<00:14, 1.2kit/s]\n",
      "61.5%┣██████████████████████▊              ┫ 24.6k/40.0k [00:20<00:13, 1.2kit/s]\n",
      "67.6%┣█████████████████████████            ┫ 27.0k/40.0k [00:22<00:11, 1.2kit/s]\n",
      "73.7%┣███████████████████████████▎         ┫ 29.5k/40.0k [00:24<00:09, 1.2kit/s]\n",
      "80.3%┣█████████████████████████████▊       ┫ 32.1k/40.0k [00:26<00:06, 1.2kit/s]\n",
      "86.6%┣████████████████████████████████     ┫ 34.6k/40.0k [00:28<00:04, 1.2kit/s]\n",
      "92.4%┣██████████████████████████████████▏  ┫ 36.9k/40.0k [00:30<00:02, 1.2kit/s]\n",
      "97.5%┣████████████████████████████████████ ┫ 39.0k/40.0k [00:32<00:01, 1.2kit/s]\n",
      "\u001b[1A"
     ]
    },
    {
     "name": "stdout",
     "output_type": "stream",
     "text": [
      "XX for pair  12\n",
      "Exact 0.12845051775522745\n",
      "Estimated 0.10537238171954168\n"
     ]
    },
    {
     "name": "stderr",
     "output_type": "stream",
     "text": [
      "100.0%┣████████████████████████████████████┫ 40.0k/40.0k [00:33<00:00, 1.2kit/s]\n",
      "100.0%┣████████████████████████████████████┫ 40.0k/40.0k [00:33<00:00, 1.2kit/s]\n",
      "0.0%┣                                            ┫ 0/40.0k [00:00<00:00, -0s/it]\n",
      "3.7%┣█▌                                      ┫ 1.5k/40.0k [00:02<00:54, 717it/s]\n",
      "10.7%┣████                                  ┫ 4.3k/40.0k [00:04<00:34, 1.0kit/s]\n",
      "17.4%┣██████▋                               ┫ 7.0k/40.0k [00:06<00:29, 1.1kit/s]\n",
      "24.6%┣█████████▍                            ┫ 9.8k/40.0k [00:08<00:25, 1.2kit/s]\n",
      "31.6%┣███████████▊                         ┫ 12.6k/40.0k [00:10<00:22, 1.3kit/s]\n",
      "38.6%┣██████████████▎                      ┫ 15.5k/40.0k [00:12<00:19, 1.3kit/s]\n",
      "45.7%┣█████████████████                    ┫ 18.3k/40.0k [00:14<00:17, 1.3kit/s]\n",
      "52.7%┣███████████████████▌                 ┫ 21.1k/40.0k [00:16<00:14, 1.3kit/s]\n",
      "59.6%┣██████████████████████               ┫ 23.9k/40.0k [00:18<00:12, 1.3kit/s]\n",
      "66.7%┣████████████████████████▊            ┫ 26.7k/40.0k [00:20<00:10, 1.3kit/s]\n",
      "73.8%┣███████████████████████████▎         ┫ 29.5k/40.0k [00:22<00:08, 1.3kit/s]\n",
      "81.0%┣██████████████████████████████       ┫ 32.4k/40.0k [00:24<00:06, 1.3kit/s]\n",
      "88.2%┣████████████████████████████████▋    ┫ 35.3k/40.0k [00:26<00:04, 1.3kit/s]\n",
      "95.3%┣███████████████████████████████████▎ ┫ 38.1k/40.0k [00:28<00:01, 1.4kit/s]\n",
      "\u001b[1A"
     ]
    },
    {
     "name": "stdout",
     "output_type": "stream",
     "text": [
      "XX for pair  23\n",
      "Exact -0.0621132103176082\n",
      "Estimated -0.1565504583351139\n"
     ]
    },
    {
     "name": "stderr",
     "output_type": "stream",
     "text": [
      "100.0%┣████████████████████████████████████┫ 40.0k/40.0k [00:30<00:00, 1.4kit/s]\n",
      "100.0%┣████████████████████████████████████┫ 40.0k/40.0k [00:30<00:00, 1.4kit/s]\n",
      "0.0%┣                                            ┫ 0/40.0k [00:00<00:00, -0s/it]\n",
      "7.2%┣██▉                                    ┫ 2.9k/40.0k [00:02<00:26, 1.4kit/s]\n",
      "14.5%┣█████▌                                ┫ 5.8k/40.0k [00:04<00:24, 1.4kit/s]\n",
      "21.8%┣████████▎                             ┫ 8.7k/40.0k [00:06<00:21, 1.5kit/s]\n",
      "29.2%┣██████████▉                          ┫ 11.7k/40.0k [00:08<00:19, 1.5kit/s]\n",
      "36.6%┣█████████████▌                       ┫ 14.6k/40.0k [00:10<00:17, 1.5kit/s]\n",
      "43.8%┣████████████████▏                    ┫ 17.5k/40.0k [00:12<00:15, 1.5kit/s]\n",
      "50.8%┣██████████████████▉                  ┫ 20.3k/40.0k [00:14<00:14, 1.4kit/s]\n",
      "58.2%┣█████████████████████▌               ┫ 23.3k/40.0k [00:16<00:11, 1.5kit/s]\n",
      "65.7%┣████████████████████████▎            ┫ 26.3k/40.0k [00:18<00:09, 1.5kit/s]\n",
      "73.1%┣███████████████████████████          ┫ 29.3k/40.0k [00:20<00:07, 1.5kit/s]\n",
      "80.6%┣█████████████████████████████▉       ┫ 32.2k/40.0k [00:22<00:05, 1.5kit/s]\n",
      "88.1%┣████████████████████████████████▋    ┫ 35.2k/40.0k [00:24<00:03, 1.5kit/s]\n",
      "95.4%┣███████████████████████████████████▎ ┫ 38.2k/40.0k [00:26<00:01, 1.5kit/s]\n",
      "\u001b[1A"
     ]
    },
    {
     "name": "stdout",
     "output_type": "stream",
     "text": [
      "XX for pair  34\n",
      "Exact 0.7434938790555363\n",
      "Estimated 0.7454256821732775\n"
     ]
    },
    {
     "name": "stderr",
     "output_type": "stream",
     "text": [
      "100.0%┣████████████████████████████████████┫ 40.0k/40.0k [00:27<00:00, 1.5kit/s]\n",
      "100.0%┣████████████████████████████████████┫ 40.0k/40.0k [00:27<00:00, 1.5kit/s]\n"
     ]
    }
   ],
   "source": [
    "O = Vector{Vector{ITensor}}()\n",
    "for i in 1:N-1\n",
    "    Ot = Vector{ITensor}()\n",
    "    push!(Ot,op(\"X\",ξ[i]))\n",
    "    push!(Ot,op(\"X\",ξ[i+1]))\n",
    "    push!(O,Ot)\n",
    "end\n",
    "O_exact = zeros(N-1)\n",
    "O_est = zeros(N-1)\n",
    "for i in 1:N-1\n",
    "    O_exact[i] += real(trace(apply(O[i],ρ,apply_dag=false),ξ))\n",
    "    for k in ProgressBar(1:Nu*NM, printing_delay=2)\n",
    "        O_est[i] += real(trace(apply(O[i],shadow[k],apply_dag=false),ξ))/Nu/NM\n",
    "    end\n",
    "    println(\"XX for pair  \",i,i+1)\n",
    "    println(\"Exact \", O_exact[i])\n",
    "    println(\"Estimated \", O_est[i])\n",
    "end\n"
   ]
  },
  {
   "cell_type": "code",
   "execution_count": null,
   "id": "cfaf2603-a09c-4178-8ced-0b7a52ebd356",
   "metadata": {},
   "outputs": [],
   "source": []
  }
 ],
 "metadata": {
  "kernelspec": {
   "display_name": "Julia 1.10.0",
   "language": "julia",
   "name": "julia-1.10"
  },
  "language_info": {
   "file_extension": ".jl",
   "mimetype": "application/julia",
   "name": "julia",
   "version": "1.10.0"
  }
 },
 "nbformat": 4,
 "nbformat_minor": 5
}
