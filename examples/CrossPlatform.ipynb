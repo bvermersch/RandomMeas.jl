{
 "cells": [
  {
   "cell_type": "code",
   "execution_count": 3,
   "id": "4f0311a9-bfed-432e-8f6f-f5ce7f434df0",
   "metadata": {},
   "outputs": [
    {
     "name": "stderr",
     "output_type": "stream",
     "text": [
      "\u001b[32m\u001b[1mPrecompiling\u001b[22m\u001b[39m RandomMeas\n",
      "\u001b[32m  ✓ \u001b[39mRandomMeas\n",
      "  1 dependency successfully precompiled in 5 seconds. 275 already precompiled.\n"
     ]
    }
   ],
   "source": [
    "using Revise\n",
    "using ProgressMeter\n",
    "using ITensors\n",
    "using RandomMeas"
   ]
  },
  {
   "cell_type": "code",
   "execution_count": 25,
   "id": "1627f745-c147-4aa8-ac3e-8a083cf63ee8",
   "metadata": {},
   "outputs": [
    {
     "name": "stdout",
     "output_type": "stream",
     "text": [
      "state prepared in the `experiment' 1 \n"
     ]
    }
   ],
   "source": [
    "#Perform RM in the first experiment\n",
    "N = 6\n",
    "ξ = siteinds(\"Qubit\", N)\n",
    "depth = 2\n",
    "circuit = RandomCircuit(ξ, depth)\n",
    "states = [\"Dn\" for n in 1:N]\n",
    "ψ0 = MPS(ξ,states);\n",
    "ρ0 = outer(ψ0',ψ0);\n",
    "#noisemodel1 = (1 => (\"depolarizing\", (p = 0,)),2 => (\"depolarizing\", (p = 0.05,)))\n",
    "ρ1 = apply(circuit,ρ0,apply_dag=true);\n",
    "#ξ = firstsiteinds(ρ1;plev=0)\n",
    "#println(ξ)\n",
    "println(\"state prepared in the `experiment' 1 \")"
   ]
  },
  {
   "cell_type": "code",
   "execution_count": 26,
   "id": "587f976c-2f29-401a-b25f-c2228049284e",
   "metadata": {
    "editable": true,
    "slideshow": {
     "slide_type": ""
    },
    "tags": []
   },
   "outputs": [],
   "source": [
    "#Perform Randomized measurements\n",
    "nu=200 #Number of random unitaries\n",
    "NM=1000 #Number of projective measurements per unitary\n",
    "u = Vector{Vector{ITensor}}()\n",
    "data1 = zeros(Int8,(nu,NM,N)) #Data storage\n",
    "@showprogress dt=1 for r in 1:nu\n",
    "            push!(u,get_rotations(ξ,1)) #generate random unitary\n",
    "            data1[r,:,:] = get_RandomMeas(ρ1,u[r],NM) #data acquisation in simulated quantum device\n",
    "end"
   ]
  },
  {
   "cell_type": "code",
   "execution_count": 27,
   "id": "7d1df330-3677-4b9b-bd3c-0b93f3913148",
   "metadata": {},
   "outputs": [
    {
     "name": "stdout",
     "output_type": "stream",
     "text": [
      "state prepared in the `experiment' 2 \n"
     ]
    }
   ],
   "source": [
    "#Perform RM in the second experiment\n",
    "# noisemodel2 = (1 => (\"amplitude_damping\", (γ = 0.1,)),2 => (\"amplitude_damping\", (γ = 0.1,)))\n",
    "# ρ2 = runcircuit(circuit;noise = noisemodel2);\n",
    "# ξ2 = [firstind(ρ2[i],tags=\"Site\",plev=0) for i in 1:N]\n",
    "# for i in 1:N\n",
    "#     replaceind!(ρ2[i],ξ2[i],ξ[i])\n",
    "#     replaceind!(ρ2[i],ξ2[i]',ξ[i]')\n",
    "# end\n",
    "p = 0.1*rand(N)\n",
    "ρ2 = Apply_depo_channel(ρ1,p)\n",
    "println(\"state prepared in the `experiment' 2 \")\n",
    "data2 = zeros(Int8,(nu,NM,N))\n",
    "@showprogress dt=1  for r in 1:nu\n",
    "                data2[r,:,:] = get_RandomMeas(ρ2,u[r],NM)\n",
    "end"
   ]
  },
  {
   "cell_type": "code",
   "execution_count": 28,
   "id": "52a8155a-8540-4cde-b077-1f9ddd261475",
   "metadata": {},
   "outputs": [],
   "source": [
    "#Build histograms for each unitary\n",
    "P1 = Vector{ITensor}()\n",
    "P2 = Vector{ITensor}()\n",
    "for r in 1:nu\n",
    "                push!(P1,get_Born(data1[r,:,:],ξ))\n",
    "                push!(P2,get_Born(data2[r,:,:],ξ))\n",
    "end"
   ]
  },
  {
   "cell_type": "code",
   "execution_count": 29,
   "id": "414f95db-0a39-4afa-9d9c-7e7833c9b2b0",
   "metadata": {},
   "outputs": [],
   "source": [
    "#Uncomment if you want to see an animation\n",
    "# using Plots\n",
    "# anim = @animate for r in 1:nu\n",
    "#     y1 =  reshape(array(P1[r]),(2^N))\n",
    "#     y2 =  reshape(array(P2[r]),(2^N))\n",
    "#     bar(y1,label=\"Experiment 1\")\n",
    "#     bar!(y2,label=\"Experiment 2\")\n",
    "#     xlabel!(\"bitstring index\")\n",
    "#     ylabel!(\"Probabilities\")\n",
    "#     title!(\"Random unitary $(r)\")\n",
    "# end\n",
    "# gif(anim,fps=0.5)"
   ]
  },
  {
   "cell_type": "code",
   "execution_count": 31,
   "id": "877b7fa8-cfb0-4c78-8e0f-399d41675d3e",
   "metadata": {},
   "outputs": [
    {
     "name": "stdout",
     "output_type": "stream",
     "text": [
      "Estimated overlap 0.8184081549999999\n",
      "Estimated purity1 1.0256800000000004\n",
      "Estimated purity2 0.6580104804804806\n",
      "Estimated fidelity 0.7979176302550499\n"
     ]
    }
   ],
   "source": [
    "overlaps = 0\n",
    "for r in 1:nu\n",
    "    global overlaps += get_overlap(P1[r],P2[r],ξ,N)/nu\n",
    "end\n",
    "purity1s = get_purity_hamming(data1,ξ)\n",
    "purity2s = get_purity_hamming(data2,ξ)\n",
    "Fs = overlaps/max(purity1s,purity2s)\n",
    "println(\"Estimated overlap \",overlaps)\n",
    "println(\"Estimated purity1 \",purity1s)\n",
    "println(\"Estimated purity2 \",purity2s)\n",
    "println(\"Estimated fidelity \",Fs)"
   ]
  },
  {
   "cell_type": "code",
   "execution_count": 32,
   "id": "3a8dd170-0ed1-48f2-a1d5-20673b1cc419",
   "metadata": {},
   "outputs": [
    {
     "name": "stdout",
     "output_type": "stream",
     "text": [
      "overlap 0.802176374003288\n",
      "purity1 0.9999999999999986\n",
      "purity2 0.6483053104806866\n",
      "fidelity 0.8021763740032891\n"
     ]
    }
   ],
   "source": [
    "overlap = real(inner(ρ1,ρ2))\n",
    "purity1 = get_purity(ρ1)\n",
    "purity2 = get_purity(ρ2)\n",
    "F = overlap/max(purity1,purity2)\n",
    "println(\"overlap \",overlap)\n",
    "println(\"purity1 \",purity1)\n",
    "println(\"purity2 \",purity2)\n",
    "println(\"fidelity \",F)"
   ]
  },
  {
   "cell_type": "code",
   "execution_count": null,
   "id": "987313b8-eda4-4842-8824-ef898a9288ed",
   "metadata": {},
   "outputs": [],
   "source": []
  }
 ],
 "metadata": {
  "kernelspec": {
   "display_name": "Julia 1.10.0",
   "language": "julia",
   "name": "julia-1.10"
  },
  "language_info": {
   "file_extension": ".jl",
   "mimetype": "application/julia",
   "name": "julia",
   "version": "1.10.0"
  }
 },
 "nbformat": 4,
 "nbformat_minor": 5
}
