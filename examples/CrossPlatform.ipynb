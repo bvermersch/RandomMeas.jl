{
 "cells": [
  {
   "cell_type": "markdown",
   "id": "edbf3103",
   "metadata": {},
   "source": [
    "## Cross-Platform verification\n",
    "\n",
    "Related papers [Elben et al, PRL 2019](https://doi.org/10.1103/PhysRevLett.124.010504), [Zhu et al, Nat. Comm 2022](https://www.nature.com/articles/s41467-022-34279-5)"
   ]
  },
  {
   "cell_type": "code",
   "execution_count": 1,
   "id": "4f0311a9-bfed-432e-8f6f-f5ce7f434df0",
   "metadata": {},
   "outputs": [],
   "source": [
    "using Revise\n",
    "using ProgressMeter\n",
    "using ITensors\n",
    "using RandomMeas"
   ]
  },
  {
   "cell_type": "code",
   "execution_count": 2,
   "id": "1627f745-c147-4aa8-ac3e-8a083cf63ee8",
   "metadata": {},
   "outputs": [
    {
     "name": "stdout",
     "output_type": "stream",
     "text": [
      "state prepared in the `experiment' 1 \n"
     ]
    }
   ],
   "source": [
    "#Perform RM in the first experiment\n",
    "N = 6\n",
    "ξ = siteinds(\"Qubit\", N)\n",
    "depth = 2\n",
    "circuit = random_circuit(ξ, depth)\n",
    "states = [\"Dn\" for n in 1:N]\n",
    "ψ0 = MPS(ξ,states);\n",
    "ρ0 = outer(ψ0',ψ0);\n",
    "ρ1 = apply(circuit,ρ0,apply_dag=true);\n",
    "println(\"state prepared in the `experiment' 1 \")"
   ]
  },
  {
   "cell_type": "code",
   "execution_count": 3,
   "id": "587f976c-2f29-401a-b25f-c2228049284e",
   "metadata": {
    "editable": true,
    "slideshow": {
     "slide_type": ""
    },
    "tags": []
   },
   "outputs": [
    {
     "name": "stderr",
     "output_type": "stream",
     "text": [
      "\u001b[32mProgress: 100%|█████████████████████████████████████████| Time: 0:00:43\u001b[39m\u001b[K\n"
     ]
    }
   ],
   "source": [
    "#Perform Randomized measurements\n",
    "nu=200 #Number of random unitaries\n",
    "NM=1000 #Number of projective measurements per unitary\n",
    "u = Vector{Vector{ITensor}}()\n",
    "data1 = zeros(Int8,(nu,NM,N)) #Data storage\n",
    "@showprogress dt=1 for r in 1:nu\n",
    "            push!(u,get_rotations(ξ,1)) #generate random unitary\n",
    "            data1[r,:,:] = get_RandomMeas(ρ1,u[r],NM) #data acquisation in simulated quantum device\n",
    "end"
   ]
  },
  {
   "cell_type": "code",
   "execution_count": 4,
   "id": "7d1df330-3677-4b9b-bd3c-0b93f3913148",
   "metadata": {},
   "outputs": [
    {
     "name": "stdout",
     "output_type": "stream",
     "text": [
      "state prepared in the `experiment' 2 \n"
     ]
    },
    {
     "name": "stderr",
     "output_type": "stream",
     "text": [
      "\u001b[32mProgress: 100%|█████████████████████████████████████████| Time: 0:00:01\u001b[39m\u001b[K\n"
     ]
    }
   ],
   "source": [
    "p = 0.1*rand(N)\n",
    "ρ2 = apply_depo_channel(ρ1,p)\n",
    "println(\"state prepared in the `experiment' 2 \")\n",
    "data2 = zeros(Int8,(nu,NM,N))\n",
    "@showprogress dt=1  for r in 1:nu\n",
    "                data2[r,:,:] = get_RandomMeas(ρ2,u[r],NM)\n",
    "end"
   ]
  },
  {
   "cell_type": "code",
   "execution_count": 5,
   "id": "52a8155a-8540-4cde-b077-1f9ddd261475",
   "metadata": {},
   "outputs": [],
   "source": [
    "#Build histograms for each unitary\n",
    "P1 = Vector{ITensor}()\n",
    "P2 = Vector{ITensor}()\n",
    "for r in 1:nu\n",
    "                push!(P1,get_Born(data1[r,:,:],ξ))\n",
    "                push!(P2,get_Born(data2[r,:,:],ξ))\n",
    "end"
   ]
  },
  {
   "cell_type": "code",
   "execution_count": 6,
   "id": "414f95db-0a39-4afa-9d9c-7e7833c9b2b0",
   "metadata": {},
   "outputs": [],
   "source": [
    "#Uncomment if you want to see an animation\n",
    "# using Plots\n",
    "# anim = @animate for r in 1:nu\n",
    "#     y1 =  reshape(array(P1[r]),(2^N))\n",
    "#     y2 =  reshape(array(P2[r]),(2^N))\n",
    "#     bar(y1,label=\"Experiment 1\")\n",
    "#     bar!(y2,label=\"Experiment 2\")\n",
    "#     xlabel!(\"bitstring index\")\n",
    "#     ylabel!(\"Probabilities\")\n",
    "#     title!(\"Random unitary $(r)\")\n",
    "# end\n",
    "# gif(anim,fps=0.5)"
   ]
  },
  {
   "cell_type": "code",
   "execution_count": 9,
   "id": "877b7fa8-cfb0-4c78-8e0f-399d41675d3e",
   "metadata": {},
   "outputs": [
    {
     "name": "stdout",
     "output_type": "stream",
     "text": [
      "Estimated overlap 0.7522639899999999\n",
      "Estimated purity1 0.9639698498498492\n",
      "Estimated purity2 0.5937543543543541\n",
      "Estimated fidelity 0.7803812433730938\n"
     ]
    }
   ],
   "source": [
    "overlaps = 0\n",
    "for r in 1:nu\n",
    "    global overlaps += get_overlap(P1[r],P2[r],ξ,N)/nu\n",
    "end\n",
    "purity1s = get_purity_hamming(data1,ξ)\n",
    "purity2s = get_purity_hamming(data2,ξ)\n",
    "Fs = overlaps/max(purity1s,purity2s)\n",
    "println(\"Estimated overlap \",overlaps)\n",
    "println(\"Estimated purity1 \",purity1s)\n",
    "println(\"Estimated purity2 \",purity2s)\n",
    "println(\"Estimated fidelity \",Fs)"
   ]
  },
  {
   "cell_type": "code",
   "execution_count": 8,
   "id": "3a8dd170-0ed1-48f2-a1d5-20673b1cc419",
   "metadata": {},
   "outputs": [
    {
     "name": "stdout",
     "output_type": "stream",
     "text": [
      "overlap 0.7879369592497474\n",
      "purity1 1.0\n",
      "purity2 0.6262698620021796\n",
      "fidelity 0.7879369592497474\n"
     ]
    }
   ],
   "source": [
    "overlap = real(inner(ρ1,ρ2))\n",
    "purity1 = get_purity(ρ1)\n",
    "purity2 = get_purity(ρ2)\n",
    "F = overlap/max(purity1,purity2)\n",
    "println(\"overlap \",overlap)\n",
    "println(\"purity1 \",purity1)\n",
    "println(\"purity2 \",purity2)\n",
    "println(\"fidelity \",F)"
   ]
  },
  {
   "cell_type": "code",
   "execution_count": null,
   "id": "09f92f6b",
   "metadata": {},
   "outputs": [],
   "source": []
  }
 ],
 "metadata": {
  "kernelspec": {
   "display_name": "Julia 1.10.0",
   "language": "julia",
   "name": "julia-1.10"
  },
  "language_info": {
   "file_extension": ".jl",
   "mimetype": "application/julia",
   "name": "julia",
   "version": "1.10.0"
  }
 },
 "nbformat": 4,
 "nbformat_minor": 5
}
