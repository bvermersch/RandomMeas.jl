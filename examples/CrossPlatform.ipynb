{
 "cells": [
  {
   "cell_type": "markdown",
   "id": "edbf3103",
   "metadata": {},
   "source": [
    "## Cross-Platform verification\n",
    "\n",
    "In this tutorial, we will show to measure the fidelity $\\mathcal{F}=\\mathrm{Tr}(\\rho_1\\rho_2)/\\sqrt{\\mathrm{Tr}(\\rho_1^2)\\mathrm{Tr}(\\rho_2^2)}$ between two states $\\rho_1$, $\\rho_2$ prepared on two quantum devices. \n",
    "\n",
    "Related papers [Elben et al, PRL 2019](https://doi.org/10.1103/PhysRevLett.124.010504), [Zhu et al, Nat. Comm 2022](https://www.nature.com/articles/s41467-022-34279-5)"
   ]
  },
  {
   "cell_type": "code",
   "execution_count": 48,
   "id": "4f0311a9-bfed-432e-8f6f-f5ce7f434df0",
   "metadata": {},
   "outputs": [],
   "source": [
    "using RandomMeas"
   ]
  },
  {
   "cell_type": "markdown",
   "id": "5c9a9319",
   "metadata": {},
   "source": [
    "We first consider a state $\\rho_1$ prepared by a random quantum circuit"
   ]
  },
  {
   "cell_type": "code",
   "execution_count": 34,
   "id": "1627f745-c147-4aa8-ac3e-8a083cf63ee8",
   "metadata": {},
   "outputs": [
    {
     "name": "stdout",
     "output_type": "stream",
     "text": [
      "State 1 prepared\n",
      "State 2 prepared\n"
     ]
    }
   ],
   "source": [
    "N = 6\n",
    "ξ = siteinds(\"Qubit\", N)\n",
    "depth = 2\n",
    "circuit = random_circuit(ξ, depth)\n",
    "states = [\"Dn\" for n in 1:N]\n",
    "ψ0 = MPS(ξ,states);\n",
    "ρ0 = outer(ψ0',ψ0);\n",
    "\n",
    "# Prepare state 1\n",
    "ρ1 = apply(circuit,ρ0,apply_dag=true);\n",
    "println(\"State 1 prepared\")\n",
    "\n",
    "# Prepare state 2\n",
    "p = 0.1*rand(N)\n",
    "ρ2 = apply_depo_channel(ρ1,p)\n",
    "println(\"State 2 prepared\")\n"
   ]
  },
  {
   "cell_type": "code",
   "execution_count": 35,
   "id": "0d8a046f",
   "metadata": {},
   "outputs": [
    {
     "name": "stdout",
     "output_type": "stream",
     "text": [
      "Overlap 0.8159397760799436\n",
      "Purity1 0.9999999999999988\n",
      "Purity2 0.6704738568440205\n",
      "Fidelity 0.8159397760799446\n"
     ]
    }
   ],
   "source": [
    "overlap = real(inner(ρ1,ρ2))\n",
    "purity1 = get_purity(ρ1)\n",
    "purity2 = get_purity(ρ2)\n",
    "F = overlap/max(purity1,purity2)\n",
    "println(\"Overlap \",overlap)\n",
    "println(\"Purity1 \",purity1)\n",
    "println(\"Purity2 \",purity2)\n",
    "println(\"Fidelity \",F)"
   ]
  },
  {
   "cell_type": "markdown",
   "id": "0ac494d0",
   "metadata": {},
   "source": [
    "We then sample randomized measurement settings (local random unitaries)"
   ]
  },
  {
   "cell_type": "code",
   "execution_count": 44,
   "id": "587f976c-2f29-401a-b25f-c2228049284e",
   "metadata": {
    "editable": true,
    "slideshow": {
     "slide_type": ""
    },
    "tags": []
   },
   "outputs": [],
   "source": [
    "measurement_settings = LocalUnitaryMeasurementSettings(N,500,site_indices=ξ);"
   ]
  },
  {
   "cell_type": "markdown",
   "id": "04cba4df",
   "metadata": {},
   "source": [
    "We simulate the experiment by sampling randomized measurement on state ρ1."
   ]
  },
  {
   "cell_type": "code",
   "execution_count": 45,
   "id": "9e2bd1a2",
   "metadata": {},
   "outputs": [],
   "source": [
    "measurement_data_1 = simulate_local_measurements(ρ1,200,mode=\"dense\",measurement_settings=measurement_settings);"
   ]
  },
  {
   "cell_type": "markdown",
   "id": "740a8954",
   "metadata": {},
   "source": [
    "In our simulated experiment, the second state $\\rho_2$ differs from $\\rho_1$ due to local depolarization. We sample randomized measurements according to the same random unitaries $u$. For some reason, experiment 2 is a bit faster than experiment 1. Thus, we choose a higher number of measurements per unitary, $N_M = 500$."
   ]
  },
  {
   "cell_type": "code",
   "execution_count": 46,
   "id": "7d1df330-3677-4b9b-bd3c-0b93f3913148",
   "metadata": {},
   "outputs": [],
   "source": [
    "measurement_data_2 = simulate_local_measurements(ρ2,500,mode=\"dense\",measurement_settings=measurement_settings);"
   ]
  },
  {
   "cell_type": "markdown",
   "id": "7f15d845",
   "metadata": {},
   "source": [
    "We then use the formula $\\mathrm{tr}(\\rho_1\\rho_2)=(-2)^{-D[s,s']}\\sum_{s,s'}P_u^{(1)}(s)P_u^{(2)}(s')$ to extract the overlap (and proceed similarly to access the purities $\\mathrm{tr}(\\rho_1^2)$, $\\mathrm{tr}(\\rho_2^2)$). In this process, the Born probabilities for each random unitary are computed. Thus, the process is not measurment efficient."
   ]
  },
  {
   "cell_type": "code",
   "execution_count": 47,
   "id": "9221e3af",
   "metadata": {},
   "outputs": [
    {
     "name": "stdout",
     "output_type": "stream",
     "text": [
      "Estimated overlap = 0.8549405199999998\n",
      "Estimated purity 1 = 1.0609370854271367\n",
      "Estimated purity 2 = 0.6874912384769534\n",
      "Estimated fidelity 0.8058352674662117\n"
     ]
    }
   ],
   "source": [
    "overlap = get_overlap_direct(measurement_data_1,measurement_data_2)\n",
    "println(\"Estimated overlap = \",overlap)\n",
    "purity_1 = get_purity_direct(measurement_data_1)\n",
    "println(\"Estimated purity 1 = \",purity_1)\n",
    "purity_2 = get_purity_direct(measurement_data_2)\n",
    "println(\"Estimated purity 2 = \",purity_2)\n",
    "Fs= overlap/max(purity_1,purity_2)\n",
    "println(\"Estimated fidelity \",Fs)"
   ]
  },
  {
   "cell_type": "markdown",
   "id": "38c11b14",
   "metadata": {},
   "source": [
    "For comparison, once more, the exact values."
   ]
  },
  {
   "cell_type": "code",
   "execution_count": 43,
   "id": "f46ff190",
   "metadata": {},
   "outputs": [
    {
     "name": "stdout",
     "output_type": "stream",
     "text": [
      "Overlap 0.821335377599998\n",
      "Purity1 0.9999999999999988\n",
      "Purity2 0.6704738568440205\n",
      "Fidelity 0.8159397760799446\n"
     ]
    }
   ],
   "source": [
    "println(\"Overlap \",overlap)\n",
    "println(\"Purity1 \",purity1)\n",
    "println(\"Purity2 \",purity2)\n",
    "println(\"Fidelity \",F)"
   ]
  },
  {
   "cell_type": "code",
   "execution_count": null,
   "id": "f263272d",
   "metadata": {},
   "outputs": [],
   "source": []
  }
 ],
 "metadata": {
  "kernelspec": {
   "display_name": "Julia 1.10.6",
   "language": "julia",
   "name": "julia-1.10"
  },
  "language_info": {
   "file_extension": ".jl",
   "mimetype": "application/julia",
   "name": "julia",
   "version": "1.10.6"
  }
 },
 "nbformat": 4,
 "nbformat_minor": 5
}
