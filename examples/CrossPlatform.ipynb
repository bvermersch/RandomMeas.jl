{
 "cells": [
  {
   "cell_type": "markdown",
   "id": "edbf3103",
   "metadata": {},
   "source": [
    "## Cross-Platform verification\n",
    "\n",
    "In this tutorial, we will show to measure the fidelity $\\mathcal{F}=\\mathrm{Tr}(\\rho_1\\rho_2)/\\sqrt{\\mathrm{Tr}(\\rho_1^2)\\mathrm{Tr}(\\rho_2^2)}$ between two states $\\rho_1$, $\\rho_2$ prepared on two quantum devices. \n",
    "\n",
    "Related papers [Elben et al, PRL 2019](https://doi.org/10.1103/PhysRevLett.124.010504), [Zhu et al, Nat. Comm 2022](https://www.nature.com/articles/s41467-022-34279-5)"
   ]
  },
  {
   "cell_type": "code",
   "execution_count": 4,
   "id": "4f0311a9-bfed-432e-8f6f-f5ce7f434df0",
   "metadata": {},
   "outputs": [],
   "source": [
    "using Revise\n",
    "using ProgressMeter\n",
    "using ITensors\n",
    "using RandomMeas"
   ]
  },
  {
   "cell_type": "markdown",
   "id": "5c9a9319",
   "metadata": {},
   "source": [
    "We first consider a state $\\rho_1$ prepared by a random quantum circuit"
   ]
  },
  {
   "cell_type": "code",
   "execution_count": 5,
   "id": "1627f745-c147-4aa8-ac3e-8a083cf63ee8",
   "metadata": {},
   "outputs": [],
   "source": [
    "N = 6\n",
    "ξ = siteinds(\"Qubit\", N)\n",
    "depth = 2\n",
    "circuit = random_circuit(ξ, depth)\n",
    "states = [\"Dn\" for n in 1:N]\n",
    "ψ0 = MPS(ξ,states);\n",
    "ρ0 = outer(ψ0',ψ0);\n",
    "ρ1 = apply(circuit,ρ0,apply_dag=true);"
   ]
  },
  {
   "cell_type": "markdown",
   "id": "0ac494d0",
   "metadata": {},
   "source": [
    "We then apply a sequence of randomized measurements and collect the measurement data. "
   ]
  },
  {
   "cell_type": "code",
   "execution_count": 7,
   "id": "587f976c-2f29-401a-b25f-c2228049284e",
   "metadata": {
    "editable": true,
    "slideshow": {
     "slide_type": ""
    },
    "tags": []
   },
   "outputs": [
    {
     "name": "stderr",
     "output_type": "stream",
     "text": [
      "\u001b[32mProgress: 100%|█████████████████████████████████████████| Time: 0:00:06\u001b[39m\u001b[K\n"
     ]
    }
   ],
   "source": [
    "#Perform Randomized measurements\n",
    "nu=200 #Number of random unitaries\n",
    "NM=1000 #Number of projective measurements per unitary\n",
    "u = Vector{Vector{ITensor}}()\n",
    "data1 = zeros(Int,(nu,NM,N)) #Data storage\n",
    "@showprogress dt=1 for r in 1:nu\n",
    "            push!(u,get_rotations(ξ,\"Haar\")) #generate random unitary\n",
    "            data1[r,:,:] = get_RandomMeas(ρ1,u[r],NM,\"dense\") #data acquisation in simulated quantum device\n",
    "end"
   ]
  },
  {
   "cell_type": "markdown",
   "id": "740a8954",
   "metadata": {},
   "source": [
    "In our simulated experiment, the second state $\\rho_2$ differs from $\\rho_1$ due to local depolarization. We sample randomized measurements according to the same random unitaries $u$."
   ]
  },
  {
   "cell_type": "code",
   "execution_count": 8,
   "id": "7d1df330-3677-4b9b-bd3c-0b93f3913148",
   "metadata": {},
   "outputs": [
    {
     "name": "stdout",
     "output_type": "stream",
     "text": [
      "state prepared in the `experiment' 2 \n"
     ]
    }
   ],
   "source": [
    "p = 0.1*rand(N)\n",
    "ρ2 = apply_depo_channel(ρ1,p)\n",
    "println(\"state prepared in the `experiment' 2 \")\n",
    "data2 = zeros(Int,(nu,NM,N))\n",
    "@showprogress dt=1  for r in 1:nu\n",
    "                data2[r,:,:] = get_RandomMeas(ρ2,u[r],NM,\"dense\")\n",
    "end"
   ]
  },
  {
   "cell_type": "markdown",
   "id": "6b616e63",
   "metadata": {},
   "source": [
    "In order to extract the statistical correlations between the measurements data, we first evaluate the Born probabilities for each random unitary."
   ]
  },
  {
   "cell_type": "code",
   "execution_count": 9,
   "id": "52a8155a-8540-4cde-b077-1f9ddd261475",
   "metadata": {},
   "outputs": [],
   "source": [
    "P1 = Vector{ITensor}()\n",
    "P2 = Vector{ITensor}()\n",
    "for r in 1:nu\n",
    "                push!(P1,get_Born(data1[r,:,:],ξ))\n",
    "                push!(P2,get_Born(data2[r,:,:],ξ))\n",
    "end"
   ]
  },
  {
   "cell_type": "markdown",
   "id": "ce5895f8",
   "metadata": {},
   "source": [
    "We then use the formula $\\mathrm{tr}(\\rho_1\\rho_2)=(-2)^{-D[s,s']}\\sum_{s,s'}P_u^{(1)}(s)P_u^{(2)}(s')$ to extract the overlap (and proceed similarly to access the purities $\\mathrm{tr}(\\rho_1^2)$, $\\mathrm{tr}(\\rho_2^2)$)"
   ]
  },
  {
   "cell_type": "code",
   "execution_count": 10,
   "id": "877b7fa8-cfb0-4c78-8e0f-399d41675d3e",
   "metadata": {},
   "outputs": [
    {
     "name": "stdout",
     "output_type": "stream",
     "text": [
      "Estimated overlap 0.8521372600000001\n",
      "Estimated purity1 1.0300545045045042\n",
      "Estimated purity2 0.7113985285285284\n",
      "Estimated fidelity 0.8272739513040729\n"
     ]
    }
   ],
   "source": [
    "overlaps = 0\n",
    "for r in 1:nu\n",
    "    global overlaps += get_overlap(P1[r],P2[r],ξ,N)/nu\n",
    "end\n",
    "purity1s = get_purity_hamming(data1,ξ)\n",
    "purity2s = get_purity_hamming(data2,ξ)\n",
    "Fs = overlaps/max(purity1s,purity2s)\n",
    "println(\"Estimated overlap \",overlaps)\n",
    "println(\"Estimated purity1 \",purity1s)\n",
    "println(\"Estimated purity2 \",purity2s)\n",
    "println(\"Estimated fidelity \",Fs)"
   ]
  },
  {
   "cell_type": "markdown",
   "id": "86c04366",
   "metadata": {},
   "source": [
    "We can now compare these measured values from the expected ones."
   ]
  },
  {
   "cell_type": "code",
   "execution_count": 11,
   "id": "3a8dd170-0ed1-48f2-a1d5-20673b1cc419",
   "metadata": {},
   "outputs": [
    {
     "name": "stdout",
     "output_type": "stream",
     "text": [
      "Overlap 0.8248451732191823\n",
      "Purity1 1.0000000000000009\n",
      "Purity2 0.6841706916624143\n",
      "Fidelity 0.8248451732191815\n"
     ]
    }
   ],
   "source": [
    "overlap = real(inner(ρ1,ρ2))\n",
    "purity1 = get_purity(ρ1)\n",
    "purity2 = get_purity(ρ2)\n",
    "F = overlap/max(purity1,purity2)\n",
    "println(\"Overlap \",overlap)\n",
    "println(\"Purity1 \",purity1)\n",
    "println(\"Purity2 \",purity2)\n",
    "println(\"Fidelity \",F)"
   ]
  }
 ],
 "metadata": {
  "kernelspec": {
   "display_name": "Julia 1.11.1",
   "language": "julia",
   "name": "julia-1.11"
  },
  "language_info": {
   "file_extension": ".jl",
   "mimetype": "application/julia",
   "name": "julia",
   "version": "1.11.1"
  }
 },
 "nbformat": 4,
 "nbformat_minor": 5
}
