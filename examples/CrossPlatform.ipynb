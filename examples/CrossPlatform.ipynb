{
 "cells": [
  {
   "cell_type": "markdown",
   "id": "edbf3103",
   "metadata": {},
   "source": [
    "## Cross-Platform verification\n",
    "\n",
    "In this tutorial, we will show to measure the fidelity $\\mathcal{F}=\\mathrm{Tr}(\\rho_1\\rho_2)/\\sqrt{\\mathrm{Tr}(\\rho_1^2)\\mathrm{Tr}(\\rho_2^2)}$ between two states $\\rho_1$, $\\rho_2$ prepared on two quantum devices. \n",
    "\n",
    "Related papers [Elben et al, PRL 2019](https://doi.org/10.1103/PhysRevLett.124.010504), [Zhu et al, Nat. Comm 2022](https://www.nature.com/articles/s41467-022-34279-5)"
   ]
  },
  {
   "cell_type": "code",
   "execution_count": 1,
   "id": "4f0311a9-bfed-432e-8f6f-f5ce7f434df0",
   "metadata": {},
   "outputs": [],
   "source": [
    "using Revise\n",
    "using RandomMeas\n",
    "using ProgressMeter"
   ]
  },
  {
   "cell_type": "markdown",
   "id": "5c9a9319",
   "metadata": {},
   "source": [
    "We first consider a state $\\rho_1$ prepared by a random quantum circuit"
   ]
  },
  {
   "cell_type": "code",
   "execution_count": 3,
   "id": "1627f745-c147-4aa8-ac3e-8a083cf63ee8",
   "metadata": {},
   "outputs": [
    {
     "name": "stdout",
     "output_type": "stream",
     "text": [
      "State 1 prepared\n",
      "State 2 prepared\n"
     ]
    }
   ],
   "source": [
    "N = 4\n",
    "ξ = siteinds(\"Qubit\", N)\n",
    "depth = 2\n",
    "circuit = random_circuit(ξ, depth)\n",
    "states = [\"Dn\" for n in 1:N]\n",
    "ψ0 = MPS(ξ,states);\n",
    "ρ0 = outer(ψ0',ψ0);\n",
    "\n",
    "# Prepare state 1\n",
    "ρ1 = apply(circuit,ρ0,apply_dag=true);\n",
    "println(\"State 1 prepared\")\n",
    "\n",
    "# Prepare state 2\n",
    "p = 0.1*rand(N)\n",
    "ρ2 = apply_depo_channel(ρ1,p)\n",
    "println(\"State 2 prepared\")\n"
   ]
  },
  {
   "cell_type": "code",
   "execution_count": 8,
   "id": "0d8a046f",
   "metadata": {},
   "outputs": [
    {
     "name": "stdout",
     "output_type": "stream",
     "text": [
      "Overlap 0.8271558797915574\n",
      "Purity1 1.0000000000000022\n",
      "Purity2 0.690324201944853\n",
      "Fidelity 0.9955448074107242\n"
     ]
    }
   ],
   "source": [
    "overlap = real(inner(ρ1,ρ2))\n",
    "purity1 = get_trace_moment(ρ1,2)\n",
    "purity2 = get_trace_moment(ρ2,2)\n",
    "F = overlap/sqrt(purity1*purity2)\n",
    "println(\"Overlap \",overlap)\n",
    "println(\"Purity1 \",purity1)\n",
    "println(\"Purity2 \",purity2)\n",
    "println(\"Fidelity \",F)"
   ]
  },
  {
   "cell_type": "markdown",
   "id": "04cba4df",
   "metadata": {},
   "source": [
    "We simulate the experiment by sampling randomized measurement on state ρ1 and ρ2. In our simulated experiment, the second state $\\rho_2$ differs from $\\rho_1$ due to local depolarization. We sample randomized measurements according to the same random unitaries $u$. For some reason, experiment 2 is a bit faster than experiment 1. Thus, we choose a higher number of measurements per unitary, $N_M = 500$."
   ]
  },
  {
   "cell_type": "code",
   "execution_count": 6,
   "id": "9e2bd1a2",
   "metadata": {},
   "outputs": [
    {
     "name": "stderr",
     "output_type": "stream",
     "text": [
      "\u001b[32mProgress: 100%|█████████████████████████████████████████| Time: 0:00:02\u001b[39m\n"
     ]
    }
   ],
   "source": [
    "NU,NM1,NM2 = 500,100,200\n",
    "measurements1 = Vector{MeasurementData{LocalUnitaryMeasurementSetting}}(undef,NU)\n",
    "measurements2 = Vector{MeasurementData{LocalUnitaryMeasurementSetting}}(undef,NU)\n",
    "@showprogress dt=1 for r in 1:NU\n",
    "    measurement_setting = LocalUnitaryMeasurementSetting(N; site_indices=ξ,ensemble=\"Haar\")\n",
    "    measurements1[r] = MeasurementData(ρ1,NM1,measurement_setting;mode=\"dense\")\n",
    "    measurements2[r] = MeasurementData(ρ2,NM2,measurement_setting;mode=\"dense\")\n",
    "end\n",
    "measurement_group1= MeasurementGroup(measurements1)\n",
    "measurement_group2= MeasurementGroup(measurements2);"
   ]
  },
  {
   "cell_type": "markdown",
   "id": "740a8954",
   "metadata": {},
   "source": []
  },
  {
   "cell_type": "markdown",
   "id": "7f15d845",
   "metadata": {},
   "source": [
    "We then use the formula $\\mathrm{tr}(\\rho_1\\rho_2)=(-2)^{-D[s,s']}\\sum_{s,s'}P_u^{(1)}(s)P_u^{(2)}(s')$ to extract the overlap (and proceed similarly to access the purities $\\mathrm{tr}(\\rho_1^2)$, $\\mathrm{tr}(\\rho_2^2)$). In this process, the Born probabilities for each random unitary are computed. Thus, the process is not measurment efficient."
   ]
  },
  {
   "cell_type": "code",
   "execution_count": 9,
   "id": "9221e3af",
   "metadata": {},
   "outputs": [
    {
     "name": "stdout",
     "output_type": "stream",
     "text": [
      "Estimated overlap = 0.8126917000000005\n",
      "Estimated purity 1 = 0.972086060606061\n",
      "Estimated purity 2 = 0.6806007035175878\n",
      "Estimated fidelity 0.9991421250226076\n"
     ]
    }
   ],
   "source": [
    "overlap = get_overlap(measurement_group1,measurement_group2)\n",
    "println(\"Estimated overlap = \",overlap)\n",
    "purity_1 = get_purity(measurement_group1)\n",
    "println(\"Estimated purity 1 = \",purity_1)\n",
    "purity_2 = get_purity(measurement_group2)\n",
    "println(\"Estimated purity 2 = \",purity_2)\n",
    "Fs= get_fidelity(measurement_group1,measurement_group2)\n",
    "println(\"Estimated fidelity \",Fs)"
   ]
  },
  {
   "cell_type": "code",
   "execution_count": null,
   "id": "f263272d",
   "metadata": {},
   "outputs": [],
   "source": []
  },
  {
   "cell_type": "code",
   "execution_count": null,
   "id": "d00f5fe0",
   "metadata": {},
   "outputs": [],
   "source": []
  },
  {
   "cell_type": "code",
   "execution_count": null,
   "id": "35ff6160",
   "metadata": {},
   "outputs": [],
   "source": []
  }
 ],
 "metadata": {
  "kernelspec": {
   "display_name": "Julia 1.11.3",
   "language": "julia",
   "name": "julia-1.11"
  },
  "language_info": {
   "file_extension": ".jl",
   "mimetype": "application/julia",
   "name": "julia",
   "version": "1.11.3"
  }
 },
 "nbformat": 4,
 "nbformat_minor": 5
}
