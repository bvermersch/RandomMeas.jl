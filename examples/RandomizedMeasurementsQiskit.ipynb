{
 "cells": [
  {
   "cell_type": "markdown",
   "id": "eea6ab63-8012-4425-b314-ec5a9decc839",
   "metadata": {},
   "source": [
    "## Executing randomized measurement on IBM quantum computers\n",
    "\n",
    "This tutorial illustrates how to acquire and save randomized measurements on a quantum computer using Qiskit (RandomizedMeasurementsQiskit.ipynb). This data can be then postprocessed using our julia library RandomMeas (RandomizedMeasurementsQiskitPostprocessing.ipynb)"
   ]
  },
  {
   "cell_type": "code",
   "execution_count": 11,
   "id": "3280df0f-59b2-40da-a806-5749584a461a",
   "metadata": {},
   "outputs": [],
   "source": [
    "import numpy as np\n",
    "import random\n",
    "from qiskit import QuantumCircuit, transpile\n",
    "# from qiskit.visualization import plot_histogram\n",
    "# from qiskit.circuit.library import  MCXGate\n",
    "# from qiskit.quantum_info import Statevector\n",
    "# from qiskit_algorithms import AmplificationProblem\n",
    "from qiskit_aer import AerSimulator\n",
    "from qiskit_ibm_provider import IBMProvider,least_busy \n",
    "from qiskit.quantum_info import random_unitary\n",
    "from qiskit.circuit.library import UnitaryGate\n",
    "# from tqdm import tqdm\n"
   ]
  },
  {
   "cell_type": "markdown",
   "id": "74d05023-1c31-4868-8118-935d20310b8a",
   "metadata": {},
   "source": [
    "### Parameters\n",
    "\n",
    "We consider here only two qubits, and will generate randomized measurements for the purpose of measuring state purities"
   ]
  },
  {
   "cell_type": "code",
   "execution_count": 2,
   "id": "ed6b6f2f-ab56-45a7-abe8-f83ef3cb971f",
   "metadata": {},
   "outputs": [],
   "source": [
    "N = 2 #number of qubits\n",
    "Nu = 100 #Number of random unitaries\n",
    "NM = 1000 # number of shots"
   ]
  },
  {
   "cell_type": "code",
   "execution_count": 3,
   "id": "92873003-b4ca-4fa3-a642-e05f9c35dfe8",
   "metadata": {},
   "outputs": [],
   "source": [
    "#Uncomment if you want to use the simulator\n",
    "#backend = AerSimulator()"
   ]
  },
  {
   "cell_type": "markdown",
   "id": "d9df350a-6088-4315-8f21-2b4fe7260869",
   "metadata": {},
   "source": [
    "### Selection of the quantum computer"
   ]
  },
  {
   "cell_type": "code",
   "execution_count": 4,
   "id": "ea4ccdcf-1df3-44d6-a5fd-13822907c489",
   "metadata": {},
   "outputs": [
    {
     "name": "stdout",
     "output_type": "stream",
     "text": [
      "Chosen quantum computer  <IBMBackend('ibm_kyoto')>\n"
     ]
    }
   ],
   "source": [
    "#IBMProvider.save_account(token='',overwrite=True)\n",
    "provider = IBMProvider(instance='ibm-q/open/main')\n",
    "backend = least_busy(provider.backends(filters=lambda x: x.configuration().n_qubits >= 2 and \n",
    "                                   not x.configuration().simulator and x.status().operational==True))\n",
    "print(\"Chosen quantum computer \", backend)"
   ]
  },
  {
   "cell_type": "markdown",
   "id": "52a0b64b-c3ac-4b8f-98e3-d6da15d69463",
   "metadata": {},
   "source": [
    "### Parametrization of the quantum circuit\n",
    "\n",
    "We prepare a GHZ state on two qubits, and include the random unitaries in the definition of the quantum circuit. For consitency, we keep the same layout of physical qubits for all used random unitaries."
   ]
  },
  {
   "cell_type": "code",
   "execution_count": 7,
   "id": "e9b7e08b-9cd7-48cc-929b-30ab67bbd064",
   "metadata": {},
   "outputs": [],
   "source": [
    "transpiled_circuits = []\n",
    "u = 1j*np.zeros((Nu,N,2,2))\n",
    "for r in range(Nu):\n",
    "    circuit = QuantumCircuit(N)\n",
    "    circuit.h(0)\n",
    "    circuit.cx(0,1)\n",
    "    for i in range(N):\n",
    "        u[r,i,:,:] = random_unitary(2)\n",
    "        circuit.append(UnitaryGate(u[r,i,:,:]), [i])\n",
    "    circuit.measure_all()\n",
    "    if r==0:\n",
    "        transpiled_circuits.append(transpile(circuit, backend,optimization_level=3))\n",
    "    else:\n",
    "        transpiled_circuits.append(transpile(circuit, backend,optimization_level=3,initial_layout=transpiled_circuits[0].layout.final_virtual_layout()))"
   ]
  },
  {
   "cell_type": "markdown",
   "id": "9517a91e-26db-40b7-8d0d-ba7bfa7a9fb0",
   "metadata": {},
   "source": [
    "### Sending the job on IBM's hardware"
   ]
  },
  {
   "cell_type": "code",
   "execution_count": 8,
   "id": "eaf70501-452b-47b1-a6ab-d821ee49a7af",
   "metadata": {},
   "outputs": [],
   "source": [
    "job = backend.run(transpiled_circuits, shots=NM,memory=True)\n",
    "print(job.queue_info())"
   ]
  },
  {
   "cell_type": "markdown",
   "id": "961fa7c2-48aa-49cd-b86d-c3816057ff54",
   "metadata": {},
   "source": [
    "### Saving data\n",
    "Finally we convert the data structure used by qiskit to a numpy array that we will be able to load in julia later using the library NPZ"
   ]
  },
  {
   "cell_type": "code",
   "execution_count": 10,
   "id": "4e3cb7e1-1cbf-4b1f-9936-0676ea10eaf5",
   "metadata": {},
   "outputs": [],
   "source": [
    "#job = provider.retrieve_job('') #uncomment if you want to retrieve a given job using its ID\n",
    "data = np.zeros((Nu,NM,N),dtype=int)\n",
    "result = job.result()\n",
    "for r in range(Nu):\n",
    "    counts = result.get_memory(r)\n",
    "    for m in range(NM):\n",
    "        data[r,m,:] = np.array([int(counts[m][N-1-i])+1 for i in range(N)])\n",
    "np.savez(\"testQiskit.npz\",u=u,data=np.int64(data))"
   ]
  }
 ],
 "metadata": {
  "kernelspec": {
   "display_name": "Python 3 (ipykernel)",
   "language": "python",
   "name": "python3"
  },
  "language_info": {
   "codemirror_mode": {
    "name": "ipython",
    "version": 3
   },
   "file_extension": ".py",
   "mimetype": "text/x-python",
   "name": "python",
   "nbconvert_exporter": "python",
   "pygments_lexer": "ipython3",
   "version": "3.11.2"
  }
 },
 "nbformat": 4,
 "nbformat_minor": 5
}
