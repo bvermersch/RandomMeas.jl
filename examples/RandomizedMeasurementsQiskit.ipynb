{
 "cells": [
  {
   "cell_type": "markdown",
   "id": "eea6ab63-8012-4425-b314-ec5a9decc839",
   "metadata": {},
   "source": [
    "## Executing randomized measurement on IBM quantum computers\n",
    "\n",
    "This tutorial illustrates how to acquire and save randomized measurements on a quantum computer using Qiskit (RandomizedMeasurementsQiskit.ipynb). This data can be then postprocessed using our julia library RandomMeas (RandomizedMeasurementsQiskitPostprocessing.ipynb)"
   ]
  },
  {
   "cell_type": "markdown",
   "id": "74d05023-1c31-4868-8118-935d20310b8a",
   "metadata": {},
   "source": [
    "### Parameters\n",
    "\n",
    "We consider here only four qubits, and will generate randomized measurements for the purpose of measuring state purities"
   ]
  },
  {
   "cell_type": "code",
   "execution_count": null,
   "id": "ed6b6f2f-ab56-45a7-abe8-f83ef3cb971f",
   "metadata": {},
   "outputs": [],
   "source": [
    "import numpy as np\n",
    "from numpy import random\n",
    "from qiskit_ibm_runtime import QiskitRuntimeService\n",
    "from qiskit_ibm_runtime import SamplerV2 as Sampler\n",
    "\n",
    "service = QiskitRuntimeService(name=\"ibm_quantum\") #loading qiskit runtime service from a saved IBM account\n",
    "\n",
    "N = 4 #number of qubits\n",
    "NU = 2048 #Number of random unitaries\n",
    "NM = 1024 # number of shots"
   ]
  },
  {
   "cell_type": "markdown",
   "id": "d9df350a-6088-4315-8f21-2b4fe7260869",
   "metadata": {},
   "source": [
    "### Selection of the quantum computer"
   ]
  },
  {
   "cell_type": "code",
   "execution_count": null,
   "id": "ea4ccdcf-1df3-44d6-a5fd-13822907c489",
   "metadata": {},
   "outputs": [],
   "source": [
    "### First Option: Custom parametrized local simulator\n",
    "from qiskit_aer import AerSimulator\n",
    "from qiskit_aer import noise\n",
    "noise_model = noise.NoiseModel()\n",
    "for i in range(N):\n",
    "    p = 0.04*random.rand()\n",
    "    print(\" Qubit \", i, \" has readout error \",p)\n",
    "    read_err = noise.errors.readout_error.ReadoutError([[1-p, p],[p,1-p]])\n",
    "    noise_model.add_readout_error(read_err,[i])\n",
    "backend = AerSimulator(noise_model=noise_model)\n",
    "\n",
    "### Second Option: Parametrized local simulator mimicking a quantum computer\n",
    "#from qiskit_ibm_runtime.fake_provider import FakeBrisbane\n",
    "#backend = FakeBrisbane()\n",
    "\n",
    "### Third Option: A quantum computer\n",
    "# print(\"Available backends: \",service.backends())\n",
    "#backend = service.least_busy(operational=True, simulator=False, min_num_qubits=12)\n",
    "#backend = service.backend(\"ibm_brisbane\")\n",
    "\n",
    "\n",
    "print(\"Chosen backend: \",backend)\n",
    "sampler = Sampler(mode=backend)\n",
    "sampler.options.default_shots = NM\n",
    "sampler.options.max_execution_time = 60 #max execution time (sufficient for Nu=64,cost:~50 $)"
   ]
  },
  {
   "cell_type": "markdown",
   "id": "52a0b64b-c3ac-4b8f-98e3-d6da15d69463",
   "metadata": {},
   "source": [
    "### Parametrization of the quantum circuit\n",
    "\n",
    "We prepare a cluster states on the four qubits, and include the random unitaries in the definition of the quantum circuit, as parametrized rotations."
   ]
  },
  {
   "cell_type": "code",
   "execution_count": null,
   "id": "e9b7e08b-9cd7-48cc-929b-30ab67bbd064",
   "metadata": {},
   "outputs": [],
   "source": [
    "from qiskit.circuit import Parameter\n",
    "from qiskit import QuantumCircuit,QuantumRegister,ClassicalRegister\n",
    "\n",
    "qreg = QuantumRegister(N)\n",
    "creg_data = ClassicalRegister(N, name=\"data\")\n",
    "\n",
    "#Preparation of a $N$-qubit unidimensional cluster state\n",
    "qc_state = QuantumCircuit(qreg,creg_data)\n",
    "for i in range(N):\n",
    "    qc_state.h(i)\n",
    "for i in range(0,N-1,2):\n",
    "    qc_state.cz(i,i+1)\n",
    "for i in range(1,N-1,2):\n",
    "    qc_state.cz(i,i+1)\n",
    "\n",
    "# randomized measurements parametrized by Euler Angles via the \"u\" gate\n",
    "qc_meas = QuantumCircuit(qreg,creg_data)#,creg_check)\n",
    "phi,theta,lamb = [],[],[]\n",
    "for i in range(N):\n",
    "    phi.append(Parameter(\"phi_{:d}\".format(i)))\n",
    "    theta.append(Parameter(\"theta_{:d}\".format(i)))\n",
    "    lamb.append(Parameter(\"lamb_{:d}\".format(i)))\n",
    "    qc_meas.u(theta[i], phi[i], lamb[i],i)\n",
    "qc_meas.measure(qreg,creg_data)\n",
    "\n",
    "qc = qc_state.compose(qc_meas)\n",
    "qc.draw('mpl')"
   ]
  },
  {
   "cell_type": "markdown",
   "id": "b5e8db15-d991-47ef-b345-cea008214fcb",
   "metadata": {},
   "source": [
    "### Generation of the Random angles\n",
    "\n",
    "We use here standard Qiskit code to represent random unitaries as Euler angles parametrizing our circuits"
   ]
  },
  {
   "cell_type": "code",
   "execution_count": null,
   "id": "ce2f1f77-4768-43e4-9aac-fb4168995f2d",
   "metadata": {},
   "outputs": [],
   "source": [
    "from qiskit.quantum_info import random_unitary, Operator\n",
    "from qiskit.synthesis import OneQubitEulerDecomposer\n",
    "\n",
    "decomposer = OneQubitEulerDecomposer(basis='U')\n",
    "u = 1j*np.zeros((NU,N,2,2))\n",
    "\n",
    "isa_qcs = []\n",
    "params = {}\n",
    "for i in range(N):\n",
    "    theta_ = np.zeros(NU)\n",
    "    phi_ = np.zeros(NU)\n",
    "    lamb_ = np.zeros(NU)\n",
    "    for r in range(NU):\n",
    "        u[r,i,:,:] = random_unitary(2)\n",
    "        op = Operator(u[r,i,:,:])\n",
    "        theta_[r],phi_[r],lamb_[r]  = decomposer.angles(op)\n",
    "    params = params | { theta[i]:theta_,phi[i]: phi_, lamb[i]:lamb_ }"
   ]
  },
  {
   "cell_type": "markdown",
   "id": "9517a91e-26db-40b7-8d0d-ba7bfa7a9fb0",
   "metadata": {},
   "source": [
    "### Sending the job on IBM's hardware\n",
    "\n",
    "First we transpile the quantum circuit qc, as well as the measurement circuit qc_meas (whose results will be used as calibrated data for building robust classical shadows, cf dedicated jupyter notebook for detailed explanations)"
   ]
  },
  {
   "cell_type": "code",
   "execution_count": null,
   "id": "5646f2da-9ae3-47f6-b510-3d4fc62bedc8",
   "metadata": {},
   "outputs": [],
   "source": [
    "from qiskit.transpiler.preset_passmanagers import generate_preset_pass_manager\n",
    "pm = generate_preset_pass_manager(backend=backend, optimization_level=3)\n",
    "isa_qc_meas = pm.run(qc_meas)\n",
    "isa_qc = pm.run(qc)"
   ]
  },
  {
   "cell_type": "code",
   "execution_count": null,
   "id": "eaf70501-452b-47b1-a6ab-d821ee49a7af",
   "metadata": {},
   "outputs": [],
   "source": [
    "job = sampler.run([(isa_qc_meas,params),(isa_qc,params)])\n",
    "print(job.job_id(), job.status())"
   ]
  },
  {
   "cell_type": "markdown",
   "id": "961fa7c2-48aa-49cd-b86d-c3816057ff54",
   "metadata": {},
   "source": [
    "### Saving data\n",
    "Finally we convert the data structure used by qiskit to a numpy array that we will be able to load in julia later using the library NPZ"
   ]
  },
  {
   "cell_type": "code",
   "execution_count": null,
   "id": "4e3cb7e1-1cbf-4b1f-9936-0676ea10eaf5",
   "metadata": {},
   "outputs": [],
   "source": [
    "#job = service.job('') #uncomment if you want to retrieve a given job using its ID\n",
    "result = job.result()\n",
    "np.save(\"data/\"+job.job_id()+\"_u\",u)\n",
    "data = np.zeros((2,NU,NM,N),dtype=int)\n",
    "for r in range(NU):\n",
    "    for j in range(2):\n",
    "        counts = result[j].data[\"data\"][r].get_bitstrings()\n",
    "        for m in range(NM):\n",
    "            data[j,r,m,:] = 2-np.array([int(counts[m][N-1-i]) for i in range(N)])\n",
    "np.save(\"data/\"+job.job_id()+\"_data\",np.int64(data))"
   ]
  }
 ],
 "metadata": {
  "kernelspec": {
   "display_name": "quantum",
   "language": "python",
   "name": "python3"
  },
  "language_info": {
   "codemirror_mode": {
    "name": "ipython",
    "version": 3
   },
   "file_extension": ".py",
   "mimetype": "text/x-python",
   "name": "python",
   "nbconvert_exporter": "python",
   "pygments_lexer": "ipython3",
   "version": "3.12.8"
  }
 },
 "nbformat": 4,
 "nbformat_minor": 5
}
